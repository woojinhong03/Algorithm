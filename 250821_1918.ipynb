{
  "nbformat": 4,
  "nbformat_minor": 0,
  "metadata": {
    "colab": {
      "provenance": [],
      "authorship_tag": "ABX9TyPAna/QJhOIss3QcUgzwBwo",
      "include_colab_link": true
    },
    "kernelspec": {
      "name": "python3",
      "display_name": "Python 3"
    },
    "language_info": {
      "name": "python"
    }
  },
  "cells": [
    {
      "cell_type": "markdown",
      "metadata": {
        "id": "view-in-github",
        "colab_type": "text"
      },
      "source": [
        "<a href=\"https://colab.research.google.com/github/woojinhong03/Algorithm/blob/main/250821_1918.ipynb\" target=\"_parent\"><img src=\"https://colab.research.google.com/assets/colab-badge.svg\" alt=\"Open In Colab\"/></a>"
      ]
    },
    {
      "cell_type": "code",
      "source": [
        "dap = ''\n",
        "stack = []\n",
        "\n",
        "for i in input():\n",
        "    if i.isalpha():\n",
        "        dap += i\n",
        "    else:\n",
        "        if i == '(':\n",
        "            stack.append(i)\n",
        "\n",
        "        elif i == '*' or i == '/':\n",
        "            while stack and (stack[-1] == '*' or stack[-1] == '/'):\n",
        "                dap += stack.pop()\n",
        "            stack.append(i)\n",
        "\n",
        "        elif i == '+' or i == '-':\n",
        "            while stack and stack[-1] != '(':\n",
        "                dap += stack.pop()\n",
        "            stack.append(i)\n",
        "\n",
        "        else:\n",
        "            while stack and stack[-1] != '(':\n",
        "                dap += stack.pop()\n",
        "            stack.pop()\n",
        "\n",
        "print(dap+''.join(list(reversed(stack))))"
      ],
      "metadata": {
        "colab": {
          "base_uri": "https://localhost:8080/"
        },
        "id": "xWMflxEU9wGG",
        "outputId": "68086156-97cb-40dd-85ff-b2880f0929c6"
      },
      "execution_count": 33,
      "outputs": [
        {
          "output_type": "stream",
          "name": "stdout",
          "text": [
            "A+B*C-D/E\n",
            "ABC*+DE/-\n"
          ]
        }
      ]
    }
  ]
}