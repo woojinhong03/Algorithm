{
  "nbformat": 4,
  "nbformat_minor": 0,
  "metadata": {
    "colab": {
      "provenance": [],
      "authorship_tag": "ABX9TyOgUmVCKPiKUYDqXUzaT3lm",
      "include_colab_link": true
    },
    "kernelspec": {
      "name": "python3",
      "display_name": "Python 3"
    },
    "language_info": {
      "name": "python"
    }
  },
  "cells": [
    {
      "cell_type": "markdown",
      "metadata": {
        "id": "view-in-github",
        "colab_type": "text"
      },
      "source": [
        "<a href=\"https://colab.research.google.com/github/woojinhong03/Algorithm/blob/main/250821_1918.ipynb\" target=\"_parent\"><img src=\"https://colab.research.google.com/assets/colab-badge.svg\" alt=\"Open In Colab\"/></a>"
      ]
    },
    {
      "cell_type": "code",
      "source": [
        "dap = ''\n",
        "stack = []\n",
        "\n",
        "for i in input():\n",
        "    if i.isalpha(): # 알파벳인지 확인 후 알파벳이면 답에 추가\n",
        "        dap += i\n",
        "    else:\n",
        "        if i == '(':    # 괄호가 열리면 스택을 쌓는다.\n",
        "            stack.append(i)\n",
        "\n",
        "        elif i == '*' or i == '/':  # 만약 곱하기 혹은 나누기 (우선순위) 라면\n",
        "            while stack and (stack[-1] == '*' or stack[-1] == '/'):\n",
        "                dap += stack.pop()  # 만약 스택이 존재하고 스택 끝이 우선순위라면 답에 우선순위를 추가한다.\n",
        "            stack.append(i) # 우선순위가 없을 경우 스택에 우선순위를 넣는다.\n",
        "\n",
        "        elif i == '+' or i == '-':\n",
        "            while stack and stack[-1] != '(':   # 여는 괄호가 나오기 전까지\n",
        "                dap += stack.pop()  # stack 내용을 dap에 추가\n",
        "            stack.append(i)\n",
        "\n",
        "        else:   # 닫는 괄호면\n",
        "            while stack and stack[-1] != '(':\n",
        "                dap += stack.pop()  # 괄호 내 모든 내용을 답에 추가\n",
        "            stack.pop()\n",
        "\n",
        "print(dap+''.join(list(reversed(stack))))   # 스택 내용을 뒤집어서 연결하여 출력"
      ],
      "metadata": {
        "colab": {
          "base_uri": "https://localhost:8080/"
        },
        "id": "xWMflxEU9wGG",
        "outputId": "dff2d68f-0e1c-43c6-ae3b-ab9f21173e00"
      },
      "execution_count": 35,
      "outputs": [
        {
          "output_type": "stream",
          "name": "stdout",
          "text": [
            "A*(B+C)\n",
            "ABC+*\n"
          ]
        }
      ]
    }
  ]
}