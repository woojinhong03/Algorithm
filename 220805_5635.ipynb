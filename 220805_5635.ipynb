{
  "nbformat": 4,
  "nbformat_minor": 0,
  "metadata": {
    "colab": {
      "name": "220805_5635.ipynb",
      "provenance": [],
      "collapsed_sections": [],
      "authorship_tag": "ABX9TyM96vRmc9SGyi1BpZhmvtHS",
      "include_colab_link": true
    },
    "kernelspec": {
      "name": "python3",
      "display_name": "Python 3"
    },
    "language_info": {
      "name": "python"
    }
  },
  "cells": [
    {
      "cell_type": "markdown",
      "metadata": {
        "id": "view-in-github",
        "colab_type": "text"
      },
      "source": [
        "<a href=\"https://colab.research.google.com/github/woojinhong03/Algorithm/blob/main/220805_5635.ipynb\" target=\"_parent\"><img src=\"https://colab.research.google.com/assets/colab-badge.svg\" alt=\"Open In Colab\"/></a>"
      ]
    },
    {
      "cell_type": "code",
      "execution_count": 1,
      "metadata": {
        "colab": {
          "base_uri": "https://localhost:8080/"
        },
        "id": "jzIFUW2TRs40",
        "outputId": "70d3cd21-1f0b-4c77-dfec-7bfd852fbcdf"
      },
      "outputs": [
        {
          "output_type": "stream",
          "name": "stdout",
          "text": [
            "5\n",
            "Mickey 1 10 1991\n",
            "Alice 30 12 1990\n",
            "Tom 15 8 1993\n",
            "Jerry 18 9 1990\n",
            "Garfield 20 9 1990\n",
            "Tom\n",
            "Jerry\n"
          ]
        }
      ],
      "source": [
        "li = []\n",
        "for _ in range(int(input())):\n",
        "    n, d, m, y = input().split()\n",
        "    li.append([n, int(d), int(m), int(y)])\n",
        "li.sort(key=lambda x:(x[3],x[2],x[1]))\n",
        "print(li[-1][0])\n",
        "print(li[0][0])"
      ]
    }
  ]
}