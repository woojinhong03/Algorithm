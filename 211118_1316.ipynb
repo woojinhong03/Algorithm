{
  "nbformat": 4,
  "nbformat_minor": 0,
  "metadata": {
    "colab": {
      "name": "211118_1316.ipynb",
      "provenance": [],
      "collapsed_sections": [],
      "authorship_tag": "ABX9TyPEX0YpiUwYS60CyZuVkSRo",
      "include_colab_link": true
    },
    "kernelspec": {
      "name": "python3",
      "display_name": "Python 3"
    },
    "language_info": {
      "name": "python"
    }
  },
  "cells": [
    {
      "cell_type": "markdown",
      "metadata": {
        "id": "view-in-github",
        "colab_type": "text"
      },
      "source": [
        "<a href=\"https://colab.research.google.com/github/woojinhong03/Baekjoon/blob/main/211118_1316.ipynb\" target=\"_parent\"><img src=\"https://colab.research.google.com/assets/colab-badge.svg\" alt=\"Open In Colab\"/></a>"
      ]
    },
    {
      "cell_type": "code",
      "metadata": {
        "colab": {
          "base_uri": "https://localhost:8080/"
        },
        "id": "_LQC_czgKfPe",
        "outputId": "e0a8c367-fbeb-4cd4-98f5-e2cc4ba1cd6c"
      },
      "source": [
        "n = int(input())\n",
        "\n",
        "group_word = 0\n",
        "for _ in range(n):\n",
        "    word = input()\n",
        "    error = 0\n",
        "    for index in range(len(word)-1):  \n",
        "        if word[index] != word[index+1]:  \n",
        "            new_word = word[index+1:]  \n",
        "            if new_word.count(word[index]) > 0:  \n",
        "                error += 1  \n",
        "    if error == 0:  \n",
        "        group_word += 1 \n",
        "print(group_word)"
      ],
      "execution_count": 1,
      "outputs": [
        {
          "output_type": "stream",
          "name": "stdout",
          "text": [
            "5\n",
            "aa\n",
            "aba\n",
            "abc\n",
            "ssd\n",
            "ads\n",
            "4\n"
          ]
        }
      ]
    }
  ]
}