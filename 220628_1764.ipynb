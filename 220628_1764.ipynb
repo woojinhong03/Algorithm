{
  "nbformat": 4,
  "nbformat_minor": 0,
  "metadata": {
    "colab": {
      "name": "220628_1764.ipynb",
      "provenance": [],
      "collapsed_sections": [],
      "authorship_tag": "ABX9TyPituBhmsHSTenJTJX7UyN1",
      "include_colab_link": true
    },
    "kernelspec": {
      "name": "python3",
      "display_name": "Python 3"
    },
    "language_info": {
      "name": "python"
    }
  },
  "cells": [
    {
      "cell_type": "markdown",
      "metadata": {
        "id": "view-in-github",
        "colab_type": "text"
      },
      "source": [
        "<a href=\"https://colab.research.google.com/github/woojinhong03/Algorithm/blob/main/220628_1764.ipynb\" target=\"_parent\"><img src=\"https://colab.research.google.com/assets/colab-badge.svg\" alt=\"Open In Colab\"/></a>"
      ]
    },
    {
      "cell_type": "code",
      "execution_count": 19,
      "metadata": {
        "colab": {
          "base_uri": "https://localhost:8080/"
        },
        "id": "eRoa6nTAX2s2",
        "outputId": "8f9469b8-a768-49e2-a700-a5fc57a09ae9"
      },
      "outputs": [
        {
          "output_type": "stream",
          "name": "stdout",
          "text": [
            "3 4\n",
            "ohhenrie\n",
            "charlie\n",
            "baesangwook\n",
            "obama\n",
            "baesangwook\n",
            "ohhenrie\n",
            "clinton\n",
            "2\n",
            "baesangwook\n",
            "ohhenrie\n"
          ]
        }
      ],
      "source": [
        "dbj = []\n",
        "d = []\n",
        "b = []\n",
        "n,m = map(int,input().split(\" \"))\n",
        "\n",
        "for _ in range(n):\n",
        "    d.append(input())\n",
        "for _ in range(m):\n",
        "    b.append(input())\n",
        "\n",
        "dbj = list(set(d) & set(b))\n",
        "\n",
        "print(len(dbj))\n",
        "for i in sorted(dbj):\n",
        "    print(i)"
      ]
    }
  ]
}