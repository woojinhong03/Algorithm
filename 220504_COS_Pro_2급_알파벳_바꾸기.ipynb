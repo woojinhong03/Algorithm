{
  "nbformat": 4,
  "nbformat_minor": 0,
  "metadata": {
    "colab": {
      "name": "220504_COS_Pro_2급_알파벳 바꾸기.ipynb",
      "provenance": [],
      "collapsed_sections": [],
      "authorship_tag": "ABX9TyNlBywRdqL6tAU+QYkDV5Wd",
      "include_colab_link": true
    },
    "kernelspec": {
      "name": "python3",
      "display_name": "Python 3"
    },
    "language_info": {
      "name": "python"
    }
  },
  "cells": [
    {
      "cell_type": "markdown",
      "metadata": {
        "id": "view-in-github",
        "colab_type": "text"
      },
      "source": [
        "<a href=\"https://colab.research.google.com/github/woojinhong03/Algorithm/blob/main/220504_COS_Pro_2%EA%B8%89_%EC%95%8C%ED%8C%8C%EB%B2%B3_%EB%B0%94%EA%BE%B8%EA%B8%B0.ipynb\" target=\"_parent\"><img src=\"https://colab.research.google.com/assets/colab-badge.svg\" alt=\"Open In Colab\"/></a>"
      ]
    },
    {
      "cell_type": "code",
      "execution_count": 1,
      "metadata": {
        "id": "ZSC8iFO3C1h9"
      },
      "outputs": [],
      "source": [
        "def solution(s):\n",
        "    s_lst = list(s)\n",
        "    n = len(s)\n",
        "    for i in range(n):\n",
        "        if s_lst[i] == 'a':\n",
        "            s_lst[i] = 'z'\n",
        "        elif s_lst[i] == 'z':\n",
        "            s_lst[i] =  'a'\n",
        "    return \"\".join(s_lst)"
      ]
    }
  ]
}