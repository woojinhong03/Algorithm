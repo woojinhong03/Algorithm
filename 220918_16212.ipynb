{
  "nbformat": 4,
  "nbformat_minor": 0,
  "metadata": {
    "colab": {
      "provenance": [],
      "collapsed_sections": []
    },
    "kernelspec": {
      "name": "python3",
      "display_name": "Python 3"
    },
    "language_info": {
      "name": "python"
    }
  },
  "cells": [
    {
      "cell_type": "code",
      "execution_count": 6,
      "metadata": {
        "colab": {
          "base_uri": "https://localhost:8080/"
        },
        "id": "B7qKN90UfzAc",
        "outputId": "c7377948-24c0-4c88-b9c1-004a91b3523a"
      },
      "outputs": [
        {
          "output_type": "stream",
          "name": "stdout",
          "text": [
            "6\n",
            "14 5 8 7 1 10\n",
            "1 5 7 8 10 14\n"
          ]
        }
      ],
      "source": [
        "n = int(input())\n",
        "m = list(map(int,input().split()))\n",
        "m.sort()\n",
        "print(*m)"
      ]
    }
  ]
}