{
  "nbformat": 4,
  "nbformat_minor": 0,
  "metadata": {
    "colab": {
      "provenance": [],
      "collapsed_sections": [],
      "authorship_tag": "ABX9TyPRYhsAH38bq6Mz4umTt0Hd",
      "include_colab_link": true
    },
    "kernelspec": {
      "name": "python3",
      "display_name": "Python 3"
    },
    "language_info": {
      "name": "python"
    }
  },
  "cells": [
    {
      "cell_type": "markdown",
      "metadata": {
        "id": "view-in-github",
        "colab_type": "text"
      },
      "source": [
        "<a href=\"https://colab.research.google.com/github/woojinhong03/Algorithm/blob/main/220913_13015.ipynb\" target=\"_parent\"><img src=\"https://colab.research.google.com/assets/colab-badge.svg\" alt=\"Open In Colab\"/></a>"
      ]
    },
    {
      "cell_type": "code",
      "execution_count": 1,
      "metadata": {
        "colab": {
          "base_uri": "https://localhost:8080/"
        },
        "id": "BndBlYICHrUk",
        "outputId": "e4889fbd-0e99-4a05-82c6-321c7d648459"
      },
      "outputs": [
        {
          "output_type": "stream",
          "name": "stdout",
          "text": [
            "5\n",
            "*****       *****\n",
            " *   *     *   *\n",
            "  *   *   *   *\n",
            "   *   * *   *\n",
            "    *   *   *\n",
            "   *   * *   *\n",
            "  *   *   *   *\n",
            " *   *     *   *\n",
            "*****       *****\n"
          ]
        }
      ],
      "source": [
        "n = int(input())\n",
        "\n",
        "for i in range(1, n + 1):\n",
        "    if i == 1 or i == 2 * n:\n",
        "        print(\"*\" * n + \" \" * (2 * (n - 1) - 1) + \"*\" * n)\n",
        "    elif i != n:\n",
        "        print(\" \" * (i - 1) + \"*\" + \" \" * (n - 2) + \"*\" + \" \" * (2 * (n - i) - 1) + \"*\" + \" \" * (n - 2) + \"*\")\n",
        "    else:\n",
        "        print(\" \" * (i - 1) + \"*\" + \" \" * (n - 2) + \"*\" + \" \" * (2 * (n - i) - 1) + \" \" * (n - 2) + \"*\")\n",
        "\n",
        "for i in range(n, 0, -1):\n",
        "    if i == 1 or i == 2 * n:\n",
        "        print(\"*\" * n + \" \" * (2 * (n - 1) - 1) + \"*\" * n)\n",
        "    elif i != n:\n",
        "        print(\" \" * (i - 1) + \"*\" + \" \" * (n - 2) + \"*\" + \" \" * (2 * (n - i) - 1) + \"*\" + \" \" * (n - 2) + \"*\")"
      ]
    }
  ]
}