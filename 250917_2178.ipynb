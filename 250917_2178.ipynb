{
  "nbformat": 4,
  "nbformat_minor": 0,
  "metadata": {
    "colab": {
      "provenance": [],
      "authorship_tag": "ABX9TyOW80PNsLpiekW4KLWq3l8o",
      "include_colab_link": true
    },
    "kernelspec": {
      "name": "python3",
      "display_name": "Python 3"
    },
    "language_info": {
      "name": "python"
    }
  },
  "cells": [
    {
      "cell_type": "markdown",
      "metadata": {
        "id": "view-in-github",
        "colab_type": "text"
      },
      "source": [
        "<a href=\"https://colab.research.google.com/github/woojinhong03/Algorithm/blob/main/250917_2178.ipynb\" target=\"_parent\"><img src=\"https://colab.research.google.com/assets/colab-badge.svg\" alt=\"Open In Colab\"/></a>"
      ]
    },
    {
      "cell_type": "code",
      "execution_count": 1,
      "metadata": {
        "id": "MrP1CKGW_39M",
        "colab": {
          "base_uri": "https://localhost:8080/"
        },
        "outputId": "c05f454c-a8ea-457d-ab34-a6ddbf28f263"
      },
      "outputs": [
        {
          "output_type": "stream",
          "name": "stdout",
          "text": [
            "4 6\n",
            "101111\n",
            "101010\n",
            "101011\n",
            "111011\n",
            "15\n"
          ]
        }
      ],
      "source": [
        "from collections import deque\n",
        "# import sys\n",
        "# input = sys.stdin.readline\n",
        "\n",
        "n, m = map(int, input().split())\n",
        "maze = [list(map(int, list(input().strip()))) for _ in range(n)]\n",
        "\n",
        "# 상, 하, 좌, 우 이동방향 정의\n",
        "dx = [-1, 1, 0, 0]\n",
        "dy = [0, 0, -1, 1]\n",
        "\n",
        "def bfs(start_x, start_y):\n",
        "    queue = deque([(start_x, start_y)])\n",
        "\n",
        "    # 큐가 빌 때까지 반복\n",
        "    while queue:\n",
        "        # 큐에서 하나의 원소를 뽑아 출력\n",
        "        x, y = queue.popleft()\n",
        "\n",
        "        # 현재 위치에서 네 방향으로의 위치 확인\n",
        "        for i in range(4):\n",
        "            nx = x + dx[i]\n",
        "            ny = y + dy[i]\n",
        "\n",
        "            # 미로 찾기 공간을 벗어난 경우 무시\n",
        "            if nx < 0 or nx >= n or ny < 0 or ny >= m:\n",
        "                continue\n",
        "\n",
        "            # 벽인 경우 무시 (값이 0)\n",
        "            if maze[nx][ny] == 0:\n",
        "                continue\n",
        "\n",
        "            # 해당 노드를 처음 방문하는 경우에만 최단 거리 기록\n",
        "            if maze[nx][ny] == 1:\n",
        "                # 이전 노드의 거리에 1을 더해 현재 노드의 거리로 설정\n",
        "                maze[nx][ny] = maze[x][y] + 1\n",
        "                queue.append((nx, ny))\n",
        "\n",
        "    # 가장 오른쪽 아래까지의 최단 거리 반환\n",
        "    return maze[n - 1][m - 1]\n",
        "\n",
        "# BFS를 수행한 결과 출력\n",
        "print(bfs(0, 0))"
      ]
    }
  ]
}