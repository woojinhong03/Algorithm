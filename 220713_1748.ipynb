{
  "nbformat": 4,
  "nbformat_minor": 0,
  "metadata": {
    "colab": {
      "name": "220713_1748.ipynb",
      "provenance": [],
      "collapsed_sections": [],
      "authorship_tag": "ABX9TyPeU6gCv76gflLSDXaZNYfX",
      "include_colab_link": true
    },
    "kernelspec": {
      "name": "python3",
      "display_name": "Python 3"
    },
    "language_info": {
      "name": "python"
    }
  },
  "cells": [
    {
      "cell_type": "markdown",
      "metadata": {
        "id": "view-in-github",
        "colab_type": "text"
      },
      "source": [
        "<a href=\"https://colab.research.google.com/github/woojinhong03/Algorithm/blob/main/220713_1748.ipynb\" target=\"_parent\"><img src=\"https://colab.research.google.com/assets/colab-badge.svg\" alt=\"Open In Colab\"/></a>"
      ]
    },
    {
      "cell_type": "code",
      "execution_count": null,
      "metadata": {
        "colab": {
          "base_uri": "https://localhost:8080/"
        },
        "id": "hlWjIcsxTd54",
        "outputId": "07479b0a-ce6b-4b3f-fd19-4f5519ebfa86"
      },
      "outputs": [
        {
          "output_type": "stream",
          "name": "stdout",
          "text": [
            "120\n",
            "252\n"
          ]
        }
      ],
      "source": [
        "n = input()\n",
        "\n",
        "comp = len(n) - 1\n",
        "\n",
        "answer = 0\n",
        "\n",
        "for i in range(comp):\n",
        "    answer += 9 * (10 ** i) * (i + 1)\n",
        "    i += 1\n",
        "answer += ((int(n) - (10 ** comp)) + 1) * (comp + 1)\n",
        "\n",
        "print(answer)"
      ]
    }
  ]
}