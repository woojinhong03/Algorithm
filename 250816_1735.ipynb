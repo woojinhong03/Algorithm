{
  "nbformat": 4,
  "nbformat_minor": 0,
  "metadata": {
    "colab": {
      "provenance": [],
      "authorship_tag": "ABX9TyNMTPTPmxRe+CgMCM/VfLwe",
      "include_colab_link": true
    },
    "kernelspec": {
      "name": "python3",
      "display_name": "Python 3"
    },
    "language_info": {
      "name": "python"
    }
  },
  "cells": [
    {
      "cell_type": "markdown",
      "metadata": {
        "id": "view-in-github",
        "colab_type": "text"
      },
      "source": [
        "<a href=\"https://colab.research.google.com/github/woojinhong03/Algorithm/blob/main/250816_1735.ipynb\" target=\"_parent\"><img src=\"https://colab.research.google.com/assets/colab-badge.svg\" alt=\"Open In Colab\"/></a>"
      ]
    },
    {
      "cell_type": "code",
      "execution_count": 30,
      "metadata": {
        "colab": {
          "base_uri": "https://localhost:8080/"
        },
        "id": "MxGsOvEPmmjv",
        "outputId": "3e0fd64b-5d86-4ad4-c3f5-589e87abc478"
      },
      "outputs": [
        {
          "output_type": "stream",
          "name": "stdout",
          "text": [
            "12 32\n",
            "56 85\n",
            "703 680\n"
          ]
        }
      ],
      "source": [
        "def hoze(a, b):\n",
        "    while b > 0:\n",
        "        a, b = b, a % b\n",
        "    return a\n",
        "\n",
        "a = list(map(int,input().split()))\n",
        "b = list(map(int,input().split()))\n",
        "\n",
        "mo = a[1] * b[1]\n",
        "za = a[0] * b[1] + b[0] * a[1]\n",
        "\n",
        "gong = hoze(za,mo)\n",
        "za //= gong\n",
        "mo //= gong\n",
        "\n",
        "print(za,mo)"
      ]
    }
  ]
}