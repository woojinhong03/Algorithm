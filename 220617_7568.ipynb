{
  "nbformat": 4,
  "nbformat_minor": 0,
  "metadata": {
    "colab": {
      "name": "220617_7568.ipynb",
      "provenance": [],
      "collapsed_sections": [],
      "authorship_tag": "ABX9TyNLyIBdpZoTmhF62BSfQrXE",
      "include_colab_link": true
    },
    "kernelspec": {
      "name": "python3",
      "display_name": "Python 3"
    },
    "language_info": {
      "name": "python"
    }
  },
  "cells": [
    {
      "cell_type": "markdown",
      "metadata": {
        "id": "view-in-github",
        "colab_type": "text"
      },
      "source": [
        "<a href=\"https://colab.research.google.com/github/woojinhong03/Algorithm/blob/main/220617_7568.ipynb\" target=\"_parent\"><img src=\"https://colab.research.google.com/assets/colab-badge.svg\" alt=\"Open In Colab\"/></a>"
      ]
    },
    {
      "cell_type": "code",
      "execution_count": 1,
      "metadata": {
        "colab": {
          "base_uri": "https://localhost:8080/"
        },
        "id": "eDmyrj3AErS4",
        "outputId": "7d7497d8-93a3-40bc-a2d0-c7fbab4f17b6"
      },
      "outputs": [
        {
          "output_type": "stream",
          "name": "stdout",
          "text": [
            "3\n",
            "175 56\n",
            "183 67\n",
            "168 52\n",
            "2 1 3 "
          ]
        }
      ],
      "source": [
        "num_student = int(input())\n",
        "student_list = []\n",
        "\n",
        "for _ in range(num_student):\n",
        "  weight, height = map(int, input().split())\n",
        "  student_list.append((weight, height))\n",
        "\n",
        "for i in student_list:\n",
        "  rank = 1\n",
        "  for j in student_list:\n",
        "    if i[0] < j[0] and i[1] < j[1]:\n",
        "      rank += 1\n",
        "  print(rank, end = \" \")"
      ]
    }
  ]
}