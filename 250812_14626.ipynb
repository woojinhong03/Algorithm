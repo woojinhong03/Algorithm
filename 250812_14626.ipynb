{
  "nbformat": 4,
  "nbformat_minor": 0,
  "metadata": {
    "colab": {
      "provenance": [],
      "authorship_tag": "ABX9TyNZjagdWCPTTeWq2cIN4kTV",
      "include_colab_link": true
    },
    "kernelspec": {
      "name": "python3",
      "display_name": "Python 3"
    },
    "language_info": {
      "name": "python"
    }
  },
  "cells": [
    {
      "cell_type": "markdown",
      "metadata": {
        "id": "view-in-github",
        "colab_type": "text"
      },
      "source": [
        "<a href=\"https://colab.research.google.com/github/woojinhong03/Algorithm/blob/main/250812_14626.ipynb\" target=\"_parent\"><img src=\"https://colab.research.google.com/assets/colab-badge.svg\" alt=\"Open In Colab\"/></a>"
      ]
    },
    {
      "cell_type": "code",
      "execution_count": 6,
      "metadata": {
        "colab": {
          "base_uri": "https://localhost:8080/"
        },
        "id": "q2DgOGC-PKxX",
        "outputId": "09277e62-cade-4773-beb7-2d0ad15ae918"
      },
      "outputs": [
        {
          "output_type": "stream",
          "name": "stdout",
          "text": [
            "9788968322*73\n",
            "2\n"
          ]
        }
      ],
      "source": [
        "isbn = input()\n",
        "tot = 0\n",
        "zzak = False\n",
        "\n",
        "for i in range(13):\n",
        "    if isbn[i] == '*':\n",
        "        if i % 2 != 0:\n",
        "            zzak = True\n",
        "        continue\n",
        "    tot += int(isbn[i]) * (3 if i % 2 != 0 else 1)\n",
        "\n",
        "if zzak:\n",
        "    for i in range(10):\n",
        "        if (tot + (i * 3)) % 10 == 0:\n",
        "            print(i)\n",
        "            break\n",
        "else:\n",
        "    print(10 - tot % 10)"
      ]
    }
  ]
}