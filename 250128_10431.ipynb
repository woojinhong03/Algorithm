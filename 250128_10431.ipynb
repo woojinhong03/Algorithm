{
  "nbformat": 4,
  "nbformat_minor": 0,
  "metadata": {
    "colab": {
      "provenance": [],
      "authorship_tag": "ABX9TyO3PE9RfWSKbgpNv2+7HTgi",
      "include_colab_link": true
    },
    "kernelspec": {
      "name": "python3",
      "display_name": "Python 3"
    },
    "language_info": {
      "name": "python"
    }
  },
  "cells": [
    {
      "cell_type": "markdown",
      "metadata": {
        "id": "view-in-github",
        "colab_type": "text"
      },
      "source": [
        "<a href=\"https://colab.research.google.com/github/woojinhong03/Algorithm/blob/main/250128_10431.ipynb\" target=\"_parent\"><img src=\"https://colab.research.google.com/assets/colab-badge.svg\" alt=\"Open In Colab\"/></a>"
      ]
    },
    {
      "cell_type": "code",
      "execution_count": null,
      "metadata": {
        "id": "_xzKyOffhkmy"
      },
      "outputs": [],
      "source": [
        "while True:\n",
        "    password = input()\n",
        "\n",
        "    if password == 'end':\n",
        "        break\n",
        "\n",
        "    mopo = 'aeiou'\n",
        "    acceptable = True\n",
        "\n",
        "    if not any(x in password for x in mopo):  # 모음 하나 포함\n",
        "        acceptable = False\n",
        "\n",
        "    mo, ja = 0, 0\n",
        "    for i in password:\n",
        "        if i in mopo:\n",
        "            mo += 1\n",
        "            ja = 0\n",
        "        else:\n",
        "            mo = 0\n",
        "            ja += 1\n",
        "\n",
        "        if mo == 3 or ja == 3:  # 3개 연속\n",
        "            acceptable = False\n",
        "            break\n",
        "\n",
        "    for i in range(1, len(password)):   # ee, oo 허용\n",
        "        if password[i] == password[i-1] and password[i] not in ['e', 'o']:\n",
        "            acceptable = False\n",
        "            break\n",
        "\n",
        "    if acceptable:\n",
        "        print('<'+password+'> is acceptable.')\n",
        "    else:\n",
        "        print('<'+password+'> is not acceptable.')"
      ]
    }
  ]
}