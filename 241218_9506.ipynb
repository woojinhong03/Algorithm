{
  "nbformat": 4,
  "nbformat_minor": 0,
  "metadata": {
    "colab": {
      "provenance": [],
      "authorship_tag": "ABX9TyN6Hx06xLxumtFEU+toiRjQ",
      "include_colab_link": true
    },
    "kernelspec": {
      "name": "python3",
      "display_name": "Python 3"
    },
    "language_info": {
      "name": "python"
    }
  },
  "cells": [
    {
      "cell_type": "markdown",
      "metadata": {
        "id": "view-in-github",
        "colab_type": "text"
      },
      "source": [
        "<a href=\"https://colab.research.google.com/github/woojinhong03/Algorithm/blob/main/241218_9506.ipynb\" target=\"_parent\"><img src=\"https://colab.research.google.com/assets/colab-badge.svg\" alt=\"Open In Colab\"/></a>"
      ]
    },
    {
      "cell_type": "code",
      "execution_count": 1,
      "metadata": {
        "colab": {
          "base_uri": "https://localhost:8080/"
        },
        "id": "ZGEH6U6WP4yD",
        "outputId": "82d5ff29-ccab-4099-d295-2b3d73c5f575"
      },
      "outputs": [
        {
          "name": "stdout",
          "output_type": "stream",
          "text": [
            "6\n",
            "6 = 1 + 2 + 3\n",
            "12\n",
            "12 is NOT perfect.\n",
            "28\n",
            "28 = 1 + 2 + 4 + 7 + 14\n",
            "-1\n"
          ]
        }
      ],
      "source": [
        "while 1:\n",
        "    n = int(input())\n",
        "\n",
        "    if n == -1:\n",
        "        break;\n",
        "        28\n",
        "    arr = []\n",
        "\n",
        "    for i in range(1, n):\n",
        "        if n % i == 0:\n",
        "            arr.append(i)\n",
        "\n",
        "    if sum(arr) == n:\n",
        "        print(n, \" = \", \" + \".join(str(i) for i in arr), sep=\"\")\n",
        "    else:\n",
        "        print(n, \"is NOT perfect.\")"
      ]
    }
  ]
}