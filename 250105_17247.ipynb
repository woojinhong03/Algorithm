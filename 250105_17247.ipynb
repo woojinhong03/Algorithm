{
  "nbformat": 4,
  "nbformat_minor": 0,
  "metadata": {
    "colab": {
      "provenance": [],
      "authorship_tag": "ABX9TyNO2M6OQn4Z8CNle9ixqbsA",
      "include_colab_link": true
    },
    "kernelspec": {
      "name": "python3",
      "display_name": "Python 3"
    },
    "language_info": {
      "name": "python"
    }
  },
  "cells": [
    {
      "cell_type": "markdown",
      "metadata": {
        "id": "view-in-github",
        "colab_type": "text"
      },
      "source": [
        "<a href=\"https://colab.research.google.com/github/woojinhong03/Algorithm/blob/main/250105_17247.ipynb\" target=\"_parent\"><img src=\"https://colab.research.google.com/assets/colab-badge.svg\" alt=\"Open In Colab\"/></a>"
      ]
    },
    {
      "cell_type": "code",
      "execution_count": 16,
      "metadata": {
        "colab": {
          "base_uri": "https://localhost:8080/"
        },
        "id": "53_K6ZO0WFNm",
        "outputId": "795a5784-5fa9-4455-a85d-14a80a504468"
      },
      "outputs": [
        {
          "output_type": "stream",
          "name": "stdout",
          "text": [
            "3 4\n",
            "1 0 0 0\n",
            "0 0 0 0\n",
            "0 0 0 1\n",
            "5\n"
          ]
        }
      ],
      "source": [
        "x, y = map(int,input().split())\n",
        "doro = [list(map(int, input().split())) for _ in range(x)]\n",
        "#doro 리스트에 받은 값들을 2차원 배열로 저장한다.\n",
        "a = []\n",
        "for i in range(x):\n",
        "    for j in range(y):\n",
        "        if doro[i][j] == 1:     #1이 나온다면\n",
        "            if len(a) == 0:     #a에 아무 값도 저장이 되어있지 않다면\n",
        "                a = [i+1,j+1]   #a에 할당\n",
        "            else:               #a에 이미 값이 있다면 b에 할당\n",
        "                b = [i+1,j+1]\n",
        "\n",
        "print(abs(b[0] - a[0]) + abs(b[1] - a[1]))  #계산. abs는 절댓값 내장함수"
      ]
    }
  ]
}