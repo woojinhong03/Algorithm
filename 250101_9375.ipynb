{
  "nbformat": 4,
  "nbformat_minor": 0,
  "metadata": {
    "colab": {
      "provenance": [],
      "authorship_tag": "ABX9TyPzqR4wHQIVxtzytsuNdpgF",
      "include_colab_link": true
    },
    "kernelspec": {
      "name": "python3",
      "display_name": "Python 3"
    },
    "language_info": {
      "name": "python"
    }
  },
  "cells": [
    {
      "cell_type": "markdown",
      "metadata": {
        "id": "view-in-github",
        "colab_type": "text"
      },
      "source": [
        "<a href=\"https://colab.research.google.com/github/woojinhong03/Algorithm/blob/main/250101_9375.ipynb\" target=\"_parent\"><img src=\"https://colab.research.google.com/assets/colab-badge.svg\" alt=\"Open In Colab\"/></a>"
      ]
    },
    {
      "cell_type": "code",
      "execution_count": 6,
      "metadata": {
        "colab": {
          "base_uri": "https://localhost:8080/"
        },
        "id": "ImoR3O47dmvO",
        "outputId": "3184b496-9dce-4d30-a936-30782ada6abe"
      },
      "outputs": [
        {
          "output_type": "stream",
          "name": "stdout",
          "text": [
            "2\n",
            "3\n",
            "hat headgear\n",
            "sunglasses eyewear\n",
            "turban headgear\n",
            "5\n",
            "3\n",
            "mask face\n",
            "sunglasses face\n",
            "makeup face\n",
            "3\n"
          ]
        }
      ],
      "source": [
        "t = int(input())\n",
        "\n",
        "for _ in range(t):\n",
        "    n = int(input())\n",
        "    wear = {}\n",
        "\n",
        "    for i in range(n):\n",
        "        a,b = input().split()  #값을 이름과 종류로 나눈다.\n",
        "        if b not in wear:   #종류가 딕셔너리에 없다면\n",
        "            wear[b] = 1   #종류를 추가한다.\n",
        "        else:   #만약 있다면 키값을 1 더한다.\n",
        "            wear[b] += 1\n",
        "\n",
        "    a = 1\n",
        "    for i in wear:\n",
        "        a *= wear[i]+1  #(x 개수 + 1) * (y 개수 + 1) ...  * (z 개수 + 1)\n",
        "\n",
        "    print(a-1)"
      ]
    }
  ]
}