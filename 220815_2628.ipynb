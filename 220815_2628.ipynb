{
  "nbformat": 4,
  "nbformat_minor": 0,
  "metadata": {
    "colab": {
      "name": "220815_2628.ipynb",
      "provenance": [],
      "collapsed_sections": []
    },
    "kernelspec": {
      "name": "python3",
      "display_name": "Python 3"
    },
    "language_info": {
      "name": "python"
    }
  },
  "cells": [
    {
      "cell_type": "code",
      "execution_count": 1,
      "metadata": {
        "colab": {
          "base_uri": "https://localhost:8080/"
        },
        "id": "wzFDRL7GbD89",
        "outputId": "3b42e4fe-a213-4cc8-84e9-7cef5efdb1bc"
      },
      "outputs": [
        {
          "output_type": "stream",
          "name": "stdout",
          "text": [
            "10 8\n",
            "3\n",
            "0 3\n",
            "1 4\n",
            "0 2\n",
            "30\n"
          ]
        }
      ],
      "source": [
        "r, c = map(int, input().split())\n",
        "row = [0, r]  \n",
        "column = [0, c] \n",
        "\n",
        "for _ in range(int(input())):  \n",
        "    r_or_c, linenumber = map(int, input().split())  \n",
        "    if r_or_c == 1:           \n",
        "        row.append(linenumber)\n",
        "    else :\n",
        "        column.append(linenumber)\n",
        "\n",
        "row.sort()\n",
        "column.sort()\n",
        "\n",
        "subtracted_r = [] \n",
        "subtracted_c = [] \n",
        "\n",
        "for i in range(len(row)-1):   \n",
        "    subtracted_r.append(row[i + 1] - row[i])   \n",
        "for i in range(len(column) -1): \n",
        "    subtracted_c.append(column[i+1]- column[i])\n",
        "\n",
        "print(max(subtracted_r) * max(subtracted_c))"
      ]
    }
  ]
}