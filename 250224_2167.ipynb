{
  "nbformat": 4,
  "nbformat_minor": 0,
  "metadata": {
    "colab": {
      "provenance": [],
      "authorship_tag": "ABX9TyPD9kvnYdKH4x0TisNfz4Q3",
      "include_colab_link": true
    },
    "kernelspec": {
      "name": "python3",
      "display_name": "Python 3"
    },
    "language_info": {
      "name": "python"
    }
  },
  "cells": [
    {
      "cell_type": "markdown",
      "metadata": {
        "id": "view-in-github",
        "colab_type": "text"
      },
      "source": [
        "<a href=\"https://colab.research.google.com/github/woojinhong03/Algorithm/blob/main/250224_2167.ipynb\" target=\"_parent\"><img src=\"https://colab.research.google.com/assets/colab-badge.svg\" alt=\"Open In Colab\"/></a>"
      ]
    },
    {
      "cell_type": "code",
      "execution_count": 12,
      "metadata": {
        "colab": {
          "base_uri": "https://localhost:8080/"
        },
        "id": "EP6mqHfNNS7D",
        "outputId": "952e2640-45a5-48f3-d200-4f66d5962015"
      },
      "outputs": [
        {
          "output_type": "stream",
          "name": "stdout",
          "text": [
            "2 3\n",
            "1 2 4\n",
            "8 16 32\n",
            "3\n",
            "1 1 2 3\n",
            "63\n",
            "1 2 1 2\n",
            "2\n",
            "1 3 2 3\n",
            "36\n"
          ]
        }
      ],
      "source": [
        "import sys\n",
        "input = sys.stdin.readline\n",
        "\n",
        "n, m = map(int,input().split())\n",
        "arr = [list(map(int,input().split())) for _ in range(n)]\n",
        "k = int(input())\n",
        "do = [list(map(int,input().split())) for _ in range(k)]\n",
        "\n",
        "dp = [[0 for i in range(m+1)] for _ in range(n+1)]\n",
        "\n",
        "for i in range(1,n+1):\n",
        "    for j in range(1,m+1):\n",
        "        dp[i][j] = dp[i-1][j] + dp[i][j-1] + arr[i-1][j-1] - dp[i-1][j-1]\n",
        "\n",
        "for _, line in enumerate(do):\n",
        "    i,j,x,y = line\n",
        "    print(dp[x][y]-(dp[x][j-1]+dp[i-1][y])+dp[i-1][j-1])"
      ]
    }
  ]
}