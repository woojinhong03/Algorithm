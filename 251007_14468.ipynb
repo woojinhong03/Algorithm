{
  "nbformat": 4,
  "nbformat_minor": 0,
  "metadata": {
    "colab": {
      "provenance": [],
      "authorship_tag": "ABX9TyOQdBnFI/zByUmlpqHGzOiw",
      "include_colab_link": true
    },
    "kernelspec": {
      "name": "python3",
      "display_name": "Python 3"
    },
    "language_info": {
      "name": "python"
    }
  },
  "cells": [
    {
      "cell_type": "markdown",
      "metadata": {
        "id": "view-in-github",
        "colab_type": "text"
      },
      "source": [
        "<a href=\"https://colab.research.google.com/github/woojinhong03/Algorithm/blob/main/251007_14468.ipynb\" target=\"_parent\"><img src=\"https://colab.research.google.com/assets/colab-badge.svg\" alt=\"Open In Colab\"/></a>"
      ]
    },
    {
      "cell_type": "code",
      "execution_count": null,
      "metadata": {
        "id": "hkHLw6FZ7VP-"
      },
      "outputs": [],
      "source": [
        "import sys\n",
        "line = sys.stdin.readline().strip()\n",
        "tot = 0\n",
        "\n",
        "for start in range(52):\n",
        "    for end in range(start + 1, 52):\n",
        "        if line[start] == line[end]:\n",
        "            path = line[start + 1 : end]\n",
        "            for cow in set(path):\n",
        "                if path.count(cow) == 1:\n",
        "                    tot += 1\n",
        "            break\n",
        "\n",
        "print(tot // 2)"
      ]
    }
  ]
}