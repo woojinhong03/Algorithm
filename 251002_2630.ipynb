{
  "nbformat": 4,
  "nbformat_minor": 0,
  "metadata": {
    "colab": {
      "provenance": [],
      "authorship_tag": "ABX9TyNpQd6lBcu5wvZKUkdWY8kY",
      "include_colab_link": true
    },
    "kernelspec": {
      "name": "python3",
      "display_name": "Python 3"
    },
    "language_info": {
      "name": "python"
    }
  },
  "cells": [
    {
      "cell_type": "markdown",
      "metadata": {
        "id": "view-in-github",
        "colab_type": "text"
      },
      "source": [
        "<a href=\"https://colab.research.google.com/github/woojinhong03/Algorithm/blob/main/251002_2630.ipynb\" target=\"_parent\"><img src=\"https://colab.research.google.com/assets/colab-badge.svg\" alt=\"Open In Colab\"/></a>"
      ]
    },
    {
      "cell_type": "code",
      "execution_count": 1,
      "metadata": {
        "colab": {
          "base_uri": "https://localhost:8080/"
        },
        "id": "V4rCzIpZJ21S",
        "outputId": "753f5378-f480-48c2-a9fc-2bcebdd02ae9"
      },
      "outputs": [
        {
          "output_type": "stream",
          "name": "stdout",
          "text": [
            "8\n",
            "1 1 0 0 0 0 1 1\n",
            "1 1 0 0 0 0 1 1\n",
            "0 0 0 0 1 1 0 0\n",
            "0 0 0 0 1 1 0 0\n",
            "1 0 0 0 1 1 1 1\n",
            "0 1 0 0 1 1 1 1\n",
            "0 0 1 1 1 1 1 1\n",
            "0 0 1 1 1 1 1 1\n",
            "9\n",
            "7\n"
          ]
        }
      ],
      "source": [
        "# import sys\n",
        "# input = sys.stdin.readline\n",
        "\n",
        "def cut(x, y, size):\n",
        "    global wh, bl\n",
        "    start_color = paper[x][y]\n",
        "    for i in range(x, x + size):\n",
        "        for j in range(y, y + size):\n",
        "            if paper[i][j] != start_color:\n",
        "                half_size = size // 2\n",
        "                cut(x, y, half_size)\n",
        "                cut(x, y + half_size, half_size)\n",
        "                cut(x + half_size, y, half_size)\n",
        "                cut(x + half_size, y + half_size, half_size)\n",
        "                return\n",
        "    if start_color == 0:\n",
        "        wh += 1\n",
        "    else:\n",
        "        bl += 1\n",
        "\n",
        "n = int(input())\n",
        "paper = [list(map(int, input().split())) for _ in range(n)]\n",
        "\n",
        "wh = 0\n",
        "bl = 0\n",
        "cut(0, 0, n)\n",
        "\n",
        "print(wh)\n",
        "print(bl)"
      ]
    }
  ]
}