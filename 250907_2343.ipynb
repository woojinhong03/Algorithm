{
  "nbformat": 4,
  "nbformat_minor": 0,
  "metadata": {
    "colab": {
      "provenance": [],
      "authorship_tag": "ABX9TyMChlMIXlJsY/H9jcMA43l6",
      "include_colab_link": true
    },
    "kernelspec": {
      "name": "python3",
      "display_name": "Python 3"
    },
    "language_info": {
      "name": "python"
    }
  },
  "cells": [
    {
      "cell_type": "markdown",
      "metadata": {
        "id": "view-in-github",
        "colab_type": "text"
      },
      "source": [
        "<a href=\"https://colab.research.google.com/github/woojinhong03/Algorithm/blob/main/250907_2343.ipynb\" target=\"_parent\"><img src=\"https://colab.research.google.com/assets/colab-badge.svg\" alt=\"Open In Colab\"/></a>"
      ]
    },
    {
      "cell_type": "code",
      "execution_count": 2,
      "metadata": {
        "id": "L2vLUsRZ8Lom",
        "colab": {
          "base_uri": "https://localhost:8080/"
        },
        "outputId": "144907f5-fce9-4b8e-f2e2-ad8ad4676bca"
      },
      "outputs": [
        {
          "output_type": "stream",
          "name": "stdout",
          "text": [
            "9 3\n",
            "1 2 3 4 5 6 7 8 9\n",
            "17\n"
          ]
        }
      ],
      "source": [
        "n, m = map(int, input().split())\n",
        "gang = list(map(int, input().split()))\n",
        "\n",
        "left, right = max(gang), sum(gang)\n",
        "dap = 0\n",
        "\n",
        "while left <= right:\n",
        "    mid = (left + right) // 2\n",
        "    cnt = 1\n",
        "    length = 0\n",
        "\n",
        "    for i in gang:\n",
        "        if length + i <= mid:\n",
        "            length += i\n",
        "        else:\n",
        "            cnt += 1\n",
        "            length = i\n",
        "\n",
        "    if cnt <= m:\n",
        "        dap = mid\n",
        "        right = mid - 1\n",
        "    else:\n",
        "        left = mid + 1\n",
        "\n",
        "print(dap)"
      ]
    }
  ]
}