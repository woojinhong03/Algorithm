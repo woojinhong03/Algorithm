{
  "nbformat": 4,
  "nbformat_minor": 0,
  "metadata": {
    "colab": {
      "provenance": [],
      "authorship_tag": "ABX9TyP2upg+KrYFcISt4COZ34/k",
      "include_colab_link": true
    },
    "kernelspec": {
      "name": "python3",
      "display_name": "Python 3"
    },
    "language_info": {
      "name": "python"
    }
  },
  "cells": [
    {
      "cell_type": "markdown",
      "metadata": {
        "id": "view-in-github",
        "colab_type": "text"
      },
      "source": [
        "<a href=\"https://colab.research.google.com/github/woojinhong03/Algorithm/blob/main/241209_10813.ipynb\" target=\"_parent\"><img src=\"https://colab.research.google.com/assets/colab-badge.svg\" alt=\"Open In Colab\"/></a>"
      ]
    },
    {
      "cell_type": "code",
      "execution_count": 12,
      "metadata": {
        "colab": {
          "base_uri": "https://localhost:8080/"
        },
        "id": "nY1Vb7qU5HJM",
        "outputId": "f1bee35e-b0d3-40eb-bef5-4d822215a98a"
      },
      "outputs": [
        {
          "output_type": "stream",
          "name": "stdout",
          "text": [
            "5 4\n",
            "1 2\n",
            "3 4\n",
            "1 4\n",
            "2 2\n",
            "3 1 4 2 5\n"
          ]
        }
      ],
      "source": [
        "n,m = map(int,input().split())\n",
        "d = dict()\n",
        "\n",
        "for i in range(1,n+1):  #딕셔너리 생성\n",
        "    d[i] = i\n",
        "\n",
        "num = 0\n",
        "for i in range(m):\n",
        "    a,b = map(int,input().split())  #수를 받은 후 num에 임시 저장하고 바꿈\n",
        "    num = d[a]\n",
        "    d[a] = d[b]\n",
        "    d[b] = num\n",
        "\n",
        "print(*list(d.values()))    #딕셔너리를 리스트로 변경 후 값만 출력"
      ]
    }
  ]
}