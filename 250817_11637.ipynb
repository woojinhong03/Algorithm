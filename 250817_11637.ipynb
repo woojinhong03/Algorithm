{
  "nbformat": 4,
  "nbformat_minor": 0,
  "metadata": {
    "colab": {
      "provenance": [],
      "authorship_tag": "ABX9TyOIR2fp1imXy4UxrHtK5e8R",
      "include_colab_link": true
    },
    "kernelspec": {
      "name": "python3",
      "display_name": "Python 3"
    },
    "language_info": {
      "name": "python"
    }
  },
  "cells": [
    {
      "cell_type": "markdown",
      "metadata": {
        "id": "view-in-github",
        "colab_type": "text"
      },
      "source": [
        "<a href=\"https://colab.research.google.com/github/woojinhong03/Algorithm/blob/main/250817_11637.ipynb\" target=\"_parent\"><img src=\"https://colab.research.google.com/assets/colab-badge.svg\" alt=\"Open In Colab\"/></a>"
      ]
    },
    {
      "cell_type": "code",
      "execution_count": 3,
      "metadata": {
        "colab": {
          "base_uri": "https://localhost:8080/"
        },
        "id": "bByFM4gA9OKn",
        "outputId": "29830656-5931-4a26-9377-6d42e85488cb"
      },
      "outputs": [
        {
          "output_type": "stream",
          "name": "stdout",
          "text": [
            "4\n",
            "3\n",
            "10\n",
            "21\n",
            "10\n",
            "majority winner 2\n",
            "3\n",
            "20\n",
            "10\n",
            "10\n",
            "minority winner 1\n",
            "3\n",
            "10\n",
            "10\n",
            "10\n",
            "no winner\n",
            "4\n",
            "15\n",
            "15\n",
            "15\n",
            "45\n",
            "minority winner 4\n"
          ]
        }
      ],
      "source": [
        "for _ in range(int(input())):\n",
        "    who = list(int(input()) for _ in range(int(input())))\n",
        "    m = max(who)\n",
        "    if who.count(m) > 1:\n",
        "        print('no winner')\n",
        "    else:\n",
        "        print(f\"{['minority','majority'][m > sum(who) // 2]} winner {who.index(m)+1}\")"
      ]
    }
  ]
}