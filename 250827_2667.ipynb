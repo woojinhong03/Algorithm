{
  "nbformat": 4,
  "nbformat_minor": 0,
  "metadata": {
    "colab": {
      "provenance": [],
      "authorship_tag": "ABX9TyOefq7PG+BTCLlL7/jYJo7t",
      "include_colab_link": true
    },
    "kernelspec": {
      "name": "python3",
      "display_name": "Python 3"
    },
    "language_info": {
      "name": "python"
    }
  },
  "cells": [
    {
      "cell_type": "markdown",
      "metadata": {
        "id": "view-in-github",
        "colab_type": "text"
      },
      "source": [
        "<a href=\"https://colab.research.google.com/github/woojinhong03/Algorithm/blob/main/250827_2667.ipynb\" target=\"_parent\"><img src=\"https://colab.research.google.com/assets/colab-badge.svg\" alt=\"Open In Colab\"/></a>"
      ]
    },
    {
      "cell_type": "code",
      "source": [
        "def dfs(y, x):\n",
        "    global visited, cnt\n",
        "    visited[y][x] = 1\n",
        "    for i in range(4):\n",
        "        newy = y + dirC[i]\n",
        "        newx = x + dirR[i]\n",
        "        if newy < 0 or newy >= n or newx < 0 or newx >= n:\n",
        "            continue\n",
        "        elif jido[newy][newx] and not visited[newy][newx]:\n",
        "            cnt += 1\n",
        "            dfs(newy,newx)\n",
        "\n",
        "n = int(input())\n",
        "jido = [list(map(int, input())) for _ in range(n)]\n",
        "\n",
        "visited = [[0] * n for _ in range(n)]\n",
        "dap = []\n",
        "\n",
        "dirR = [1, -1, 0, 0]\n",
        "dirC = [0, 0, 1, -1]\n",
        "\n",
        "for i in range(n):\n",
        "    for j in range(n):\n",
        "        if jido[i][j] and not visited[i][j]:\n",
        "            cnt = 1\n",
        "            dfs(i, j)\n",
        "            dap.append(cnt)\n",
        "\n",
        "print(len(dap))\n",
        "dap.sort()\n",
        "for i in dap:\n",
        "    print(i)"
      ],
      "metadata": {
        "colab": {
          "base_uri": "https://localhost:8080/"
        },
        "id": "O7--WptUkxAf",
        "outputId": "13412c02-784e-45a2-99a9-4430cceebe79"
      },
      "execution_count": 1,
      "outputs": [
        {
          "output_type": "stream",
          "name": "stdout",
          "text": [
            "7\n",
            "0110100\n",
            "0110101\n",
            "1110101\n",
            "0000111\n",
            "0100000\n",
            "0111110\n",
            "0111000\n",
            "3\n",
            "7\n",
            "8\n",
            "9\n"
          ]
        }
      ]
    }
  ]
}