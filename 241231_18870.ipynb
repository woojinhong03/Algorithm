{
  "nbformat": 4,
  "nbformat_minor": 0,
  "metadata": {
    "colab": {
      "provenance": [],
      "authorship_tag": "ABX9TyNWhaDJcEDr9GKRYSOqCf7W",
      "include_colab_link": true
    },
    "kernelspec": {
      "name": "python3",
      "display_name": "Python 3"
    },
    "language_info": {
      "name": "python"
    }
  },
  "cells": [
    {
      "cell_type": "markdown",
      "metadata": {
        "id": "view-in-github",
        "colab_type": "text"
      },
      "source": [
        "<a href=\"https://colab.research.google.com/github/woojinhong03/Algorithm/blob/main/241231_18870.ipynb\" target=\"_parent\"><img src=\"https://colab.research.google.com/assets/colab-badge.svg\" alt=\"Open In Colab\"/></a>"
      ]
    },
    {
      "cell_type": "code",
      "source": [
        "n = int(input())\n",
        "x = list(map(int,input().split()))\n",
        "\n",
        "num = list(set(x)) #중복 제거\n",
        "num.sort()\n",
        "\n",
        "d = {}\n",
        "\n",
        "for i in range(len(num)):\n",
        "    d[num[i]] = i # {-10: 0, -9: 1, 2: 2, 4: 3}\n",
        "\n",
        "for i in x:\n",
        "    print(d[i], end=' ')"
      ],
      "metadata": {
        "colab": {
          "base_uri": "https://localhost:8080/"
        },
        "id": "jo2SKmQSj0LC",
        "outputId": "f3fb44f7-66dc-4687-9dd5-e573bbc41aa7"
      },
      "execution_count": 13,
      "outputs": [
        {
          "output_type": "stream",
          "name": "stdout",
          "text": [
            "5\n",
            "2 4 -10 4 -9\n",
            "2 3 0 3 1 "
          ]
        }
      ]
    }
  ]
}