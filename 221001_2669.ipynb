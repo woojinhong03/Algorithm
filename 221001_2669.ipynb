{
  "nbformat": 4,
  "nbformat_minor": 0,
  "metadata": {
    "colab": {
      "provenance": [],
      "collapsed_sections": []
    },
    "kernelspec": {
      "name": "python3",
      "display_name": "Python 3"
    },
    "language_info": {
      "name": "python"
    }
  },
  "cells": [
    {
      "cell_type": "code",
      "execution_count": 19,
      "metadata": {
        "colab": {
          "base_uri": "https://localhost:8080/"
        },
        "id": "zku34rkH3uVV",
        "outputId": "142ffb93-b1c8-4e1a-c9bf-61f89db2d619"
      },
      "outputs": [
        {
          "output_type": "stream",
          "name": "stdout",
          "text": [
            "1 2 4 4\n",
            "2 3 5 7\n",
            "3 1 6 5\n",
            "7 3 8 6\n",
            "26\n"
          ]
        }
      ],
      "source": [
        "l = [[0 for _ in range(101)] for _ in range(101)]\n",
        "\n",
        "for i in range(4):\n",
        "    x1, y1, x2, y2 = map(int,input().split())\n",
        "\n",
        "    for i in range(x1, x2):\n",
        "        for j in range(y1, y2):\n",
        "            l[j][i] = 1\n",
        "\n",
        "a = 0\n",
        "for k in l:\n",
        "    a += sum(k)\n",
        "print(a)"
      ]
    }
  ]
}