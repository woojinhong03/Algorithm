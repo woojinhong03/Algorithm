{
  "nbformat": 4,
  "nbformat_minor": 0,
  "metadata": {
    "colab": {
      "provenance": [],
      "authorship_tag": "ABX9TyOJi1F4YHI6U8/9YaeG2Xxf",
      "include_colab_link": true
    },
    "kernelspec": {
      "name": "python3",
      "display_name": "Python 3"
    },
    "language_info": {
      "name": "python"
    }
  },
  "cells": [
    {
      "cell_type": "markdown",
      "metadata": {
        "id": "view-in-github",
        "colab_type": "text"
      },
      "source": [
        "<a href=\"https://colab.research.google.com/github/woojinhong03/Algorithm/blob/main/250820_5525.ipynb\" target=\"_parent\"><img src=\"https://colab.research.google.com/assets/colab-badge.svg\" alt=\"Open In Colab\"/></a>"
      ]
    },
    {
      "cell_type": "code",
      "source": [
        "n = int(input())\n",
        "m = int(input())\n",
        "s = input()\n",
        "\n",
        "cnt = i = dap = 0\n",
        "\n",
        "while i < (m - 1):\n",
        "  if s[i : i + 3] == 'IOI':\n",
        "    cnt += 1\n",
        "    i += 2\n",
        "    if cnt == n:\n",
        "      dap += 1\n",
        "      cnt -= 1\n",
        "  else:\n",
        "    i += 1\n",
        "    cnt = 0\n",
        "\n",
        "print(dap)"
      ],
      "metadata": {
        "colab": {
          "base_uri": "https://localhost:8080/"
        },
        "id": "plL429XMrgkR",
        "outputId": "91240bab-5120-4e2e-da31-2698318da650"
      },
      "execution_count": null,
      "outputs": [
        {
          "output_type": "stream",
          "name": "stdout",
          "text": [
            "1\n",
            "13\n",
            "OOIOIOIOIIOII\n",
            "4\n"
          ]
        }
      ]
    }
  ]
}