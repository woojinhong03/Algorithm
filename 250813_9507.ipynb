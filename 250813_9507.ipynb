{
  "nbformat": 4,
  "nbformat_minor": 0,
  "metadata": {
    "colab": {
      "provenance": [],
      "authorship_tag": "ABX9TyPXTRkcCy1Ntgd2nByvzaY/",
      "include_colab_link": true
    },
    "kernelspec": {
      "name": "python3",
      "display_name": "Python 3"
    },
    "language_info": {
      "name": "python"
    }
  },
  "cells": [
    {
      "cell_type": "markdown",
      "metadata": {
        "id": "view-in-github",
        "colab_type": "text"
      },
      "source": [
        "<a href=\"https://colab.research.google.com/github/woojinhong03/Algorithm/blob/main/250813_9507.ipynb\" target=\"_parent\"><img src=\"https://colab.research.google.com/assets/colab-badge.svg\" alt=\"Open In Colab\"/></a>"
      ]
    },
    {
      "cell_type": "code",
      "execution_count": 6,
      "metadata": {
        "colab": {
          "base_uri": "https://localhost:8080/"
        },
        "id": "9dyf8xoia0vA",
        "outputId": "f9c82149-58ef-4949-9112-8014a2eb35c7"
      },
      "outputs": [
        {
          "output_type": "stream",
          "name": "stdout",
          "text": [
            "8\n",
            "0\n",
            "1\n",
            "1\n",
            "1\n",
            "2\n",
            "2\n",
            "3\n",
            "4\n",
            "4\n",
            "8\n",
            "5\n",
            "15\n",
            "30\n",
            "201061985\n",
            "67\n",
            "7057305768232953720\n"
          ]
        }
      ],
      "source": [
        "dp = [0]*68\n",
        "\n",
        "def koong(n):\n",
        "    if n < 2:\n",
        "        return 1\n",
        "    elif n == 2:\n",
        "        return 2\n",
        "    elif n == 3:\n",
        "        return 4\n",
        "    elif dp[n]:\n",
        "        return dp[n]\n",
        "    else:\n",
        "        dp[n] = koong(n - 1) + koong(n - 2) + koong(n - 3) + koong(n - 4)\n",
        "        return dp[n]\n",
        "\n",
        "for i in range(int(input())):\n",
        "    print(koong(int(input())))"
      ]
    }
  ]
}