{
  "nbformat": 4,
  "nbformat_minor": 0,
  "metadata": {
    "colab": {
      "name": "220802_10867.ipynb",
      "provenance": [],
      "collapsed_sections": []
    },
    "kernelspec": {
      "name": "python3",
      "display_name": "Python 3"
    },
    "language_info": {
      "name": "python"
    }
  },
  "cells": [
    {
      "cell_type": "code",
      "execution_count": 1,
      "metadata": {
        "colab": {
          "base_uri": "https://localhost:8080/"
        },
        "id": "afWuYEI8BdFr",
        "outputId": "73f0a106-0425-4a9f-f1db-55588878a6a2"
      },
      "outputs": [
        {
          "output_type": "stream",
          "name": "stdout",
          "text": [
            "10\n",
            "1 4 2 3 1 4 2 3 1 2\n",
            "1 2 3 4 "
          ]
        }
      ],
      "source": [
        "N = int(input())\n",
        "number_list = list(map(int, input().split()))\n",
        "\n",
        "for i in sorted(list(set(number_list))): \n",
        "    print(i, end = ' ')"
      ]
    }
  ]
}