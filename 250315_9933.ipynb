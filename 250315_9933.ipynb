{
  "nbformat": 4,
  "nbformat_minor": 0,
  "metadata": {
    "colab": {
      "provenance": [],
      "authorship_tag": "ABX9TyNGzXxFMbK0XoNp28FV/CCc",
      "include_colab_link": true
    },
    "kernelspec": {
      "name": "python3",
      "display_name": "Python 3"
    },
    "language_info": {
      "name": "python"
    }
  },
  "cells": [
    {
      "cell_type": "markdown",
      "metadata": {
        "id": "view-in-github",
        "colab_type": "text"
      },
      "source": [
        "<a href=\"https://colab.research.google.com/github/woojinhong03/Algorithm/blob/main/250315_9933.ipynb\" target=\"_parent\"><img src=\"https://colab.research.google.com/assets/colab-badge.svg\" alt=\"Open In Colab\"/></a>"
      ]
    },
    {
      "cell_type": "code",
      "execution_count": 1,
      "metadata": {
        "colab": {
          "base_uri": "https://localhost:8080/"
        },
        "id": "gG827TWvtHry",
        "outputId": "771ead25-c4f0-406d-c5ae-6061d4129027"
      },
      "outputs": [
        {
          "output_type": "stream",
          "name": "stdout",
          "text": [
            "4\n",
            "las\n",
            "god\n",
            "psala\n",
            "sal\n",
            "3 a\n"
          ]
        }
      ],
      "source": [
        "n = int(input())\n",
        "dan = [input() for _ in range(n)]\n",
        "\n",
        "for i in range(n):\n",
        "    for j in range(i, n):\n",
        "        if dan[i][::-1] == dan[j]:\n",
        "            print(len(dan[i]), dan[i][len(dan[i]) // 2])\n",
        "            exit()"
      ]
    }
  ]
}