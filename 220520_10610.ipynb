{
  "nbformat": 4,
  "nbformat_minor": 0,
  "metadata": {
    "colab": {
      "name": "220520_10610.ipynb",
      "provenance": [],
      "collapsed_sections": [],
      "authorship_tag": "ABX9TyOfJNcdUXgwFo70ZiBK4W7D",
      "include_colab_link": true
    },
    "kernelspec": {
      "name": "python3",
      "display_name": "Python 3"
    },
    "language_info": {
      "name": "python"
    }
  },
  "cells": [
    {
      "cell_type": "markdown",
      "metadata": {
        "id": "view-in-github",
        "colab_type": "text"
      },
      "source": [
        "<a href=\"https://colab.research.google.com/github/woojinhong03/Algorithm/blob/main/220520_10610.ipynb\" target=\"_parent\"><img src=\"https://colab.research.google.com/assets/colab-badge.svg\" alt=\"Open In Colab\"/></a>"
      ]
    },
    {
      "cell_type": "code",
      "execution_count": null,
      "metadata": {
        "colab": {
          "base_uri": "https://localhost:8080/"
        },
        "id": "cLIHsUcNaAGh",
        "outputId": "cf090f97-1e83-454f-d04b-1bc519c351ca"
      },
      "outputs": [
        {
          "output_type": "stream",
          "name": "stdout",
          "text": [
            "80875542\n",
            "88755420\n"
          ]
        }
      ],
      "source": [
        "n = list(input())\n",
        "n.sort(reverse=True)\n",
        "sum = 0\n",
        "\n",
        "for i in n:\n",
        "  sum += int(i)\n",
        "\n",
        "if sum % 3 != 0 or \"0\" not in n:\n",
        "  print(\"-1\")\n",
        "else:\n",
        "  print(''.join(n))"
      ]
    }
  ]
}