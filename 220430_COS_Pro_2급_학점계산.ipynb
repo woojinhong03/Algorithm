{
  "nbformat": 4,
  "nbformat_minor": 0,
  "metadata": {
    "colab": {
      "name": "220430_COS_Pro_2급_학점계산.ipynb",
      "provenance": [],
      "collapsed_sections": [],
      "authorship_tag": "ABX9TyM1DrVcgJfSUwUwL1UZDd8V",
      "include_colab_link": true
    },
    "kernelspec": {
      "name": "python3",
      "display_name": "Python 3"
    },
    "language_info": {
      "name": "python"
    }
  },
  "cells": [
    {
      "cell_type": "markdown",
      "metadata": {
        "id": "view-in-github",
        "colab_type": "text"
      },
      "source": [
        "<a href=\"https://colab.research.google.com/github/woojinhong03/Algorithm/blob/main/220430_COS_Pro_2%EA%B8%89_%ED%95%99%EC%A0%90%EA%B3%84%EC%82%B0.ipynb\" target=\"_parent\"><img src=\"https://colab.research.google.com/assets/colab-badge.svg\" alt=\"Open In Colab\"/></a>"
      ]
    },
    {
      "cell_type": "code",
      "execution_count": 1,
      "metadata": {
        "id": "ZSC8iFO3C1h9"
      },
      "outputs": [],
      "source": [
        "def solution(scores):\n",
        "    grade_counter = [0 for i in range(5)]\n",
        "    for x in scores:\n",
        "        if x >= 85:\n",
        "            grade_counter[0] += 1\n",
        "        elif x >= 70:\n",
        "            grade_counter[1] += 1\n",
        "        elif x >= 55:\n",
        "            grade_counter[2] += 1\n",
        "        elif x >= 40:\n",
        "            grade_counter[3] += 1\n",
        "        else:\n",
        "            grade_counter[4] += 1\n",
        "    return grade_counter"
      ]
    }
  ]
}