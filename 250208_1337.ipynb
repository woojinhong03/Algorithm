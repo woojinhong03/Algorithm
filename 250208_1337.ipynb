{
  "nbformat": 4,
  "nbformat_minor": 0,
  "metadata": {
    "colab": {
      "provenance": [],
      "authorship_tag": "ABX9TyMVo1G+kGEagY+Gper71BtE",
      "include_colab_link": true
    },
    "kernelspec": {
      "name": "python3",
      "display_name": "Python 3"
    },
    "language_info": {
      "name": "python"
    }
  },
  "cells": [
    {
      "cell_type": "markdown",
      "metadata": {
        "id": "view-in-github",
        "colab_type": "text"
      },
      "source": [
        "<a href=\"https://colab.research.google.com/github/woojinhong03/Algorithm/blob/main/250208_1337.ipynb\" target=\"_parent\"><img src=\"https://colab.research.google.com/assets/colab-badge.svg\" alt=\"Open In Colab\"/></a>"
      ]
    },
    {
      "cell_type": "code",
      "source": [
        "n = int(input())\n",
        "li = [int(input()) for i in range(n)]\n",
        "\n",
        "cnt_li = []\n",
        "\n",
        "for i in range(n):\n",
        "    cnt = 4\n",
        "    st = li[i]\n",
        "    end = li[i] + 5\n",
        "    for j in li:\n",
        "        if st < j < end:\n",
        "            cnt -= 1\n",
        "    cnt_li.append(cnt)\n",
        "\n",
        "print(min(cnt_li))"
      ],
      "metadata": {
        "colab": {
          "base_uri": "https://localhost:8080/"
        },
        "id": "tKLKfljh8CUE",
        "outputId": "5387214f-bb5b-4d84-851b-dbfe6e59283b"
      },
      "execution_count": 23,
      "outputs": [
        {
          "output_type": "stream",
          "name": "stdout",
          "text": [
            "3\n",
            "5\n",
            "6\n",
            "7\n",
            "2\n"
          ]
        }
      ]
    }
  ]
}