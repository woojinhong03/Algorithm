{
  "nbformat": 4,
  "nbformat_minor": 0,
  "metadata": {
    "colab": {
      "provenance": [],
      "collapsed_sections": []
    },
    "kernelspec": {
      "name": "python3",
      "display_name": "Python 3"
    },
    "language_info": {
      "name": "python"
    }
  },
  "cells": [
    {
      "cell_type": "code",
      "execution_count": 2,
      "metadata": {
        "colab": {
          "base_uri": "https://localhost:8080/"
        },
        "id": "uG3dClFJPZ6y",
        "outputId": "f705f611-8ed4-483e-e707-f6048eded958"
      },
      "outputs": [
        {
          "output_type": "stream",
          "name": "stdout",
          "text": [
            "9\n",
            "1 1 230\n",
            "1 2 210\n",
            "1 3 205\n",
            "2 1 100\n",
            "2 2 150\n",
            "3 1 175\n",
            "3 2 190\n",
            "3 3 180\n",
            "3 4 195\n",
            "1 1\n",
            "1 2\n",
            "3 4\n"
          ]
        }
      ],
      "source": [
        "N = int(input())\n",
        "students = []\n",
        "\n",
        "for student_index in range(N):\n",
        "    student_info = list(map(int, input().split(' ')))\n",
        "    students.append(student_info)\n",
        "\n",
        "students.sort(key=lambda student: student[2], reverse=True)\n",
        "\n",
        "gold = students[0]\n",
        "silver = students[1]\n",
        "bronze = 0\n",
        "\n",
        "for student_index in range(2, len(students)):\n",
        "    if gold[0] == silver[0] == students[student_index][0]:\n",
        "        continue\n",
        "    else:\n",
        "        bronze = students[student_index]\n",
        "        break\n",
        "\n",
        "print(gold[0], gold[1])\n",
        "print(silver[0], silver[1])\n",
        "print(bronze[0], bronze[1])"
      ]
    }
  ]
}