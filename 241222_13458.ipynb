{
  "nbformat": 4,
  "nbformat_minor": 0,
  "metadata": {
    "colab": {
      "provenance": [],
      "authorship_tag": "ABX9TyPRnTAGMNFqJbxm0hWxzaBu",
      "include_colab_link": true
    },
    "kernelspec": {
      "name": "python3",
      "display_name": "Python 3"
    },
    "language_info": {
      "name": "python"
    }
  },
  "cells": [
    {
      "cell_type": "markdown",
      "metadata": {
        "id": "view-in-github",
        "colab_type": "text"
      },
      "source": [
        "<a href=\"https://colab.research.google.com/github/woojinhong03/Algorithm/blob/main/241222_13458.ipynb\" target=\"_parent\"><img src=\"https://colab.research.google.com/assets/colab-badge.svg\" alt=\"Open In Colab\"/></a>"
      ]
    },
    {
      "cell_type": "code",
      "execution_count": 1,
      "metadata": {
        "colab": {
          "base_uri": "https://localhost:8080/"
        },
        "id": "P0w8hDHF02Kd",
        "outputId": "41703c5d-0187-440c-dec2-2866cf84d23c"
      },
      "outputs": [
        {
          "output_type": "stream",
          "name": "stdout",
          "text": [
            "3\n",
            "3 4 5\n",
            "2 2\n",
            "7\n"
          ]
        }
      ],
      "source": [
        "n = int(input())\n",
        "a = list(map(int, input().split()))\n",
        "b, c = map(int, input().split())\n",
        "\n",
        "for i in a:   #응시자의 수를 하나씩 불러온다.\n",
        "    i -= b   #총감독관이 감시 가능한 응시자의 수를 제외한다.\n",
        "    if i > 0:    #만약 응시자의 수가 총감독관의 감시 가능 인원 이상이면\n",
        "        if i % c > 0:    #만약 응시자의 수 나누기 부감독관의 감시 인원을 했을 때 1 이상이라면\n",
        "            n += (i // c) + 1    #응시자수 나누기 부감독관 감시수 의 몫 + 1\n",
        "        else:\n",
        "            n += (i // c)    #응시자수 나누기 부감독관 감시수\n",
        "\n",
        "print(n)"
      ]
    }
  ]
}