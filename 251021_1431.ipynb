{
  "nbformat": 4,
  "nbformat_minor": 0,
  "metadata": {
    "colab": {
      "provenance": [],
      "authorship_tag": "ABX9TyOKpvDKRCDHQFv6Fgk0RuXA",
      "include_colab_link": true
    },
    "kernelspec": {
      "name": "python3",
      "display_name": "Python 3"
    },
    "language_info": {
      "name": "python"
    }
  },
  "cells": [
    {
      "cell_type": "markdown",
      "metadata": {
        "id": "view-in-github",
        "colab_type": "text"
      },
      "source": [
        "<a href=\"https://colab.research.google.com/github/woojinhong03/Algorithm/blob/main/251021_1431.ipynb\" target=\"_parent\"><img src=\"https://colab.research.google.com/assets/colab-badge.svg\" alt=\"Open In Colab\"/></a>"
      ]
    },
    {
      "cell_type": "code",
      "execution_count": null,
      "metadata": {
        "id": "FlZH130ZPEmX"
      },
      "outputs": [],
      "source": [
        "import sys\n",
        "input = sys.stdin.readline\n",
        "\n",
        "def get_digit_sum(serial):\n",
        "    total = 0\n",
        "    for char in serial:\n",
        "        # 문자가 숫자인지 확인\n",
        "        if char.isdigit():\n",
        "            total += int(char)\n",
        "    return total\n",
        "\n",
        "N = int(input())\n",
        "serials = []\n",
        "for _ in range(N):\n",
        "    serials.append(input().strip())\n",
        "\n",
        "# sorted의 key에 lambda를 사용하여 3가지 기준을 튜플로 반환\n",
        "# (1 길이, 2 숫자 합, 3 사전순 원본 문자열)\n",
        "sorted_serials = sorted(serials, key=lambda x: (len(x), get_digit_sum(x), x))\n",
        "\n",
        "for serial in sorted_serials:\n",
        "    print(serial)"
      ]
    }
  ]
}