{
  "nbformat": 4,
  "nbformat_minor": 0,
  "metadata": {
    "colab": {
      "name": "220622_1158.ipynb",
      "provenance": [],
      "collapsed_sections": [],
      "authorship_tag": "ABX9TyPpS4WPNeK73oBrj7jLMPBI",
      "include_colab_link": true
    },
    "kernelspec": {
      "name": "python3",
      "display_name": "Python 3"
    },
    "language_info": {
      "name": "python"
    }
  },
  "cells": [
    {
      "cell_type": "markdown",
      "metadata": {
        "id": "view-in-github",
        "colab_type": "text"
      },
      "source": [
        "<a href=\"https://colab.research.google.com/github/woojinhong03/Algorithm/blob/main/220622_1158.ipynb\" target=\"_parent\"><img src=\"https://colab.research.google.com/assets/colab-badge.svg\" alt=\"Open In Colab\"/></a>"
      ]
    },
    {
      "cell_type": "code",
      "execution_count": 6,
      "metadata": {
        "colab": {
          "base_uri": "https://localhost:8080/"
        },
        "id": "HZlJ5o-xJ0JK",
        "outputId": "866cb367-7b88-4fd5-d400-fe8b57fc0c7c"
      },
      "outputs": [
        {
          "output_type": "stream",
          "name": "stdout",
          "text": [
            "7 3\n",
            "<3, 6, 2, 7, 5, 1, 4>\n"
          ]
        }
      ],
      "source": [
        "N,K = map(int,input().split())\n",
        "arr = [i for i in range(1,N+1)]  \n",
        "\n",
        "answer = [] \n",
        "num = 0 \n",
        "\n",
        "for t in range(N):\n",
        "    num += K-1  \n",
        "    if num >= len(arr):  \n",
        "        num = num%len(arr)\n",
        "    answer.append(str(arr.pop(num)))\n",
        "\n",
        "print(\"<\",\", \".join(answer) ,\">\", sep='')"
      ]
    }
  ]
}