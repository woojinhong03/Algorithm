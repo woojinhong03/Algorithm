{
  "nbformat": 4,
  "nbformat_minor": 0,
  "metadata": {
    "colab": {
      "name": "220527_programmers_kakao_LV1_dart.ipynb",
      "provenance": [],
      "collapsed_sections": [],
      "authorship_tag": "ABX9TyM4htqLZctmqSIZmO1ABhmX",
      "include_colab_link": true
    },
    "kernelspec": {
      "name": "python3",
      "display_name": "Python 3"
    },
    "language_info": {
      "name": "python"
    }
  },
  "cells": [
    {
      "cell_type": "markdown",
      "metadata": {
        "id": "view-in-github",
        "colab_type": "text"
      },
      "source": [
        "<a href=\"https://colab.research.google.com/github/woojinhong03/Algorithm/blob/main/220527_programmers_kakao_LV1_dart.ipynb\" target=\"_parent\"><img src=\"https://colab.research.google.com/assets/colab-badge.svg\" alt=\"Open In Colab\"/></a>"
      ]
    },
    {
      "cell_type": "code",
      "source": [
        "def solution(dartResult):\n",
        "    score = []\n",
        "    n = ''\n",
        "    for i in dartResult:\n",
        "        if i.isnumeric():\n",
        "            n += i\n",
        "        elif i == 'S':\n",
        "            score.append(int(n) ** 1)\n",
        "            n = ''\n",
        "        elif i == 'D':\n",
        "            score.append(int(n) ** 2)\n",
        "            n = ''\n",
        "        elif i == 'T':\n",
        "            score.append(int(n) ** 3)\n",
        "            n = ''\n",
        "        elif i == '*':\n",
        "            if len(score) > 1:\n",
        "                score[-2] *= 2\n",
        "            score[-1] *= 2\n",
        "        elif i == '#':\n",
        "            score[-1] *= -1\n",
        "    return sum(score)"
      ],
      "metadata": {
        "id": "1eG1EiavxIy3"
      },
      "execution_count": 2,
      "outputs": []
    },
    {
      "cell_type": "code",
      "execution_count": null,
      "metadata": {
        "id": "IckI3nV_wtnz"
      },
      "outputs": [],
      "source": [
        ""
      ]
    }
  ]
}