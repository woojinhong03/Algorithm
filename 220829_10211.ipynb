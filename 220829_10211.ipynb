{
  "nbformat": 4,
  "nbformat_minor": 0,
  "metadata": {
    "colab": {
      "name": "220829_10211.ipynb",
      "provenance": [],
      "authorship_tag": "ABX9TyMnh3kpWWIQtkqvdhrqgo+M",
      "include_colab_link": true
    },
    "kernelspec": {
      "name": "python3",
      "display_name": "Python 3"
    },
    "language_info": {
      "name": "python"
    }
  },
  "cells": [
    {
      "cell_type": "markdown",
      "metadata": {
        "id": "view-in-github",
        "colab_type": "text"
      },
      "source": [
        "<a href=\"https://colab.research.google.com/github/woojinhong03/Algorithm/blob/main/220829_10211.ipynb\" target=\"_parent\"><img src=\"https://colab.research.google.com/assets/colab-badge.svg\" alt=\"Open In Colab\"/></a>"
      ]
    },
    {
      "cell_type": "code",
      "execution_count": 1,
      "metadata": {
        "colab": {
          "base_uri": "https://localhost:8080/"
        },
        "id": "0TvVzaz8DLNg",
        "outputId": "352238e4-bec5-412b-f19a-d804984f893c"
      },
      "outputs": [
        {
          "output_type": "stream",
          "name": "stdout",
          "text": [
            "2\n",
            "5\n",
            "1 2 3 4 5\n",
            "15\n",
            "5\n",
            "2 1 -2 3 -5\n",
            "4\n"
          ]
        }
      ],
      "source": [
        "t = int(input())\n",
        "for _ in range(t):\n",
        "    n = int(input())\n",
        "    arr = list(map(int, input().split()))\n",
        "    dp = [0] * n\n",
        "    dp[0] = arr[0]\n",
        "    for i in range(1, n):\n",
        "        dp[i] = max(dp[i-1]+arr[i], arr[i])\n",
        "    print(max(dp))"
      ]
    }
  ]
}