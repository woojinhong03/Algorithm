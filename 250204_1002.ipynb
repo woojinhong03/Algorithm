{
  "nbformat": 4,
  "nbformat_minor": 0,
  "metadata": {
    "colab": {
      "provenance": [],
      "authorship_tag": "ABX9TyMolQZljIkjus5OnLNkHkup",
      "include_colab_link": true
    },
    "kernelspec": {
      "name": "python3",
      "display_name": "Python 3"
    },
    "language_info": {
      "name": "python"
    }
  },
  "cells": [
    {
      "cell_type": "markdown",
      "metadata": {
        "id": "view-in-github",
        "colab_type": "text"
      },
      "source": [
        "<a href=\"https://colab.research.google.com/github/woojinhong03/Algorithm/blob/main/250204_1002.ipynb\" target=\"_parent\"><img src=\"https://colab.research.google.com/assets/colab-badge.svg\" alt=\"Open In Colab\"/></a>"
      ]
    },
    {
      "cell_type": "code",
      "execution_count": 1,
      "metadata": {
        "colab": {
          "base_uri": "https://localhost:8080/"
        },
        "id": "WLqyMxvMRaL2",
        "outputId": "bb37f1ca-25da-4b86-b6e4-c8c5e0ec3c88"
      },
      "outputs": [
        {
          "output_type": "stream",
          "name": "stdout",
          "text": [
            "3\n",
            "0 0 13 40 0 37\n",
            "2\n",
            "0 0 3 0 7 4\n",
            "1\n",
            "1 1 1 1 1 5\n",
            "0\n"
          ]
        }
      ],
      "source": [
        "import math\n",
        "\n",
        "t = int(input())\n",
        "\n",
        "for _ in range(t):\n",
        "    x1, y1, r1, x2, y2, r2 = list(map(int, input().split()))\n",
        "\n",
        "    btw = math.sqrt((x1 - x2) ** 2 + (y1 - y2) ** 2)\n",
        "\n",
        "    if btw == 0 and r1 == r2: # 두 원의 크기가 같아 겹치는 경우\n",
        "        print(-1)\n",
        "    elif r1 + r2 == btw or abs(r2 - r1) == btw: # 내접 혹은 외접일 때\n",
        "        print(1)\n",
        "    elif (abs(r1 - r2) < btw < r1 + r2): # 두 점에서 만날 때\n",
        "        print(2)\n",
        "    else:\n",
        "        print(0)\n"
      ]
    }
  ]
}