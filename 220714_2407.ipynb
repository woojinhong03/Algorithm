{
  "nbformat": 4,
  "nbformat_minor": 0,
  "metadata": {
    "colab": {
      "name": "220714_2407.ipynb",
      "provenance": [],
      "collapsed_sections": [],
      "authorship_tag": "ABX9TyM9gCBZjTARmy4ZFYRmRreP",
      "include_colab_link": true
    },
    "kernelspec": {
      "name": "python3",
      "display_name": "Python 3"
    },
    "language_info": {
      "name": "python"
    }
  },
  "cells": [
    {
      "cell_type": "markdown",
      "metadata": {
        "id": "view-in-github",
        "colab_type": "text"
      },
      "source": [
        "<a href=\"https://colab.research.google.com/github/woojinhong03/Algorithm/blob/main/220714_2407.ipynb\" target=\"_parent\"><img src=\"https://colab.research.google.com/assets/colab-badge.svg\" alt=\"Open In Colab\"/></a>"
      ]
    },
    {
      "cell_type": "code",
      "source": [
        "n, m = map(int,input().split())\n",
        "\n",
        "p = 1\n",
        "f = 1\n",
        "for i in range(m):\n",
        "    p = p * (n - i)\n",
        "\n",
        "for i in range(1,m+1):\n",
        "    f = f * i\n",
        "\n",
        "print( p//f )"
      ],
      "metadata": {
        "colab": {
          "base_uri": "https://localhost:8080/"
        },
        "id": "zAah92rFbkzC",
        "outputId": "84e2675a-ad6a-4ca5-e2b0-179af86a4405"
      },
      "execution_count": null,
      "outputs": [
        {
          "output_type": "stream",
          "name": "stdout",
          "text": [
            "100 6\n",
            "1192052400\n"
          ]
        }
      ]
    }
  ]
}