{
  "nbformat": 4,
  "nbformat_minor": 0,
  "metadata": {
    "colab": {
      "provenance": [],
      "authorship_tag": "ABX9TyN/axentHx91Ka7zqoSbnHP",
      "include_colab_link": true
    },
    "kernelspec": {
      "name": "python3",
      "display_name": "Python 3"
    },
    "language_info": {
      "name": "python"
    }
  },
  "cells": [
    {
      "cell_type": "markdown",
      "metadata": {
        "id": "view-in-github",
        "colab_type": "text"
      },
      "source": [
        "<a href=\"https://colab.research.google.com/github/woojinhong03/Algorithm/blob/main/241206_1929.ipynb\" target=\"_parent\"><img src=\"https://colab.research.google.com/assets/colab-badge.svg\" alt=\"Open In Colab\"/></a>"
      ]
    },
    {
      "cell_type": "code",
      "execution_count": 13,
      "metadata": {
        "colab": {
          "base_uri": "https://localhost:8080/"
        },
        "id": "ITr3zFCGk-vH",
        "outputId": "8cd7c37d-19d0-4813-c542-3fd4812c8082"
      },
      "outputs": [
        {
          "output_type": "stream",
          "name": "stdout",
          "text": [
            "3 16\n",
            "5\n",
            "7\n",
            "11\n",
            "13\n"
          ]
        }
      ],
      "source": [
        "n,m = map(int,input().split())\n",
        "\n",
        "for i in range(n,m+1):  #n~m 사이의 수를 모두 검사\n",
        "    if i == 1:  #1이라면 그냥 넘어감\n",
        "        continue\n",
        "    for j in range(2,int(i**0.5)+1):  #2부터 i의 제곱근까지의 수로 나눠지는지\n",
        "        if i % j == 0:  #나눠진다면 소수가 아님\n",
        "            break\n",
        "    else:\n",
        "        print(i)  #안나눠진다면 소수"
      ]
    }
  ]
}