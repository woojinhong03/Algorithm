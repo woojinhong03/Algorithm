{
  "nbformat": 4,
  "nbformat_minor": 0,
  "metadata": {
    "colab": {
      "name": "220609_2839.ipynb",
      "provenance": [],
      "authorship_tag": "ABX9TyOw2Fn4vsAGe3JBzNnlU0tz",
      "include_colab_link": true
    },
    "kernelspec": {
      "name": "python3",
      "display_name": "Python 3"
    },
    "language_info": {
      "name": "python"
    }
  },
  "cells": [
    {
      "cell_type": "markdown",
      "metadata": {
        "id": "view-in-github",
        "colab_type": "text"
      },
      "source": [
        "<a href=\"https://colab.research.google.com/github/woojinhong03/Algorithm/blob/main/220609_2839.ipynb\" target=\"_parent\"><img src=\"https://colab.research.google.com/assets/colab-badge.svg\" alt=\"Open In Colab\"/></a>"
      ]
    },
    {
      "cell_type": "code",
      "execution_count": 21,
      "metadata": {
        "colab": {
          "base_uri": "https://localhost:8080/"
        },
        "id": "4s59NExs_ocl",
        "outputId": "53b285e7-5492-4c4a-8722-5fc1de2d01e7"
      },
      "outputs": [
        {
          "output_type": "stream",
          "name": "stdout",
          "text": [
            "857432972\n",
            "171486596\n"
          ]
        }
      ],
      "source": [
        "n = int(input())\n",
        "cnt = 0\n",
        "\n",
        "while(n > 0):\n",
        "\n",
        "  if n%5 == 0:\n",
        "    cnt = cnt+n/5\n",
        "    break\n",
        "  else:\n",
        "    n = n-3\n",
        "    cnt = cnt + 1\n",
        "\n",
        "  if n < 0:\n",
        "    cnt = -1\n",
        "\n",
        "print(int(cnt))"
      ]
    }
  ]
}