{
  "nbformat": 4,
  "nbformat_minor": 0,
  "metadata": {
    "colab": {
      "provenance": [],
      "authorship_tag": "ABX9TyMq4rZ+c/Ek40o/w7sXa4rX",
      "include_colab_link": true
    },
    "kernelspec": {
      "name": "python3",
      "display_name": "Python 3"
    },
    "language_info": {
      "name": "python"
    }
  },
  "cells": [
    {
      "cell_type": "markdown",
      "metadata": {
        "id": "view-in-github",
        "colab_type": "text"
      },
      "source": [
        "<a href=\"https://colab.research.google.com/github/woojinhong03/Algorithm/blob/main/251023_14584.ipynb\" target=\"_parent\"><img src=\"https://colab.research.google.com/assets/colab-badge.svg\" alt=\"Open In Colab\"/></a>"
      ]
    },
    {
      "cell_type": "code",
      "execution_count": null,
      "metadata": {
        "id": "dE6OWKARU6gh"
      },
      "outputs": [],
      "source": [
        "import sys\n",
        "input = sys.stdin.readline\n",
        "\n",
        "S = input().strip()\n",
        "N = int(input())\n",
        "\n",
        "# 딕셔너리 단어들을 set에 저장하면 탐색 속도가 빠릅니다.\n",
        "dictionary = {input().strip() for _ in range(N)}\n",
        "\n",
        "# 0부터 25까지 모든 key를 시도\n",
        "for key in range(26):\n",
        "\n",
        "    # 평문 후보(candidate) 만들기\n",
        "    plaintext_candidate = \"\"\n",
        "    for char in S:\n",
        "        # 위에서 설명한 '알파벳 뒤로 밀기' 로직\n",
        "        shifted_code = (ord(char) - ord('a') - key) % 26 + ord('a')\n",
        "        plaintext_candidate += chr(shifted_code)\n",
        "\n",
        "    # 평문 후보 안에 딕셔너리 단어가 있는지 확인\n",
        "    found = False\n",
        "    for word in dictionary:\n",
        "        # 파이썬의 'in' 연산자는 문자열 포함 여부를 빠르게 확인해줍니다.\n",
        "        if word in plaintext_candidate:\n",
        "            print(plaintext_candidate) # 정답 출력\n",
        "            found = True\n",
        "            break # 딕셔너리 단어 그만 찾아도 됨\n",
        "\n",
        "    if found:\n",
        "        break # 정답 찾았으니 key 그만 시도해도 됨"
      ]
    }
  ]
}