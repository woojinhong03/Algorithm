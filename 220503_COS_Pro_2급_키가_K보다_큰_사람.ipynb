{
  "nbformat": 4,
  "nbformat_minor": 0,
  "metadata": {
    "colab": {
      "name": "220503_COS_Pro_2급_키가 K보다 큰 사람.ipynb",
      "provenance": [],
      "collapsed_sections": [],
      "authorship_tag": "ABX9TyPZ3ciZ5XX8d8N0Ne03/SDU",
      "include_colab_link": true
    },
    "kernelspec": {
      "name": "python3",
      "display_name": "Python 3"
    },
    "language_info": {
      "name": "python"
    }
  },
  "cells": [
    {
      "cell_type": "markdown",
      "metadata": {
        "id": "view-in-github",
        "colab_type": "text"
      },
      "source": [
        "<a href=\"https://colab.research.google.com/github/woojinhong03/Algorithm/blob/main/220503_COS_Pro_2%EA%B8%89_%ED%82%A4%EA%B0%80_K%EB%B3%B4%EB%8B%A4_%ED%81%B0_%EC%82%AC%EB%9E%8C.ipynb\" target=\"_parent\"><img src=\"https://colab.research.google.com/assets/colab-badge.svg\" alt=\"Open In Colab\"/></a>"
      ]
    },
    {
      "cell_type": "code",
      "execution_count": 1,
      "metadata": {
        "id": "ZSC8iFO3C1h9"
      },
      "outputs": [],
      "source": [
        "def solution(height, k):\n",
        "    answer = 0\n",
        "    n = len(height)\n",
        "    for h in height:\n",
        "        if h > k:\n",
        "            answer += 1\n",
        "    return answer"
      ]
    }
  ]
}