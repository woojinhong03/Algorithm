{
  "nbformat": 4,
  "nbformat_minor": 0,
  "metadata": {
    "colab": {
      "provenance": [],
      "authorship_tag": "ABX9TyMepFFPmbJIoZvwd3p76u6o",
      "include_colab_link": true
    },
    "kernelspec": {
      "name": "python3",
      "display_name": "Python 3"
    },
    "language_info": {
      "name": "python"
    }
  },
  "cells": [
    {
      "cell_type": "markdown",
      "metadata": {
        "id": "view-in-github",
        "colab_type": "text"
      },
      "source": [
        "<a href=\"https://colab.research.google.com/github/woojinhong03/Algorithm/blob/main/250130_1182.ipynb\" target=\"_parent\"><img src=\"https://colab.research.google.com/assets/colab-badge.svg\" alt=\"Open In Colab\"/></a>"
      ]
    },
    {
      "cell_type": "code",
      "source": [
        "n, s = map(int, input().split())\n",
        "num = list(map(int, input().split()))\n",
        "\n",
        "cnt = 0\n",
        "dap = []\n",
        "\n",
        "def hap(inp):\n",
        "    global cnt\n",
        "    if sum(dap) == s and dap:\n",
        "        cnt += 1\n",
        "    for i in range(inp, n):\n",
        "        dap.append(num[i])\n",
        "        hap(i+1)\n",
        "        dap.pop()\n",
        "\n",
        "hap(0)\n",
        "print(cnt)"
      ],
      "metadata": {
        "colab": {
          "base_uri": "https://localhost:8080/"
        },
        "id": "cMieZUCrO-ED",
        "outputId": "8bf48988-49ae-4daa-d5f8-f384dd800deb"
      },
      "execution_count": 5,
      "outputs": [
        {
          "output_type": "stream",
          "name": "stdout",
          "text": [
            "5 0\n",
            "-7 -3 -2 5 8\n",
            "1\n"
          ]
        }
      ]
    }
  ]
}