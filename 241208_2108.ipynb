{
  "nbformat": 4,
  "nbformat_minor": 0,
  "metadata": {
    "colab": {
      "provenance": [],
      "authorship_tag": "ABX9TyOKijw8mQ2CqB3PgFJmOaCv",
      "include_colab_link": true
    },
    "kernelspec": {
      "name": "python3",
      "display_name": "Python 3"
    },
    "language_info": {
      "name": "python"
    }
  },
  "cells": [
    {
      "cell_type": "markdown",
      "metadata": {
        "id": "view-in-github",
        "colab_type": "text"
      },
      "source": [
        "<a href=\"https://colab.research.google.com/github/woojinhong03/Algorithm/blob/main/241208_2108.ipynb\" target=\"_parent\"><img src=\"https://colab.research.google.com/assets/colab-badge.svg\" alt=\"Open In Colab\"/></a>"
      ]
    },
    {
      "cell_type": "code",
      "source": [
        "# import sys\n",
        "# input = sys.stdin.readline\n",
        "\n",
        "n = int(input())\n",
        "a = [int(input()) for x in range(n)]   #리스트 컴프리헨션\n",
        "\n",
        "#산술평균\n",
        "print(round(sum(a)/len(a)))\n",
        "#중앙값\n",
        "a.sort()\n",
        "print(a[len(a)//2])\n",
        "\n",
        "#최빈값\n",
        "dic = dict()   #딕셔너리 생성\n",
        "for i in a:\n",
        "    if i in dic:   #딕셔너리에 Key, Value 추가 및 증가\n",
        "        dic[i] += 1\n",
        "    else:\n",
        "        dic[i] = 1\n",
        "\n",
        "maxval = []\n",
        "\n",
        "for i in dic:\n",
        "    if max(dic.values()) == dic[i]:   #max값 추출하여 maxval에 저장\n",
        "        maxval.append(i)\n",
        "\n",
        "if len(maxval) == 1:   #max값이 하나라면 출력, 두개 이상이면 두번째 출력.\n",
        "    print(maxval[0])\n",
        "else:\n",
        "    print(maxval[1])\n",
        "\n",
        "#범위\n",
        "print(max(a)-min(a))"
      ],
      "metadata": {
        "colab": {
          "base_uri": "https://localhost:8080/"
        },
        "id": "lmXhh-DJFdtb",
        "outputId": "2280dde3-abbf-4bc0-c57b-9be925c0f841"
      },
      "execution_count": 7,
      "outputs": [
        {
          "output_type": "stream",
          "name": "stdout",
          "text": [
            "5\n",
            "1\n",
            "3\n",
            "8\n",
            "-2\n",
            "2\n",
            "2\n",
            "2\n",
            "1\n",
            "10\n"
          ]
        }
      ]
    }
  ]
}