{
  "nbformat": 4,
  "nbformat_minor": 0,
  "metadata": {
    "colab": {
      "name": "220512_2920.ipynb",
      "provenance": [],
      "authorship_tag": "ABX9TyNoOF3gPFE0dLA/iv8UfGx+",
      "include_colab_link": true
    },
    "kernelspec": {
      "name": "python3",
      "display_name": "Python 3"
    },
    "language_info": {
      "name": "python"
    }
  },
  "cells": [
    {
      "cell_type": "markdown",
      "metadata": {
        "id": "view-in-github",
        "colab_type": "text"
      },
      "source": [
        "<a href=\"https://colab.research.google.com/github/woojinhong03/Algorithm/blob/main/220512_2920.ipynb\" target=\"_parent\"><img src=\"https://colab.research.google.com/assets/colab-badge.svg\" alt=\"Open In Colab\"/></a>"
      ]
    },
    {
      "cell_type": "code",
      "execution_count": 3,
      "metadata": {
        "colab": {
          "base_uri": "https://localhost:8080/"
        },
        "id": "fYfSu-CAhFFF",
        "outputId": "13b71a11-1655-4357-8aa9-d7360bf04bef"
      },
      "outputs": [
        {
          "output_type": "stream",
          "name": "stdout",
          "text": [
            "8 1 7 2 6 3 5 4\n",
            "mixed\n"
          ]
        }
      ],
      "source": [
        "l = list(map(int, input().split()))\n",
        "\n",
        "asd = [1,2,3,4,5,6,7,8]\n",
        "dsd = [8,7,6,5,4,3,2,1]\n",
        "\n",
        "if l == asd:\n",
        "  print(\"ascending\")\n",
        "elif l == dsd:\n",
        "  print(\"descending\")\n",
        "else :\n",
        "  print(\"mixed\")"
      ]
    }
  ]
}