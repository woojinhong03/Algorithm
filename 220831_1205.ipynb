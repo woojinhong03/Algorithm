{
  "nbformat": 4,
  "nbformat_minor": 0,
  "metadata": {
    "colab": {
      "name": "220831_1205.ipynb",
      "provenance": [],
      "authorship_tag": "ABX9TyPznGX4UEZVd9OafzNVP4Zg",
      "include_colab_link": true
    },
    "kernelspec": {
      "name": "python3",
      "display_name": "Python 3"
    },
    "language_info": {
      "name": "python"
    }
  },
  "cells": [
    {
      "cell_type": "markdown",
      "metadata": {
        "id": "view-in-github",
        "colab_type": "text"
      },
      "source": [
        "<a href=\"https://colab.research.google.com/github/woojinhong03/Algorithm/blob/main/220831_1205.ipynb\" target=\"_parent\"><img src=\"https://colab.research.google.com/assets/colab-badge.svg\" alt=\"Open In Colab\"/></a>"
      ]
    },
    {
      "cell_type": "code",
      "source": [
        "n, new, p = map(int, input().split())\n",
        "if n == 0:\n",
        "    print(1)\n",
        "else:\n",
        "    score = list(map(int, input().split()))\n",
        "    if n == p and score[-1] >= new:\n",
        "        print(-1)\n",
        "    else:\n",
        "        res = n + 1\n",
        "        for i in range(n):\n",
        "            if score[i] <= new:\n",
        "                res = i + 1\n",
        "                break\n",
        "        print(res)"
      ],
      "metadata": {
        "colab": {
          "base_uri": "https://localhost:8080/"
        },
        "id": "V2puY3_z0KHy",
        "outputId": "17b4d172-abe9-47a9-eb61-1258cc9f3012"
      },
      "execution_count": 2,
      "outputs": [
        {
          "output_type": "stream",
          "name": "stdout",
          "text": [
            "3 90 10\n",
            "100 90 80\n",
            "2\n"
          ]
        }
      ]
    }
  ]
}