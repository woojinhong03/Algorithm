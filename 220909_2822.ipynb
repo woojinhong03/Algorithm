{
  "nbformat": 4,
  "nbformat_minor": 0,
  "metadata": {
    "colab": {
      "provenance": [],
      "authorship_tag": "ABX9TyMn5qqEv3BbEAEL5RwJu/0m",
      "include_colab_link": true
    },
    "kernelspec": {
      "name": "python3",
      "display_name": "Python 3"
    },
    "language_info": {
      "name": "python"
    }
  },
  "cells": [
    {
      "cell_type": "markdown",
      "metadata": {
        "id": "view-in-github",
        "colab_type": "text"
      },
      "source": [
        "<a href=\"https://colab.research.google.com/github/woojinhong03/Algorithm/blob/main/220909_2822.ipynb\" target=\"_parent\"><img src=\"https://colab.research.google.com/assets/colab-badge.svg\" alt=\"Open In Colab\"/></a>"
      ]
    },
    {
      "cell_type": "code",
      "execution_count": 4,
      "metadata": {
        "colab": {
          "base_uri": "https://localhost:8080/"
        },
        "id": "Owi5BeQYWHzR",
        "outputId": "d0e05d7d-4b87-448b-d64c-f3b456999acc"
      },
      "outputs": [
        {
          "output_type": "stream",
          "name": "stdout",
          "text": [
            "20\n",
            "30\n",
            "50\n",
            "48\n",
            "33\n",
            "66\n",
            "0\n",
            "64\n",
            "261\n",
            "3 4 5 6 8\n"
          ]
        }
      ],
      "source": [
        "score = []\n",
        "for i in range(8):\n",
        "    score.append(int(input()))\n",
        "temp = []\n",
        "answer = 0\n",
        "for i in range(5):\n",
        "    answer += max(score)\n",
        "    temp.append(score.index(max(score)) + 1)\n",
        "    score[score.index(max(score))] = -1\n",
        "temp.sort()\n",
        "print(answer)\n",
        "print(*temp)"
      ]
    }
  ]
}