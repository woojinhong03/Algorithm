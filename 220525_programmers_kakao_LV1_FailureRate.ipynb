{
  "nbformat": 4,
  "nbformat_minor": 0,
  "metadata": {
    "colab": {
      "name": "220525_programmers_kakao_LV1_FailureRate.ipynb",
      "provenance": [],
      "collapsed_sections": [],
      "authorship_tag": "ABX9TyNYP90/DbpjwZR0DKRBLtUE",
      "include_colab_link": true
    },
    "kernelspec": {
      "name": "python3",
      "display_name": "Python 3"
    },
    "language_info": {
      "name": "python"
    }
  },
  "cells": [
    {
      "cell_type": "markdown",
      "metadata": {
        "id": "view-in-github",
        "colab_type": "text"
      },
      "source": [
        "<a href=\"https://colab.research.google.com/github/woojinhong03/Algorithm/blob/main/220525_programmers_kakao_LV1_FailureRate.ipynb\" target=\"_parent\"><img src=\"https://colab.research.google.com/assets/colab-badge.svg\" alt=\"Open In Colab\"/></a>"
      ]
    },
    {
      "cell_type": "code",
      "execution_count": 1,
      "metadata": {
        "id": "tO0Vi2A545rs"
      },
      "outputs": [],
      "source": [
        "def solution(N, stages):\n",
        "  answer = []\n",
        "  length = len(stages)\n",
        "  for i in range(1, N+1):\n",
        "    cnt = stages.count(i)\n",
        "    if length == 0:\n",
        "      a = 0\n",
        "    else:\n",
        "      a = cnt / length\n",
        "    answer.append((i, a))\n",
        "    length -= cnt\n",
        "  answer = sorted(answer, key=lambda x: x[1], reverse= True)\n",
        "  answer = [i[0] for i in answer]\n",
        "  return answer"
      ]
    }
  ]
}