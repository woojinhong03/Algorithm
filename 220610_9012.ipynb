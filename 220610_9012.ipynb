{
  "nbformat": 4,
  "nbformat_minor": 0,
  "metadata": {
    "colab": {
      "name": "220610_9012.ipynb",
      "provenance": [],
      "collapsed_sections": [],
      "authorship_tag": "ABX9TyNyLIJ2dKLpUjzVlmgQ/cWG",
      "include_colab_link": true
    },
    "kernelspec": {
      "name": "python3",
      "display_name": "Python 3"
    },
    "language_info": {
      "name": "python"
    }
  },
  "cells": [
    {
      "cell_type": "markdown",
      "metadata": {
        "id": "view-in-github",
        "colab_type": "text"
      },
      "source": [
        "<a href=\"https://colab.research.google.com/github/woojinhong03/Algorithm/blob/main/220610_9012.ipynb\" target=\"_parent\"><img src=\"https://colab.research.google.com/assets/colab-badge.svg\" alt=\"Open In Colab\"/></a>"
      ]
    },
    {
      "cell_type": "code",
      "execution_count": 10,
      "metadata": {
        "colab": {
          "base_uri": "https://localhost:8080/"
        },
        "id": "UDMd46TVR46-",
        "outputId": "87ae165e-146f-4bf9-bf5b-55b2a98cf14b"
      },
      "outputs": [
        {
          "output_type": "stream",
          "name": "stdout",
          "text": [
            "6\n",
            "(())())\n",
            "NO\n",
            "(((()())()\n",
            "NO\n",
            "(()())((()))\n",
            "YES\n",
            "((()()(()))(((())))()\n",
            "NO\n",
            "()()()()(()()())()\n",
            "YES\n",
            "(()(())()(\n",
            "NO\n"
          ]
        }
      ],
      "source": [
        "T = int(input())\n",
        "\n",
        "for i in range(T):\n",
        "  s = list(input())\n",
        "  sum = 0\n",
        "\n",
        "  for i in s:\n",
        "    if i == '(':\n",
        "      sum += 1\n",
        "    elif i == ')':\n",
        "      sum -= 1\n",
        "    if sum < 0:\n",
        "      print('NO')\n",
        "      break\n",
        "\n",
        "  if sum > 0:\n",
        "    print('NO')\n",
        "  elif sum == 0:\n",
        "    print('YES')"
      ]
    }
  ]
}