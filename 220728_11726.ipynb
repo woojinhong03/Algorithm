{
  "nbformat": 4,
  "nbformat_minor": 0,
  "metadata": {
    "colab": {
      "name": "220728_11726.ipynb",
      "provenance": [],
      "collapsed_sections": [],
      "authorship_tag": "ABX9TyOgYG3DCkyBzYtHhm01N7gC",
      "include_colab_link": true
    },
    "kernelspec": {
      "name": "python3",
      "display_name": "Python 3"
    },
    "language_info": {
      "name": "python"
    }
  },
  "cells": [
    {
      "cell_type": "markdown",
      "metadata": {
        "id": "view-in-github",
        "colab_type": "text"
      },
      "source": [
        "<a href=\"https://colab.research.google.com/github/woojinhong03/Algorithm/blob/main/220728_11726.ipynb\" target=\"_parent\"><img src=\"https://colab.research.google.com/assets/colab-badge.svg\" alt=\"Open In Colab\"/></a>"
      ]
    },
    {
      "cell_type": "code",
      "execution_count": 1,
      "metadata": {
        "colab": {
          "base_uri": "https://localhost:8080/"
        },
        "id": "yz0pig7vcDq3",
        "outputId": "80ec5775-dfef-4323-c3ad-07f5c18909ad"
      },
      "outputs": [
        {
          "output_type": "stream",
          "name": "stdout",
          "text": [
            "48\n",
            "739\n"
          ]
        }
      ],
      "source": [
        "n = int(input())\n",
        "\n",
        "dp = [0 for _ in range(n+1)]\n",
        "\n",
        "if n <= 3 : print(n)\n",
        "else : \n",
        "\tdp[1] = 1\n",
        "\tdp[2] = 2\n",
        "\tfor i in range(3, n+1):\n",
        "\t\tdp[i] = dp[i-1] + dp[i-2]\n",
        "\n",
        "\tprint(dp[i]%10007)"
      ]
    }
  ]
}