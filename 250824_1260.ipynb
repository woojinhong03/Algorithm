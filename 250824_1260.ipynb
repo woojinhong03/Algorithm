{
  "nbformat": 4,
  "nbformat_minor": 0,
  "metadata": {
    "colab": {
      "provenance": [],
      "authorship_tag": "ABX9TyPS1rGYgbrgYF/EEddlnpPX",
      "include_colab_link": true
    },
    "kernelspec": {
      "name": "python3",
      "display_name": "Python 3"
    },
    "language_info": {
      "name": "python"
    }
  },
  "cells": [
    {
      "cell_type": "markdown",
      "metadata": {
        "id": "view-in-github",
        "colab_type": "text"
      },
      "source": [
        "<a href=\"https://colab.research.google.com/github/woojinhong03/Algorithm/blob/main/250824_1260.ipynb\" target=\"_parent\"><img src=\"https://colab.research.google.com/assets/colab-badge.svg\" alt=\"Open In Colab\"/></a>"
      ]
    },
    {
      "cell_type": "code",
      "execution_count": 7,
      "metadata": {
        "colab": {
          "base_uri": "https://localhost:8080/"
        },
        "id": "LxSYOD3MB9zP",
        "outputId": "5afcb714-cf19-48f5-a499-caaff35172ea"
      },
      "outputs": [
        {
          "output_type": "stream",
          "name": "stdout",
          "text": [
            "4 5 1\n",
            "1 2\n",
            "1 3\n",
            "1 4\n",
            "2 4\n",
            "3 4\n",
            "1 2 4 3  \n",
            "1 2 3 4 "
          ]
        }
      ],
      "source": [
        "# import sys\n",
        "# input = sys.stdin.readline\n",
        "\n",
        "def dfs(idx):\n",
        "    global visited\n",
        "    visited[idx] = True # 방문도장\n",
        "    print(idx, end = ' ')   # 한 줄로 출력\n",
        "    for i in range(1, n + 1):\n",
        "        if not visited[i] and graph[idx][i]:    # 방문하지 않았고, 그래프에 존재한다면 타고 들어가기\n",
        "            dfs(i)\n",
        "\n",
        "def bfs():\n",
        "    global q, visited\n",
        "    while q:\n",
        "        cur = q.pop(0)  # 현재 위치\n",
        "        print(cur, end = ' ')\n",
        "        for i in range(1, n + 1):\n",
        "            if not visited[i] and graph[cur][i]:    # 방문하지 않았고, 그래프에 존재한다면\n",
        "                visited[i] = True   # 방문도장\n",
        "                q.append(i) # 큐에 추가\n",
        "\n",
        "\n",
        "n, m, v = map(int,input().split())\n",
        "graph = [[False] * (n + 1) for _ in range(n + 1)]   # 그래프 생성\n",
        "visited = [False] * (n + 1) # 이미 방문한 배열 생성\n",
        "\n",
        "for _ in range(m):\n",
        "    a, b = map(int,input().split())\n",
        "    graph[a][b] = True  # 그래프에 값 삽입\n",
        "    graph[b][a] = True\n",
        "\n",
        "dfs(v)\n",
        "print()\n",
        "\n",
        "visited = [False] * (n + 1) # 방문 초기화\n",
        "q = [v] # 큐에 값 추가, 방문 추가\n",
        "visited[v] = True\n",
        "bfs()"
      ]
    }
  ]
}