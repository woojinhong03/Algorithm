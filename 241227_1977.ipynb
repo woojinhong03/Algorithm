{
  "nbformat": 4,
  "nbformat_minor": 0,
  "metadata": {
    "colab": {
      "provenance": [],
      "authorship_tag": "ABX9TyPnUTeM31VeoMDLUeMveSt3",
      "include_colab_link": true
    },
    "kernelspec": {
      "name": "python3",
      "display_name": "Python 3"
    },
    "language_info": {
      "name": "python"
    }
  },
  "cells": [
    {
      "cell_type": "markdown",
      "metadata": {
        "id": "view-in-github",
        "colab_type": "text"
      },
      "source": [
        "<a href=\"https://colab.research.google.com/github/woojinhong03/Algorithm/blob/main/241227_1977.ipynb\" target=\"_parent\"><img src=\"https://colab.research.google.com/assets/colab-badge.svg\" alt=\"Open In Colab\"/></a>"
      ]
    },
    {
      "cell_type": "code",
      "execution_count": 7,
      "metadata": {
        "colab": {
          "base_uri": "https://localhost:8080/"
        },
        "id": "PuEV5oFGAaog",
        "outputId": "e4e1b9f5-4fd2-4f18-d9b0-d7487872e17d"
      },
      "outputs": [
        {
          "output_type": "stream",
          "name": "stdout",
          "text": [
            "60\n",
            "100\n",
            "245\n",
            "64\n"
          ]
        }
      ],
      "source": [
        "jegop = []\n",
        "m = int(input())\n",
        "n = int(input())\n",
        "i = 1\n",
        "\n",
        "while(i <= n):\n",
        "    if m <= i*i <= n:\n",
        "        jegop.append(i*i)\n",
        "    i+=1\n",
        "\n",
        "if jegop:\n",
        "    print(sum(jegop))\n",
        "    print(jegop[0])\n",
        "else:\n",
        "    print(-1)"
      ]
    }
  ]
}