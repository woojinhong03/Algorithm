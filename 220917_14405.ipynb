{
  "nbformat": 4,
  "nbformat_minor": 0,
  "metadata": {
    "colab": {
      "provenance": [],
      "collapsed_sections": []
    },
    "kernelspec": {
      "name": "python3",
      "display_name": "Python 3"
    },
    "language_info": {
      "name": "python"
    }
  },
  "cells": [
    {
      "cell_type": "code",
      "execution_count": 5,
      "metadata": {
        "colab": {
          "base_uri": "https://localhost:8080/"
        },
        "id": "VYvFPJMlccPD",
        "outputId": "246a635e-2475-4252-87f4-c6c0952004cc"
      },
      "outputs": [
        {
          "output_type": "stream",
          "name": "stdout",
          "text": [
            "chupikachupipichu\n",
            "YES\n"
          ]
        }
      ],
      "source": [
        "s = input()\n",
        "\n",
        "s = s.replace(\"pi\", \" \")\n",
        "s = s.replace(\"ka\", \" \")\n",
        "s = s.replace(\"chu\", \" \")\n",
        "\n",
        "if len(s.strip()) == 0:\n",
        "    print(\"YES\")\n",
        "else:\n",
        "    print(\"NO\")"
      ]
    }
  ]
}