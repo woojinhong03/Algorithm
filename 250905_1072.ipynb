{
  "nbformat": 4,
  "nbformat_minor": 0,
  "metadata": {
    "colab": {
      "provenance": [],
      "authorship_tag": "ABX9TyMMGEanCCjgdnS9qHwrWw4J",
      "include_colab_link": true
    },
    "kernelspec": {
      "name": "python3",
      "display_name": "Python 3"
    },
    "language_info": {
      "name": "python"
    }
  },
  "cells": [
    {
      "cell_type": "markdown",
      "metadata": {
        "id": "view-in-github",
        "colab_type": "text"
      },
      "source": [
        "<a href=\"https://colab.research.google.com/github/woojinhong03/Algorithm/blob/main/250905_1072.ipynb\" target=\"_parent\"><img src=\"https://colab.research.google.com/assets/colab-badge.svg\" alt=\"Open In Colab\"/></a>"
      ]
    },
    {
      "cell_type": "code",
      "execution_count": 3,
      "metadata": {
        "colab": {
          "base_uri": "https://localhost:8080/"
        },
        "id": "0kxLutusCfMB",
        "outputId": "846f8491-1eed-4494-c6c7-7b2589b3633d"
      },
      "outputs": [
        {
          "output_type": "stream",
          "name": "stdout",
          "text": [
            "100 80\n",
            "6\n"
          ]
        }
      ],
      "source": [
        "x, y = map(int,input().split())\n",
        "z = y * 100 // x\n",
        "\n",
        "left, right = 1, 1000000000\n",
        "dap = -1\n",
        "\n",
        "while left <= right:\n",
        "    mid = (left + right) // 2\n",
        "    newZ = (y + mid) * 100 // (x + mid)\n",
        "    if newZ > z:\n",
        "        dap = mid\n",
        "        right = mid - 1\n",
        "    else:\n",
        "        left = mid + 1\n",
        "\n",
        "print(dap)"
      ]
    }
  ]
}