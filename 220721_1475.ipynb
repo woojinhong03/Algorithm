{
  "nbformat": 4,
  "nbformat_minor": 0,
  "metadata": {
    "colab": {
      "name": "220721_1475.ipynb",
      "provenance": [],
      "collapsed_sections": []
    },
    "kernelspec": {
      "name": "python3",
      "display_name": "Python 3"
    },
    "language_info": {
      "name": "python"
    }
  },
  "cells": [
    {
      "cell_type": "code",
      "execution_count": 1,
      "metadata": {
        "colab": {
          "base_uri": "https://localhost:8080/"
        },
        "id": "pivK4LPxMYXx",
        "outputId": "838aeeac-1e9d-4a4c-b29e-e7c4c1633e63"
      },
      "outputs": [
        {
          "output_type": "stream",
          "name": "stdout",
          "text": [
            "12635\n",
            "1\n"
          ]
        }
      ],
      "source": [
        "n = input()\n",
        "a = {'0':0, '1':0, '2':0, '3':0, '4':0, '5':0, '6':0, '7':0, '8':0}\n",
        "for i in range(len(n)):\n",
        "    if n[i] in ['6', '9']:\n",
        "        a['6'] += 1\n",
        "    else:\n",
        "        a[n[i]] += 1\n",
        "if a['6'] % 2 == 0:\n",
        "    a['6'] = a['6'] // 2\n",
        "else:\n",
        "    a['6'] = a['6'] // 2 + 1\n",
        "print(max(a.values()))"
      ]
    }
  ]
}