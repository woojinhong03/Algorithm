{
  "nbformat": 4,
  "nbformat_minor": 0,
  "metadata": {
    "colab": {
      "name": "211109.ipynb",
      "provenance": [],
      "collapsed_sections": [],
      "authorship_tag": "ABX9TyNBI08Fw5EWR1y7aEj+jFwq",
      "include_colab_link": true
    },
    "kernelspec": {
      "name": "python3",
      "display_name": "Python 3"
    },
    "language_info": {
      "name": "python"
    }
  },
  "cells": [
    {
      "cell_type": "markdown",
      "metadata": {
        "id": "view-in-github",
        "colab_type": "text"
      },
      "source": [
        "<a href=\"https://colab.research.google.com/github/woojinhong03/Baekjoon/blob/main/211109.ipynb\" target=\"_parent\"><img src=\"https://colab.research.google.com/assets/colab-badge.svg\" alt=\"Open In Colab\"/></a>"
      ]
    },
    {
      "cell_type": "code",
      "metadata": {
        "colab": {
          "base_uri": "https://localhost:8080/"
        },
        "id": "sL1JTPqNDTWX",
        "outputId": "6433e3ad-7fad-4c77-8f13-781ed8fb2a5e"
      },
      "source": [
        "num = int(input())\n",
        "hansu = 0\n",
        "\n",
        "for n in range(1, num+1) :\n",
        "    if n <= 99 : # 1부터 99까지는 모두 한수\n",
        "        hansu += 1 \n",
        "    \n",
        "    else :     \n",
        "        nums = list(map(int, str(n))) # 숫자를 자릿수대로 분리 \n",
        "        if nums[0] - nums[1] == nums[1] - nums[2] : #등차수열 확인\n",
        "            hansu+=1\n",
        "print(hansu)"
      ],
      "execution_count": null,
      "outputs": [
        {
          "output_type": "stream",
          "name": "stdout",
          "text": [
            "754\n",
            "131\n"
          ]
        }
      ]
    }
  ]
}