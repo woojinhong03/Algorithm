{
  "nbformat": 4,
  "nbformat_minor": 0,
  "metadata": {
    "colab": {
      "provenance": [],
      "authorship_tag": "ABX9TyPpgCaF4WAw8M3TJz3xuh/C",
      "include_colab_link": true
    },
    "kernelspec": {
      "name": "python3",
      "display_name": "Python 3"
    },
    "language_info": {
      "name": "python"
    }
  },
  "cells": [
    {
      "cell_type": "markdown",
      "metadata": {
        "id": "view-in-github",
        "colab_type": "text"
      },
      "source": [
        "<a href=\"https://colab.research.google.com/github/woojinhong03/Algorithm/blob/main/250301_10974.ipynb\" target=\"_parent\"><img src=\"https://colab.research.google.com/assets/colab-badge.svg\" alt=\"Open In Colab\"/></a>"
      ]
    },
    {
      "cell_type": "code",
      "execution_count": 4,
      "metadata": {
        "colab": {
          "base_uri": "https://localhost:8080/"
        },
        "id": "wSC1n9FOHukr",
        "outputId": "505d965e-e75d-4532-e107-39cd4ff6ae72"
      },
      "outputs": [
        {
          "output_type": "stream",
          "name": "stdout",
          "text": [
            "4\n",
            "1 2 3 4\n",
            "1 2 4 3\n",
            "1 3 2 4\n",
            "1 3 4 2\n",
            "1 4 2 3\n",
            "1 4 3 2\n",
            "2 1 3 4\n",
            "2 1 4 3\n",
            "2 3 1 4\n",
            "2 3 4 1\n",
            "2 4 1 3\n",
            "2 4 3 1\n",
            "3 1 2 4\n",
            "3 1 4 2\n",
            "3 2 1 4\n",
            "3 2 4 1\n",
            "3 4 1 2\n",
            "3 4 2 1\n",
            "4 1 2 3\n",
            "4 1 3 2\n",
            "4 2 1 3\n",
            "4 2 3 1\n",
            "4 3 1 2\n",
            "4 3 2 1\n"
          ]
        }
      ],
      "source": [
        "n = int(input())\n",
        "li = []\n",
        "\n",
        "def dfs():\n",
        "    if len(li) == n:\n",
        "        print(*li)\n",
        "        return\n",
        "\n",
        "    for i in range(1, n + 1):\n",
        "        if i not in li:\n",
        "            li.append(i)\n",
        "            dfs()\n",
        "            li.pop()\n",
        "\n",
        "dfs()"
      ]
    }
  ]
}