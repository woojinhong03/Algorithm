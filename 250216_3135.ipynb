{
  "nbformat": 4,
  "nbformat_minor": 0,
  "metadata": {
    "colab": {
      "provenance": [],
      "authorship_tag": "ABX9TyNHKM5x5JBd9/4F5XVCOz0V",
      "include_colab_link": true
    },
    "kernelspec": {
      "name": "python3",
      "display_name": "Python 3"
    },
    "language_info": {
      "name": "python"
    }
  },
  "cells": [
    {
      "cell_type": "markdown",
      "metadata": {
        "id": "view-in-github",
        "colab_type": "text"
      },
      "source": [
        "<a href=\"https://colab.research.google.com/github/woojinhong03/Algorithm/blob/main/250216_3135.ipynb\" target=\"_parent\"><img src=\"https://colab.research.google.com/assets/colab-badge.svg\" alt=\"Open In Colab\"/></a>"
      ]
    },
    {
      "cell_type": "code",
      "execution_count": null,
      "metadata": {
        "colab": {
          "base_uri": "https://localhost:8080/"
        },
        "id": "gUlBAveGIEe-",
        "outputId": "e29e324c-5acd-4236-8d7a-8b527780400b"
      },
      "outputs": [
        {
          "output_type": "stream",
          "name": "stdout",
          "text": [
            "88 17\n",
            "3\n",
            "18\n",
            "1\n",
            "42\n",
            "2\n"
          ]
        }
      ],
      "source": [
        "a, b = map(int,input().split())\n",
        "bookmark = [int(input()) for _ in range(int(input()))]\n",
        "\n",
        "cnt = abs(a - b)\n",
        "\n",
        "for i in bookmark:\n",
        "    su = abs(i - b) + 1\n",
        "    cnt = min(cnt, su)\n",
        "\n",
        "print(cnt)"
      ]
    }
  ]
}