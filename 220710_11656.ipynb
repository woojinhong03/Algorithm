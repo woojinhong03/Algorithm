{
  "nbformat": 4,
  "nbformat_minor": 0,
  "metadata": {
    "colab": {
      "name": "220710_11656.ipynb",
      "provenance": [],
      "authorship_tag": "ABX9TyPMpl7xNFRrS8uIgppF/2Rh",
      "include_colab_link": true
    },
    "kernelspec": {
      "name": "python3",
      "display_name": "Python 3"
    },
    "language_info": {
      "name": "python"
    }
  },
  "cells": [
    {
      "cell_type": "markdown",
      "metadata": {
        "id": "view-in-github",
        "colab_type": "text"
      },
      "source": [
        "<a href=\"https://colab.research.google.com/github/woojinhong03/Algorithm/blob/main/220710_11656.ipynb\" target=\"_parent\"><img src=\"https://colab.research.google.com/assets/colab-badge.svg\" alt=\"Open In Colab\"/></a>"
      ]
    },
    {
      "cell_type": "code",
      "execution_count": 1,
      "metadata": {
        "colab": {
          "base_uri": "https://localhost:8080/"
        },
        "id": "6pphpe70X_Uu",
        "outputId": "aee7c1bf-8799-4b84-d17f-0e7e6c8a4426"
      },
      "outputs": [
        {
          "output_type": "stream",
          "name": "stdout",
          "text": [
            "baekjoon\n",
            "aekjoon\n",
            "baekjoon\n",
            "ekjoon\n",
            "joon\n",
            "kjoon\n",
            "n\n",
            "on\n",
            "oon\n"
          ]
        }
      ],
      "source": [
        "s = str(input())\n",
        "s_list = []\n",
        "\n",
        "for _ in s:\n",
        "    s_list.append(s)\n",
        "    s = s[1:]\n",
        "\n",
        "for i in sorted(s_list):\n",
        "    print(i)"
      ]
    }
  ]
}