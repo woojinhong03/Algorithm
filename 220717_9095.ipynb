{
  "nbformat": 4,
  "nbformat_minor": 0,
  "metadata": {
    "colab": {
      "name": "220717_9095.ipynb",
      "provenance": [],
      "collapsed_sections": [],
      "authorship_tag": "ABX9TyNI4RP1mI07d3upNVMsuN6G",
      "include_colab_link": true
    },
    "kernelspec": {
      "name": "python3",
      "display_name": "Python 3"
    },
    "language_info": {
      "name": "python"
    }
  },
  "cells": [
    {
      "cell_type": "markdown",
      "metadata": {
        "id": "view-in-github",
        "colab_type": "text"
      },
      "source": [
        "<a href=\"https://colab.research.google.com/github/woojinhong03/Algorithm/blob/main/220717_9095.ipynb\" target=\"_parent\"><img src=\"https://colab.research.google.com/assets/colab-badge.svg\" alt=\"Open In Colab\"/></a>"
      ]
    },
    {
      "cell_type": "code",
      "execution_count": 2,
      "metadata": {
        "colab": {
          "base_uri": "https://localhost:8080/"
        },
        "id": "7TbVLit-DcHD",
        "outputId": "86550238-c1a7-4978-e3dd-3abd5016639f"
      },
      "outputs": [
        {
          "output_type": "stream",
          "name": "stdout",
          "text": [
            "3\n",
            "4\n",
            "7\n",
            "7\n",
            "44\n",
            "10\n",
            "274\n"
          ]
        }
      ],
      "source": [
        "n = int(input())\n",
        "\n",
        "def sums(n):\n",
        "    if n == 1:\n",
        "        return(1)\n",
        "    elif n == 2:\n",
        "        return(2)\n",
        "    elif n == 3:\n",
        "        return(4)\n",
        "    else:\n",
        "        return sums(n-1) + sums(n-2) + sums(n-3)\n",
        "        \n",
        "for i in range(n):\n",
        "    a = int(input())\n",
        "    print(sums(a))"
      ]
    }
  ]
}