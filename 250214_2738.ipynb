{
  "nbformat": 4,
  "nbformat_minor": 0,
  "metadata": {
    "colab": {
      "provenance": []
    },
    "kernelspec": {
      "name": "python3",
      "display_name": "Python 3"
    },
    "language_info": {
      "name": "python"
    }
  },
  "cells": [
    {
      "cell_type": "code",
      "execution_count": 1,
      "metadata": {
        "colab": {
          "base_uri": "https://localhost:8080/"
        },
        "id": "WVsgo3X4J9TI",
        "outputId": "8287a53f-154a-4051-b6c6-213ca939c48a"
      },
      "outputs": [
        {
          "output_type": "stream",
          "name": "stdout",
          "text": [
            "3 3\n",
            "1 1 1\n",
            "2 2 2\n",
            "0 1 0\n",
            "3 3 3\n",
            "4 4 4\n",
            "5 5 100\n",
            "4 4 4 \n",
            "6 6 6 \n",
            "5 6 100 \n"
          ]
        }
      ],
      "source": [
        "A, B = [], []\n",
        "\n",
        "N, M = map(int, input().split())\n",
        "\n",
        "for row in range(N):\n",
        "    row = list(map(int, input().split()))\n",
        "    A.append(row)\n",
        "\n",
        "for row in range(N):\n",
        "    row = list(map(int, input().split()))\n",
        "    B.append(row)\n",
        "\n",
        "for row in range(N):\n",
        "    for col in range(M):\n",
        "        print(A[row][col] + B[row][col], end=' ')\n",
        "    print()"
      ]
    }
  ]
}