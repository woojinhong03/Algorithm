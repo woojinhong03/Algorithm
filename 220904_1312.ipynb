{
  "nbformat": 4,
  "nbformat_minor": 0,
  "metadata": {
    "colab": {
      "provenance": [],
      "collapsed_sections": [],
      "authorship_tag": "ABX9TyPP8KRMGW5xt0InjVK69g7p",
      "include_colab_link": true
    },
    "kernelspec": {
      "name": "python3",
      "display_name": "Python 3"
    },
    "language_info": {
      "name": "python"
    }
  },
  "cells": [
    {
      "cell_type": "markdown",
      "metadata": {
        "id": "view-in-github",
        "colab_type": "text"
      },
      "source": [
        "<a href=\"https://colab.research.google.com/github/woojinhong03/Algorithm/blob/main/220904_1312.ipynb\" target=\"_parent\"><img src=\"https://colab.research.google.com/assets/colab-badge.svg\" alt=\"Open In Colab\"/></a>"
      ]
    },
    {
      "cell_type": "code",
      "execution_count": 8,
      "metadata": {
        "colab": {
          "base_uri": "https://localhost:8080/"
        },
        "id": "_HKtGyv65qTU",
        "outputId": "f59d2c8f-1fb6-44aa-8242-fc82b8f79152"
      },
      "outputs": [
        {
          "output_type": "stream",
          "name": "stdout",
          "text": [
            "25 7 5\n",
            "2\n"
          ]
        }
      ],
      "source": [
        "A,B,N = map(int, input().split())\n",
        " \n",
        "for i in range(N) :\n",
        "    A = (A%B)*10\n",
        "    result = A//B\n",
        " \n",
        "print(result)"
      ]
    }
  ]
}