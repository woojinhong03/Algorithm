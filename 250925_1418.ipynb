{
  "nbformat": 4,
  "nbformat_minor": 0,
  "metadata": {
    "colab": {
      "provenance": [],
      "authorship_tag": "ABX9TyPRrN4MJYxibhdQ3gZdwTtr",
      "include_colab_link": true
    },
    "kernelspec": {
      "name": "python3",
      "display_name": "Python 3"
    },
    "language_info": {
      "name": "python"
    }
  },
  "cells": [
    {
      "cell_type": "markdown",
      "metadata": {
        "id": "view-in-github",
        "colab_type": "text"
      },
      "source": [
        "<a href=\"https://colab.research.google.com/github/woojinhong03/Algorithm/blob/main/250925_1418.ipynb\" target=\"_parent\"><img src=\"https://colab.research.google.com/assets/colab-badge.svg\" alt=\"Open In Colab\"/></a>"
      ]
    },
    {
      "cell_type": "code",
      "execution_count": null,
      "metadata": {
        "id": "g6LLjpdxYBqW"
      },
      "outputs": [],
      "source": [
        "import sys\n",
        "\n",
        "N = int(sys.stdin.readline())\n",
        "K = int(sys.stdin.readline())\n",
        "\n",
        "max_prime_factor = [0] * (N + 1)\n",
        "\n",
        "for i in range(2, N + 1):\n",
        "    if max_prime_factor[i] == 0:\n",
        "        for j in range(i, N + 1, i):\n",
        "            max_prime_factor[j] = i\n",
        "\n",
        "count = 0\n",
        "for i in range(1, N + 1):\n",
        "    if max_prime_factor[i] <= K:\n",
        "        count += 1\n",
        "\n",
        "\n",
        "print(count)\n"
      ]
    }
  ]
}