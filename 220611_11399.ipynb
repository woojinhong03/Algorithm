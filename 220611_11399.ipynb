{
  "nbformat": 4,
  "nbformat_minor": 0,
  "metadata": {
    "colab": {
      "name": "220611_11399.ipynb",
      "provenance": [],
      "authorship_tag": "ABX9TyOjukMcU5PNQnoByutNy/Tr",
      "include_colab_link": true
    },
    "kernelspec": {
      "name": "python3",
      "display_name": "Python 3"
    },
    "language_info": {
      "name": "python"
    }
  },
  "cells": [
    {
      "cell_type": "markdown",
      "metadata": {
        "id": "view-in-github",
        "colab_type": "text"
      },
      "source": [
        "<a href=\"https://colab.research.google.com/github/woojinhong03/Algorithm/blob/main/220611_11399.ipynb\" target=\"_parent\"><img src=\"https://colab.research.google.com/assets/colab-badge.svg\" alt=\"Open In Colab\"/></a>"
      ]
    },
    {
      "cell_type": "code",
      "execution_count": 18,
      "metadata": {
        "colab": {
          "base_uri": "https://localhost:8080/"
        },
        "id": "LdujdmktiMQc",
        "outputId": "69e1a4f4-8d2f-4bfa-fe4d-be58924a1eba"
      },
      "outputs": [
        {
          "output_type": "stream",
          "name": "stdout",
          "text": [
            "5\n",
            "3 1 4 3 2\n",
            "32\n"
          ]
        }
      ],
      "source": [
        "n = int(input())\n",
        "man = list(map(int, input().split()))\n",
        "sum = 0\n",
        "\n",
        "man.sort()\n",
        "\n",
        "for i in range(n):\n",
        "  for j in range(i + 1):\n",
        "    sum += man[j]\n",
        "print(sum)"
      ]
    }
  ]
}