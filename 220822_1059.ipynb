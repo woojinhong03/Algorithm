{
  "nbformat": 4,
  "nbformat_minor": 0,
  "metadata": {
    "colab": {
      "name": "220822_1059.ipynb",
      "provenance": [],
      "collapsed_sections": [],
      "authorship_tag": "ABX9TyMaRddzPxPc3DTiHoznFetk",
      "include_colab_link": true
    },
    "kernelspec": {
      "name": "python3",
      "display_name": "Python 3"
    },
    "language_info": {
      "name": "python"
    }
  },
  "cells": [
    {
      "cell_type": "markdown",
      "metadata": {
        "id": "view-in-github",
        "colab_type": "text"
      },
      "source": [
        "<a href=\"https://colab.research.google.com/github/woojinhong03/Algorithm/blob/main/220822_1059.ipynb\" target=\"_parent\"><img src=\"https://colab.research.google.com/assets/colab-badge.svg\" alt=\"Open In Colab\"/></a>"
      ]
    },
    {
      "cell_type": "code",
      "execution_count": 2,
      "metadata": {
        "colab": {
          "base_uri": "https://localhost:8080/"
        },
        "id": "LMBDpWcu-vIq",
        "outputId": "6af0bb9f-61d8-4a85-b80c-d054a8cb14d0"
      },
      "outputs": [
        {
          "output_type": "stream",
          "name": "stdout",
          "text": [
            "5\n",
            "4 8 13 24 30\n",
            "10\n",
            "5\n"
          ]
        }
      ],
      "source": [
        "L = int(input())\n",
        "S = list(map(int,input().split()))\n",
        "n = int(input())\n",
        "\n",
        "S.sort()\n",
        "\n",
        "if n in S:\n",
        "    print(0)\n",
        "else:\n",
        "    min = 0\n",
        "    max = 0\n",
        "    for num in S:           \n",
        "        if num < n:     \n",
        "            min = num\n",
        "        elif num > n and max == 0:\n",
        "            max = num\n",
        "    max -= 1                 \n",
        "    min += 1\n",
        "    print((n-min)*(max-n+1) + (max-n))"
      ]
    }
  ]
}