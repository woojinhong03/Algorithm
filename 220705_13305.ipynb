{
  "nbformat": 4,
  "nbformat_minor": 0,
  "metadata": {
    "colab": {
      "name": "220705_13305.ipynb",
      "provenance": [],
      "authorship_tag": "ABX9TyPxDNUqZymuQEQF0eWlPX4b",
      "include_colab_link": true
    },
    "kernelspec": {
      "name": "python3",
      "display_name": "Python 3"
    },
    "language_info": {
      "name": "python"
    }
  },
  "cells": [
    {
      "cell_type": "markdown",
      "metadata": {
        "id": "view-in-github",
        "colab_type": "text"
      },
      "source": [
        "<a href=\"https://colab.research.google.com/github/woojinhong03/Algorithm/blob/main/220705_13305.ipynb\" target=\"_parent\"><img src=\"https://colab.research.google.com/assets/colab-badge.svg\" alt=\"Open In Colab\"/></a>"
      ]
    },
    {
      "cell_type": "code",
      "execution_count": 1,
      "metadata": {
        "colab": {
          "base_uri": "https://localhost:8080/"
        },
        "id": "qRxMIIL_m2cn",
        "outputId": "82db9cdc-68dc-4be3-ce5b-16ce6aaa0a3d"
      },
      "outputs": [
        {
          "output_type": "stream",
          "name": "stdout",
          "text": [
            "4\n",
            "2 3 1\n",
            "5 2 4 1\n",
            "18\n"
          ]
        }
      ],
      "source": [
        "n = int(input())\n",
        "roads = list(map(int, input().split()))\n",
        "costs = list(map(int, input().split()))\n",
        "\n",
        "res = roads[0] * costs[0]\n",
        "m = costs[0]\n",
        "dist = 0\n",
        "for i in range(1, n-1):\n",
        "    if costs[i] < m:\n",
        "        res += m*dist\n",
        "        dist = roads[i]\n",
        "        m = costs[i]\n",
        "    else:\n",
        "        dist += roads[i]\n",
        "        \n",
        "    if i == n-2:\n",
        "        res += m*dist\n",
        "print(res)"
      ]
    }
  ]
}