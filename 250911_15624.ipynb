{
  "nbformat": 4,
  "nbformat_minor": 0,
  "metadata": {
    "colab": {
      "provenance": [],
      "authorship_tag": "ABX9TyMa0KIvOObzjGnz5cwJELe4",
      "include_colab_link": true
    },
    "kernelspec": {
      "name": "python3",
      "display_name": "Python 3"
    },
    "language_info": {
      "name": "python"
    }
  },
  "cells": [
    {
      "cell_type": "markdown",
      "metadata": {
        "id": "view-in-github",
        "colab_type": "text"
      },
      "source": [
        "<a href=\"https://colab.research.google.com/github/woojinhong03/Algorithm/blob/main/250911_15624.ipynb\" target=\"_parent\"><img src=\"https://colab.research.google.com/assets/colab-badge.svg\" alt=\"Open In Colab\"/></a>"
      ]
    },
    {
      "cell_type": "code",
      "execution_count": 3,
      "metadata": {
        "id": "opAP2jchJ6c2",
        "colab": {
          "base_uri": "https://localhost:8080/"
        },
        "outputId": "bade7384-8afe-4885-d102-eee8c2148036"
      },
      "outputs": [
        {
          "output_type": "stream",
          "name": "stdout",
          "text": [
            "10\n",
            "55\n"
          ]
        }
      ],
      "source": [
        "import sys\n",
        "n = int(sys.stdin.readline())\n",
        "\n",
        "if n == 0:\n",
        "    print(0)\n",
        "elif n == 1:\n",
        "    print(1)\n",
        "else:\n",
        "    a, b = 0, 1\n",
        "\n",
        "    for _ in range(2, n + 1):\n",
        "        a, b = b, (a + b) % 1000000007\n",
        "\n",
        "    print(b)"
      ]
    }
  ]
}