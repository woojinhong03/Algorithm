{
  "nbformat": 4,
  "nbformat_minor": 0,
  "metadata": {
    "colab": {
      "provenance": [],
      "authorship_tag": "ABX9TyNciexEJsABIEUXcW4sAfio",
      "include_colab_link": true
    },
    "kernelspec": {
      "name": "python3",
      "display_name": "Python 3"
    },
    "language_info": {
      "name": "python"
    }
  },
  "cells": [
    {
      "cell_type": "markdown",
      "metadata": {
        "id": "view-in-github",
        "colab_type": "text"
      },
      "source": [
        "<a href=\"https://colab.research.google.com/github/woojinhong03/Algorithm/blob/main/250920_15719.ipynb\" target=\"_parent\"><img src=\"https://colab.research.google.com/assets/colab-badge.svg\" alt=\"Open In Colab\"/></a>"
      ]
    },
    {
      "cell_type": "code",
      "execution_count": 5,
      "metadata": {
        "colab": {
          "base_uri": "https://localhost:8080/"
        },
        "id": "sdxEgjwGgKxX",
        "outputId": "20a6f875-4eed-4113-b5f8-b1a8d7bcd212"
      },
      "outputs": [
        {
          "output_type": "stream",
          "name": "stdout",
          "text": [
            "10\n",
            "-45\n"
          ]
        }
      ],
      "source": [
        "from sys import stdin\n",
        "def read():\n",
        "    while 1:\n",
        "        # 1. 표준 입력을 100,000 바이트씩 잘라서 읽음\n",
        "        s = stdin.read(100000)\n",
        "        if not s: return\n",
        "        # 2. 혹시 숫자 중간에 잘렸을 경우, 공백이 나올 때까지 마저 읽음\n",
        "        while s[-1] != ' ':\n",
        "            extra = stdin.read(1)\n",
        "            if not extra: break\n",
        "            s+= extra\n",
        "        # 3. 잘라낸 부분만 split해서 숫자를 하나씩 반환 (yield)\n",
        "        yield from map(int, s.split())\n",
        "\n",
        "n = int(input())\n",
        "# 4. 생성자(read())가 주는 숫자를 하나씩 받아서 합계 계산\n",
        "ans = n * (n-1) // 2 - sum(read())\n",
        "print(-ans)"
      ]
    }
  ]
}