{
  "nbformat": 4,
  "nbformat_minor": 0,
  "metadata": {
    "colab": {
      "provenance": [],
      "collapsed_sections": []
    },
    "kernelspec": {
      "name": "python3",
      "display_name": "Python 3"
    },
    "language_info": {
      "name": "python"
    }
  },
  "cells": [
    {
      "cell_type": "code",
      "execution_count": 3,
      "metadata": {
        "colab": {
          "base_uri": "https://localhost:8080/"
        },
        "id": "4h9rFz-YhATD",
        "outputId": "ab9e2401-6c24-4b25-8472-3afa664fd1ba"
      },
      "outputs": [
        {
          "output_type": "stream",
          "name": "stdout",
          "text": [
            "18\n",
            "babic\n",
            "keksic\n",
            "boric\n",
            "bukic\n",
            "sarmic\n",
            "balic\n",
            "kruzic\n",
            "hrenovkic\n",
            "beslic\n",
            "boksic\n",
            "krafnic\n",
            "pecivic\n",
            "klavirkovic\n",
            "kukumaric\n",
            "sunkic\n",
            "kolacic\n",
            "kovacic\n",
            "prijestolonasljednikovi\n",
            "bk\n"
          ]
        }
      ],
      "source": [
        "n = int(input())\n",
        "player_list = []\n",
        "result = []\n",
        "\n",
        "for _ in range(n):\n",
        "    a = input()\n",
        "    player_list.append(a[0])\n",
        "\n",
        "first_names = set(player_list)\n",
        "\n",
        "for i in first_names:\n",
        "    if player_list.count(i) >= 5:\n",
        "        result.append(i)\n",
        "\n",
        "if len(result) > 0:\n",
        "    print(''.join(sorted(result)))\n",
        "else:\n",
        "    print(\"PREDAJA\")"
      ]
    }
  ]
}