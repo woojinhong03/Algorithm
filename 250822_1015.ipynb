{
  "nbformat": 4,
  "nbformat_minor": 0,
  "metadata": {
    "colab": {
      "provenance": [],
      "authorship_tag": "ABX9TyOdTGben23jPmz/CwoVEhVJ",
      "include_colab_link": true
    },
    "kernelspec": {
      "name": "python3",
      "display_name": "Python 3"
    },
    "language_info": {
      "name": "python"
    }
  },
  "cells": [
    {
      "cell_type": "markdown",
      "metadata": {
        "id": "view-in-github",
        "colab_type": "text"
      },
      "source": [
        "<a href=\"https://colab.research.google.com/github/woojinhong03/Algorithm/blob/main/250822_1015.ipynb\" target=\"_parent\"><img src=\"https://colab.research.google.com/assets/colab-badge.svg\" alt=\"Open In Colab\"/></a>"
      ]
    },
    {
      "cell_type": "code",
      "source": [
        "dap = [0] * int(input())\n",
        "a = list(map(int,input().split()))\n",
        "sa = sorted(a)\n",
        "\n",
        "for i in range(len(a)):\n",
        "  idx = sa.index(a[i])\n",
        "  dap[i] = idx\n",
        "  sa[idx] = False\n",
        "\n",
        "print(*dap)"
      ],
      "metadata": {
        "colab": {
          "base_uri": "https://localhost:8080/"
        },
        "id": "FrBSs5luMd0E",
        "outputId": "2dfb07d2-a3d8-4936-de93-f83fb9af6668"
      },
      "execution_count": 7,
      "outputs": [
        {
          "output_type": "stream",
          "name": "stdout",
          "text": [
            "8\n",
            "4 1 6 1 3 6 1 4\n",
            "4 0 6 1 3 7 2 5\n"
          ]
        }
      ]
    }
  ]
}