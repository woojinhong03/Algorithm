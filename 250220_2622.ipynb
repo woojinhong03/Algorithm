{
  "nbformat": 4,
  "nbformat_minor": 0,
  "metadata": {
    "colab": {
      "provenance": [],
      "authorship_tag": "ABX9TyMAIisFeHhFu9FSimtQyBqI",
      "include_colab_link": true
    },
    "kernelspec": {
      "name": "python3",
      "display_name": "Python 3"
    },
    "language_info": {
      "name": "python"
    }
  },
  "cells": [
    {
      "cell_type": "markdown",
      "metadata": {
        "id": "view-in-github",
        "colab_type": "text"
      },
      "source": [
        "<a href=\"https://colab.research.google.com/github/woojinhong03/Algorithm/blob/main/250220_2622.ipynb\" target=\"_parent\"><img src=\"https://colab.research.google.com/assets/colab-badge.svg\" alt=\"Open In Colab\"/></a>"
      ]
    },
    {
      "cell_type": "code",
      "execution_count": 1,
      "metadata": {
        "colab": {
          "base_uri": "https://localhost:8080/"
        },
        "id": "TUY5sBS01oIz",
        "outputId": "cccb896c-8a31-4006-f9b0-c6fe298284cf"
      },
      "outputs": [
        {
          "output_type": "stream",
          "name": "stdout",
          "text": [
            "9\n",
            "3\n"
          ]
        }
      ],
      "source": [
        "n = int(input())\n",
        "cnt = 0\n",
        "\n",
        "for i in range(1, n + 1):\n",
        "    for j in range(i, n + 1):\n",
        "        k = n - i - j\n",
        "        if k < i + j:\n",
        "            if j > k:\n",
        "                break\n",
        "            cnt += 1\n",
        "print(cnt)"
      ]
    }
  ]
}