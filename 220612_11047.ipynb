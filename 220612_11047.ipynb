{
  "nbformat": 4,
  "nbformat_minor": 0,
  "metadata": {
    "colab": {
      "name": "220612_11047.ipynb",
      "provenance": [],
      "collapsed_sections": [],
      "authorship_tag": "ABX9TyMIzxFM1iCnnCFiYGMYQw5C",
      "include_colab_link": true
    },
    "kernelspec": {
      "name": "python3",
      "display_name": "Python 3"
    },
    "language_info": {
      "name": "python"
    }
  },
  "cells": [
    {
      "cell_type": "markdown",
      "metadata": {
        "id": "view-in-github",
        "colab_type": "text"
      },
      "source": [
        "<a href=\"https://colab.research.google.com/github/woojinhong03/Algorithm/blob/main/220612_11047.ipynb\" target=\"_parent\"><img src=\"https://colab.research.google.com/assets/colab-badge.svg\" alt=\"Open In Colab\"/></a>"
      ]
    },
    {
      "cell_type": "code",
      "execution_count": 23,
      "metadata": {
        "colab": {
          "base_uri": "https://localhost:8080/"
        },
        "id": "a-M6tKwYUBSG",
        "outputId": "4d00930b-60ed-4950-d8df-2ce2ebc8ba99"
      },
      "outputs": [
        {
          "output_type": "stream",
          "name": "stdout",
          "text": [
            "10 4790\n",
            "1\n",
            "5\n",
            "10\n",
            "50\n",
            "100\n",
            "500\n",
            "1000\n",
            "5000\n",
            "10000\n",
            "50000\n",
            "12\n"
          ]
        }
      ],
      "source": [
        "n,k = map(int,input().split())\n",
        "sum = 0\n",
        "a = []\n",
        "\n",
        "for i in range(n):\n",
        "  a.append(int(input()))\n",
        "\n",
        "a.sort(reverse=True)\n",
        "\n",
        "for i in a:\n",
        "  if k == 0:\n",
        "    break\n",
        "\n",
        "  if k >= i:\n",
        "    sum = sum + k // i\n",
        "    k = k % i\n",
        "  else:\n",
        "    continue\n",
        "  \n",
        "print(sum)"
      ]
    },
    {
      "cell_type": "code",
      "source": [
        ""
      ],
      "metadata": {
        "id": "8RqWY2JZY8ay"
      },
      "execution_count": null,
      "outputs": []
    }
  ]
}