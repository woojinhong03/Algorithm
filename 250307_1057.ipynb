{
  "nbformat": 4,
  "nbformat_minor": 0,
  "metadata": {
    "colab": {
      "provenance": [],
      "authorship_tag": "ABX9TyNPlKUSbKuyKctTZruX40VJ",
      "include_colab_link": true
    },
    "kernelspec": {
      "name": "python3",
      "display_name": "Python 3"
    },
    "language_info": {
      "name": "python"
    }
  },
  "cells": [
    {
      "cell_type": "markdown",
      "metadata": {
        "id": "view-in-github",
        "colab_type": "text"
      },
      "source": [
        "<a href=\"https://colab.research.google.com/github/woojinhong03/Algorithm/blob/main/250307_1057.ipynb\" target=\"_parent\"><img src=\"https://colab.research.google.com/assets/colab-badge.svg\" alt=\"Open In Colab\"/></a>"
      ]
    },
    {
      "cell_type": "code",
      "execution_count": 1,
      "metadata": {
        "colab": {
          "base_uri": "https://localhost:8080/"
        },
        "id": "ESW0usA0BEPX",
        "outputId": "0123713a-6b7b-4411-e22a-242a0ccb48bb"
      },
      "outputs": [
        {
          "output_type": "stream",
          "name": "stdout",
          "text": [
            "16 1 2\n",
            "1\n"
          ]
        }
      ],
      "source": [
        "n, a, b = map(int, input().split())\n",
        "cnt = 0\n",
        "while a != b:\n",
        "  a -= a // 2\n",
        "  b -= b // 2\n",
        "  cnt += 1\n",
        "print(cnt)"
      ]
    }
  ]
}