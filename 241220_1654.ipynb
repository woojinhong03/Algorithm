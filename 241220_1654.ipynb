{
  "nbformat": 4,
  "nbformat_minor": 0,
  "metadata": {
    "colab": {
      "provenance": [],
      "authorship_tag": "ABX9TyP7hkYnOusfSIlN4m6ws6Ay",
      "include_colab_link": true
    },
    "kernelspec": {
      "name": "python3",
      "display_name": "Python 3"
    },
    "language_info": {
      "name": "python"
    }
  },
  "cells": [
    {
      "cell_type": "markdown",
      "metadata": {
        "id": "view-in-github",
        "colab_type": "text"
      },
      "source": [
        "<a href=\"https://colab.research.google.com/github/woojinhong03/Algorithm/blob/main/241220_1654.ipynb\" target=\"_parent\"><img src=\"https://colab.research.google.com/assets/colab-badge.svg\" alt=\"Open In Colab\"/></a>"
      ]
    },
    {
      "cell_type": "code",
      "source": [
        "n, k = map(int, input().split())\n",
        "l = [int(input()) for x in range(n)]\n",
        "\n",
        "mini = 1   # 최소 길이\n",
        "maxi = max(l)   # 최대 길이\n",
        "\n",
        "while mini <= maxi:   # mini 가 maxi 보다 작을 동안\n",
        "    mid = (mini + maxi) // 2   # 중간 값\n",
        "    su = 0   # 잘라진 랜선의 개수\n",
        "\n",
        "    for i in l:\n",
        "        su += i // mid   # 랜선을 중간값으로 잘랐을 때, 잘라진 랜선의 개수\n",
        "\n",
        "    if su >= k:   # 필요한 랜선의 개수 이상을 만들 수 있으면\n",
        "        mini = mid + 1   # 중간값을 높인다.\n",
        "    else:   # 필요한 랜선의 개수를 만들 수 없으면\n",
        "        maxi = mid - 1   # 중간값을 낮춘다\n",
        "\n",
        "print(maxi)"
      ],
      "metadata": {
        "colab": {
          "base_uri": "https://localhost:8080/"
        },
        "id": "9jFfLl25Z7ie",
        "outputId": "8d2c7086-1663-4b42-eeb1-697b0cc97dd3"
      },
      "execution_count": 17,
      "outputs": [
        {
          "output_type": "stream",
          "name": "stdout",
          "text": [
            "4 11\n",
            "802\n",
            "743\n",
            "457\n",
            "539\n",
            "200\n"
          ]
        }
      ]
    }
  ]
}