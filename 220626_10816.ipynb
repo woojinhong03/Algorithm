{
  "nbformat": 4,
  "nbformat_minor": 0,
  "metadata": {
    "colab": {
      "name": "220626_10816.ipynb",
      "provenance": [],
      "collapsed_sections": [],
      "authorship_tag": "ABX9TyPAWXrcxcXhDiyElubasq84",
      "include_colab_link": true
    },
    "kernelspec": {
      "name": "python3",
      "display_name": "Python 3"
    },
    "language_info": {
      "name": "python"
    }
  },
  "cells": [
    {
      "cell_type": "markdown",
      "metadata": {
        "id": "view-in-github",
        "colab_type": "text"
      },
      "source": [
        "<a href=\"https://colab.research.google.com/github/woojinhong03/Algorithm/blob/main/220626_10816.ipynb\" target=\"_parent\"><img src=\"https://colab.research.google.com/assets/colab-badge.svg\" alt=\"Open In Colab\"/></a>"
      ]
    },
    {
      "cell_type": "code",
      "execution_count": 6,
      "metadata": {
        "colab": {
          "base_uri": "https://localhost:8080/"
        },
        "id": "8rIbG9QBIJU9",
        "outputId": "126dc9bb-37be-4513-b009-8800c150d048"
      },
      "outputs": [
        {
          "output_type": "stream",
          "name": "stdout",
          "text": [
            "10\n",
            "6 3 2 10 10 10 -10 -10 7 3\n",
            "8\n",
            "10 9 -5 2 3 4 5 -10\n",
            "3 0 0 1 2 0 0 2 "
          ]
        }
      ],
      "source": [
        "from sys import stdin\n",
        "_ = stdin.readline()\n",
        "N = sorted(map(int,stdin.readline().split()))\n",
        "_ = stdin.readline()\n",
        "M = map(int,stdin.readline().split())\n",
        "\n",
        "def binary(n, N, start, end):\n",
        "    if start > end:\n",
        "        return 0\n",
        "    m = (start+end)//2\n",
        "    if n == N[m]:\n",
        "        return N[start:end+1].count(n)\n",
        "    elif n < N[m]:\n",
        "        return binary(n, N, start, m-1)\n",
        "    else:\n",
        "        return binary(n, N, m+1, end)\n",
        "\n",
        "n_dic = {}\n",
        "for n in N:\n",
        "    start = 0\n",
        "    end = len(N) - 1\n",
        "    if n not in n_dic:\n",
        "        n_dic[n] = binary(n, N, start, end)\n",
        "\n",
        "print(' '.join(str(n_dic[x]) if x in n_dic else '0' for x in M ))"
      ]
    }
  ]
}