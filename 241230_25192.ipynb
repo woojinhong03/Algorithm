{
  "nbformat": 4,
  "nbformat_minor": 0,
  "metadata": {
    "colab": {
      "provenance": [],
      "authorship_tag": "ABX9TyMBodTU1iHakYa1viFJikX3",
      "include_colab_link": true
    },
    "kernelspec": {
      "name": "python3",
      "display_name": "Python 3"
    },
    "language_info": {
      "name": "python"
    }
  },
  "cells": [
    {
      "cell_type": "markdown",
      "metadata": {
        "id": "view-in-github",
        "colab_type": "text"
      },
      "source": [
        "<a href=\"https://colab.research.google.com/github/woojinhong03/Algorithm/blob/main/241230_25192.ipynb\" target=\"_parent\"><img src=\"https://colab.research.google.com/assets/colab-badge.svg\" alt=\"Open In Colab\"/></a>"
      ]
    },
    {
      "cell_type": "code",
      "execution_count": 1,
      "metadata": {
        "colab": {
          "base_uri": "https://localhost:8080/"
        },
        "id": "MotBzcaVmxO-",
        "outputId": "753dd705-391c-4540-c7f5-552fbd640a4e"
      },
      "outputs": [
        {
          "output_type": "stream",
          "name": "stdout",
          "text": [
            "7\n",
            "ENTER\n",
            "pjshwa\n",
            "chansol\n",
            "chogahui05\n",
            "ENTER\n",
            "pjshwa\n",
            "chansol\n",
            "5\n"
          ]
        }
      ],
      "source": [
        "name = {}\n",
        "n = int(input())\n",
        "sum = 0\n",
        "\n",
        "for i in range(n):\n",
        "    inp = input()\n",
        "    if inp == \"ENTER\":\n",
        "        name.clear()\n",
        "    elif inp not in name:\n",
        "        name.add(inp)\n",
        "        sum += 1\n",
        "\n",
        "print(sum)"
      ]
    }
  ]
}