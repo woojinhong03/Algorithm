{
  "nbformat": 4,
  "nbformat_minor": 0,
  "metadata": {
    "colab": {
      "provenance": [],
      "authorship_tag": "ABX9TyMeMzk2NAoY7WJghk0VR1la",
      "include_colab_link": true
    },
    "kernelspec": {
      "name": "python3",
      "display_name": "Python 3"
    },
    "language_info": {
      "name": "python"
    }
  },
  "cells": [
    {
      "cell_type": "markdown",
      "metadata": {
        "id": "view-in-github",
        "colab_type": "text"
      },
      "source": [
        "<a href=\"https://colab.research.google.com/github/woojinhong03/Algorithm/blob/main/250212_2635.ipynb\" target=\"_parent\"><img src=\"https://colab.research.google.com/assets/colab-badge.svg\" alt=\"Open In Colab\"/></a>"
      ]
    },
    {
      "cell_type": "code",
      "execution_count": 1,
      "metadata": {
        "colab": {
          "base_uri": "https://localhost:8080/"
        },
        "id": "hkF_h9vCnvW_",
        "outputId": "da400a58-4114-44bd-df2d-03893b59d113"
      },
      "outputs": [
        {
          "output_type": "stream",
          "name": "stdout",
          "text": [
            "100\n",
            "8\n",
            "100 62 38 24 14 10 4 6\n"
          ]
        }
      ],
      "source": [
        "n = int(input())\n",
        "dap = [n]\n",
        "\n",
        "for i in range(1, n+1) :\n",
        "  li = [n, i]\n",
        "\n",
        "  while li[-1] >= 0 :\n",
        "    li.append(li[-2] - li[-1])\n",
        "\n",
        "  li.pop()\n",
        "\n",
        "  if len(dap) < len(li):\n",
        "    dap = li\n",
        "\n",
        "print(len(dap))\n",
        "print(*dap)"
      ]
    }
  ]
}