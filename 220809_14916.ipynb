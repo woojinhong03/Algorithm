{
  "nbformat": 4,
  "nbformat_minor": 0,
  "metadata": {
    "colab": {
      "name": "220809_14916.ipynb",
      "provenance": []
    },
    "kernelspec": {
      "name": "python3",
      "display_name": "Python 3"
    },
    "language_info": {
      "name": "python"
    }
  },
  "cells": [
    {
      "cell_type": "code",
      "execution_count": 1,
      "metadata": {
        "colab": {
          "base_uri": "https://localhost:8080/"
        },
        "id": "GHQSSZ4Bciwe",
        "outputId": "b74349ac-bf39-489f-eb91-459cd13ab60e"
      },
      "outputs": [
        {
          "output_type": "stream",
          "name": "stdout",
          "text": [
            "13\n",
            "5\n"
          ]
        }
      ],
      "source": [
        "n = int(input())\n",
        "\n",
        "cnt = 0\n",
        "i = 0\n",
        "while True:\n",
        "    if n % 5 == 0: \n",
        "        cnt += n//5\t\n",
        "        break\n",
        "    else:\n",
        "        n -= 2  \n",
        "        cnt += 1\n",
        "\n",
        "    if n < 0:  \n",
        "        break\n",
        "if n<0:\t\t\t\n",
        "    print(-1)\t\t\t\n",
        "else:\n",
        "    print(cnt)"
      ]
    }
  ]
}