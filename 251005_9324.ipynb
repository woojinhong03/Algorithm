{
  "nbformat": 4,
  "nbformat_minor": 0,
  "metadata": {
    "colab": {
      "provenance": [],
      "authorship_tag": "ABX9TyNRC4raZXnyEcMGVRXLTLLB",
      "include_colab_link": true
    },
    "kernelspec": {
      "name": "python3",
      "display_name": "Python 3"
    },
    "language_info": {
      "name": "python"
    }
  },
  "cells": [
    {
      "cell_type": "markdown",
      "metadata": {
        "id": "view-in-github",
        "colab_type": "text"
      },
      "source": [
        "<a href=\"https://colab.research.google.com/github/woojinhong03/Algorithm/blob/main/251005_9324.ipynb\" target=\"_parent\"><img src=\"https://colab.research.google.com/assets/colab-badge.svg\" alt=\"Open In Colab\"/></a>"
      ]
    },
    {
      "cell_type": "code",
      "execution_count": 1,
      "metadata": {
        "colab": {
          "base_uri": "https://localhost:8080/"
        },
        "id": "SlBOkM0yxy-G",
        "outputId": "d1fabf3b-d55f-4400-81ba-9ea18ab2b04c"
      },
      "outputs": [
        {
          "output_type": "stream",
          "name": "stdout",
          "text": [
            "3\n",
            "BAPC\n",
            "OK\n",
            "AABA\n",
            "FAKE\n",
            "ABCABCBBAAACC\n",
            "OK\n"
          ]
        }
      ],
      "source": [
        "for _ in range(int(input())):\n",
        "    message = input()\n",
        "    cnt = {}\n",
        "    i = 0\n",
        "\n",
        "    while i < len(message):\n",
        "        char = message[i]\n",
        "        cnt[char] = cnt.get(char, 0) + 1\n",
        "\n",
        "        if cnt[char] == 3:\n",
        "            if i + 1 >= len(message) or message[i+1] != char:\n",
        "                print(\"FAKE\")\n",
        "                break\n",
        "            cnt[char] = 0\n",
        "            i += 1\n",
        "\n",
        "        i += 1\n",
        "    else:\n",
        "        print(\"OK\")"
      ]
    }
  ]
}