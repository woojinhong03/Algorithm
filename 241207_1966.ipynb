{
  "nbformat": 4,
  "nbformat_minor": 0,
  "metadata": {
    "colab": {
      "provenance": [],
      "authorship_tag": "ABX9TyMoxO1RhTjxPjg+YcLEkVcT",
      "include_colab_link": true
    },
    "kernelspec": {
      "name": "python3",
      "display_name": "Python 3"
    },
    "language_info": {
      "name": "python"
    }
  },
  "cells": [
    {
      "cell_type": "markdown",
      "metadata": {
        "id": "view-in-github",
        "colab_type": "text"
      },
      "source": [
        "<a href=\"https://colab.research.google.com/github/woojinhong03/Algorithm/blob/main/241207_1966.ipynb\" target=\"_parent\"><img src=\"https://colab.research.google.com/assets/colab-badge.svg\" alt=\"Open In Colab\"/></a>"
      ]
    },
    {
      "cell_type": "code",
      "execution_count": 3,
      "metadata": {
        "id": "6KiZi7ENdhbL",
        "colab": {
          "base_uri": "https://localhost:8080/"
        },
        "outputId": "f64df445-13fe-4de5-fec9-071d158ccd82"
      },
      "outputs": [
        {
          "output_type": "stream",
          "name": "stdout",
          "text": [
            "3\n",
            "1 0\n",
            "5\n",
            "1\n",
            "4 2\n",
            "1 2 3 4\n",
            "2\n",
            "6 0\n",
            "1 1 9 1 1 1\n",
            "5\n"
          ]
        }
      ],
      "source": [
        "x = int(input())\n",
        "\n",
        "for _ in range(x):\n",
        "    n, m = map(int, input().split())\n",
        "    data = list(map(int, input().split()))\n",
        "\n",
        "    a = 1\n",
        "    while(1):\n",
        "        if data[0] < max(data): #앞에꺼가 max보다 작으면\n",
        "            data.append(data.pop(0)) #뒤로 보내\n",
        "        else:   #젤 앞이 max면\n",
        "            if m == 0: #순서가 0이면 끝\n",
        "                break\n",
        "\n",
        "            data.pop(0) #앞에꺼 버리고\n",
        "            a += 1  #a+1\n",
        "\n",
        "\n",
        "        if m > 0:   #순서가 0 이상이면\n",
        "            m -= 1  #순서 - 1\n",
        "        else:\n",
        "            m = len(data) - 1 #0이라면 순서를 제일 뒤로\n",
        "\n",
        "\n",
        "    print(a)"
      ]
    }
  ]
}