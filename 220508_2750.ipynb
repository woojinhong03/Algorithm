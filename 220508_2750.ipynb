{
  "nbformat": 4,
  "nbformat_minor": 0,
  "metadata": {
    "colab": {
      "name": "220508_2750.ipynb",
      "provenance": [],
      "authorship_tag": "ABX9TyPge3AvCUEhZ+rdRSvqVAGA",
      "include_colab_link": true
    },
    "kernelspec": {
      "name": "python3",
      "display_name": "Python 3"
    },
    "language_info": {
      "name": "python"
    }
  },
  "cells": [
    {
      "cell_type": "markdown",
      "metadata": {
        "id": "view-in-github",
        "colab_type": "text"
      },
      "source": [
        "<a href=\"https://colab.research.google.com/github/woojinhong03/Algorithm/blob/main/220508_2750.ipynb\" target=\"_parent\"><img src=\"https://colab.research.google.com/assets/colab-badge.svg\" alt=\"Open In Colab\"/></a>"
      ]
    },
    {
      "cell_type": "code",
      "execution_count": 4,
      "metadata": {
        "colab": {
          "base_uri": "https://localhost:8080/"
        },
        "id": "TU6nVubp6kjA",
        "outputId": "261a282c-97f9-44e5-a5ad-7e485ead6d43"
      },
      "outputs": [
        {
          "output_type": "stream",
          "name": "stdout",
          "text": [
            "5\n",
            "5\n",
            "2\n",
            "3\n",
            "4\n",
            "1\n",
            "1\n",
            "2\n",
            "3\n",
            "4\n",
            "5\n"
          ]
        }
      ],
      "source": [
        "a = int(input())\n",
        "i = 0\n",
        "b = []\n",
        "while(a > i):\n",
        "  c = int(input())\n",
        "  b.append(c)\n",
        "  i += 1\n",
        "b.sort()\n",
        "for n in b:\n",
        "  print(n)"
      ]
    }
  ]
}