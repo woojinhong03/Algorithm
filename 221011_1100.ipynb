{
  "nbformat": 4,
  "nbformat_minor": 0,
  "metadata": {
    "colab": {
      "provenance": [],
      "collapsed_sections": [],
      "authorship_tag": "ABX9TyP53bOLzOZHXCbf4zesvBGg",
      "include_colab_link": true
    },
    "kernelspec": {
      "name": "python3",
      "display_name": "Python 3"
    },
    "language_info": {
      "name": "python"
    }
  },
  "cells": [
    {
      "cell_type": "markdown",
      "metadata": {
        "id": "view-in-github",
        "colab_type": "text"
      },
      "source": [
        "<a href=\"https://colab.research.google.com/github/woojinhong03/Algorithm/blob/main/221011_1100.ipynb\" target=\"_parent\"><img src=\"https://colab.research.google.com/assets/colab-badge.svg\" alt=\"Open In Colab\"/></a>"
      ]
    },
    {
      "cell_type": "code",
      "execution_count": 2,
      "metadata": {
        "colab": {
          "base_uri": "https://localhost:8080/"
        },
        "id": "8wj9pcGK8yLw",
        "outputId": "c1cf290d-d32a-4e9d-f6be-f74187c8b69c"
      },
      "outputs": [
        {
          "output_type": "stream",
          "name": "stdout",
          "text": [
            ".F.F...F\n",
            "F...F.F.\n",
            "...F.F.F\n",
            "F.F...F.\n",
            ".F...F..\n",
            "F...F.F.\n",
            ".F.F.F.F\n",
            "..FF..F.\n",
            "1\n"
          ]
        }
      ],
      "source": [
        "c = []\n",
        "for _ in range(8):\n",
        "    c.append(list(map(str, list(input()))))\n",
        "\n",
        "n = 0\n",
        "for i in range(8):\n",
        "    for j in range(8):\n",
        "        if (i + j) % 2 == 0:\n",
        "            if c[i][j] == 'F': \n",
        "                n += 1\n",
        "print(n)"
      ]
    }
  ]
}