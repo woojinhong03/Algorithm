{
  "nbformat": 4,
  "nbformat_minor": 0,
  "metadata": {
    "colab": {
      "provenance": [],
      "collapsed_sections": []
    },
    "kernelspec": {
      "name": "python3",
      "display_name": "Python 3"
    },
    "language_info": {
      "name": "python"
    }
  },
  "cells": [
    {
      "cell_type": "code",
      "source": [
        "n = int(input()) \n",
        "one = int(input()) \n",
        "vote = []\n",
        "count = 0 \n",
        "\n",
        "for _ in range(n - 1):\n",
        "    vote.append(int(input()))\n",
        "\n",
        "vote.sort(reverse=True)\n",
        "\n",
        "if n == 1:\n",
        "    print(0)\n",
        "else:\n",
        "    while vote[0] >= one:\n",
        "        one += 1\n",
        "        vote[0] -= 1\n",
        "        count += 1\n",
        "        vote.sort(reverse=True)\n",
        "    print(count)"
      ],
      "metadata": {
        "colab": {
          "base_uri": "https://localhost:8080/"
        },
        "id": "euC_VeYlWefB",
        "outputId": "a4513c89-3068-48b5-e889-44dca6af13a8"
      },
      "execution_count": 5,
      "outputs": [
        {
          "output_type": "stream",
          "name": "stdout",
          "text": [
            "5\n",
            "5\n",
            "10\n",
            "7\n",
            "3\n",
            "8\n",
            "4\n"
          ]
        }
      ]
    }
  ]
}