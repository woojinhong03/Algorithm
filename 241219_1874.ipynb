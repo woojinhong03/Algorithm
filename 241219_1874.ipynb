{
  "nbformat": 4,
  "nbformat_minor": 0,
  "metadata": {
    "colab": {
      "provenance": [],
      "authorship_tag": "ABX9TyPwpl4KHqVbfR4x0QX+R478",
      "include_colab_link": true
    },
    "kernelspec": {
      "name": "python3",
      "display_name": "Python 3"
    },
    "language_info": {
      "name": "python"
    }
  },
  "cells": [
    {
      "cell_type": "markdown",
      "metadata": {
        "id": "view-in-github",
        "colab_type": "text"
      },
      "source": [
        "<a href=\"https://colab.research.google.com/github/woojinhong03/Algorithm/blob/main/241219_1874.ipynb\" target=\"_parent\"><img src=\"https://colab.research.google.com/assets/colab-badge.svg\" alt=\"Open In Colab\"/></a>"
      ]
    },
    {
      "cell_type": "code",
      "execution_count": 1,
      "metadata": {
        "id": "fyqgh2sDZNqn",
        "colab": {
          "base_uri": "https://localhost:8080/"
        },
        "outputId": "44036e6c-7c02-481d-aecc-0e904027b02e"
      },
      "outputs": [
        {
          "output_type": "stream",
          "name": "stdout",
          "text": [
            "8\n",
            "4\n",
            "3\n",
            "6\n",
            "8\n",
            "7\n",
            "5\n",
            "2\n",
            "1\n",
            "+\n",
            "+\n",
            "+\n",
            "+\n",
            "-\n",
            "-\n",
            "+\n",
            "+\n",
            "-\n",
            "+\n",
            "+\n",
            "-\n",
            "-\n",
            "-\n",
            "-\n",
            "-\n"
          ]
        }
      ],
      "source": [
        "cnt = 1\n",
        "result = True\n",
        "stack = []\n",
        "dap = []\n",
        "\n",
        "n = int(input())\n",
        "\n",
        "for i in range(n):\n",
        "    num = int(input())\n",
        "\n",
        "    while cnt <= num:   #cnt가 num을 넘기 전까지 계속 stack과 dap에 append한다.\n",
        "        stack.append(cnt)\n",
        "        dap.append('+')\n",
        "        cnt += 1\n",
        "\n",
        "    #num이랑 stack 끝이 동일하다면 stack에서 빼고 dap에 - 추가\n",
        "    if stack[-1] == num:\n",
        "        stack.pop()\n",
        "        dap.append('-')\n",
        "\n",
        "    else:   #동일하지 않다면 수열 생성이 불가능하므로 NO 출력\n",
        "        print(\"NO\")\n",
        "        result = False\n",
        "        break\n",
        "\n",
        "if result != False:\n",
        "    for i in dap:\n",
        "        print(i)"
      ]
    }
  ]
}