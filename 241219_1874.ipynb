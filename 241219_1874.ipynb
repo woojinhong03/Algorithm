{
  "nbformat": 4,
  "nbformat_minor": 0,
  "metadata": {
    "colab": {
      "provenance": [],
      "authorship_tag": "ABX9TyM7lVGuwMo3e7o5K06HV5Mc",
      "include_colab_link": true
    },
    "kernelspec": {
      "name": "python3",
      "display_name": "Python 3"
    },
    "language_info": {
      "name": "python"
    }
  },
  "cells": [
    {
      "cell_type": "markdown",
      "metadata": {
        "id": "view-in-github",
        "colab_type": "text"
      },
      "source": [
        "<a href=\"https://colab.research.google.com/github/woojinhong03/Algorithm/blob/main/241219_1874.ipynb\" target=\"_parent\"><img src=\"https://colab.research.google.com/assets/colab-badge.svg\" alt=\"Open In Colab\"/></a>"
      ]
    },
    {
      "cell_type": "code",
      "execution_count": null,
      "metadata": {
        "id": "fyqgh2sDZNqn"
      },
      "outputs": [],
      "source": [
        "count = 1\n",
        "temp = 1\n",
        "stack = []\n",
        "op = []\n",
        "\n",
        "N = int(input())\n",
        "for i in range(N):\n",
        "    num = int(input())\n",
        "    while count <= num:\n",
        "        stack.append(count)\n",
        "        op.append('+')\n",
        "        count += 1\n",
        "\n",
        "    if stack[-1] == num:\n",
        "        stack.pop()\n",
        "        op.append('-')\n",
        "    else:\n",
        "        temp = False\n",
        "        break\n",
        "\n",
        "if temp == False:\n",
        "    print(\"NO\")\n",
        "else:\n",
        "    for i in op:\n",
        "        print(i)"
      ]
    }
  ]
}