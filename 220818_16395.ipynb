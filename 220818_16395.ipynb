{
  "nbformat": 4,
  "nbformat_minor": 0,
  "metadata": {
    "colab": {
      "name": "220818_16395.ipynb",
      "provenance": [],
      "collapsed_sections": []
    },
    "kernelspec": {
      "name": "python3",
      "display_name": "Python 3"
    },
    "language_info": {
      "name": "python"
    }
  },
  "cells": [
    {
      "cell_type": "code",
      "execution_count": 1,
      "metadata": {
        "colab": {
          "base_uri": "https://localhost:8080/"
        },
        "id": "5CAwovCsbArF",
        "outputId": "5a368146-d6db-4487-d075-10b582723b32"
      },
      "outputs": [
        {
          "output_type": "stream",
          "name": "stdout",
          "text": [
            "11 3\n",
            "45\n"
          ]
        }
      ],
      "source": [
        "data = [[1 for _ in range(i)] for i in range(1, 31)]\n",
        "\n",
        "for i in range(2, 30) :\n",
        "  for j in range(1, i) :\n",
        "    data[i][j] = data[i-1][j-1] + data[i-1][j]\n",
        "\n",
        "n, k = map(int, input().split())\n",
        "print(data[n-1][k-1])"
      ]
    }
  ]
}