{
  "nbformat": 4,
  "nbformat_minor": 0,
  "metadata": {
    "colab": {
      "provenance": [],
      "authorship_tag": "ABX9TyOMbH/Bj+WXk9LoJL2ASpiD",
      "include_colab_link": true
    },
    "kernelspec": {
      "name": "python3",
      "display_name": "Python 3"
    },
    "language_info": {
      "name": "python"
    }
  },
  "cells": [
    {
      "cell_type": "markdown",
      "metadata": {
        "id": "view-in-github",
        "colab_type": "text"
      },
      "source": [
        "<a href=\"https://colab.research.google.com/github/woojinhong03/Algorithm/blob/main/250914_14495.ipynb\" target=\"_parent\"><img src=\"https://colab.research.google.com/assets/colab-badge.svg\" alt=\"Open In Colab\"/></a>"
      ]
    },
    {
      "cell_type": "code",
      "execution_count": 1,
      "metadata": {
        "id": "tn8g4sucNoIr",
        "colab": {
          "base_uri": "https://localhost:8080/"
        },
        "outputId": "7cf373d0-518f-4ecb-c538-00f0d327869c"
      },
      "outputs": [
        {
          "output_type": "stream",
          "name": "stdout",
          "text": [
            "10\n",
            "19\n"
          ]
        }
      ],
      "source": [
        "import sys\n",
        "n = int(sys.stdin.readline())\n",
        "\n",
        "dp = [0] * 117\n",
        "dp[1] = dp[2] = dp[3] = 1\n",
        "\n",
        "for i in range(4, n + 1):\n",
        "    dp[i] = dp[i-1] + dp[i-3]\n",
        "\n",
        "print(dp[n])"
      ]
    }
  ]
}