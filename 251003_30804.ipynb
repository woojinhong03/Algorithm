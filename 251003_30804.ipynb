{
  "nbformat": 4,
  "nbformat_minor": 0,
  "metadata": {
    "colab": {
      "provenance": [],
      "authorship_tag": "ABX9TyMBA1s/+8gq+G1heG1xKBww",
      "include_colab_link": true
    },
    "kernelspec": {
      "name": "python3",
      "display_name": "Python 3"
    },
    "language_info": {
      "name": "python"
    }
  },
  "cells": [
    {
      "cell_type": "markdown",
      "metadata": {
        "id": "view-in-github",
        "colab_type": "text"
      },
      "source": [
        "<a href=\"https://colab.research.google.com/github/woojinhong03/Algorithm/blob/main/251003_30804.ipynb\" target=\"_parent\"><img src=\"https://colab.research.google.com/assets/colab-badge.svg\" alt=\"Open In Colab\"/></a>"
      ]
    },
    {
      "cell_type": "code",
      "execution_count": 2,
      "metadata": {
        "colab": {
          "base_uri": "https://localhost:8080/"
        },
        "id": "uMzNwsmyGBdW",
        "outputId": "b6c2f2a7-9cbf-41c3-f472-9d7acf441802"
      },
      "outputs": [
        {
          "output_type": "stream",
          "name": "stdout",
          "text": [
            "5\n",
            "5 1 1 2 1\n",
            "4\n"
          ]
        }
      ],
      "source": [
        "import sys\n",
        "# input = sys.stdin.readline\n",
        "\n",
        "N = int(input())\n",
        "fruits = list(map(int, input().split()))\n",
        "\n",
        "left = 0\n",
        "max_len = 0\n",
        "cnt = {}\n",
        "\n",
        "for right in range(N):\n",
        "    current_fruit = fruits[right]\n",
        "\n",
        "    cnt[current_fruit] = cnt.get(current_fruit, 0) + 1\n",
        "\n",
        "    while len(cnt) > 2:\n",
        "        left_fruit = fruits[left]\n",
        "        cnt[left_fruit] -= 1\n",
        "\n",
        "        if cnt[left_fruit] == 0:\n",
        "            del cnt[left_fruit]\n",
        "\n",
        "        left += 1\n",
        "\n",
        "    max_len = max(max_len, right - left + 1)\n",
        "\n",
        "print(max_len)"
      ]
    }
  ]
}