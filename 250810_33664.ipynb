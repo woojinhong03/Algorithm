{
  "nbformat": 4,
  "nbformat_minor": 0,
  "metadata": {
    "colab": {
      "provenance": [],
      "authorship_tag": "ABX9TyNh+sE55xDuOIbsKWY+qPfT",
      "include_colab_link": true
    },
    "kernelspec": {
      "name": "python3",
      "display_name": "Python 3"
    },
    "language_info": {
      "name": "python"
    }
  },
  "cells": [
    {
      "cell_type": "markdown",
      "metadata": {
        "id": "view-in-github",
        "colab_type": "text"
      },
      "source": [
        "<a href=\"https://colab.research.google.com/github/woojinhong03/Algorithm/blob/main/250810_33664.ipynb\" target=\"_parent\"><img src=\"https://colab.research.google.com/assets/colab-badge.svg\" alt=\"Open In Colab\"/></a>"
      ]
    },
    {
      "cell_type": "code",
      "execution_count": 2,
      "metadata": {
        "colab": {
          "base_uri": "https://localhost:8080/"
        },
        "id": "l__eJ7WTUd5o",
        "outputId": "dd786194-a09b-4fb5-a06c-c516f4ae0e6f"
      },
      "outputs": [
        {
          "output_type": "stream",
          "name": "stdout",
          "text": [
            "50 5 2\n",
            "Cake 35\n",
            "Clothes 30\n",
            "Toy 13\n",
            "Cartoon 3\n",
            "Goods 21\n",
            "Cake\n",
            "Goods\n",
            "unacceptable\n"
          ]
        }
      ],
      "source": [
        "b, n, m = map(int,input().split())\n",
        "item = dict()\n",
        "\n",
        "for _ in range(n):\n",
        "  i, p = input().split()\n",
        "  item[i] = int(p)\n",
        "\n",
        "for _ in range(m):\n",
        "  b -= item[input()]\n",
        "\n",
        "if b >= 0:\n",
        "  print(\"acceptable\")\n",
        "else:\n",
        "  print(\"unacceptable\")"
      ]
    }
  ]
}