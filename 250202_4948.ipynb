{
  "nbformat": 4,
  "nbformat_minor": 0,
  "metadata": {
    "colab": {
      "provenance": [],
      "authorship_tag": "ABX9TyOtRFP7n25n/FbfY2a3RvBq",
      "include_colab_link": true
    },
    "kernelspec": {
      "name": "python3",
      "display_name": "Python 3"
    },
    "language_info": {
      "name": "python"
    }
  },
  "cells": [
    {
      "cell_type": "markdown",
      "metadata": {
        "id": "view-in-github",
        "colab_type": "text"
      },
      "source": [
        "<a href=\"https://colab.research.google.com/github/woojinhong03/Algorithm/blob/main/250202_4948.ipynb\" target=\"_parent\"><img src=\"https://colab.research.google.com/assets/colab-badge.svg\" alt=\"Open In Colab\"/></a>"
      ]
    },
    {
      "cell_type": "code",
      "source": [
        "num = 123456 * 2 + 1\n",
        "tot = [1] * num\n",
        "\n",
        "for i in range(1, num): # 미리 소수 판단\n",
        "    if i == 1:\n",
        "        continue\n",
        "\n",
        "    for j in range(2, int(i**0.5)+1): # 2부터 i의 제곱근까지의 수로 나눠지는지\n",
        "        if i % j == 0:\n",
        "            tot[i] = 0\n",
        "            break\n",
        "\n",
        "while True:\n",
        "    n = int(input())\n",
        "\n",
        "    if n == 0:\n",
        "        break\n",
        "\n",
        "    dap = 0\n",
        "    for i in range(n+1, 2*n+1): # n부터 2n까지\n",
        "            dap += tot[i]\n",
        "    print(dap)"
      ],
      "metadata": {
        "colab": {
          "base_uri": "https://localhost:8080/"
        },
        "id": "_Z3pQWnRxvbE",
        "outputId": "9079a169-a8f3-4307-f561-bfa8231ffa00"
      },
      "execution_count": 13,
      "outputs": [
        {
          "name": "stdout",
          "output_type": "stream",
          "text": [
            "1\n",
            "1\n",
            "10\n",
            "4\n",
            "13\n",
            "3\n",
            "100\n",
            "21\n",
            "1000\n",
            "135\n",
            "10000\n",
            "1033\n",
            "100000\n",
            "8392\n",
            "0\n"
          ]
        }
      ]
    }
  ]
}