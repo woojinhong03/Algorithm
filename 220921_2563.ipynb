{
  "nbformat": 4,
  "nbformat_minor": 0,
  "metadata": {
    "colab": {
      "provenance": [],
      "collapsed_sections": []
    },
    "kernelspec": {
      "name": "python3",
      "display_name": "Python 3"
    },
    "language_info": {
      "name": "python"
    }
  },
  "cells": [
    {
      "cell_type": "code",
      "execution_count": 1,
      "metadata": {
        "id": "BOwLB5lHkFN6",
        "colab": {
          "base_uri": "https://localhost:8080/"
        },
        "outputId": "2b30be46-d2ae-4517-d3f7-93a8264c842b"
      },
      "outputs": [
        {
          "output_type": "stream",
          "name": "stdout",
          "text": [
            "3\n",
            "3 7\n",
            "15 7\n",
            "5 2\n",
            "260\n"
          ]
        }
      ],
      "source": [
        "arr = [[0]*100 for _ in range(100)]\n",
        "\n",
        "for _ in range(int(input())):\n",
        "    m, n = map(int, input().split())\n",
        "    for i in range(m, m+10):\n",
        "        for j in range(n, n+10):\n",
        "            arr[i][j] = 1\n",
        "\n",
        "ans = 0\n",
        "for i in arr:\n",
        "    ans += i.count(1)\n",
        "\n",
        "print(ans)"
      ]
    }
  ]
}