{
  "nbformat": 4,
  "nbformat_minor": 0,
  "metadata": {
    "colab": {
      "provenance": [],
      "authorship_tag": "ABX9TyMeEZe9sMlvWKA+GbhSx2WF",
      "include_colab_link": true
    },
    "kernelspec": {
      "name": "python3",
      "display_name": "Python 3"
    },
    "language_info": {
      "name": "python"
    }
  },
  "cells": [
    {
      "cell_type": "markdown",
      "metadata": {
        "id": "view-in-github",
        "colab_type": "text"
      },
      "source": [
        "<a href=\"https://colab.research.google.com/github/woojinhong03/Algorithm/blob/main/250312_26069.ipynb\" target=\"_parent\"><img src=\"https://colab.research.google.com/assets/colab-badge.svg\" alt=\"Open In Colab\"/></a>"
      ]
    },
    {
      "cell_type": "code",
      "execution_count": 5,
      "metadata": {
        "colab": {
          "base_uri": "https://localhost:8080/"
        },
        "id": "yEXmJeAAsX15",
        "outputId": "7edb6edd-0218-47cb-c8ee-79c0ae5b17cf"
      },
      "outputs": [
        {
          "output_type": "stream",
          "name": "stdout",
          "text": [
            "12\n",
            "bnb2011 chansol\n",
            "chansol chogahui05\n",
            "chogahui05 jthis\n",
            "jthis ChongChong\n",
            "jthis jyheo98\n",
            "jyheo98 lms0806\n",
            "lms0806 pichulia\n",
            "pichulia pjshwa\n",
            "pjshwa r4pidstart\n",
            "r4pidstart swoon\n",
            "swoon tony9402\n",
            "tony9402 bnb2011\n",
            "10\n"
          ]
        }
      ],
      "source": [
        "muji = {'ChongChong'}\n",
        "for i in range(int(input())):\n",
        "    name1, name2 = input().split()\n",
        "    if name1 in muji or name2 in muji:\n",
        "        muji.add(name1)\n",
        "        muji.add(name2)\n",
        "print(len(muji))"
      ]
    }
  ]
}