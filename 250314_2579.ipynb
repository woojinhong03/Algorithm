{
  "nbformat": 4,
  "nbformat_minor": 0,
  "metadata": {
    "colab": {
      "provenance": [],
      "authorship_tag": "ABX9TyOvcP5XL11Zel1X3XoiRMeV",
      "include_colab_link": true
    },
    "kernelspec": {
      "name": "python3",
      "display_name": "Python 3"
    },
    "language_info": {
      "name": "python"
    }
  },
  "cells": [
    {
      "cell_type": "markdown",
      "metadata": {
        "id": "view-in-github",
        "colab_type": "text"
      },
      "source": [
        "<a href=\"https://colab.research.google.com/github/woojinhong03/Algorithm/blob/main/250314_2579.ipynb\" target=\"_parent\"><img src=\"https://colab.research.google.com/assets/colab-badge.svg\" alt=\"Open In Colab\"/></a>"
      ]
    },
    {
      "cell_type": "code",
      "execution_count": null,
      "metadata": {
        "colab": {
          "base_uri": "https://localhost:8080/"
        },
        "id": "2BqfLL60YW2z",
        "outputId": "db5687b3-9664-4579-b250-7f51da5bcd57"
      },
      "outputs": [
        {
          "output_type": "stream",
          "name": "stdout",
          "text": [
            "6\n",
            "10\n",
            "20\n",
            "15\n",
            "25\n",
            "10\n",
            "20\n",
            "75\n"
          ]
        }
      ],
      "source": [
        "su = int(input())\n",
        "jum = [int(input()) for _ in range(su)]\n",
        "\n",
        "if su <= 2:\n",
        "    print(sum(jum))\n",
        "else:\n",
        "    dp = [0] * su\n",
        "    dp[0] = jum[0]\n",
        "    dp[1] = jum[0] + jum[1]\n",
        "\n",
        "    for i in range(2, su):\n",
        "        dp[i] = max(dp[i - 3] + jum[i - 1] + jum[i], dp[i - 2] + jum[i])\n",
        "\n",
        "    print(dp[-1])"
      ]
    }
  ]
}