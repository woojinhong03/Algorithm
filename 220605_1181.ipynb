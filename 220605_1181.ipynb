{
  "nbformat": 4,
  "nbformat_minor": 0,
  "metadata": {
    "colab": {
      "name": "220605_1181.ipynb",
      "provenance": [],
      "collapsed_sections": [],
      "authorship_tag": "ABX9TyOF/qVsy9XZEh8QIVJCYPbx",
      "include_colab_link": true
    },
    "kernelspec": {
      "name": "python3",
      "display_name": "Python 3"
    },
    "language_info": {
      "name": "python"
    }
  },
  "cells": [
    {
      "cell_type": "markdown",
      "metadata": {
        "id": "view-in-github",
        "colab_type": "text"
      },
      "source": [
        "<a href=\"https://colab.research.google.com/github/woojinhong03/Algorithm/blob/main/220605_1181.ipynb\" target=\"_parent\"><img src=\"https://colab.research.google.com/assets/colab-badge.svg\" alt=\"Open In Colab\"/></a>"
      ]
    },
    {
      "cell_type": "code",
      "execution_count": 1,
      "metadata": {
        "colab": {
          "base_uri": "https://localhost:8080/"
        },
        "id": "xCwthP0h398e",
        "outputId": "ce4f2261-44fc-4252-d46b-a172e954258f"
      },
      "outputs": [
        {
          "output_type": "stream",
          "name": "stdout",
          "text": [
            "13\n",
            "but\n",
            "i\n",
            "wont\n",
            "hesitate\n",
            "no\n",
            "more\n",
            "no\n",
            "more\n",
            "cannot\n",
            "wait\n",
            "im\n",
            "yours\n",
            "it\n",
            "i\n",
            "im\n",
            "it\n",
            "no\n",
            "but\n",
            "more\n",
            "wait\n",
            "wont\n",
            "yours\n",
            "cannot\n",
            "hesitate\n"
          ]
        }
      ],
      "source": [
        "n = int(input())\n",
        "\n",
        "word = []\n",
        "for i in range(n):\n",
        "  word.append(input())\n",
        "\n",
        "set_word = list(set(word))\n",
        "\n",
        "sort_word = []\n",
        "for i in set_word:\n",
        "  sort_word.append((len(i), i))\n",
        "\n",
        "result = sorted(sort_word)\n",
        "\n",
        "for len_word, word in result:\n",
        "  print(word)"
      ]
    }
  ]
}