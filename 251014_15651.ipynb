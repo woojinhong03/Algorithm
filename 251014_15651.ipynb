{
  "nbformat": 4,
  "nbformat_minor": 0,
  "metadata": {
    "colab": {
      "provenance": [],
      "authorship_tag": "ABX9TyPYameQXH/9L/VdMsNemV36",
      "include_colab_link": true
    },
    "kernelspec": {
      "name": "python3",
      "display_name": "Python 3"
    },
    "language_info": {
      "name": "python"
    }
  },
  "cells": [
    {
      "cell_type": "markdown",
      "metadata": {
        "id": "view-in-github",
        "colab_type": "text"
      },
      "source": [
        "<a href=\"https://colab.research.google.com/github/woojinhong03/Algorithm/blob/main/251014_15651.ipynb\" target=\"_parent\"><img src=\"https://colab.research.google.com/assets/colab-badge.svg\" alt=\"Open In Colab\"/></a>"
      ]
    },
    {
      "cell_type": "code",
      "execution_count": null,
      "metadata": {
        "id": "3tK7EziWtNXf"
      },
      "outputs": [],
      "source": [
        "import sys\n",
        "input = sys.stdin.readline\n",
        "\n",
        "n, m = map(int, input().split())\n",
        "result = []\n",
        "\n",
        "def backtrack():\n",
        "  # 수열의 길이가 M에 도달하면 출력하고 종료\n",
        "  if len(result) == m:\n",
        "    print(' '.join(map(str, result)))\n",
        "    return\n",
        "\n",
        "  # 1부터 N까지의 숫자를 반복\n",
        "  for i in range(1, n + 1):\n",
        "    result.append(i)  # 현재 숫자를 수열에 추가\n",
        "    backtrack()       # 다음 숫자를 선택하기 위해 재귀 호출\n",
        "    result.pop()      # 재귀 호출이 끝나면 마지막에 추가한 숫자 제거\n",
        "\n",
        "backtrack()"
      ]
    }
  ]
}