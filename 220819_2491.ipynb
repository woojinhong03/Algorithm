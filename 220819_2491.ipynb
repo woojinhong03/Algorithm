{
  "nbformat": 4,
  "nbformat_minor": 0,
  "metadata": {
    "colab": {
      "name": "220819_2491.ipynb",
      "provenance": [],
      "collapsed_sections": []
    },
    "kernelspec": {
      "name": "python3",
      "display_name": "Python 3"
    },
    "language_info": {
      "name": "python"
    }
  },
  "cells": [
    {
      "cell_type": "code",
      "execution_count": 4,
      "metadata": {
        "colab": {
          "base_uri": "https://localhost:8080/"
        },
        "id": "c_StTYB_l1ba",
        "outputId": "8796470c-97fb-493e-ad38-7665c5e75eb4"
      },
      "outputs": [
        {
          "output_type": "stream",
          "name": "stdout",
          "text": [
            "3\n",
            "1 2 3\n",
            "0\n",
            "1\n",
            "2\n"
          ]
        }
      ],
      "source": [
        "N = int(input())\n",
        "arr = list(map(int, input().split()))\n",
        "cnt = 1\n",
        "max_l = 1\n",
        "for i in range(1, N):\n",
        "    if arr[i-1] >= arr[i]:\n",
        "        cnt += 1\n",
        "    else:\n",
        "        cnt = 1\n",
        "    if max_l < cnt:\n",
        "        max_l = cnt\n",
        "\n",
        "cnt = 1\n",
        "for i in range(1, N):\n",
        "    if arr[i-1] <= arr[i]:\n",
        "        cnt += 1\n",
        "    else:\n",
        "        cnt = 1\n",
        "    if max_l < cnt:\n",
        "        max_l = cnt\n",
        "print(max_l)"
      ]
    }
  ]
}