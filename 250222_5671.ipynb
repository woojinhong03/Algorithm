{
  "nbformat": 4,
  "nbformat_minor": 0,
  "metadata": {
    "colab": {
      "provenance": [],
      "authorship_tag": "ABX9TyPx+MZlRF5AOLvlTmxS2MPK",
      "include_colab_link": true
    },
    "kernelspec": {
      "name": "python3",
      "display_name": "Python 3"
    },
    "language_info": {
      "name": "python"
    }
  },
  "cells": [
    {
      "cell_type": "markdown",
      "metadata": {
        "id": "view-in-github",
        "colab_type": "text"
      },
      "source": [
        "<a href=\"https://colab.research.google.com/github/woojinhong03/Algorithm/blob/main/250222_5671.ipynb\" target=\"_parent\"><img src=\"https://colab.research.google.com/assets/colab-badge.svg\" alt=\"Open In Colab\"/></a>"
      ]
    },
    {
      "cell_type": "code",
      "execution_count": 2,
      "metadata": {
        "colab": {
          "base_uri": "https://localhost:8080/"
        },
        "id": "s8BltQVjIhjm",
        "outputId": "87ab0678-442f-45bc-ca1d-14f13812891b"
      },
      "outputs": [
        {
          "name": "stdout",
          "output_type": "stream",
          "text": [
            "87 104\n",
            "14\n",
            "989 1022\n",
            "0\n",
            "22 25\n",
            "3\n",
            "1234 1234\n",
            "1\n",
            "\n"
          ]
        }
      ],
      "source": [
        "# import sys\n",
        "# input = sys.stdin.readline\n",
        "\n",
        "while 1:\n",
        "    ho = input()\n",
        "    if not ho:\n",
        "        break\n",
        "    n, m = ho.split()\n",
        "    cnt = 0\n",
        "    for i in range(int(n), int(m) + 1):\n",
        "        if len(set(str(i))) == len(str(i)):\n",
        "            cnt += 1\n",
        "    print(cnt)"
      ]
    }
  ]
}