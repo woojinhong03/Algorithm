{
  "nbformat": 4,
  "nbformat_minor": 0,
  "metadata": {
    "colab": {
      "provenance": [],
      "authorship_tag": "ABX9TyNNTOeD2UVRxwQmz1EL2EOG",
      "include_colab_link": true
    },
    "kernelspec": {
      "name": "python3",
      "display_name": "Python 3"
    },
    "language_info": {
      "name": "python"
    }
  },
  "cells": [
    {
      "cell_type": "markdown",
      "metadata": {
        "id": "view-in-github",
        "colab_type": "text"
      },
      "source": [
        "<a href=\"https://colab.research.google.com/github/woojinhong03/Algorithm/blob/main/251012_1697.ipynb\" target=\"_parent\"><img src=\"https://colab.research.google.com/assets/colab-badge.svg\" alt=\"Open In Colab\"/></a>"
      ]
    },
    {
      "cell_type": "code",
      "execution_count": 1,
      "metadata": {
        "colab": {
          "base_uri": "https://localhost:8080/"
        },
        "id": "DuGsPIO0lFP7",
        "outputId": "44e67561-c9fa-46d6-e905-792d0632c569"
      },
      "outputs": [
        {
          "output_type": "stream",
          "name": "stdout",
          "text": [
            "5 17\n",
            "4\n"
          ]
        }
      ],
      "source": [
        "from collections import deque\n",
        "n, m = map(int, input().split())\n",
        "\n",
        "# 각 위치까지 걸리는 시간을 기록\n",
        "position = [0] * 100001\n",
        "\n",
        "def bfs(start_x):\n",
        "    queue = deque([start_x])\n",
        "\n",
        "    # 큐가 빌 때까지 반복\n",
        "    while queue:\n",
        "        # 큐에서 현재 위치를 꺼냄\n",
        "        x = queue.popleft()\n",
        "\n",
        "        # 현재 위치가 동생의 위치와 같다면 탐색 종료\n",
        "        if x == m:\n",
        "            # 현재 위치에 기록된 시간을 반환하고 함수 종료\n",
        "            return position[x]\n",
        "\n",
        "        # 현재 위치에서 이동할 수 있는 세 가지 경우 확인\n",
        "        for nx in (x - 1, x + 1, x * 2):\n",
        "            # 유효한 범위를 벗어난 경우 무시\n",
        "            if nx < 0 or nx >= 100001:\n",
        "                continue\n",
        "\n",
        "            # 해당 위치를 처음 방문하는 경우\n",
        "            if position[nx] == 0:\n",
        "                # 이전 위치의 시간에 1을 더해 다음 위치의 시간으로 기록\n",
        "                position[nx] = position[x] + 1\n",
        "                queue.append(nx)\n",
        "\n",
        "# 수빈이가 동생보다 앞에 있는 경우는 -1로만 이동 가능\n",
        "if n >= m:\n",
        "    print(n - m)\n",
        "else:\n",
        "    print(bfs(n))"
      ]
    }
  ]
}