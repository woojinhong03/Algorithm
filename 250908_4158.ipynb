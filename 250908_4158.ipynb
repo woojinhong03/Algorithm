{
  "nbformat": 4,
  "nbformat_minor": 0,
  "metadata": {
    "colab": {
      "provenance": [],
      "authorship_tag": "ABX9TyM7RAj66ed8uQ4j+EqAypJ3",
      "include_colab_link": true
    },
    "kernelspec": {
      "name": "python3",
      "display_name": "Python 3"
    },
    "language_info": {
      "name": "python"
    }
  },
  "cells": [
    {
      "cell_type": "markdown",
      "metadata": {
        "id": "view-in-github",
        "colab_type": "text"
      },
      "source": [
        "<a href=\"https://colab.research.google.com/github/woojinhong03/Algorithm/blob/main/250908_4158.ipynb\" target=\"_parent\"><img src=\"https://colab.research.google.com/assets/colab-badge.svg\" alt=\"Open In Colab\"/></a>"
      ]
    },
    {
      "cell_type": "code",
      "execution_count": 3,
      "metadata": {
        "colab": {
          "base_uri": "https://localhost:8080/"
        },
        "id": "MdCaXkogqllC",
        "outputId": "7b96316d-3549-4031-f60c-ac31068c537d"
      },
      "outputs": [
        {
          "name": "stdout",
          "output_type": "stream",
          "text": [
            "3 3\n",
            "1\n",
            "2\n",
            "3\n",
            "1\n",
            "2\n",
            "4\n",
            "2\n",
            "0 0\n"
          ]
        }
      ],
      "source": [
        "# import sys\n",
        "# input = sys.stdin.readline\n",
        "\n",
        "while True:\n",
        "    n, m = map(int, input().split())\n",
        "\n",
        "    if n == 0 and m == 0:\n",
        "        break\n",
        "\n",
        "    sg_cd = [int(input()) for _ in range(n)]    # 상근이, 선영이의 CD 목록 입력\n",
        "    sy_cd = [int(input()) for _ in range(m)]\n",
        "\n",
        "    sg_p = sy_p = cnt = 0\n",
        "\n",
        "    while sg_p < n and sy_p < m:\n",
        "        if sg_cd[sg_p] == sy_cd[sy_p]:  # 두 CD 번호가 같은 경우\n",
        "            cnt += 1\n",
        "            sg_p += 1\n",
        "            sy_p += 1\n",
        "        elif sg_cd[sg_p] < sy_cd[sy_p]: # 상근이 CD 번호가 더 작은 경우\n",
        "            sg_p += 1\n",
        "        else:\n",
        "            sy_p += 1\n",
        "\n",
        "    print(cnt)"
      ]
    }
  ]
}