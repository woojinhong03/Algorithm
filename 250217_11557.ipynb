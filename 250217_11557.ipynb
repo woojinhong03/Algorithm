{
  "nbformat": 4,
  "nbformat_minor": 0,
  "metadata": {
    "colab": {
      "provenance": [],
      "authorship_tag": "ABX9TyMMKRC8I67jmUMpRP/JnoUv",
      "include_colab_link": true
    },
    "kernelspec": {
      "name": "python3",
      "display_name": "Python 3"
    },
    "language_info": {
      "name": "python"
    }
  },
  "cells": [
    {
      "cell_type": "markdown",
      "metadata": {
        "id": "view-in-github",
        "colab_type": "text"
      },
      "source": [
        "<a href=\"https://colab.research.google.com/github/woojinhong03/Algorithm/blob/main/250217_11557.ipynb\" target=\"_parent\"><img src=\"https://colab.research.google.com/assets/colab-badge.svg\" alt=\"Open In Colab\"/></a>"
      ]
    },
    {
      "cell_type": "code",
      "execution_count": 2,
      "metadata": {
        "colab": {
          "base_uri": "https://localhost:8080/"
        },
        "id": "nRvv__M2TpB-",
        "outputId": "d935f22e-2add-42cd-f332-144f33466ce0"
      },
      "outputs": [
        {
          "output_type": "stream",
          "name": "stdout",
          "text": [
            "2\n",
            "3\n",
            "Yonsei 10\n",
            "Korea 10000000\n",
            "Ewha 20\n",
            "Korea\n",
            "2\n",
            "Yonsei 1\n",
            "Korea 1000000\n",
            "Korea\n"
          ]
        }
      ],
      "source": [
        "t = int(input())\n",
        "\n",
        "for _ in range(t):\n",
        "    n = int(input())\n",
        "    hak = []\n",
        "\n",
        "    for _ in range(n):\n",
        "        s, l = map(str, input().split())\n",
        "        hak.append([s,int(l)])\n",
        "\n",
        "    print(sorted(hak, key = lambda x: x[1])[-1][0])"
      ]
    }
  ]
}