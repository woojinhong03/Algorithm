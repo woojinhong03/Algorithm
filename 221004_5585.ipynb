{
  "nbformat": 4,
  "nbformat_minor": 0,
  "metadata": {
    "colab": {
      "provenance": [],
      "collapsed_sections": []
    },
    "kernelspec": {
      "name": "python3",
      "display_name": "Python 3"
    },
    "language_info": {
      "name": "python"
    }
  },
  "cells": [
    {
      "cell_type": "code",
      "execution_count": 4,
      "metadata": {
        "colab": {
          "base_uri": "https://localhost:8080/"
        },
        "id": "mktpr0AQmuEf",
        "outputId": "a8f9534d-4be8-4af7-d169-75356a6d7536"
      },
      "outputs": [
        {
          "output_type": "stream",
          "name": "stdout",
          "text": [
            "380\n",
            "4\n"
          ]
        }
      ],
      "source": [
        "m = [500,100,50,10,5,1]\n",
        "p = 1000 - int(input())\n",
        "cnt = 0\n",
        "for i in m:\n",
        "    if p >= i:\n",
        "        while p >= i:\n",
        "            p -= i\n",
        "            cnt += 1\n",
        "print(cnt)\n"
      ]
    }
  ]
}