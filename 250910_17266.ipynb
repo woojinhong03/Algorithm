{
  "nbformat": 4,
  "nbformat_minor": 0,
  "metadata": {
    "colab": {
      "provenance": [],
      "authorship_tag": "ABX9TyMOou1/uLxjoYh2WU1VI/0f",
      "include_colab_link": true
    },
    "kernelspec": {
      "name": "python3",
      "display_name": "Python 3"
    },
    "language_info": {
      "name": "python"
    }
  },
  "cells": [
    {
      "cell_type": "markdown",
      "metadata": {
        "id": "view-in-github",
        "colab_type": "text"
      },
      "source": [
        "<a href=\"https://colab.research.google.com/github/woojinhong03/Algorithm/blob/main/250910_17266.ipynb\" target=\"_parent\"><img src=\"https://colab.research.google.com/assets/colab-badge.svg\" alt=\"Open In Colab\"/></a>"
      ]
    },
    {
      "cell_type": "code",
      "execution_count": 1,
      "metadata": {
        "colab": {
          "base_uri": "https://localhost:8080/"
        },
        "id": "6UH_NjT-Gm2_",
        "outputId": "7b640cfa-e3b4-4f4f-e59c-2659ed8a39f1"
      },
      "outputs": [
        {
          "output_type": "stream",
          "name": "stdout",
          "text": [
            "5\n",
            "2\n",
            "2 4\n",
            "2\n"
          ]
        }
      ],
      "source": [
        "# import sys\n",
        "# input = sys.stdin.readline\n",
        "\n",
        "n = int(input())\n",
        "m = int(input())\n",
        "locations = list(map(int, input().split()))\n",
        "\n",
        "height = 0\n",
        "height = locations[0]\n",
        "height = max(height, n - locations[-1])\n",
        "\n",
        "for i in range(1, m):\n",
        "    distance = locations[i] - locations[i-1]\n",
        "    height = max(height, (distance + 1) // 2)\n",
        "\n",
        "print(height)"
      ]
    }
  ]
}