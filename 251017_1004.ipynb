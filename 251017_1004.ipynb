{
  "nbformat": 4,
  "nbformat_minor": 0,
  "metadata": {
    "colab": {
      "provenance": [],
      "authorship_tag": "ABX9TyPc1QecUyB6TcpFzgvEGXjc",
      "include_colab_link": true
    },
    "kernelspec": {
      "name": "python3",
      "display_name": "Python 3"
    },
    "language_info": {
      "name": "python"
    }
  },
  "cells": [
    {
      "cell_type": "markdown",
      "metadata": {
        "id": "view-in-github",
        "colab_type": "text"
      },
      "source": [
        "<a href=\"https://colab.research.google.com/github/woojinhong03/Algorithm/blob/main/251017_1004.ipynb\" target=\"_parent\"><img src=\"https://colab.research.google.com/assets/colab-badge.svg\" alt=\"Open In Colab\"/></a>"
      ]
    },
    {
      "cell_type": "code",
      "execution_count": null,
      "metadata": {
        "id": "PnbULTtlVLGW"
      },
      "outputs": [],
      "source": [
        "import sys\n",
        "input = sys.stdin.readline\n",
        "\n",
        "for _ in range(int(input())):\n",
        "    x1, y1, x2, y2 = map(int, input().split())\n",
        "    n = int(input())\n",
        "\n",
        "    count = 0  # 경계 통과 횟수\n",
        "\n",
        "    for _ in range(n):\n",
        "        # 행성계의 중심 (cx, cy)와 반지름 r 입력\n",
        "        cx, cy, r = map(int, input().split())\n",
        "\n",
        "        # 출발점이 원 안에 있는지 확인\n",
        "        is_start_in = (x1 - cx)**2 + (y1 - cy)**2 < r**2\n",
        "\n",
        "        # 도착점이 원 안에 있는지 확인\n",
        "        is_end_in = (x2 - cx)**2 + (y2 - cy)**2 < r**2\n",
        "\n",
        "        # XOR 연산\n",
        "        if is_start_in ^ is_end_in:\n",
        "            count += 1\n",
        "\n",
        "    print(count)"
      ]
    }
  ]
}