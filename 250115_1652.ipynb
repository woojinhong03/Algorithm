{
  "nbformat": 4,
  "nbformat_minor": 0,
  "metadata": {
    "colab": {
      "provenance": [],
      "authorship_tag": "ABX9TyMqgZamztqLWs9xlsl/BhbF",
      "include_colab_link": true
    },
    "kernelspec": {
      "name": "python3",
      "display_name": "Python 3"
    },
    "language_info": {
      "name": "python"
    }
  },
  "cells": [
    {
      "cell_type": "markdown",
      "metadata": {
        "id": "view-in-github",
        "colab_type": "text"
      },
      "source": [
        "<a href=\"https://colab.research.google.com/github/woojinhong03/Algorithm/blob/main/250115_1652.ipynb\" target=\"_parent\"><img src=\"https://colab.research.google.com/assets/colab-badge.svg\" alt=\"Open In Colab\"/></a>"
      ]
    },
    {
      "cell_type": "code",
      "execution_count": 11,
      "metadata": {
        "colab": {
          "base_uri": "https://localhost:8080/"
        },
        "id": "Qf8r42icGUDW",
        "outputId": "76c643ad-46ba-4763-f367-60186d07d27f"
      },
      "outputs": [
        {
          "output_type": "stream",
          "name": "stdout",
          "text": [
            "5\n",
            "....x\n",
            "..xx.\n",
            ".....\n",
            ".xx..\n",
            "x....\n",
            "5 4\n"
          ]
        }
      ],
      "source": [
        "n = int(input())\n",
        "bang = [list(input()) for _ in range(n)]\n",
        "\n",
        "garo = 0\n",
        "sero = 0\n",
        "\n",
        "# 가로 검사\n",
        "for y in range(n):\n",
        "    count = 0\n",
        "    for x in range(n):\n",
        "        if bang[y][x] == '.':\n",
        "            count += 1\n",
        "        else:\n",
        "            if count >= 2:  # 2자리 연속으로 남아있다면\n",
        "                garo += 1   # 누울 곳 +1\n",
        "            count = 0   # 초기화\n",
        "    if count >= 2:  # 줄이 끝났을 때 한번 더 확인\n",
        "        garo += 1\n",
        "\n",
        "# 세로 검사\n",
        "for x in range(n):\n",
        "    count = 0\n",
        "    for y in range(n):\n",
        "        if bang[y][x] == '.':\n",
        "            count += 1\n",
        "        else:\n",
        "            if count >= 2:  # 2자리 연속으로 남아있다면\n",
        "                sero += 1   # 누울 곳 +1\n",
        "            count = 0   # 초기화\n",
        "    if count >= 2:  # 열이 끝났을 때 한번 더 확인\n",
        "        sero += 1\n",
        "\n",
        "print(garo, sero)"
      ]
    }
  ]
}