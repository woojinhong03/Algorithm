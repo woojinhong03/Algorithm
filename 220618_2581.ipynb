{
  "nbformat": 4,
  "nbformat_minor": 0,
  "metadata": {
    "colab": {
      "name": "220618_2581.ipynb",
      "provenance": [],
      "collapsed_sections": [],
      "authorship_tag": "ABX9TyMYu+bVOYz5eb0vW1bJmfcJ",
      "include_colab_link": true
    },
    "kernelspec": {
      "name": "python3",
      "display_name": "Python 3"
    },
    "language_info": {
      "name": "python"
    }
  },
  "cells": [
    {
      "cell_type": "markdown",
      "metadata": {
        "id": "view-in-github",
        "colab_type": "text"
      },
      "source": [
        "<a href=\"https://colab.research.google.com/github/woojinhong03/Algorithm/blob/main/220618_2581.ipynb\" target=\"_parent\"><img src=\"https://colab.research.google.com/assets/colab-badge.svg\" alt=\"Open In Colab\"/></a>"
      ]
    },
    {
      "cell_type": "code",
      "execution_count": 3,
      "metadata": {
        "colab": {
          "base_uri": "https://localhost:8080/"
        },
        "id": "P32-tPVN1wzY",
        "outputId": "4c73f23d-96d4-4bb1-d42c-e77b7a318073"
      },
      "outputs": [
        {
          "output_type": "stream",
          "name": "stdout",
          "text": [
            "60\n",
            "100\n",
            "620\n",
            "61\n"
          ]
        }
      ],
      "source": [
        "M=int(input())\n",
        "N=int(input())\n",
        "arr=[]\n",
        "\n",
        "for i in range(M,N+1):\n",
        "    if i==1:\n",
        "        pass\n",
        "    elif i==2:\n",
        "        arr.append(i)\n",
        "    else:\n",
        "        for j in range(2, i):\n",
        "            if i%j==0:\n",
        "                break\n",
        "            if j==i-1:\n",
        "                arr.append(i)\n",
        "if len(arr)==0:\n",
        "    print('-1')\n",
        "else:\n",
        "    print(sum(arr))\n",
        "    print(min(arr))"
      ]
    }
  ]
}