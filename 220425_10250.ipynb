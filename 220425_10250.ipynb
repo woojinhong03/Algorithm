{
  "nbformat": 4,
  "nbformat_minor": 0,
  "metadata": {
    "colab": {
      "name": "220425_10250.ipynb",
      "provenance": [],
      "collapsed_sections": [],
      "authorship_tag": "ABX9TyNGG0tzffU/U+ulNZnGMNlu",
      "include_colab_link": true
    },
    "kernelspec": {
      "name": "python3",
      "display_name": "Python 3"
    },
    "language_info": {
      "name": "python"
    }
  },
  "cells": [
    {
      "cell_type": "markdown",
      "metadata": {
        "id": "view-in-github",
        "colab_type": "text"
      },
      "source": [
        "<a href=\"https://colab.research.google.com/github/woojinhong03/Baekjoon-Programmers/blob/main/220425_10250.ipynb\" target=\"_parent\"><img src=\"https://colab.research.google.com/assets/colab-badge.svg\" alt=\"Open In Colab\"/></a>"
      ]
    },
    {
      "cell_type": "code",
      "execution_count": null,
      "metadata": {
        "id": "rq-0qtBNdjAE"
      },
      "outputs": [],
      "source": [
        "t = int(input())\n",
        "\n",
        "for i in range(t):\n",
        "    h, w, n = map(int, input().split())\n",
        "    num = n//h + 1\n",
        "    floor = n % h\n",
        "    if n % h == 0:\n",
        "        num = n//h\n",
        "        floor = h\n",
        "    print(f'{floor*100+num}')"
      ]
    }
  ]
}