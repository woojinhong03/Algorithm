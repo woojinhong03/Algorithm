{
  "nbformat": 4,
  "nbformat_minor": 0,
  "metadata": {
    "colab": {
      "provenance": [],
      "authorship_tag": "ABX9TyP4gjcplT03AVr7rPcxvgZX",
      "include_colab_link": true
    },
    "kernelspec": {
      "name": "python3",
      "display_name": "Python 3"
    },
    "language_info": {
      "name": "python"
    }
  },
  "cells": [
    {
      "cell_type": "markdown",
      "metadata": {
        "id": "view-in-github",
        "colab_type": "text"
      },
      "source": [
        "<a href=\"https://colab.research.google.com/github/woojinhong03/Algorithm/blob/main/241210_10811.ipynb\" target=\"_parent\"><img src=\"https://colab.research.google.com/assets/colab-badge.svg\" alt=\"Open In Colab\"/></a>"
      ]
    },
    {
      "cell_type": "code",
      "execution_count": 5,
      "metadata": {
        "id": "BCDGQSU0nmyb",
        "colab": {
          "base_uri": "https://localhost:8080/"
        },
        "outputId": "bab36a35-2a61-4837-a377-24fee06b05a5"
      },
      "outputs": [
        {
          "output_type": "stream",
          "name": "stdout",
          "text": [
            "5 4\n",
            "1 2\n",
            "3 4\n",
            "1 4\n",
            "2 2\n",
            "[3, 4, 1, 2, 5]\n"
          ]
        }
      ],
      "source": [
        "n,m = map(int,input().split())\n",
        "bagu = [x for x in range(1,n+1)]\n",
        "\n",
        "for k in range(m):\n",
        "    i,j = map(int,input().split())\n",
        "    bagu[i-1:j] = reversed(bagu[i-1:j])\n",
        "\n",
        "print(*bagu)"
      ]
    }
  ]
}