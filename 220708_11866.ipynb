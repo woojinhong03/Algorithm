{
  "nbformat": 4,
  "nbformat_minor": 0,
  "metadata": {
    "colab": {
      "name": "220708_11866.ipynb",
      "provenance": []
    },
    "kernelspec": {
      "name": "python3",
      "display_name": "Python 3"
    },
    "language_info": {
      "name": "python"
    }
  },
  "cells": [
    {
      "cell_type": "code",
      "execution_count": 1,
      "metadata": {
        "colab": {
          "base_uri": "https://localhost:8080/"
        },
        "id": "TLX6ntczGyHx",
        "outputId": "3891e63b-245b-4a92-82a9-0fea434843c4"
      },
      "outputs": [
        {
          "output_type": "stream",
          "name": "stdout",
          "text": [
            "7 3\n",
            "<3, 6, 2, 7, 5, 1, 4>\n"
          ]
        }
      ],
      "source": [
        "from collections import deque\n",
        "n, k = map(int, input().split())\n",
        "s = deque([])\n",
        "for i in range(1, n + 1):\n",
        "    s.append(i)\n",
        "print('<', end='')\n",
        "while s:\n",
        "    for i in range(k - 1):\n",
        "        s.append(s[0])\n",
        "        s.popleft()\n",
        "    print(s.popleft(), end='')\n",
        "    if s:\n",
        "        print(', ', end='')\n",
        "print('>')"
      ]
    }
  ]
}