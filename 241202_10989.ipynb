{
  "nbformat": 4,
  "nbformat_minor": 0,
  "metadata": {
    "colab": {
      "provenance": [],
      "authorship_tag": "ABX9TyMhO8y8ZJ/cSTo76frbGKIz",
      "include_colab_link": true
    },
    "kernelspec": {
      "name": "python3",
      "display_name": "Python 3"
    },
    "language_info": {
      "name": "python"
    }
  },
  "cells": [
    {
      "cell_type": "markdown",
      "metadata": {
        "id": "view-in-github",
        "colab_type": "text"
      },
      "source": [
        "<a href=\"https://colab.research.google.com/github/woojinhong03/Algorithm/blob/main/241202_10989.ipynb\" target=\"_parent\"><img src=\"https://colab.research.google.com/assets/colab-badge.svg\" alt=\"Open In Colab\"/></a>"
      ]
    },
    {
      "cell_type": "code",
      "source": [
        "# import sys\n",
        "# input = sys.stdin.readline    #입력받는 시간을 단축시켜준다.\n",
        "\n",
        "n = int(input())\n",
        "arr = [0] * 10001   #미리 배열을 만들어준다.\n",
        "\n",
        "for _ in range(n):\n",
        "    arr[int(input())] += 1  #받은 숫자를 인덱스번호로 하는 자리를 += 1 해준다.\n",
        "\n",
        "for i in range(len(arr)):\n",
        "    if arr[i] != 0: #숫자가 0이 아니면(숫자가 들어온 적 있다면)\n",
        "        for _ in range(arr[i]):\n",
        "            print(i)    #들어온 갯수만큼 그 숫자를 출력한다.\n"
      ],
      "metadata": {
        "colab": {
          "base_uri": "https://localhost:8080/"
        },
        "id": "gKKQ7BspAI31",
        "outputId": "3b215608-e48f-4a10-c925-f4746476e927"
      },
      "execution_count": 1,
      "outputs": [
        {
          "output_type": "stream",
          "name": "stdout",
          "text": [
            "10\n",
            "5\n",
            "2\n",
            "3\n",
            "1\n",
            "4\n",
            "2\n",
            "3\n",
            "5\n",
            "1\n",
            "7\n",
            "1\n",
            "1\n",
            "2\n",
            "2\n",
            "3\n",
            "3\n",
            "4\n",
            "5\n",
            "5\n",
            "7\n"
          ]
        }
      ]
    }
  ]
}