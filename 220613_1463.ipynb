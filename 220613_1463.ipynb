{
  "nbformat": 4,
  "nbformat_minor": 0,
  "metadata": {
    "colab": {
      "name": "220613_1463.ipynb",
      "provenance": [],
      "collapsed_sections": [],
      "authorship_tag": "ABX9TyOgdlmbg4o9fFUppkf8VFez",
      "include_colab_link": true
    },
    "kernelspec": {
      "name": "python3",
      "display_name": "Python 3"
    },
    "language_info": {
      "name": "python"
    }
  },
  "cells": [
    {
      "cell_type": "markdown",
      "metadata": {
        "id": "view-in-github",
        "colab_type": "text"
      },
      "source": [
        "<a href=\"https://colab.research.google.com/github/woojinhong03/Algorithm/blob/main/220613_1463.ipynb\" target=\"_parent\"><img src=\"https://colab.research.google.com/assets/colab-badge.svg\" alt=\"Open In Colab\"/></a>"
      ]
    },
    {
      "cell_type": "code",
      "execution_count": 15,
      "metadata": {
        "colab": {
          "base_uri": "https://localhost:8080/"
        },
        "id": "OQfkU3MCiW4Y",
        "outputId": "cddca168-3e3e-4968-f0f8-55d147065ed7"
      },
      "outputs": [
        {
          "output_type": "stream",
          "name": "stdout",
          "text": [
            "4521\n",
            "13\n"
          ]
        }
      ],
      "source": [
        "x = int(input())\n",
        "\n",
        "dp = [0] * (x+1)\n",
        "\n",
        "for i in range(2, x+1):\n",
        "  dp[i] = dp[i-1] + 1\n",
        "\n",
        "  if i % 2 == 0:\n",
        "    dp[i] = min(dp[i], dp[i//2]+1)\n",
        "  if i % 3 == 0:\n",
        "    dp[i] = min(dp[i], dp[i//3] + 1)\n",
        "\n",
        "print(dp[x])"
      ]
    }
  ]
}