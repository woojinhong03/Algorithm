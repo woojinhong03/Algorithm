{
  "nbformat": 4,
  "nbformat_minor": 0,
  "metadata": {
    "colab": {
      "name": "220720_1476.ipynb",
      "provenance": [],
      "collapsed_sections": []
    },
    "kernelspec": {
      "name": "python3",
      "display_name": "Python 3"
    },
    "language_info": {
      "name": "python"
    }
  },
  "cells": [
    {
      "cell_type": "code",
      "execution_count": 1,
      "metadata": {
        "colab": {
          "base_uri": "https://localhost:8080/"
        },
        "id": "efHM8G6_MPGP",
        "outputId": "4e1fc0d7-b49d-4c90-d5dd-0edee8e73f09"
      },
      "outputs": [
        {
          "output_type": "stream",
          "name": "stdout",
          "text": [
            "1 16 16\n",
            "16\n"
          ]
        }
      ],
      "source": [
        "E,S,M,cnt =1,1,1,1\n",
        "\n",
        "i_E , i_S , i_M = map(int,input().split())\n",
        "\n",
        "while(True):\n",
        "    if i_E==E and i_S==S and i_M==M :\n",
        "        break\n",
        "    E+=1 ; S+=1 ; M+=1; cnt+=1\n",
        "    if E>=16 : E-=15\n",
        "    if S>=29 : S-=28\n",
        "    if M>=20 : M-=19\n",
        "\n",
        "\n",
        "\n",
        "print(cnt)"
      ]
    }
  ]
}