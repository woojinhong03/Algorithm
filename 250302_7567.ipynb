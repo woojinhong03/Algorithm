{
  "nbformat": 4,
  "nbformat_minor": 0,
  "metadata": {
    "colab": {
      "provenance": [],
      "authorship_tag": "ABX9TyOHfXfx8RONqS7Cwn9pmGT/",
      "include_colab_link": true
    },
    "kernelspec": {
      "name": "python3",
      "display_name": "Python 3"
    },
    "language_info": {
      "name": "python"
    }
  },
  "cells": [
    {
      "cell_type": "markdown",
      "metadata": {
        "id": "view-in-github",
        "colab_type": "text"
      },
      "source": [
        "<a href=\"https://colab.research.google.com/github/woojinhong03/Algorithm/blob/main/250302_7567.ipynb\" target=\"_parent\"><img src=\"https://colab.research.google.com/assets/colab-badge.svg\" alt=\"Open In Colab\"/></a>"
      ]
    },
    {
      "cell_type": "code",
      "execution_count": 6,
      "metadata": {
        "colab": {
          "base_uri": "https://localhost:8080/"
        },
        "id": "JothWAYTAi57",
        "outputId": "b0a8d042-93fe-4831-ee09-bc73e47bee92"
      },
      "outputs": [
        {
          "output_type": "stream",
          "name": "stdout",
          "text": [
            "()()()))(\n",
            "80\n"
          ]
        }
      ],
      "source": [
        "temp, tot = \"\", 0\n",
        "\n",
        "for i in list(input()):\n",
        "    if i != temp:\n",
        "        tot += 10\n",
        "        temp = i\n",
        "    else:\n",
        "        tot += 5\n",
        "\n",
        "print(tot)"
      ]
    }
  ]
}