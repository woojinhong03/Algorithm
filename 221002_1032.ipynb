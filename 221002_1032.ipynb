{
  "nbformat": 4,
  "nbformat_minor": 0,
  "metadata": {
    "colab": {
      "provenance": [],
      "collapsed_sections": [],
      "authorship_tag": "ABX9TyPu450uUQK8DuhRRFg0GSNn",
      "include_colab_link": true
    },
    "kernelspec": {
      "name": "python3",
      "display_name": "Python 3"
    },
    "language_info": {
      "name": "python"
    }
  },
  "cells": [
    {
      "cell_type": "markdown",
      "metadata": {
        "id": "view-in-github",
        "colab_type": "text"
      },
      "source": [
        "<a href=\"https://colab.research.google.com/github/woojinhong03/Algorithm/blob/main/221002_1032.ipynb\" target=\"_parent\"><img src=\"https://colab.research.google.com/assets/colab-badge.svg\" alt=\"Open In Colab\"/></a>"
      ]
    },
    {
      "cell_type": "code",
      "execution_count": 1,
      "metadata": {
        "colab": {
          "base_uri": "https://localhost:8080/"
        },
        "id": "JBAK99FM_bqp",
        "outputId": "6e6cadcf-5327-45e8-9e5f-d0583da7fa31"
      },
      "outputs": [
        {
          "output_type": "stream",
          "name": "stdout",
          "text": [
            "3\n",
            "c.user.mike.programs\n",
            "c.user.nike.programs\n",
            "c.user.rice.programs\n",
            "c.user.?i?e.programs\n"
          ]
        }
      ],
      "source": [
        "n = int(input())\n",
        "\n",
        "name = list(input())\n",
        "name_len = len(name)\n",
        "\n",
        "for i in range(n - 1):\n",
        "    b = list(input())\n",
        "    for j in range(name_len):\n",
        "        if name[j] != b[j]:\n",
        "            name[j] = '?'\n",
        "\n",
        "print(''.join(name))"
      ]
    }
  ]
}