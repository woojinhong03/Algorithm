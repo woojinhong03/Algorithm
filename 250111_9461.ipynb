{
  "nbformat": 4,
  "nbformat_minor": 0,
  "metadata": {
    "colab": {
      "provenance": [],
      "authorship_tag": "ABX9TyPkbFBZbpORIAoYiZtDDDr5",
      "include_colab_link": true
    },
    "kernelspec": {
      "name": "python3",
      "display_name": "Python 3"
    },
    "language_info": {
      "name": "python"
    }
  },
  "cells": [
    {
      "cell_type": "markdown",
      "metadata": {
        "id": "view-in-github",
        "colab_type": "text"
      },
      "source": [
        "<a href=\"https://colab.research.google.com/github/woojinhong03/Algorithm/blob/main/250111_9461.ipynb\" target=\"_parent\"><img src=\"https://colab.research.google.com/assets/colab-badge.svg\" alt=\"Open In Colab\"/></a>"
      ]
    },
    {
      "cell_type": "code",
      "execution_count": 28,
      "metadata": {
        "colab": {
          "base_uri": "https://localhost:8080/"
        },
        "id": "L9mGdnMpGref",
        "outputId": "b9e92114-35b8-4d92-f32e-042a0994b67d"
      },
      "outputs": [
        {
          "output_type": "stream",
          "name": "stdout",
          "text": [
            "3\n",
            "1\n",
            "1\n",
            "2\n",
            "1\n",
            "3\n",
            "1\n"
          ]
        }
      ],
      "source": [
        "for i in range(int(input())):\n",
        "    p = [1,1,1]     #배열 앞부분은 미리 선언\n",
        "    n = int(input())\n",
        "    for j in range(n-3):\n",
        "        p.append(p[j]+p[j+1])   #배열에 p[n-2] + p[n-3]의 값을 더해줌\n",
        "    print(p[-1])    #마지막 값 출력"
      ]
    }
  ]
}