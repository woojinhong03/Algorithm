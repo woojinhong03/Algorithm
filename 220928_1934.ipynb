{
  "nbformat": 4,
  "nbformat_minor": 0,
  "metadata": {
    "colab": {
      "provenance": [],
      "collapsed_sections": []
    },
    "kernelspec": {
      "name": "python3",
      "display_name": "Python 3"
    },
    "language_info": {
      "name": "python"
    }
  },
  "cells": [
    {
      "cell_type": "code",
      "execution_count": 5,
      "metadata": {
        "colab": {
          "base_uri": "https://localhost:8080/"
        },
        "id": "JiybfU0S3bLH",
        "outputId": "8ffc7af8-c71e-41be-b323-cb40ebe08d4e"
      },
      "outputs": [
        {
          "output_type": "stream",
          "name": "stdout",
          "text": [
            "3\n",
            "1 45000\n",
            "45000\n",
            "6 10\n",
            "30\n",
            "13 17\n",
            "221\n"
          ]
        }
      ],
      "source": [
        "t = int(input())\n",
        "\n",
        "for i in range(t):\n",
        "    a,b = map(int,input().split())\n",
        "    A,B = a,b\n",
        "\n",
        "    while a != 0:\n",
        "        b = b % a\n",
        "        a,b = b,a  \n",
        "\n",
        "    gcd = b\n",
        "    lcm = A * B //b\n",
        "    print(lcm)"
      ]
    }
  ]
}