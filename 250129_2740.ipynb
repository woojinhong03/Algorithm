{
  "nbformat": 4,
  "nbformat_minor": 0,
  "metadata": {
    "colab": {
      "provenance": [],
      "authorship_tag": "ABX9TyPNmE73SbvhGuvLwEfq9xiZ",
      "include_colab_link": true
    },
    "kernelspec": {
      "name": "python3",
      "display_name": "Python 3"
    },
    "language_info": {
      "name": "python"
    }
  },
  "cells": [
    {
      "cell_type": "markdown",
      "metadata": {
        "id": "view-in-github",
        "colab_type": "text"
      },
      "source": [
        "<a href=\"https://colab.research.google.com/github/woojinhong03/Algorithm/blob/main/250129_2740.ipynb\" target=\"_parent\"><img src=\"https://colab.research.google.com/assets/colab-badge.svg\" alt=\"Open In Colab\"/></a>"
      ]
    },
    {
      "cell_type": "code",
      "execution_count": null,
      "metadata": {
        "id": "V_S8QOomjgzV"
      },
      "outputs": [],
      "source": [
        "import sys\n",
        "input = sys.stdin.readline\n",
        "\n",
        "n, m = map(int,input().split())\n",
        "a = [list(map(int,input().split())) for i in range(n)]\n",
        "m, k = map(int,input().split())\n",
        "b = [list(map(int,input().split())) for i in range(m)]\n",
        "\n",
        "for i in range(n):\n",
        "    result = []\n",
        "    for l in range(k):\n",
        "        x = 0\n",
        "        for j in range(m):\n",
        "            x += a[i][j] * b[j][l]\n",
        "        result.append(x)\n",
        "    print(*result)"
      ]
    }
  ]
}