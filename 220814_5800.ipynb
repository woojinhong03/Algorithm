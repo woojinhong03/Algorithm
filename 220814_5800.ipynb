{
  "nbformat": 4,
  "nbformat_minor": 0,
  "metadata": {
    "colab": {
      "name": "220814_5800.ipynb",
      "provenance": [],
      "collapsed_sections": []
    },
    "kernelspec": {
      "name": "python3",
      "display_name": "Python 3"
    },
    "language_info": {
      "name": "python"
    }
  },
  "cells": [
    {
      "cell_type": "code",
      "execution_count": 1,
      "metadata": {
        "colab": {
          "base_uri": "https://localhost:8080/"
        },
        "id": "0NKFNtYtam9I",
        "outputId": "800779c2-4639-45db-d0df-0bc1d929d8a0"
      },
      "outputs": [
        {
          "output_type": "stream",
          "name": "stdout",
          "text": [
            "2\n",
            "5 30 24 34 56 73\n",
            "Class 1\n",
            "Max 73, Min 24, Largest gap 22\n",
            "6 23 13 55 74 77 22\n",
            "Class 2\n",
            "Max 77, Min 13, Largest gap 32\n"
          ]
        }
      ],
      "source": [
        "k = int(input())\n",
        "student = []\n",
        "for j in range(1,k+1):\n",
        "    student = list(map(int,input().split()))\n",
        "    student = student[1:]\n",
        "    s_student = sorted(student)\n",
        "    lg = 0\n",
        "    for i in range(0,len(s_student)-1): \n",
        "        if s_student[i+1] - s_student[i]>lg:\n",
        "            lg = s_student[i+1] - s_student[i]\n",
        "    print(f'Class {j}')\n",
        "    print(f'Max {max(s_student)}, Min {min(s_student)}, Largest gap {lg}')"
      ]
    }
  ]
}