{
  "nbformat": 4,
  "nbformat_minor": 0,
  "metadata": {
    "colab": {
      "provenance": [],
      "authorship_tag": "ABX9TyOq02bUrwNSf31W7J9p6MfJ",
      "include_colab_link": true
    },
    "kernelspec": {
      "name": "python3",
      "display_name": "Python 3"
    },
    "language_info": {
      "name": "python"
    }
  },
  "cells": [
    {
      "cell_type": "markdown",
      "metadata": {
        "id": "view-in-github",
        "colab_type": "text"
      },
      "source": [
        "<a href=\"https://colab.research.google.com/github/woojinhong03/Algorithm/blob/main/250269_17269.ipynb\" target=\"_parent\"><img src=\"https://colab.research.google.com/assets/colab-badge.svg\" alt=\"Open In Colab\"/></a>"
      ]
    },
    {
      "cell_type": "code",
      "execution_count": 36,
      "metadata": {
        "colab": {
          "base_uri": "https://localhost:8080/"
        },
        "id": "0O8QZ686eSFx",
        "outputId": "43744e67-1029-4357-b677-aa3d1661850f"
      },
      "outputs": [
        {
          "output_type": "stream",
          "name": "stdout",
          "text": [
            "8 14\n",
            "LEESIYUN MIYAWAKISAKURA\n",
            "['L', 'M', 'E', 'I', 'E', 'Y', 'S', 'A', 'I', 'W', 'Y', 'A', 'U', 'K', 'N', 'I']\n",
            "27%\n"
          ]
        }
      ],
      "source": [
        "al = {'A':3,'B':2,'C':1,'D':2,'E':4,'F':3,'G':1,'H':3,'I':1,'J':1,'K':3,'L':1,'M':3,'N':2,'O':1,'P':2,'Q':2,'R':2,'S':1,'T':2,'U':1,'V':1,'W':1,'X':2,'Y':2,'Z':1}\n",
        "n, m = map(int,input().split())\n",
        "a, b = input().split()\n",
        "new = []\n",
        "\n",
        "for i in range(min(n,m)):   #['L', 'M', 'E', 'I', 'E', 'Y', 'S', 'A', 'I', 'W', 'Y', 'A', 'U', 'K', 'N', 'I']\n",
        "    new += a[i] + b[i]\n",
        "\n",
        "if n > m:   #뒤에 열 추가\n",
        "    new += a[min(n,m):]\n",
        "else:\n",
        "    new += b[min(n,m):]\n",
        "\n",
        "su = []\n",
        "for i in new:   #수로 변경\n",
        "    su.append(al[i])\n",
        "\n",
        "while len(su) > 2:\n",
        "    for i in range(len(su)-1):\n",
        "        if su[i]+su[i+1] >= 10: #수가 10을 넘을경우 일의자리만\n",
        "            su.append(int(str(su[i]+su[i+1])[1]))\n",
        "        else:\n",
        "            su.append(su[i]+su[i+1])\n",
        "    su = su[len(su):]   #이전 수들 삭제\n",
        "\n",
        "print(str(int(str(su[0])+str(su[1])))+'%')"
      ]
    }
  ]
}