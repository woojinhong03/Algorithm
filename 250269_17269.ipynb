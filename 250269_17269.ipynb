{
  "nbformat": 4,
  "nbformat_minor": 0,
  "metadata": {
    "colab": {
      "provenance": [],
      "authorship_tag": "ABX9TyOJH3+8vt4Bh1jzL7OEbUFd",
      "include_colab_link": true
    },
    "kernelspec": {
      "name": "python3",
      "display_name": "Python 3"
    },
    "language_info": {
      "name": "python"
    }
  },
  "cells": [
    {
      "cell_type": "markdown",
      "metadata": {
        "id": "view-in-github",
        "colab_type": "text"
      },
      "source": [
        "<a href=\"https://colab.research.google.com/github/woojinhong03/Algorithm/blob/main/250269_17269.ipynb\" target=\"_parent\"><img src=\"https://colab.research.google.com/assets/colab-badge.svg\" alt=\"Open In Colab\"/></a>"
      ]
    },
    {
      "cell_type": "code",
      "execution_count": 35,
      "metadata": {
        "colab": {
          "base_uri": "https://localhost:8080/"
        },
        "id": "0O8QZ686eSFx",
        "outputId": "833d8f9b-132c-4e40-8285-f6505ecb221b"
      },
      "outputs": [
        {
          "output_type": "stream",
          "name": "stdout",
          "text": [
            "8 14\n",
            "LEESIYUN MIYAWAKISAKURA\n",
            "27%\n"
          ]
        }
      ],
      "source": [
        "al = {'A':3,'B':2,'C':1,'D':2,'E':4,'F':3,'G':1,'H':3,'I':1,'J':1,'K':3,'L':1,'M':3,'N':2,'O':1,'P':2,'Q':2,'R':2,'S':1,'T':2,'U':1,'V':1,'W':1,'X':2,'Y':2,'Z':1}\n",
        "n, m = map(int,input().split())\n",
        "a, b = input().split()\n",
        "new = []\n",
        "for i in range(min(n,m)):\n",
        "    new += a[i] + b[i]\n",
        "\n",
        "if n > m:\n",
        "    new += a[min(n,m):]\n",
        "else:\n",
        "    new += b[min(n,m):]\n",
        "\n",
        "su = []\n",
        "for i in new:\n",
        "    su.append(al[i])\n",
        "\n",
        "while len(su) > 2:\n",
        "    cnt = len(su)\n",
        "    for i in range(len(su)-1):\n",
        "        if su[i]+su[i+1] >= 10:\n",
        "            su.append(int(str(su[i]+su[i+1])[1]))\n",
        "        else:\n",
        "            su.append(su[i]+su[i+1])\n",
        "    su = su[cnt:]\n",
        "print(str(int(str(su[0])+str(su[1])))+'%')"
      ]
    }
  ]
}