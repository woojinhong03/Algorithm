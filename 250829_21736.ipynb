{
  "nbformat": 4,
  "nbformat_minor": 0,
  "metadata": {
    "colab": {
      "provenance": [],
      "authorship_tag": "ABX9TyPkpz0ElQc1t//W10BNIbH+",
      "include_colab_link": true
    },
    "kernelspec": {
      "name": "python3",
      "display_name": "Python 3"
    },
    "language_info": {
      "name": "python"
    }
  },
  "cells": [
    {
      "cell_type": "markdown",
      "metadata": {
        "id": "view-in-github",
        "colab_type": "text"
      },
      "source": [
        "<a href=\"https://colab.research.google.com/github/woojinhong03/Algorithm/blob/main/250829_21736.ipynb\" target=\"_parent\"><img src=\"https://colab.research.google.com/assets/colab-badge.svg\" alt=\"Open In Colab\"/></a>"
      ]
    },
    {
      "cell_type": "code",
      "execution_count": 4,
      "metadata": {
        "colab": {
          "base_uri": "https://localhost:8080/"
        },
        "id": "eeaUib5LCczc",
        "outputId": "dacb148e-562c-4f0e-c73b-13aa96424919"
      },
      "outputs": [
        {
          "name": "stdout",
          "output_type": "stream",
          "text": [
            "3 5\n",
            "OOOPO\n",
            "OIOOX\n",
            "OOOXP\n"
          ]
        }
      ],
      "source": [
        "import sys\n",
        "input = sys.stdin.readline\n",
        "sys.setrecursionlimit(10**6)\n",
        "\n",
        "def dfs(x, y):\n",
        "    global cnt\n",
        "    visited[x][y] = 1\n",
        "    if cam[x][y] == 'P':\n",
        "        cnt += 1\n",
        "    for i in range(4):\n",
        "        newx = x + dx[i]\n",
        "        newy = y + dy[i]\n",
        "        if  -1 < newx < n and -1 < newy < m and not visited[newx][newy]:\n",
        "            if cam[newx][newy] != 'X':\n",
        "                dfs(newx, newy)\n",
        "\n",
        "n, m = map(int,input().split())\n",
        "cam = [input() for _ in range(n)]\n",
        "visited = [[0] * m for _ in range(n)]\n",
        "dx = [-1,1,0,0]\n",
        "dy = [0,0,-1,1]\n",
        "cnt = 0\n",
        "\n",
        "for i in range(n):\n",
        "    for j in range(m):\n",
        "        if cam[i][j] == 'I':\n",
        "            dfs(i,j)\n",
        "\n",
        "if cnt == 0:\n",
        "    print(\"TT\")\n",
        "else:\n",
        "    print(cnt)"
      ]
    }
  ]
}