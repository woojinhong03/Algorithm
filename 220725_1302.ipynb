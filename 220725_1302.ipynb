{
  "nbformat": 4,
  "nbformat_minor": 0,
  "metadata": {
    "colab": {
      "name": "220725_1302.ipynb",
      "provenance": [],
      "collapsed_sections": [],
      "authorship_tag": "ABX9TyOX18unVQUG850SKIZwyFPC",
      "include_colab_link": true
    },
    "kernelspec": {
      "name": "python3",
      "display_name": "Python 3"
    },
    "language_info": {
      "name": "python"
    }
  },
  "cells": [
    {
      "cell_type": "markdown",
      "metadata": {
        "id": "view-in-github",
        "colab_type": "text"
      },
      "source": [
        "<a href=\"https://colab.research.google.com/github/woojinhong03/Algorithm/blob/main/220725_1302.ipynb\" target=\"_parent\"><img src=\"https://colab.research.google.com/assets/colab-badge.svg\" alt=\"Open In Colab\"/></a>"
      ]
    },
    {
      "cell_type": "code",
      "execution_count": 1,
      "metadata": {
        "colab": {
          "base_uri": "https://localhost:8080/"
        },
        "id": "OjHchrEz7UHq",
        "outputId": "1137c0a3-3a6b-4e4a-8253-b4051091d27c"
      },
      "outputs": [
        {
          "output_type": "stream",
          "name": "stdout",
          "text": [
            "5\n",
            "top\n",
            "top\n",
            "top\n",
            "top\n",
            "kimtip\n",
            "top\n"
          ]
        }
      ],
      "source": [
        "n = int(input())\n",
        "dic = {}\n",
        "for i in range(n):\n",
        "    a = input()\n",
        "    \n",
        "    if a not in dic:\n",
        "        dic[a] = 1\n",
        "    else:\n",
        "        dic[a] += 1\n",
        "    \n",
        "list = []\n",
        "\n",
        "num = max(dic.values())\n",
        "\n",
        "for i in dic:\n",
        "    if num == dic[i]:\n",
        "        list.append(i)\n",
        "\n",
        "list.sort()\n",
        "print(list[0])"
      ]
    }
  ]
}