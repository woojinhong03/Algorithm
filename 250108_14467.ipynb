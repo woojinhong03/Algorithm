{
  "nbformat": 4,
  "nbformat_minor": 0,
  "metadata": {
    "colab": {
      "provenance": [],
      "authorship_tag": "ABX9TyPNO1fy2+7cV37f8QMFC9/P",
      "include_colab_link": true
    },
    "kernelspec": {
      "name": "python3",
      "display_name": "Python 3"
    },
    "language_info": {
      "name": "python"
    }
  },
  "cells": [
    {
      "cell_type": "markdown",
      "metadata": {
        "id": "view-in-github",
        "colab_type": "text"
      },
      "source": [
        "<a href=\"https://colab.research.google.com/github/woojinhong03/Algorithm/blob/main/250108_14467.ipynb\" target=\"_parent\"><img src=\"https://colab.research.google.com/assets/colab-badge.svg\" alt=\"Open In Colab\"/></a>"
      ]
    },
    {
      "cell_type": "code",
      "execution_count": 1,
      "metadata": {
        "colab": {
          "base_uri": "https://localhost:8080/"
        },
        "id": "1ZsPbpDcSccK",
        "outputId": "2c237d6e-bcd0-480a-a637-f6c544db4beb"
      },
      "outputs": [
        {
          "output_type": "stream",
          "name": "stdout",
          "text": [
            "8\n",
            "3 1\n",
            "3 0\n",
            "6 0\n",
            "2 1\n",
            "4 1\n",
            "3 0\n",
            "4 0\n",
            "3 1\n",
            "3\n"
          ]
        }
      ],
      "source": [
        "n = int(input())\n",
        "\n",
        "arr = {}\n",
        "count = 0\n",
        "\n",
        "for i in range(n):\n",
        "    a,b = map(int, input().split())\n",
        "    if a not in arr:\n",
        "        arr[a] = b\n",
        "    else:\n",
        "        if arr[a] != b:\n",
        "            count +=1\n",
        "            arr[a] = b\n",
        "\n",
        "print(count)"
      ]
    }
  ]
}