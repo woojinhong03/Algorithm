{
 "cells": [
  {
   "cell_type": "code",
   "execution_count": 2,
   "metadata": {},
   "outputs": [
    {
     "name": "stdout",
     "output_type": "stream",
     "text": [
      "정렬 전: [188, 150, 168, 162, 105, 120, 177, 50]\n",
      "정렬 후: [50, 105, 120, 150, 162, 168, 177, 188]\n"
     ]
    }
   ],
   "source": [
    "def qSort(arr,start,end):\n",
    "    if end <= start:\n",
    "        return\n",
    "    \n",
    "    low = start\n",
    "    high = end\n",
    "    \n",
    "    pivot = arr[(low + high) // 2]\n",
    "    while low <= high:\n",
    "        while arr[low] < pivot :\n",
    "            low += 1\n",
    "        while arr[high] > pivot :\n",
    "            high -= 1\n",
    "        if low <= high:\n",
    "            arr[low], arr[high] = arr[high], arr[low]\n",
    "            low, high = low + 1, high - 1\n",
    "\n",
    "    mid = low\n",
    "\n",
    "    qSort(arr,start,mid-1)\n",
    "    qSort(arr,mid,end)\n",
    "    \n",
    "def quickSort(ary):\n",
    "    qSort(ary,0,len(ary)-1)\n",
    "\n",
    "dataAry = [188,150,168,162,105,120,177,50]\n",
    "\n",
    "print('정렬 전:',dataAry)\n",
    "quickSort(dataAry)\n",
    "print('정렬 후:',dataAry)\n",
    "                        "
   ]
  },
  {
   "cell_type": "code",
   "execution_count": null,
   "metadata": {},
   "outputs": [],
   "source": []
  }
 ],
 "metadata": {
  "kernelspec": {
   "display_name": "Python 3.11.0 64-bit",
   "language": "python",
   "name": "python3"
  },
  "language_info": {
   "codemirror_mode": {
    "name": "ipython",
    "version": 3
   },
   "file_extension": ".py",
   "mimetype": "text/x-python",
   "name": "python",
   "nbconvert_exporter": "python",
   "pygments_lexer": "ipython3",
   "version": "3.11.0"
  },
  "orig_nbformat": 4,
  "vscode": {
   "interpreter": {
    "hash": "b5e2ef1f9e4e79c4d01c7cc14c34cf90ea37ed5a234ad537e40582f4ec23aa41"
   }
  }
 },
 "nbformat": 4,
 "nbformat_minor": 2
}
