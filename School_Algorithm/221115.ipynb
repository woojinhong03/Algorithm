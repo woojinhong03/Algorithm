{
 "cells": [
  {
   "cell_type": "code",
   "execution_count": 8,
   "metadata": {},
   "outputs": [
    {
     "name": "stdout",
     "output_type": "stream",
     "text": [
      "도경완\n"
     ]
    }
   ],
   "source": [
    "class TreeNode():\n",
    "  def __init__(self):\n",
    "    self.left=None\n",
    "    self.data=None\n",
    "    self.right=None\n",
    "\n",
    "name=[\"도경완\",\"기안84\",\"조나단\",\"나인우\",\"박명수\",\"하하\"]\n",
    "node=TreeNode()\n",
    "root=node\n",
    "node.data=name[0]\n",
    "\n",
    "for i in name[1:]:\n",
    "  node=TreeNode()\n",
    "  node.data=i\n",
    "  current=root\n",
    "\n",
    "  while True:\n",
    "\n",
    "    if node.data < current.data: #데이터가 current.data보다 작으면 왼쪽으로\n",
    "      #왼쪽에 노드가 없으면\n",
    "      if current.left == None:\n",
    "        current.left = node\n",
    "        break\n",
    "      current=current.left \n",
    "    else:\n",
    "      if current.right==None: #오른쪽 노드가 없으면\n",
    "        current.right=node\n",
    "        break\n",
    "      current=current.right\n",
    "\n",
    "print(root.data)"
   ]
  },
  {
   "cell_type": "code",
   "execution_count": 12,
   "metadata": {},
   "outputs": [
    {
     "name": "stdout",
     "output_type": "stream",
     "text": [
      "하하 찾음\n"
     ]
    }
   ],
   "source": [
    "find_name = '하하'\n",
    "\n",
    "current = root\n",
    "\n",
    "while True:\n",
    "    if current.data == find_name:\n",
    "        print(find_name,'찾음')\n",
    "        break\n",
    "    elif find_name < current.data:\n",
    "        if current.left == None:\n",
    "            print('찾기 실패')\n",
    "            break\n",
    "        current = current.left\n",
    "    else:\n",
    "        if current.right == None:\n",
    "            print('찾기 실패')\n",
    "            break\n",
    "        current = current.right"
   ]
  },
  {
   "cell_type": "code",
   "execution_count": 3,
   "metadata": {},
   "outputs": [
    {
     "name": "stdout",
     "output_type": "stream",
     "text": [
      "최소값 : 3\n",
      "최댓값 : 188\n"
     ]
    }
   ],
   "source": [
    "def find_min(ary):\n",
    "    min_index = 0\n",
    "    for i in range(1,len(ary)):\n",
    "        if ary[min_index] > ary[i]:\n",
    "            min_index = i\n",
    "    return min_index\n",
    "\n",
    "def find_max(ary):\n",
    "    max_index = 0\n",
    "    for i in range(1,len(ary)):\n",
    "        if ary[max_index] < ary[i]:\n",
    "            max_index = i\n",
    "            \n",
    "    return max_index\n",
    "ary = [188,168,160,50,3]\n",
    "index1 = find_min(ary)\n",
    "index2 = find_max(ary)\n",
    "\n",
    "print('최소값 :',ary[index1])\n",
    "print('최댓값 :',ary[index2])"
   ]
  },
  {
   "cell_type": "code",
   "execution_count": 68,
   "metadata": {},
   "outputs": [
    {
     "name": "stdout",
     "output_type": "stream",
     "text": [
      "[]\n",
      "[1, 3, 5, 7, 8, 9]\n"
     ]
    }
   ],
   "source": [
    "before_sort = [8,5,7,1,9,3]\n",
    "after_sort = []\n",
    "\n",
    "for i in range(len(before_sort)):\n",
    "    min_index = find_min(before_sort)\n",
    "    after_sort.append(before_sort[min_index])\n",
    "    del(before_sort[min_index])\n",
    "    \n",
    "print(before_sort)\n",
    "print(after_sort)"
   ]
  },
  {
   "cell_type": "code",
   "execution_count": 70,
   "metadata": {},
   "outputs": [
    {
     "name": "stdout",
     "output_type": "stream",
     "text": [
      "[]\n",
      "[9, 8, 7, 5, 3, 1]\n"
     ]
    }
   ],
   "source": [
    "before_sort = [8,5,7,1,9,3]\n",
    "after_sort = []\n",
    "\n",
    "for i in range(len(before_sort)):\n",
    "    max_index = find_max(before_sort)\n",
    "    after_sort.append(before_sort[max_index])\n",
    "    del(before_sort[max_index])\n",
    "    \n",
    "print(before_sort)\n",
    "print(after_sort)"
   ]
  },
  {
   "cell_type": "code",
   "execution_count": null,
   "metadata": {},
   "outputs": [],
   "source": []
  }
 ],
 "metadata": {
  "kernelspec": {
   "display_name": "Python 3.9.7 ('base')",
   "language": "python",
   "name": "python3"
  },
  "language_info": {
   "codemirror_mode": {
    "name": "ipython",
    "version": 3
   },
   "file_extension": ".py",
   "mimetype": "text/x-python",
   "name": "python",
   "nbconvert_exporter": "python",
   "pygments_lexer": "ipython3",
   "version": "3.9.7"
  },
  "orig_nbformat": 4,
  "vscode": {
   "interpreter": {
    "hash": "82bde8c11a6d8060de75cc2bee879771e7fa80aaf60d7ca78661e9a53b82b280"
   }
  }
 },
 "nbformat": 4,
 "nbformat_minor": 2
}
