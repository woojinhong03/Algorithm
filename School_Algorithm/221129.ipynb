{
 "cells": [
  {
   "cell_type": "code",
   "execution_count": 2,
   "metadata": {},
   "outputs": [
    {
     "name": "stdout",
     "output_type": "stream",
     "text": [
      "정렬 전:  [8, 5, 7, 1, 9, 3]\n",
      "정렬 후:  [1, 3, 5, 7, 8, 9]\n"
     ]
    }
   ],
   "source": [
    "def selectsort(ary):\n",
    "    n = len(ary)\n",
    "    for i in range(0, n-1):\n",
    "        min = i\n",
    "        for j in range(i+1,n):\n",
    "            if ary[min] > ary[j]:\n",
    "                min = j\n",
    "        ary[min],ary[i] = ary[i],ary[min]\n",
    "    return ary\n",
    "\n",
    "ary = [8,5,7,1,9,3]\n",
    "print('정렬 전: ',ary)\n",
    "result = selectsort(ary)\n",
    "print('정렬 후: ',result)"
   ]
  },
  {
   "cell_type": "code",
   "execution_count": 7,
   "metadata": {},
   "outputs": [
    {
     "name": "stdout",
     "output_type": "stream",
     "text": [
      "정렬 전:  [6, 7, 1, 99, 18, 4, 9]\n",
      "break문 0\n",
      "정렬 후:  [1, 4, 6, 7, 9, 18, 99]\n"
     ]
    }
   ],
   "source": [
    "def bubblesort(ary):\n",
    "    n = len(ary)\n",
    "    for i in range(n-1,0,-1):\n",
    "        point = 0\n",
    "        for j in range(0,i):\n",
    "            if ary[j] > ary[j+1]:\n",
    "                point = point + 1\n",
    "                ary[j],ary[j+1] = ary[j+1],ary[j]\n",
    "        if point == 0:\n",
    "            print('break문',point)\n",
    "            break\n",
    "    return ary\n",
    "\n",
    "ary =[6,7,1,99,18,4,9]\n",
    "print('정렬 전: ',ary)\n",
    "result = bubblesort(ary)\n",
    "print('정렬 후: ',result)"
   ]
  }
 ],
 "metadata": {
  "kernelspec": {
   "display_name": "Python 3.11.0 64-bit",
   "language": "python",
   "name": "python3"
  },
  "language_info": {
   "codemirror_mode": {
    "name": "ipython",
    "version": 3
   },
   "file_extension": ".py",
   "mimetype": "text/x-python",
   "name": "python",
   "nbconvert_exporter": "python",
   "pygments_lexer": "ipython3",
   "version": "3.11.0"
  },
  "orig_nbformat": 4,
  "vscode": {
   "interpreter": {
    "hash": "b5e2ef1f9e4e79c4d01c7cc14c34cf90ea37ed5a234ad537e40582f4ec23aa41"
   }
  }
 },
 "nbformat": 4,
 "nbformat_minor": 2
}
