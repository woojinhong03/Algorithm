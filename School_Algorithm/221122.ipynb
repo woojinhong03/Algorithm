{
 "cells": [
  {
   "cell_type": "code",
   "execution_count": 4,
   "metadata": {},
   "outputs": [
    {
     "name": "stdout",
     "output_type": "stream",
     "text": [
      "ary:  [188, 168, 162, 50, 170]\n",
      "after:  [50, 162, 168, 170, 188]\n"
     ]
    }
   ],
   "source": [
    "def findindex(ary):\n",
    "    minindex = 0\n",
    "    for i in range(len(ary)):\n",
    "        if(ary[minindex] > ary[i]):\n",
    "            minindex = i\n",
    "    return minindex\n",
    "\n",
    "ary = [188,168,162,50,170]\n",
    "print('ary: ',ary)\n",
    "after = []\n",
    "for i in range(len(ary)):\n",
    "    result = findindex(ary)\n",
    "    after.append(ary[result])  \n",
    "    del(ary[result])\n",
    "print('after: ',after)"
   ]
  },
  {
   "cell_type": "code",
   "execution_count": 6,
   "metadata": {},
   "outputs": [
    {
     "name": "stdout",
     "output_type": "stream",
     "text": [
      "정렬전 :  [188, 168, 162, 50, 177]\n",
      "정렬 후:  [50, 162, 168, 177, 188]\n"
     ]
    }
   ],
   "source": [
    "def selectionsort(ary):\n",
    "    for i in range(0,len(ary)-1):\n",
    "        minindex = i\n",
    "        for j in range(i+1,len(ary)):\n",
    "            if(ary[minindex] > ary[j]):\n",
    "                minindex = j\n",
    "        tmp = ary[minindex]\n",
    "        ary[minindex] = ary[i]\n",
    "        ary[i] = tmp\n",
    "    return ary\n",
    "ary = [188,168,162,50,177]\n",
    "print('정렬전 : ',ary)\n",
    "result = selectionsort(ary)\n",
    "print('정렬 후: ',result)"
   ]
  },
  {
   "cell_type": "code",
   "execution_count": 7,
   "metadata": {},
   "outputs": [
    {
     "name": "stdout",
     "output_type": "stream",
     "text": [
      "정렬전 :  [188, 168, 162, 50, 177]\n",
      "정렬 후:  [50, 162, 168, 177, 188]\n"
     ]
    }
   ],
   "source": [
    "def selectsort(ary):\n",
    "    for i in range(0,len(ary)-1):\n",
    "        minindex = i\n",
    "        for j in range(i+1,len(ary)):\n",
    "            if(ary[minindex] > ary[j]):\n",
    "                minindex = j\n",
    "        ary[minindex],ary[i] = ary[i], ary[minindex]\n",
    "    return ary\n",
    "\n",
    "ary = [188,168,162,50,177]\n",
    "print('정렬전 : ',ary)\n",
    "result = selectsort(ary)\n",
    "print('정렬 후: ',result)"
   ]
  },
  {
   "cell_type": "code",
   "execution_count": 3,
   "metadata": {},
   "outputs": [
    {
     "name": "stdout",
     "output_type": "stream",
     "text": [
      "findindex:  1\n"
     ]
    }
   ],
   "source": [
    "def findindex(ary,data):\n",
    "    findindex = -1\n",
    "    for i in range(len(ary)):\n",
    "        if(ary[i] > data):\n",
    "            findindex = i\n",
    "            break\n",
    "    if findindex == -1:\n",
    "        return len(ary)\n",
    "    else:\n",
    "        return findindex\n",
    "\n",
    "ary = [33,77,88]\n",
    "data = 55\n",
    "result = findindex(ary,data)\n",
    "print('findindex: ',result)"
   ]
  }
 ],
 "metadata": {
  "kernelspec": {
   "display_name": "Python 3.11.0 64-bit",
   "language": "python",
   "name": "python3"
  },
  "language_info": {
   "codemirror_mode": {
    "name": "ipython",
    "version": 3
   },
   "file_extension": ".py",
   "mimetype": "text/x-python",
   "name": "python",
   "nbconvert_exporter": "python",
   "pygments_lexer": "ipython3",
   "version": "3.11.0"
  },
  "orig_nbformat": 4,
  "vscode": {
   "interpreter": {
    "hash": "b5e2ef1f9e4e79c4d01c7cc14c34cf90ea37ed5a234ad537e40582f4ec23aa41"
   }
  }
 },
 "nbformat": 4,
 "nbformat_minor": 2
}
