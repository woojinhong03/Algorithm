{
 "cells": [
  {
   "cell_type": "code",
   "execution_count": 1,
   "metadata": {},
   "outputs": [
    {
     "name": "stdout",
     "output_type": "stream",
     "text": [
      "화사\n",
      "솔라 문별\n",
      "휘인 쯔위 선미"
     ]
    }
   ],
   "source": [
    "class TreeNode():\n",
    "    def __init__ (self):\n",
    "        self.left = None\n",
    "        self.data = None\n",
    "        self.right = None\n",
    "\n",
    "node1 = TreeNode()\n",
    "node1.data = '화사'\n",
    "\n",
    "node2 = TreeNode()\n",
    "node2.data = '솔라'\n",
    "node1.left = node2\n",
    "\n",
    "node3 = TreeNode()\n",
    "node3.data = '문별'\n",
    "node1.right = node3\n",
    "\n",
    "node4 = TreeNode()\n",
    "node4.data = '휘인'\n",
    "node2.left = node4\n",
    "\n",
    "node5 = TreeNode()\n",
    "node5.data = '쯔위'\n",
    "node2.right = node5\n",
    "\n",
    "node6 = TreeNode()\n",
    "node6.data = '선미'\n",
    "node3.left = node6\n",
    "\n",
    "print(node1.data, end = '')\n",
    "print()\n",
    "print(node1.left.data, node1.right.data, end = '')\n",
    "print()\n",
    "print(node1.left.left.data, node1.left.right.data, node1.right.left.data, end = '')\n"
   ]
  },
  {
   "cell_type": "code",
   "execution_count": 3,
   "metadata": {},
   "outputs": [
    {
     "name": "stdout",
     "output_type": "stream",
     "text": [
      "전위 순회 :  화사->솔라->휘인->쯔위->문별->선미->끝\n",
      "중위 순회 :  솔라->휘인->쯔위->화사->문별->선미->끝\n",
      "후위 순회 :  솔라->휘인->쯔위->문별->선미->화사->끝\n"
     ]
    }
   ],
   "source": [
    "class TreeNode():\n",
    "    def __init__ (self):\n",
    "        self.left = None\n",
    "        self.data = None\n",
    "        self.right = None\n",
    "\n",
    "node1 = TreeNode()\n",
    "node1.data = '화사'\n",
    "\n",
    "node2 = TreeNode()\n",
    "node2.data = '솔라'\n",
    "node1.left = node2\n",
    "\n",
    "node3 = TreeNode()\n",
    "node3.data = '문별'\n",
    "node1.right = node3\n",
    "\n",
    "node4 = TreeNode()\n",
    "node4.data = '휘인'\n",
    "node2.left = node4\n",
    "\n",
    "node5 = TreeNode()\n",
    "node5.data = '쯔위'\n",
    "node2.right = node5\n",
    "\n",
    "node6 = TreeNode()\n",
    "node6.data = '선미'\n",
    "node3.left = node6\n",
    "\n",
    "def preorder(node):\n",
    "    if node == None:\n",
    "        return\n",
    "    print(node.data,end = '->')\n",
    "    preorder(node.left)\n",
    "    preorder(node.right)\n",
    "\n",
    "def inorder(node):\n",
    "    if node == None:\n",
    "        return\n",
    "    preorder(node.left)\n",
    "    print(node.data,end = '->')\n",
    "    preorder(node.right)\n",
    "\n",
    "def postorder(node):\n",
    "    if node == None:\n",
    "        return\n",
    "    preorder(node.left)\n",
    "    preorder(node.right)\n",
    "    print(node.data,end = '->')\n",
    "    \n",
    "print('전위 순회 : ',end = ' ')\n",
    "preorder(node1)\n",
    "print(\"끝\")\n",
    "\n",
    "print('중위 순회 : ',end = ' ')\n",
    "inorder(node1)\n",
    "print(\"끝\")\n",
    "\n",
    "print('후위 순회 : ',end = ' ')\n",
    "postorder(node1)\n",
    "print(\"끝\")\n"
   ]
  },
  {
   "cell_type": "code",
   "execution_count": 5,
   "metadata": {},
   "outputs": [],
   "source": [
    "class TreeNode():\n",
    "    def __init__ (self):\n",
    "        self.left = None\n",
    "        self.data = None\n",
    "        self.right = None\n",
    "    \n",
    "memory = []\n",
    "root = None\n",
    "nameAry = ['블랙핑크','레드벨벳','마마무','에이핑크','걸스데이','트와이스']\n",
    "\n",
    "node = TreeNode()\n",
    "node.data = nameAry[0]\n",
    "root = node\n",
    "memory.append(node)\n",
    "\n",
    "for name in nameAry[1:] :\n",
    "    node = TreeNode()\n",
    "    node.data = name\n",
    "    \n",
    "    current = root\n",
    "    while True:\n",
    "        if name < cu\n",
    "\n",
    "memory.append(node)"
   ]
  },
  {
   "cell_type": "code",
   "execution_count": null,
   "metadata": {},
   "outputs": [],
   "source": []
  }
 ],
 "metadata": {
  "kernelspec": {
   "display_name": "Python 3.9.7 ('base')",
   "language": "python",
   "name": "python3"
  },
  "language_info": {
   "codemirror_mode": {
    "name": "ipython",
    "version": 3
   },
   "file_extension": ".py",
   "mimetype": "text/x-python",
   "name": "python",
   "nbconvert_exporter": "python",
   "pygments_lexer": "ipython3",
   "version": "3.9.7"
  },
  "orig_nbformat": 4,
  "vscode": {
   "interpreter": {
    "hash": "82bde8c11a6d8060de75cc2bee879771e7fa80aaf60d7ca78661e9a53b82b280"
   }
  }
 },
 "nbformat": 4,
 "nbformat_minor": 2
}
