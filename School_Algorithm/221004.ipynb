{
 "cells": [
  {
   "cell_type": "code",
   "execution_count": 1,
   "metadata": {},
   "outputs": [
    {
     "name": "stdout",
     "output_type": "stream",
     "text": [
      "선모 재서 명현 제니 슈가 "
     ]
    }
   ],
   "source": [
    "class Node():\n",
    "    def __init__(self):\n",
    "        self.data = None\n",
    "        self.link = None\n",
    "node1 = Node()\n",
    "node1.data = '선모'\n",
    "\n",
    "node2 = Node()\n",
    "node2.data = '재서'\n",
    "node1.link = node2\n",
    "\n",
    "node3 = Node()\n",
    "node3.data = '명현'\n",
    "node2.link = node3\n",
    "\n",
    "node4 = Node()\n",
    "node4.data = '제니'\n",
    "node3.link = node4\n",
    "\n",
    "node5= Node()\n",
    "node5.data = '슈가'\n",
    "node4.link = node5\n",
    "\n",
    "print(node1.data, end=' ')\n",
    "print(node1.link.data, end=' ')\n",
    "print(node1.link.link.data, end=' ')\n",
    "print(node1.link.link.link.data, end=' ')\n",
    "print(node1.link.link.link.link.data, end=' ')"
   ]
  },
  {
   "cell_type": "code",
   "execution_count": 2,
   "metadata": {},
   "outputs": [
    {
     "name": "stdout",
     "output_type": "stream",
     "text": [
      "박1 박2 박3 박4 박5 "
     ]
    }
   ],
   "source": [
    "dataArray = ['박1','박2','박3','박4','박5']\n",
    "node = Node()\n",
    "node.data = dataArray[0]\n",
    "head = node\n",
    "\n",
    "for data in dataArray[1:]:\n",
    "    pre = node\n",
    "    node = Node()\n",
    "    node.data = data\n",
    "    pre.link = node\n",
    "    \n",
    "    \n",
    "print(head.data, end=' ')\n",
    "print(head.link.data, end=' ')\n",
    "print(head.link.link.data, end=' ')\n",
    "print(head.link.link.link.data, end=' ')\n",
    "print(head.link.link.link.link.data, end=' ')"
   ]
  },
  {
   "cell_type": "code",
   "execution_count": 3,
   "metadata": {},
   "outputs": [
    {
     "name": "stdout",
     "output_type": "stream",
     "text": [
      "처음 박1 박2 박3 박4 박5 "
     ]
    }
   ],
   "source": [
    "#맨 처음 위치에 노드 추가\n",
    "node = Node()\n",
    "node.link = head\n",
    "node.data = '처음'\n",
    "head = node\n",
    "\n",
    "print(head.data, end=' ')\n",
    "print(head.link.data, end=' ')\n",
    "print(head.link.link.data, end=' ')\n",
    "print(head.link.link.link.data, end=' ')\n",
    "print(head.link.link.link.link.data, end=' ')\n",
    "print(head.link.link.link.link.link.data, end=' ')"
   ]
  },
  {
   "cell_type": "code",
   "execution_count": 4,
   "metadata": {},
   "outputs": [
    {
     "name": "stdout",
     "output_type": "stream",
     "text": [
      "처음 박1 박2 이점오 박3 마지막 "
     ]
    }
   ],
   "source": [
    "pre = head\n",
    "current = head.link\n",
    "\n",
    "while current.link != None:\n",
    "    if current.data == \"박3\":\n",
    "        node = Node()\n",
    "        node.link = current\n",
    "        node.data = \"이점오\"\n",
    "        pre.link = node\n",
    "        break\n",
    "    \n",
    "    pre = current\n",
    "    current = current.link\n",
    "    \n",
    "\n",
    "node = Node()\n",
    "node.data = \"마지막\"\n",
    "current.link = node\n",
    "    \n",
    "print(head.data, end=' ')\n",
    "print(head.link.data, end=' ')\n",
    "print(head.link.link.data, end=' ')\n",
    "print(head.link.link.link.data, end=' ')\n",
    "print(head.link.link.link.link.data, end=' ')\n",
    "print(head.link.link.link.link.link.data, end=' ')"
   ]
  },
  {
   "cell_type": "code",
   "execution_count": 5,
   "metadata": {},
   "outputs": [
    {
     "name": "stdout",
     "output_type": "stream",
     "text": [
      "박1 박2 이점오 박3 마지막 "
     ]
    }
   ],
   "source": [
    "current = head\n",
    "head = head.link\n",
    "del(current)\n",
    "\n",
    "print(head.data, end=' ')\n",
    "print(head.link.data, end=' ')\n",
    "print(head.link.link.data, end=' ')\n",
    "print(head.link.link.link.data, end=' ')\n",
    "print(head.link.link.link.link.data, end=' ')"
   ]
  },
  {
   "cell_type": "code",
   "execution_count": 6,
   "metadata": {},
   "outputs": [
    {
     "name": "stdout",
     "output_type": "stream",
     "text": [
      "박1 박2 박3 마지막 "
     ]
    }
   ],
   "source": [
    "#중간 노드 삭제\n",
    "current = head\n",
    "while current.link != None:\n",
    "    pre = current\n",
    "    current = current.link\n",
    "    \n",
    "    if current.data == \"이점오\":\n",
    "        pre.link = current.link\n",
    "        del(current)\n",
    "        break\n",
    "    \n",
    "print(head.data, end=' ')\n",
    "print(head.link.data, end=' ')\n",
    "print(head.link.link.data, end=' ')\n",
    "print(head.link.link.link.data, end=' ')"
   ]
  }
 ],
 "metadata": {
  "kernelspec": {
   "display_name": "Python 3.9.7 ('base')",
   "language": "python",
   "name": "python3"
  },
  "language_info": {
   "codemirror_mode": {
    "name": "ipython",
    "version": 3
   },
   "file_extension": ".py",
   "mimetype": "text/x-python",
   "name": "python",
   "nbconvert_exporter": "python",
   "pygments_lexer": "ipython3",
   "version": "3.9.7"
  },
  "orig_nbformat": 4,
  "vscode": {
   "interpreter": {
    "hash": "82bde8c11a6d8060de75cc2bee879771e7fa80aaf60d7ca78661e9a53b82b280"
   }
  }
 },
 "nbformat": 4,
 "nbformat_minor": 2
}
