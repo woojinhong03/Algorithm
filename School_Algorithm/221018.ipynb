{
 "cells": [
  {
   "cell_type": "code",
   "execution_count": 1,
   "metadata": {},
   "outputs": [
    {
     "name": "stdout",
     "output_type": "stream",
     "text": [
      "[None, None, None, None, None]\n"
     ]
    }
   ],
   "source": [
    "size = 5\n",
    "stack = [None for _ in range(size)]\n",
    "print(stack)"
   ]
  },
  {
   "cell_type": "code",
   "execution_count": 3,
   "metadata": {},
   "outputs": [
    {
     "name": "stdout",
     "output_type": "stream",
     "text": [
      "스택이 Full인지 여부 ==>  True\n",
      "['진', '뷔', '선모', None, None]\n",
      "['진', '뷔', '선모', '한길', None]\n",
      "['진', '뷔', '선모', '한길', '아이유']\n",
      "스캑이 꽉 찼어요\n"
     ]
    }
   ],
   "source": [
    "#스택에 데이터를 Push함. Push 할때마다 스택에 Full 인지 여부 확인해야함\n",
    "#1. 스택이 full인지 여부를 체크하는 함수 생성하고 데이터 push 함수 생성함\n",
    "#2. 스택이 full이면 true를 리턴하는 알고리즘으로 생성\n",
    "\n",
    "def isStackFull(): \n",
    "    global top, stack, size\n",
    "    if (top == size-1): #중요⭐\n",
    "        return True\n",
    "    else:\n",
    "        return False\n",
    "\n",
    "stack = ['진','뷔','선모','한길','제니']\n",
    "size = len(stack)\n",
    "top = size - 1\n",
    "print('스택이 Full인지 여부 ==> ',isStackFull())\n",
    "\n",
    "def push(data):\n",
    "    global size, top, stack\n",
    "    if (isStackFull()):\n",
    "        print('스캑이 꽉 찼어요')\n",
    "        return\n",
    "    else:\n",
    "        top += 1 #중요⭐\n",
    "        stack[top] = data\n",
    "\n",
    "stack=['진','뷔','선모',None, None]\n",
    "size = 5\n",
    "top = 2\n",
    "print(stack)\n",
    "push('한길')\n",
    "print(stack)\n",
    "push('아이유')\n",
    "print(stack)\n",
    "push('제니')"
   ]
  },
  {
   "cell_type": "code",
   "execution_count": 5,
   "metadata": {},
   "outputs": [
    {
     "name": "stdout",
     "output_type": "stream",
     "text": [
      "스택 Empty 여부 ==>  True\n",
      "[None, None, None, None, None]\n",
      "추출값 ==>  태희\n",
      "['선모', None, None, None, None]\n",
      "추출값 ==>  선모\n",
      "[None, None, None, None, None]\n",
      "스택이 비어있습니다.\n",
      "추출값 ==>  None\n",
      "[None, None, None, None, None]\n"
     ]
    }
   ],
   "source": [
    "#스택에서 데이터 추출하려고함. 추출할떄마다 스택이 empty인지를 확인해야함\n",
    "#1. 스택에 empty인지를 묻는 함수를 먼저 생성한 후 스택에서 데이터 추출하는 함수 생성\n",
    "#2. 스택이 empty인지 여부를 확인함수에서 empty이면 true를 리턴\n",
    "\n",
    "def isStackEmpty():\n",
    "    global stack, top, size\n",
    "    if top == -1:\n",
    "        return True\n",
    "    else:\n",
    "        return False\n",
    "\n",
    "size = 5\n",
    "stack = [None for _ in range(size)]\n",
    "top = -1\n",
    "\n",
    "print(\"스택 Empty 여부 ==> \",isStackEmpty())\n",
    "print(stack)\n",
    "\n",
    "def pop():\n",
    "    global stack, size, top\n",
    "    if (isStackEmpty()):\n",
    "        print('스택이 비어있습니다.')\n",
    "        return\n",
    "    else:\n",
    "        data = stack[top]\n",
    "        stack[top] = None\n",
    "        top -= 1\n",
    "        return data\n",
    "    \n",
    "stack = ['선모','태희',None,None,None]\n",
    "size = 5\n",
    "top = 1\n",
    "\n",
    "result = pop()\n",
    "print('추출값 ==> ',result)\n",
    "print(stack)\n",
    "result = pop()\n",
    "print('추출값 ==> ',result)\n",
    "print(stack)\n",
    "result = pop()\n",
    "print('추출값 ==> ',result)\n",
    "print(stack)\n"
   ]
  }
 ],
 "metadata": {
  "kernelspec": {
   "display_name": "Python 3.9.7 ('base')",
   "language": "python",
   "name": "python3"
  },
  "language_info": {
   "codemirror_mode": {
    "name": "ipython",
    "version": 3
   },
   "file_extension": ".py",
   "mimetype": "text/x-python",
   "name": "python",
   "nbconvert_exporter": "python",
   "pygments_lexer": "ipython3",
   "version": "3.9.7"
  },
  "orig_nbformat": 4,
  "vscode": {
   "interpreter": {
    "hash": "82bde8c11a6d8060de75cc2bee879771e7fa80aaf60d7ca78661e9a53b82b280"
   }
  }
 },
 "nbformat": 4,
 "nbformat_minor": 2
}
