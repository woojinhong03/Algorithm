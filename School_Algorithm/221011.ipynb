{
 "cells": [
  {
   "cell_type": "code",
   "execution_count": 2,
   "metadata": {},
   "outputs": [
    {
     "name": "stdout",
     "output_type": "stream",
     "text": [
      "청하 미란이 린 청하 미란이 린 청하 "
     ]
    }
   ],
   "source": [
    "class Node():\n",
    "    def __init__ (self):\n",
    "        self.data = None\n",
    "        self.link = None\n",
    "\n",
    "node1 = Node()\n",
    "node1.data = \"청하\"\n",
    "node1.link = node1\n",
    "\n",
    "node2 = Node()\n",
    "node2.data = '미란이'\n",
    "node1.link = node2\n",
    "node2.link = node1\n",
    "\n",
    "node3 = Node()\n",
    "node3.data = '린'\n",
    "node2.link = node3\n",
    "node3.link = node1\n",
    "\n",
    "a = node1\n",
    "for i in range(7):\n",
    "    print(a.data,end=' ')\n",
    "    a = a.link"
   ]
  },
  {
   "cell_type": "code",
   "execution_count": 3,
   "metadata": {},
   "outputs": [
    {
     "name": "stdout",
     "output_type": "stream",
     "text": [
      "수한무 거북이 두루미 삼천갑자 동방삭 "
     ]
    }
   ],
   "source": [
    "dataArray=['수한무','거북이','두루미','삼천갑자','동방삭']\n",
    "\n",
    "node = Node()\n",
    "node.data = dataArray[0]\n",
    "head = node\n",
    "node.link = head\n",
    "\n",
    "current = node\n",
    "for data in dataArray[1:]:\n",
    "    node = Node()\n",
    "    node.data = data\n",
    "    current.link = node\n",
    "    node.link = head\n",
    "    current = node\n",
    "    \n",
    "a = head\n",
    "for i in range(len(dataArray)):\n",
    "    print(a.data,end=' ')\n",
    "    a = a.link"
   ]
  },
  {
   "cell_type": "code",
   "execution_count": 4,
   "metadata": {},
   "outputs": [
    {
     "name": "stdout",
     "output_type": "stream",
     "text": [
      "김 수한무 거북이 두루미 삼천갑자 동방삭 김 "
     ]
    }
   ],
   "source": [
    "#노드삽입\n",
    "#첫번쨰 위치에 노드 삽입\n",
    "#1. 새 노드 생성\n",
    "#2. 새 노드.link = head로\n",
    "#3. 마지막 노드 찾기 (while 노드.link != head)\n",
    "#4. 마지막노드.link = 새 노드\n",
    "#5. head = 새 노드\n",
    "\n",
    "node = Node()\n",
    "node.data = \"김\"\n",
    "node.link = head\n",
    "\n",
    "last = head\n",
    "while last.link != head:\n",
    "    last = last.link #다음 위치로 하나씩 이동 (중요!)\n",
    "\n",
    "last.link = node\n",
    "head = node\n",
    "\n",
    "a = head\n",
    "for i in range(7):\n",
    "    print(a.data,end=' ')\n",
    "    a = a.link"
   ]
  },
  {
   "cell_type": "code",
   "execution_count": 5,
   "metadata": {},
   "outputs": [
    {
     "name": "stdout",
     "output_type": "stream",
     "text": [
      "김 수한무 자라 거북이 두루미 "
     ]
    }
   ],
   "source": [
    "#노드 삽입\n",
    "#중간 위치에 노드 삽입(거북이를 찾아 자라를 추가)->두번쩨 노드부터 삽입하는 로직\n",
    "#1. 거북이 찾기 => pre.current에 저장하면서 이동\n",
    "#2. 거북이 찾으면 새 노드 생성\n",
    "#3. 새 노드에 자라입력 -> 새 노드.link = current로 -> pre.lin = 새 노드\n",
    "pre = head\n",
    "current = head\n",
    "\n",
    "while current.link != head: #마지막 노드면 탈출\n",
    "    pre = current\n",
    "    current = current.link\n",
    "    if current.data == '거북이':\n",
    "        node = Node()\n",
    "        node.data = '자라'\n",
    "        node.link = current\n",
    "        pre.link = node\n",
    "        break\n",
    "\n",
    "a = head\n",
    "for i in range(len(dataArray)):\n",
    "    print(a.data,end=' ')\n",
    "    a = a.link"
   ]
  },
  {
   "cell_type": "code",
   "execution_count": 6,
   "metadata": {},
   "outputs": [
    {
     "name": "stdout",
     "output_type": "stream",
     "text": [
      "수한무 자라 거북이 두루미 삼천갑자 "
     ]
    }
   ],
   "source": [
    "#노드삭제\n",
    "#첫번째 노드 삭제\n",
    "#1. 첫번째노드를 current로 지정\n",
    "#2. head를 다음 위치 노드로 지정\n",
    "#3. 마지막노드를 찾아서 한노드씩 이동하며 검색 -> 마지막노드.link = head\n",
    "#4. current 노드 삭제\n",
    "current = head\n",
    "head = head.link\n",
    "#마지막 노드 찾기\n",
    "last = head\n",
    "while last.link != current:\n",
    "    last = last.link\n",
    "    \n",
    "last.link = head\n",
    "del(current)\n",
    "\n",
    "a = head\n",
    "for i in range(len(dataArray)):\n",
    "    print(a.data,end=' ')\n",
    "    a = a.link"
   ]
  },
  {
   "cell_type": "code",
   "execution_count": 7,
   "metadata": {},
   "outputs": [
    {
     "name": "stdout",
     "output_type": "stream",
     "text": [
      "수한무 자라 두루미 삼천갑자 동방삭 "
     ]
    }
   ],
   "source": [
    "#노드삭제\n",
    "#중간 위치 노드삭제\n",
    "#1. 거북이 찾기 -> \n",
    "#2. pre.current에 위치 지정하면서 찾기\n",
    "#3. pre.link = current.link로 수정\n",
    "#4. current노드 삭제\n",
    "\n",
    "pre = head\n",
    "current = head\n",
    "while current.link != head:\n",
    "    pre = current\n",
    "    current = current.link\n",
    "    if current.data == '거북이':\n",
    "        pre.link = current.link\n",
    "        del(current)\n",
    "        break\n",
    "\n",
    "a = head\n",
    "for i in range(len(dataArray)):\n",
    "    print(a.data,end=' ')\n",
    "    a = a.link"
   ]
  }
 ],
 "metadata": {
  "kernelspec": {
   "display_name": "Python 3.9.7 ('base')",
   "language": "python",
   "name": "python3"
  },
  "language_info": {
   "codemirror_mode": {
    "name": "ipython",
    "version": 3
   },
   "file_extension": ".py",
   "mimetype": "text/x-python",
   "name": "python",
   "nbconvert_exporter": "python",
   "pygments_lexer": "ipython3",
   "version": "3.9.7"
  },
  "orig_nbformat": 4,
  "vscode": {
   "interpreter": {
    "hash": "82bde8c11a6d8060de75cc2bee879771e7fa80aaf60d7ca78661e9a53b82b280"
   }
  }
 },
 "nbformat": 4,
 "nbformat_minor": 2
}
