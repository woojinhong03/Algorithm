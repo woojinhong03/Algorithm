{
 "cells": [
  {
   "cell_type": "code",
   "execution_count": 16,
   "metadata": {},
   "outputs": [
    {
     "name": "stdout",
     "output_type": "stream",
     "text": [
      "[None, None, None, None, None]\n"
     ]
    }
   ],
   "source": [
    "queue = [None for _ in range(5)]\n",
    "print(queue)"
   ]
  },
  {
   "cell_type": "code",
   "execution_count": 17,
   "metadata": {},
   "outputs": [
    {
     "name": "stdout",
     "output_type": "stream",
     "text": [
      "큐가 꽉 찼나요 -> True\n"
     ]
    }
   ],
   "source": [
    "#시험출제\n",
    "def isQueueFull():\n",
    "    global size, queue, front, rear\n",
    "    if (rear == size - 1):\n",
    "        return True\n",
    "    else:\n",
    "        return False\n",
    "    \n",
    "queue = ['명현','선모','평화','태권','한길']\n",
    "size = 5\n",
    "front = -1\n",
    "rear = 4\n",
    "print(\"큐가 꽉 찼나요 ->\",isQueueFull())"
   ]
  },
  {
   "cell_type": "code",
   "execution_count": 18,
   "metadata": {},
   "outputs": [
    {
     "name": "stdout",
     "output_type": "stream",
     "text": [
      "['명현', '선모', '평화', '한길', '태희']\n",
      "꽉찼\n",
      "['명현', '선모', '평화', '한길', '태희']\n"
     ]
    }
   ],
   "source": [
    "def enQueue(data):\n",
    "    global size, queue, front, rear\n",
    "    if(isQueueFull()):\n",
    "        print(\"꽉찼\")\n",
    "        return\n",
    "    \n",
    "    rear += 1\n",
    "    queue[rear] = data\n",
    "    \n",
    "queue = ['명현','선모','평화','한길',None]\n",
    "size = len(queue)\n",
    "front = -1\n",
    "rear = 3\n",
    "enQueue('태희')\n",
    "print(queue)\n",
    "enQueue('승민')\n",
    "print(queue)"
   ]
  },
  {
   "cell_type": "code",
   "execution_count": 19,
   "metadata": {},
   "outputs": [
    {
     "name": "stdout",
     "output_type": "stream",
     "text": [
      "큐가 비어있습니다.\n",
      "큐가 비어있는지 -> True\n"
     ]
    }
   ],
   "source": [
    "def isQueueEmpty():\n",
    "    global size, queue, front, rear\n",
    "    #시험출제\n",
    "    if(front == rear):\n",
    "        print(\"큐가 비어있습니다.\")\n",
    "        return True\n",
    "    else:\n",
    "        return False\n",
    "queue = [None for _ in range(5)]\n",
    "front = rear = -1\n",
    "print(\"큐가 비어있는지 ->\",isQueueEmpty())"
   ]
  },
  {
   "cell_type": "code",
   "execution_count": 20,
   "metadata": {},
   "outputs": [
    {
     "name": "stdout",
     "output_type": "stream",
     "text": [
      "['승민', None, None, None, None]\n",
      "추출한 데이터 -> 승민\n",
      "[None, None, None, None, None]\n",
      "큐가 비어있습니다.\n",
      "추출한 데이터 -> None\n",
      "[None, None, None, None, None]\n"
     ]
    }
   ],
   "source": [
    "def deQueue():\n",
    "    global size, queue, front, rear\n",
    "    if(isQueueEmpty()):\n",
    "        return None\n",
    "    \n",
    "    front += 1\n",
    "    data = queue[front]\n",
    "    queue[front] = None\n",
    "    return data\n",
    "\n",
    "queue = ['승민', None, None, None, None]\n",
    "size = 5\n",
    "front = -1\n",
    "rear = 0\n",
    "print(queue)\n",
    "result = deQueue()\n",
    "print('추출한 데이터 ->',result)\n",
    "print(queue)\n",
    "\n",
    "result = deQueue()\n",
    "print('추출한 데이터 ->',result)\n",
    "print(queue)"
   ]
  },
  {
   "cell_type": "code",
   "execution_count": 25,
   "metadata": {},
   "outputs": [
    {
     "name": "stdout",
     "output_type": "stream",
     "text": [
      "예비합격자 명단 ['정국', '뷔', '지민', '진', '슈가']\n",
      "\n",
      " 정국  님 추가합격\n",
      "\n",
      " 뷔  님 추가합격\n",
      "\n",
      " 지민  님 추가합격\n",
      "\n",
      " 진  님 추가합격\n",
      "\n",
      " 슈가  님 추가합격\n",
      "큐가 비어있습니다.\n",
      "마감\n"
     ]
    }
   ],
   "source": [
    "def deQueue():\n",
    "    global size, queue, front, rear\n",
    "    if(isQueueEmpty()):\n",
    "        print(\"마감\")\n",
    "        return None\n",
    "    \n",
    "    front += 1\n",
    "    data = queue[front]\n",
    "    queue[front] = None\n",
    "    return data\n",
    "\n",
    "def enQueue(data):\n",
    "    global size, queue, front, rear\n",
    "    if(isQueueFull()):\n",
    "        print(\"마감\")\n",
    "        return\n",
    "    \n",
    "    rear += 1\n",
    "    queue[rear] = data\n",
    "    \n",
    "queue = [None for _ in range(5)]\n",
    "size = 5\n",
    "front = rear = -1\n",
    "\n",
    "enQueue('정국')\n",
    "enQueue('뷔')\n",
    "enQueue('지민')\n",
    "enQueue('진')\n",
    "enQueue('슈가')\n",
    "\n",
    "print('예비합격자 명단',queue)\n",
    "\n",
    "for i in range(5):\n",
    "    result = deQueue()\n",
    "    print('\\n',result,' 님 추가합격')\n",
    "result = deQueue()"
   ]
  }
 ],
 "metadata": {
  "kernelspec": {
   "display_name": "Python 3.9.7 ('base')",
   "language": "python",
   "name": "python3"
  },
  "language_info": {
   "codemirror_mode": {
    "name": "ipython",
    "version": 3
   },
   "file_extension": ".py",
   "mimetype": "text/x-python",
   "name": "python",
   "nbconvert_exporter": "python",
   "pygments_lexer": "ipython3",
   "version": "3.9.7"
  },
  "orig_nbformat": 4,
  "vscode": {
   "interpreter": {
    "hash": "82bde8c11a6d8060de75cc2bee879771e7fa80aaf60d7ca78661e9a53b82b280"
   }
  }
 },
 "nbformat": 4,
 "nbformat_minor": 2
}
