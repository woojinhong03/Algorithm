{
  "nbformat": 4,
  "nbformat_minor": 0,
  "metadata": {
    "colab": {
      "provenance": [],
      "authorship_tag": "ABX9TyOZo5IdfBXBA4Jy0C/7k643",
      "include_colab_link": true
    },
    "kernelspec": {
      "name": "python3",
      "display_name": "Python 3"
    },
    "language_info": {
      "name": "python"
    }
  },
  "cells": [
    {
      "cell_type": "markdown",
      "metadata": {
        "id": "view-in-github",
        "colab_type": "text"
      },
      "source": [
        "<a href=\"https://colab.research.google.com/github/woojinhong03/Algorithm/blob/main/250104_3009.ipynb\" target=\"_parent\"><img src=\"https://colab.research.google.com/assets/colab-badge.svg\" alt=\"Open In Colab\"/></a>"
      ]
    },
    {
      "cell_type": "code",
      "execution_count": 1,
      "metadata": {
        "colab": {
          "base_uri": "https://localhost:8080/"
        },
        "id": "x57WgPtxEl6X",
        "outputId": "56e87f33-33b2-4414-b932-22703d9350d6"
      },
      "outputs": [
        {
          "output_type": "stream",
          "name": "stdout",
          "text": [
            "5 5\n",
            "5 7\n",
            "7 5\n",
            "7 7\n"
          ]
        }
      ],
      "source": [
        "x = []\n",
        "y = []\n",
        "for _ in range(3):\n",
        "    a, b = map(int,input().split())\n",
        "    x.append(a)\n",
        "    y.append(b)\n",
        "\n",
        "for i in range(3):\n",
        "    if x.count(x[i]) == 1:\n",
        "        x_dap = x[i]\n",
        "    if y.count(y[i]) == 1:\n",
        "        y_dap = y[i]\n",
        "\n",
        "print(x_dap, y_dap)"
      ]
    }
  ]
}