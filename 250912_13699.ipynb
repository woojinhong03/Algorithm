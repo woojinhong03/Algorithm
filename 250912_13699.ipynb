{
  "nbformat": 4,
  "nbformat_minor": 0,
  "metadata": {
    "colab": {
      "provenance": [],
      "authorship_tag": "ABX9TyNYAq2LJnRYrv3cYEEvSq6p",
      "include_colab_link": true
    },
    "kernelspec": {
      "name": "python3",
      "display_name": "Python 3"
    },
    "language_info": {
      "name": "python"
    }
  },
  "cells": [
    {
      "cell_type": "markdown",
      "metadata": {
        "id": "view-in-github",
        "colab_type": "text"
      },
      "source": [
        "<a href=\"https://colab.research.google.com/github/woojinhong03/Algorithm/blob/main/250912_13699.ipynb\" target=\"_parent\"><img src=\"https://colab.research.google.com/assets/colab-badge.svg\" alt=\"Open In Colab\"/></a>"
      ]
    },
    {
      "cell_type": "code",
      "execution_count": 2,
      "metadata": {
        "id": "AXhqIF4wOfpg",
        "colab": {
          "base_uri": "https://localhost:8080/"
        },
        "outputId": "ea6b905a-da95-420a-de31-2785a1dab12b"
      },
      "outputs": [
        {
          "output_type": "stream",
          "name": "stdout",
          "text": [
            "25\n",
            "4861946401452\n"
          ]
        }
      ],
      "source": [
        "import sys\n",
        "n = int(sys.stdin.readline())\n",
        "\n",
        "dp = [0] * (n + 1)\n",
        "dp[0] = 1\n",
        "\n",
        "for i in range(1, n + 1):\n",
        "    for j in range(i):\n",
        "        dp[i] += dp[j] * dp[i - 1 - j]\n",
        "\n",
        "print(dp[n])"
      ]
    }
  ]
}