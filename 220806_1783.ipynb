{
  "nbformat": 4,
  "nbformat_minor": 0,
  "metadata": {
    "colab": {
      "name": "220806_1783.ipynb",
      "provenance": [],
      "collapsed_sections": [],
      "authorship_tag": "ABX9TyP36mZmpk2D33+z0CTrlfUj",
      "include_colab_link": true
    },
    "kernelspec": {
      "name": "python3",
      "display_name": "Python 3"
    },
    "language_info": {
      "name": "python"
    }
  },
  "cells": [
    {
      "cell_type": "markdown",
      "metadata": {
        "id": "view-in-github",
        "colab_type": "text"
      },
      "source": [
        "<a href=\"https://colab.research.google.com/github/woojinhong03/Algorithm/blob/main/220806_1783.ipynb\" target=\"_parent\"><img src=\"https://colab.research.google.com/assets/colab-badge.svg\" alt=\"Open In Colab\"/></a>"
      ]
    },
    {
      "cell_type": "code",
      "execution_count": 1,
      "metadata": {
        "colab": {
          "base_uri": "https://localhost:8080/"
        },
        "id": "Tv6M0qb6OfkF",
        "outputId": "11cdb629-e11a-4ad6-e4c7-bd5d9eb14431"
      },
      "outputs": [
        {
          "output_type": "stream",
          "name": "stdout",
          "text": [
            "100 50\n",
            "48\n"
          ]
        }
      ],
      "source": [
        "n, m = map(int, input().split())\n",
        "if n == 1:\n",
        "    print(1)\n",
        "elif n == 2:\n",
        "    print(min(4, (m-1)//2+1))\n",
        "elif m <= 6:\n",
        "    print(min(4, m))\n",
        "else:\n",
        "    print(m-2)"
      ]
    }
  ]
}