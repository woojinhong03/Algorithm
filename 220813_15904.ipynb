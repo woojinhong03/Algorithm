{
  "nbformat": 4,
  "nbformat_minor": 0,
  "metadata": {
    "colab": {
      "name": "220813_15904.ipynb",
      "provenance": []
    },
    "kernelspec": {
      "name": "python3",
      "display_name": "Python 3"
    },
    "language_info": {
      "name": "python"
    }
  },
  "cells": [
    {
      "cell_type": "code",
      "execution_count": 2,
      "metadata": {
        "colab": {
          "base_uri": "https://localhost:8080/"
        },
        "id": "LypSH2ioXtsr",
        "outputId": "dfa92dab-5695-4456-8112-7716efd964dc"
      },
      "outputs": [
        {
          "output_type": "stream",
          "name": "stdout",
          "text": [
            "Union of Computer Programming Contest club contest\n",
            "I love UCPC\n"
          ]
        }
      ],
      "source": [
        "s = input()\n",
        "alp = ['U', 'C', 'P', 'C']\n",
        "i = 0\n",
        "for a in alp:\n",
        "    if a in s:\n",
        "        i += 1\n",
        "        s = s[s.index(a) + 1:]\n",
        "    else:\n",
        "        print('I hate UCPC')\n",
        "        break\n",
        "if i == 4:\n",
        "    print('I love UCPC')"
      ]
    }
  ]
}