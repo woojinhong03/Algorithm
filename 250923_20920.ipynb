{
  "nbformat": 4,
  "nbformat_minor": 0,
  "metadata": {
    "colab": {
      "provenance": [],
      "authorship_tag": "ABX9TyNhNiaBbSDh/BX5tmVJxyRP",
      "include_colab_link": true
    },
    "kernelspec": {
      "name": "python3",
      "display_name": "Python 3"
    },
    "language_info": {
      "name": "python"
    }
  },
  "cells": [
    {
      "cell_type": "markdown",
      "metadata": {
        "id": "view-in-github",
        "colab_type": "text"
      },
      "source": [
        "<a href=\"https://colab.research.google.com/github/woojinhong03/Algorithm/blob/main/250923_20920.ipynb\" target=\"_parent\"><img src=\"https://colab.research.google.com/assets/colab-badge.svg\" alt=\"Open In Colab\"/></a>"
      ]
    },
    {
      "cell_type": "code",
      "execution_count": null,
      "metadata": {
        "id": "EqGO91H5JTM_"
      },
      "outputs": [],
      "source": [
        "import sys\n",
        "input = sys.stdin.readline\n",
        "n, m = map(int, input().split())\n",
        "word_counts = {}\n",
        "\n",
        "for _ in range(n):\n",
        "    word = input().strip()\n",
        "    if len(word) >= m:\n",
        "        word_counts[word] = word_counts.get(word, 0) + 1\n",
        "\n",
        "sorted_words = sorted(word_counts.keys(), key=lambda x: (-word_counts[x], -len(x), x))\n",
        "\n",
        "for word in sorted_words:\n",
        "    print(word)"
      ]
    }
  ]
}