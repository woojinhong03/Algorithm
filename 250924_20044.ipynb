{
  "nbformat": 4,
  "nbformat_minor": 0,
  "metadata": {
    "colab": {
      "provenance": [],
      "authorship_tag": "ABX9TyN64rfqid9zcN7FBrbNOdDo",
      "include_colab_link": true
    },
    "kernelspec": {
      "name": "python3",
      "display_name": "Python 3"
    },
    "language_info": {
      "name": "python"
    }
  },
  "cells": [
    {
      "cell_type": "markdown",
      "metadata": {
        "id": "view-in-github",
        "colab_type": "text"
      },
      "source": [
        "<a href=\"https://colab.research.google.com/github/woojinhong03/Algorithm/blob/main/250924_20044.ipynb\" target=\"_parent\"><img src=\"https://colab.research.google.com/assets/colab-badge.svg\" alt=\"Open In Colab\"/></a>"
      ]
    },
    {
      "cell_type": "code",
      "execution_count": null,
      "metadata": {
        "id": "sYSUx_ICN2Or"
      },
      "outputs": [],
      "source": [
        "import sys\n",
        "\n",
        "try:\n",
        "    n = int(sys.stdin.readline())\n",
        "    skills = list(map(int, sys.stdin.readline().split()))\n",
        "\n",
        "    skills.sort()\n",
        "    min_max_skill = float('inf')\n",
        "    for i in range(n):\n",
        "        team_skill = skills[i] + skills[2 * n - 1 - i]\n",
        "        if team_skill < min_max_skill:\n",
        "            min_max_skill = team_skill\n",
        "    print(min_max_skill)\n",
        "\n",
        "except (IOError, ValueError) as e:\n",
        "    print(f\"An error occurred: {e}\")"
      ]
    }
  ]
}