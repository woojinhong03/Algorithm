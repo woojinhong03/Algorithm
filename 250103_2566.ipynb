{
  "nbformat": 4,
  "nbformat_minor": 0,
  "metadata": {
    "colab": {
      "provenance": [],
      "authorship_tag": "ABX9TyNkayxeRG3nM69jBW0vngxF",
      "include_colab_link": true
    },
    "kernelspec": {
      "name": "python3",
      "display_name": "Python 3"
    },
    "language_info": {
      "name": "python"
    }
  },
  "cells": [
    {
      "cell_type": "markdown",
      "metadata": {
        "id": "view-in-github",
        "colab_type": "text"
      },
      "source": [
        "<a href=\"https://colab.research.google.com/github/woojinhong03/Algorithm/blob/main/250103_2566.ipynb\" target=\"_parent\"><img src=\"https://colab.research.google.com/assets/colab-badge.svg\" alt=\"Open In Colab\"/></a>"
      ]
    },
    {
      "cell_type": "code",
      "execution_count": 1,
      "metadata": {
        "colab": {
          "base_uri": "https://localhost:8080/"
        },
        "id": "lR8je0fFzCKa",
        "outputId": "c9b82f77-6229-4be9-ba12-0fad3d9f5cff"
      },
      "outputs": [
        {
          "output_type": "stream",
          "name": "stdout",
          "text": [
            "3 23 85 34 17 74 25 52 65\n",
            "10 7 39 42 88 52 14 72 63\n",
            "87 42 18 78 53 45 18 84 53\n",
            "34 28 64 85 12 16 75 36 55\n",
            "21 77 45 35 28 75 90 76 1\n",
            "25 87 65 15 28 11 37 28 74\n",
            "65 27 75 41 7 89 78 64 39\n",
            "47 47 70 45 23 65 3 41 44\n",
            "87 13 82 38 31 12 29 29 80\n",
            "90\n",
            "5 7\n"
          ]
        }
      ],
      "source": [
        "max = 0\n",
        "row, col = 0, 0\n",
        "\n",
        "su = [list(map(int, input().split())) for _ in range(9)]\n",
        "\n",
        "for i in range(9):\n",
        "    for j in range(9):\n",
        "        if max <= su[i][j]:\n",
        "            row = i + 1\n",
        "            col = j + 1\n",
        "            max = su[i][j]\n",
        "\n",
        "print(max)\n",
        "print(row, col)"
      ]
    }
  ]
}