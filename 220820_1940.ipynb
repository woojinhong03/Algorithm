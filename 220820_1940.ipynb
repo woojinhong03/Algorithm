{
  "nbformat": 4,
  "nbformat_minor": 0,
  "metadata": {
    "colab": {
      "name": "220820_1940.ipynb",
      "provenance": [],
      "collapsed_sections": []
    },
    "kernelspec": {
      "name": "python3",
      "display_name": "Python 3"
    },
    "language_info": {
      "name": "python"
    }
  },
  "cells": [
    {
      "cell_type": "code",
      "execution_count": 1,
      "metadata": {
        "colab": {
          "base_uri": "https://localhost:8080/"
        },
        "id": "lf_aNuUcYpSd",
        "outputId": "f71032fc-27d6-4c93-fc96-b4c142afa9ad"
      },
      "outputs": [
        {
          "output_type": "stream",
          "name": "stdout",
          "text": [
            "6\n",
            "9\n",
            "2 7 4 1 5 3\n",
            "2\n"
          ]
        }
      ],
      "source": [
        "n = int(input())\n",
        "m = int(input())\n",
        "nums = list(map(int,input().split()))\n",
        "\n",
        "nums.sort()\n",
        "left, right = 0, len(nums) - 1\n",
        "count = 0\n",
        "\n",
        "while left < right:\n",
        "    sum_num = nums[left] + nums[right]\n",
        "    if sum_num < m:\n",
        "        left += 1\n",
        "    elif sum_num > m:\n",
        "        right -= 1\n",
        "    else:\n",
        "        count += 1\n",
        "        left += 1\n",
        "        right -= 1\n",
        "\n",
        "print(count)"
      ]
    }
  ]
}