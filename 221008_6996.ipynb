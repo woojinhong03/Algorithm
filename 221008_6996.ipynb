{
  "nbformat": 4,
  "nbformat_minor": 0,
  "metadata": {
    "colab": {
      "provenance": [],
      "collapsed_sections": [],
      "authorship_tag": "ABX9TyMHrBBpTqloDSBX1k6lZlTi",
      "include_colab_link": true
    },
    "kernelspec": {
      "name": "python3",
      "display_name": "Python 3"
    },
    "language_info": {
      "name": "python"
    }
  },
  "cells": [
    {
      "cell_type": "markdown",
      "metadata": {
        "id": "view-in-github",
        "colab_type": "text"
      },
      "source": [
        "<a href=\"https://colab.research.google.com/github/woojinhong03/Algorithm/blob/main/221008_6996.ipynb\" target=\"_parent\"><img src=\"https://colab.research.google.com/assets/colab-badge.svg\" alt=\"Open In Colab\"/></a>"
      ]
    },
    {
      "cell_type": "code",
      "execution_count": 1,
      "metadata": {
        "colab": {
          "base_uri": "https://localhost:8080/"
        },
        "id": "MTzuMRwGchYH",
        "outputId": "f8608f5b-3c7a-4cba-8987-8f1f93f6b29c"
      },
      "outputs": [
        {
          "output_type": "stream",
          "name": "stdout",
          "text": [
            "3\n",
            "blather reblath\n",
            "blather & reblath are anagrams.\n",
            "maryland landam\n",
            "maryland & landam are NOT anagrams.\n",
            "bizarre brazier\n",
            "bizarre & brazier are anagrams.\n"
          ]
        }
      ],
      "source": [
        "n = int(input())\n",
        "\n",
        "for i in range(n):\n",
        "    a, b = map(str, input().split())\n",
        "    \n",
        "    aa = sorted(list(a))\n",
        "    bb = sorted(list(b))\n",
        "\n",
        "    if aa == bb:\n",
        "        print(\"%s & %s are anagrams.\" %(a, b))\n",
        "    else:\n",
        "        print(\"%s & %s are NOT anagrams.\" %(a, b))"
      ]
    }
  ]
}