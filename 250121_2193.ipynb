{
  "nbformat": 4,
  "nbformat_minor": 0,
  "metadata": {
    "colab": {
      "provenance": [],
      "authorship_tag": "ABX9TyP4RWJ5dXqrhAmKXOhHZ1s/",
      "include_colab_link": true
    },
    "kernelspec": {
      "name": "python3",
      "display_name": "Python 3"
    },
    "language_info": {
      "name": "python"
    }
  },
  "cells": [
    {
      "cell_type": "markdown",
      "metadata": {
        "id": "view-in-github",
        "colab_type": "text"
      },
      "source": [
        "<a href=\"https://colab.research.google.com/github/woojinhong03/Algorithm/blob/main/250121_2193.ipynb\" target=\"_parent\"><img src=\"https://colab.research.google.com/assets/colab-badge.svg\" alt=\"Open In Colab\"/></a>"
      ]
    },
    {
      "cell_type": "code",
      "execution_count": 2,
      "metadata": {
        "id": "LTI_Tu1I11eD",
        "colab": {
          "base_uri": "https://localhost:8080/"
        },
        "outputId": "3a0a0318-5ee3-4aa8-8e90-018f5cc34ee3"
      },
      "outputs": [
        {
          "output_type": "stream",
          "name": "stdout",
          "text": [
            "4\n",
            "3\n"
          ]
        }
      ],
      "source": [
        "n = int(input())\n",
        "\n",
        "dp = [0] * (n + 1)\n",
        "dp[1] = 1\n",
        "\n",
        "for i in range(2, n+1):\n",
        "    dp[i] = dp[i-1] + dp[i-2]\n",
        "\n",
        "print(dp[n])"
      ]
    }
  ]
}