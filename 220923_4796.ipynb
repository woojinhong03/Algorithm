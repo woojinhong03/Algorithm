{
  "nbformat": 4,
  "nbformat_minor": 0,
  "metadata": {
    "colab": {
      "provenance": [],
      "collapsed_sections": []
    },
    "kernelspec": {
      "name": "python3",
      "display_name": "Python 3"
    },
    "language_info": {
      "name": "python"
    }
  },
  "cells": [
    {
      "cell_type": "code",
      "execution_count": 7,
      "metadata": {
        "colab": {
          "base_uri": "https://localhost:8080/"
        },
        "id": "gTYIiN6at2hd",
        "outputId": "a7a15a16-ff7d-42bc-de42-dd003392e813"
      },
      "outputs": [
        {
          "name": "stdout",
          "output_type": "stream",
          "text": [
            "5 8 20\n",
            "Case 1: 14\n",
            "5 8 17\n",
            "Case 2: 11\n",
            "0 0 0\n"
          ]
        }
      ],
      "source": [
        "i = 0\n",
        "while True:\n",
        "    i+=1\n",
        "    l, p, v = map(int, input().split())\n",
        "\n",
        "    if l == 0 and p == 0 and v == 0:\n",
        "        break\n",
        "\n",
        "    a = v//p\n",
        "    b = v%p\n",
        "\n",
        "    if l<b:\n",
        "        b = l\n",
        "        \n",
        "    print(\"Case %d: %d\" %(i, a*l+b))"
      ]
    }
  ]
}