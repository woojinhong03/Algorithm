{
  "nbformat": 4,
  "nbformat_minor": 0,
  "metadata": {
    "colab": {
      "name": "220823_2670.ipynb",
      "provenance": [],
      "collapsed_sections": [],
      "authorship_tag": "ABX9TyP5wyqoeFV16mi/ZPjPtwDO",
      "include_colab_link": true
    },
    "kernelspec": {
      "name": "python3",
      "display_name": "Python 3"
    },
    "language_info": {
      "name": "python"
    }
  },
  "cells": [
    {
      "cell_type": "markdown",
      "metadata": {
        "id": "view-in-github",
        "colab_type": "text"
      },
      "source": [
        "<a href=\"https://colab.research.google.com/github/woojinhong03/Algorithm/blob/main/220823_2670.ipynb\" target=\"_parent\"><img src=\"https://colab.research.google.com/assets/colab-badge.svg\" alt=\"Open In Colab\"/></a>"
      ]
    },
    {
      "cell_type": "code",
      "execution_count": 6,
      "metadata": {
        "colab": {
          "base_uri": "https://localhost:8080/"
        },
        "id": "UsIBbzMVrWZf",
        "outputId": "797012cb-0ea1-4947-e02c-c8e0ddecdae3"
      },
      "outputs": [
        {
          "output_type": "stream",
          "name": "stdout",
          "text": [
            "8\n",
            "1.1\n",
            "0.7\n",
            "1.3\n",
            "0.9\n",
            "1.4\n",
            "0.8\n",
            "0.7\n",
            "1.4\n",
            "1.638\n"
          ]
        }
      ],
      "source": [
        "n = int(input())\n",
        "nums = [float(input()) for _ in range(n)]\n",
        "for i in range(1, n):\n",
        "    nums[i] = max(nums[i - 1] * nums[i], nums[i])\n",
        "print(\"{:.3f}\".format(max(nums)))"
      ]
    }
  ]
}