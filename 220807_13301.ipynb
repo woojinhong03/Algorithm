{
  "nbformat": 4,
  "nbformat_minor": 0,
  "metadata": {
    "colab": {
      "name": "220807_13301.ipynb",
      "provenance": [],
      "authorship_tag": "ABX9TyMPpp8/S+IJRHBPfzqQ5j7+",
      "include_colab_link": true
    },
    "kernelspec": {
      "name": "python3",
      "display_name": "Python 3"
    },
    "language_info": {
      "name": "python"
    }
  },
  "cells": [
    {
      "cell_type": "markdown",
      "metadata": {
        "id": "view-in-github",
        "colab_type": "text"
      },
      "source": [
        "<a href=\"https://colab.research.google.com/github/woojinhong03/Algorithm/blob/main/220807_13301.ipynb\" target=\"_parent\"><img src=\"https://colab.research.google.com/assets/colab-badge.svg\" alt=\"Open In Colab\"/></a>"
      ]
    },
    {
      "cell_type": "code",
      "execution_count": 2,
      "metadata": {
        "colab": {
          "base_uri": "https://localhost:8080/"
        },
        "id": "-BoZo512t_1L",
        "outputId": "2b7e17aa-118d-490e-fc8e-2e4a238f0e39"
      },
      "outputs": [
        {
          "output_type": "stream",
          "name": "stdout",
          "text": [
            "6\n",
            "42\n"
          ]
        }
      ],
      "source": [
        "n = int(input())\n",
        "arr = [0]*(n+2)\n",
        "arr[1] = 1\n",
        "\n",
        "for i in range(2, n+2):\n",
        "    arr[i] = arr[i-1] + arr[i-2]\n",
        "\n",
        "print((arr[n]+arr[n+1])*2)"
      ]
    }
  ]
}