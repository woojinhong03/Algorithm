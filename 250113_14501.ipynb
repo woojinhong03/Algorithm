{
  "nbformat": 4,
  "nbformat_minor": 0,
  "metadata": {
    "colab": {
      "provenance": [],
      "authorship_tag": "ABX9TyMlO9/5flGCpoWFvqbeXfDn",
      "include_colab_link": true
    },
    "kernelspec": {
      "name": "python3",
      "display_name": "Python 3"
    },
    "language_info": {
      "name": "python"
    }
  },
  "cells": [
    {
      "cell_type": "markdown",
      "metadata": {
        "id": "view-in-github",
        "colab_type": "text"
      },
      "source": [
        "<a href=\"https://colab.research.google.com/github/woojinhong03/Algorithm/blob/main/250113_14501.ipynb\" target=\"_parent\"><img src=\"https://colab.research.google.com/assets/colab-badge.svg\" alt=\"Open In Colab\"/></a>"
      ]
    },
    {
      "cell_type": "code",
      "source": [
        "n = int(input())\n",
        "T, P = [0 for i in range(n+1)], [0 for i in range(n+1)]\n",
        "for i in range(n):\n",
        "    a,b = map(int, input().split())\n",
        "    T[i] = a\n",
        "    P[i] = b\n",
        "\n",
        "dp =[0 for i in range(n+1)]\n",
        "\n",
        "for i in range(len(T)-2, -1, -1):\n",
        "    if T[i]+i <= n:       # 날짜 초과하지 않았다면\n",
        "        dp[i] = max(P[i] + dp[T[i] + i], dp[i+1]) #값 중 비교해서 높은 값 추가\n",
        "    else:                 # 날짜 초과\n",
        "        dp[i] = dp[i+1]     #스킵\n",
        "print(dp[0])"
      ],
      "metadata": {
        "colab": {
          "base_uri": "https://localhost:8080/"
        },
        "id": "N0x0G9h6wfa6",
        "outputId": "6720008a-2455-4c1d-c97e-61ab07792239"
      },
      "execution_count": 3,
      "outputs": [
        {
          "output_type": "stream",
          "name": "stdout",
          "text": [
            "7\n",
            "3 10\n",
            "5 20\n",
            "1 10\n",
            "1 20\n",
            "2 15\n",
            "4 40\n",
            "2 200\n",
            "45\n"
          ]
        }
      ]
    }
  ]
}