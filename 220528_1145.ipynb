{
  "nbformat": 4,
  "nbformat_minor": 0,
  "metadata": {
    "colab": {
      "name": "220528_1145.ipynb",
      "provenance": [],
      "authorship_tag": "ABX9TyMstuMEMrU8KkvEZFhLvPAf",
      "include_colab_link": true
    },
    "kernelspec": {
      "name": "python3",
      "display_name": "Python 3"
    },
    "language_info": {
      "name": "python"
    }
  },
  "cells": [
    {
      "cell_type": "markdown",
      "metadata": {
        "id": "view-in-github",
        "colab_type": "text"
      },
      "source": [
        "<a href=\"https://colab.research.google.com/github/woojinhong03/Algorithm/blob/main/220528_1145.ipynb\" target=\"_parent\"><img src=\"https://colab.research.google.com/assets/colab-badge.svg\" alt=\"Open In Colab\"/></a>"
      ]
    },
    {
      "cell_type": "code",
      "execution_count": 2,
      "metadata": {
        "colab": {
          "base_uri": "https://localhost:8080/"
        },
        "id": "AiPxcEKMwzRi",
        "outputId": "655821d5-34a6-4164-8f8b-bd367fde18c9"
      },
      "outputs": [
        {
          "output_type": "stream",
          "name": "stdout",
          "text": [
            "30 42 70 35 90\n",
            "210\n"
          ]
        }
      ],
      "source": [
        "a = list(map(int, input().split()))\n",
        "n = min(a)\n",
        "while True:\n",
        "  cnt = 0\n",
        "  for i in range(5):\n",
        "    if n % a[i] == 0:\n",
        "      cnt += 1\n",
        "  if cnt > 2:\n",
        "    print(n)\n",
        "    break\n",
        "  n += 1"
      ]
    }
  ]
}