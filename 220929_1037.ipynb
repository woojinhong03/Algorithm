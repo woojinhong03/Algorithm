{
  "nbformat": 4,
  "nbformat_minor": 0,
  "metadata": {
    "colab": {
      "provenance": [],
      "collapsed_sections": []
    },
    "kernelspec": {
      "name": "python3",
      "display_name": "Python 3"
    },
    "language_info": {
      "name": "python"
    }
  },
  "cells": [
    {
      "cell_type": "code",
      "execution_count": 8,
      "metadata": {
        "colab": {
          "base_uri": "https://localhost:8080/"
        },
        "id": "9AS-RC2W6YnL",
        "outputId": "4b4ff851-627f-447a-fb7d-2292a2ee53f0"
      },
      "outputs": [
        {
          "output_type": "stream",
          "name": "stdout",
          "text": [
            "14\n",
            "14 26456 2 28 13228 3307 7 23149 8 6614 46298 56 4 92596\n",
            "185192\n"
          ]
        }
      ],
      "source": [
        "n = int(input())\n",
        "a = list(map(int, input().split()))\n",
        "print(max(a) * min(a))"
      ]
    }
  ]
}