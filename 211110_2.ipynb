{
  "nbformat": 4,
  "nbformat_minor": 0,
  "metadata": {
    "colab": {
      "name": "211110_2.ipynb",
      "provenance": [],
      "collapsed_sections": [],
      "authorship_tag": "ABX9TyPG0WOI+R2Fer6+ZURfH9pM",
      "include_colab_link": true
    },
    "kernelspec": {
      "name": "python3",
      "display_name": "Python 3"
    },
    "language_info": {
      "name": "python"
    }
  },
  "cells": [
    {
      "cell_type": "markdown",
      "metadata": {
        "id": "view-in-github",
        "colab_type": "text"
      },
      "source": [
        "<a href=\"https://colab.research.google.com/github/woojinhong03/Baekjoon/blob/main/211110_2.ipynb\" target=\"_parent\"><img src=\"https://colab.research.google.com/assets/colab-badge.svg\" alt=\"Open In Colab\"/></a>"
      ]
    },
    {
      "cell_type": "code",
      "metadata": {
        "colab": {
          "base_uri": "https://localhost:8080/"
        },
        "id": "j-ecZRndRz1M",
        "outputId": "68906f56-4fc4-4506-9c9e-117d94293a6c"
      },
      "source": [
        "a = int(input())\n",
        "num = str(input())\n",
        "sum = 0\n",
        "\n",
        "for i in range(a):\n",
        "  sum += int(num[i])\n",
        "\n",
        "print(sum)"
      ],
      "execution_count": 7,
      "outputs": [
        {
          "output_type": "stream",
          "name": "stdout",
          "text": [
            "5\n",
            "51234\n",
            "15\n"
          ]
        }
      ]
    }
  ]
}