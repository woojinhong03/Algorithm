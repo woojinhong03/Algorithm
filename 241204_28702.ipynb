{
  "cells": [
    {
      "cell_type": "markdown",
      "metadata": {
        "id": "view-in-github",
        "colab_type": "text"
      },
      "source": [
        "<a href=\"https://colab.research.google.com/github/woojinhong03/Algorithm/blob/main/241204_28702.ipynb\" target=\"_parent\"><img src=\"https://colab.research.google.com/assets/colab-badge.svg\" alt=\"Open In Colab\"/></a>"
      ]
    },
    {
      "cell_type": "code",
      "source": [
        "for i in range(3,0,-1): # 3, 2, 1 순서로 숫자가 들어간다.\n",
        "    a = input()\n",
        "    if a not in ['FizzBuzz','Fizz','Buzz']: # Fizz, Buzz, FizzBuzz 가 입력값중에 없으면 (숫자면)\n",
        "        dap = int(a)+i  # 답 = 그 수 + 앞으로 남은 수\n",
        "        break\n",
        "\n",
        "if dap % 15 == 0:   # 3과 5의 배수\n",
        "    print('FizzBuzz')\n",
        "elif dap % 3 == 0:  # 3의 배수\n",
        "    print('Fizz')\n",
        "elif dap % 5 == 0:  # 5의 배수\n",
        "    print('Buzz')\n",
        "else:\n",
        "    print(dap)"
      ],
      "metadata": {
        "colab": {
          "base_uri": "https://localhost:8080/"
        },
        "id": "b7tHhkm6k5nR",
        "outputId": "ac8d7f7d-775e-43af-dd4b-d3a9f9c0f321"
      },
      "execution_count": 1,
      "outputs": [
        {
          "output_type": "stream",
          "name": "stdout",
          "text": [
            "Fizz\n",
            "Buzz\n",
            "11\n",
            "Fizz\n"
          ]
        }
      ]
    }
  ],
  "metadata": {
    "colab": {
      "provenance": [],
      "authorship_tag": "ABX9TyOtoN/f8fdERIBIUvEg7WrH",
      "include_colab_link": true
    },
    "kernelspec": {
      "display_name": "Python 3",
      "name": "python3"
    },
    "language_info": {
      "name": "python"
    }
  },
  "nbformat": 4,
  "nbformat_minor": 0
}