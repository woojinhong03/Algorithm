{
  "nbformat": 4,
  "nbformat_minor": 0,
  "metadata": {
    "colab": {
      "name": "220709_1676.ipynb",
      "provenance": [],
      "authorship_tag": "ABX9TyNaueX/XC1UmxdNBXa0X6YS",
      "include_colab_link": true
    },
    "kernelspec": {
      "name": "python3",
      "display_name": "Python 3"
    },
    "language_info": {
      "name": "python"
    }
  },
  "cells": [
    {
      "cell_type": "markdown",
      "metadata": {
        "id": "view-in-github",
        "colab_type": "text"
      },
      "source": [
        "<a href=\"https://colab.research.google.com/github/woojinhong03/Algorithm/blob/main/220709_1676.ipynb\" target=\"_parent\"><img src=\"https://colab.research.google.com/assets/colab-badge.svg\" alt=\"Open In Colab\"/></a>"
      ]
    },
    {
      "cell_type": "code",
      "execution_count": 1,
      "metadata": {
        "colab": {
          "base_uri": "https://localhost:8080/"
        },
        "id": "Bt_Ch3SKGyHy",
        "outputId": "ced683ca-0d9b-431f-9a6e-0c9aca76b771"
      },
      "outputs": [
        {
          "output_type": "stream",
          "name": "stdout",
          "text": [
            "10\n",
            "2\n"
          ]
        }
      ],
      "source": [
        "n = int(input())\n",
        "def five_count(n):\n",
        "    cnt = 0\n",
        "    while n != 0:\n",
        "        n //= 5\n",
        "        cnt += n\n",
        "    return cnt\n",
        "    \n",
        "print(five_count(n))"
      ]
    }
  ]
}