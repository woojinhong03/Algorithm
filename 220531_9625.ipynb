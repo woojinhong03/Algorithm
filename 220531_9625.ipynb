{
  "nbformat": 4,
  "nbformat_minor": 0,
  "metadata": {
    "colab": {
      "name": "220531_9625.ipynb",
      "provenance": [],
      "authorship_tag": "ABX9TyNO1ppmgoXJFohNItNapSn0",
      "include_colab_link": true
    },
    "kernelspec": {
      "name": "python3",
      "display_name": "Python 3"
    },
    "language_info": {
      "name": "python"
    }
  },
  "cells": [
    {
      "cell_type": "markdown",
      "metadata": {
        "id": "view-in-github",
        "colab_type": "text"
      },
      "source": [
        "<a href=\"https://colab.research.google.com/github/woojinhong03/Algorithm/blob/main/220531_9625.ipynb\" target=\"_parent\"><img src=\"https://colab.research.google.com/assets/colab-badge.svg\" alt=\"Open In Colab\"/></a>"
      ]
    },
    {
      "cell_type": "code",
      "execution_count": 11,
      "metadata": {
        "colab": {
          "base_uri": "https://localhost:8080/"
        },
        "id": "2rGiRCvnKu73",
        "outputId": "d83b2c75-f773-4b32-d095-065625b7a0b7"
      },
      "outputs": [
        {
          "output_type": "stream",
          "name": "stdout",
          "text": [
            "10\n",
            "34 55\n"
          ]
        }
      ],
      "source": [
        "n = int(input())\n",
        "a = [1]\n",
        "b = [0]\n",
        "\n",
        "for i in range(n):\n",
        "  a.append(b[i])\n",
        "  b.append(b[i] + a[i])\n",
        "\n",
        "print(a[-1], end = ' ')\n",
        "print(b[-1])"
      ]
    }
  ]
}