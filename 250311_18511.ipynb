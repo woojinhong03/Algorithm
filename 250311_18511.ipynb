{
  "nbformat": 4,
  "nbformat_minor": 0,
  "metadata": {
    "colab": {
      "provenance": [],
      "authorship_tag": "ABX9TyNRgo9U3e+eNhVzrG3S5SG7",
      "include_colab_link": true
    },
    "kernelspec": {
      "name": "python3",
      "display_name": "Python 3"
    },
    "language_info": {
      "name": "python"
    }
  },
  "cells": [
    {
      "cell_type": "markdown",
      "metadata": {
        "id": "view-in-github",
        "colab_type": "text"
      },
      "source": [
        "<a href=\"https://colab.research.google.com/github/woojinhong03/Algorithm/blob/main/250311_18511.ipynb\" target=\"_parent\"><img src=\"https://colab.research.google.com/assets/colab-badge.svg\" alt=\"Open In Colab\"/></a>"
      ]
    },
    {
      "cell_type": "code",
      "execution_count": 1,
      "metadata": {
        "colab": {
          "base_uri": "https://localhost:8080/"
        },
        "id": "Y3tEhzm8VN_Y",
        "outputId": "32eefba0-7585-4dd3-9b05-9dd383b39670"
      },
      "outputs": [
        {
          "output_type": "stream",
          "name": "stdout",
          "text": [
            "657 3\n",
            "1 5 7\n",
            "577\n"
          ]
        }
      ],
      "source": [
        "from itertools import product\n",
        "\n",
        "n,_ = map(int,input().split())\n",
        "arr = list(map(str,input().split()))\n",
        "l = len(str(n))\n",
        "\n",
        "while 1:\n",
        "    temp = list(product(arr, repeat = l))\n",
        "    dap = []\n",
        "\n",
        "    for i in temp:\n",
        "        if int(\"\".join(i)) <= n:\n",
        "            dap.append(int(\"\".join(i)))\n",
        "\n",
        "    if len(dap) >= 1:\n",
        "        print(max(dap))\n",
        "        break\n",
        "    else :\n",
        "        l -= 1"
      ]
    }
  ]
}