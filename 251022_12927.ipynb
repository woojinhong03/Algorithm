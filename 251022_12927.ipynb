{
  "nbformat": 4,
  "nbformat_minor": 0,
  "metadata": {
    "colab": {
      "provenance": [],
      "authorship_tag": "ABX9TyNdI+qQglkQ4WwS18ifTPfm",
      "include_colab_link": true
    },
    "kernelspec": {
      "name": "python3",
      "display_name": "Python 3"
    },
    "language_info": {
      "name": "python"
    }
  },
  "cells": [
    {
      "cell_type": "markdown",
      "metadata": {
        "id": "view-in-github",
        "colab_type": "text"
      },
      "source": [
        "<a href=\"https://colab.research.google.com/github/woojinhong03/Algorithm/blob/main/251022_12927.ipynb\" target=\"_parent\"><img src=\"https://colab.research.google.com/assets/colab-badge.svg\" alt=\"Open In Colab\"/></a>"
      ]
    },
    {
      "cell_type": "code",
      "execution_count": null,
      "metadata": {
        "id": "gGiZNR7wZNo4"
      },
      "outputs": [],
      "source": [
        "import sys\n",
        "\n",
        "bulbs = list(sys.stdin.readline().strip())\n",
        "n = len(bulbs)\n",
        "cnt = 0\n",
        "\n",
        "# 0번 인덱스(1번 전구)부터 N-1번 인덱스(N번 전구)까지 순회\n",
        "for i in range(n):\n",
        "    # i번 전구(실제로는 i+1번)가 켜져 있으면\n",
        "    if bulbs[i] == 'Y':\n",
        "        # i+1번 스위치를 누른다\n",
        "        cnt += 1\n",
        "\n",
        "        # i+1의 배수 위치에 있는 모든 전구를 토글\n",
        "        # (i+1)번 스위치는 i, i+(i+1), i+2(i+1) ~  인덱스의 전구를 토글\n",
        "        for j in range(i, n, i + 1):\n",
        "            if bulbs[j] == 'Y':\n",
        "                bulbs[j] = 'N'\n",
        "            else:\n",
        "                bulbs[j] = 'Y'\n",
        "\n",
        "print(cnt)"
      ]
    }
  ]
}