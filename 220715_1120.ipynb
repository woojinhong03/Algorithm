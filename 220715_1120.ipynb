{
  "nbformat": 4,
  "nbformat_minor": 0,
  "metadata": {
    "colab": {
      "name": "220715_1120.ipynb",
      "provenance": [],
      "collapsed_sections": [],
      "authorship_tag": "ABX9TyOAfKgL1Xa+xvUqdQKY5o3J",
      "include_colab_link": true
    },
    "kernelspec": {
      "name": "python3",
      "display_name": "Python 3"
    },
    "language_info": {
      "name": "python"
    }
  },
  "cells": [
    {
      "cell_type": "markdown",
      "metadata": {
        "id": "view-in-github",
        "colab_type": "text"
      },
      "source": [
        "<a href=\"https://colab.research.google.com/github/woojinhong03/Algorithm/blob/main/220715_1120.ipynb\" target=\"_parent\"><img src=\"https://colab.research.google.com/assets/colab-badge.svg\" alt=\"Open In Colab\"/></a>"
      ]
    },
    {
      "cell_type": "code",
      "execution_count": 1,
      "metadata": {
        "colab": {
          "base_uri": "https://localhost:8080/"
        },
        "id": "LD3I7e2avPa8",
        "outputId": "6803cffe-9cc9-4f7e-dcdc-1c7bd95a4553"
      },
      "outputs": [
        {
          "output_type": "stream",
          "name": "stdout",
          "text": [
            "koder topcoder\n",
            "1\n"
          ]
        }
      ],
      "source": [
        "a, b = input().split()\n",
        "\n",
        "answer = []\n",
        "for i in range(len(b) - len(a) + 1):\n",
        "    count = 0\n",
        "    for j in range(len(a)):\n",
        "        if a[j] != b[i + j]:\n",
        "            count += 1\n",
        "    answer.append(count)\n",
        "\n",
        "print(min(answer))"
      ]
    }
  ]
}