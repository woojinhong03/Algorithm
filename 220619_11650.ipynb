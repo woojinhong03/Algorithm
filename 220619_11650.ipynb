{
  "nbformat": 4,
  "nbformat_minor": 0,
  "metadata": {
    "colab": {
      "name": "220619_11650.ipynb",
      "provenance": [],
      "collapsed_sections": [],
      "authorship_tag": "ABX9TyPIRNvQN7hjz2y1cBBNo9M7",
      "include_colab_link": true
    },
    "kernelspec": {
      "name": "python3",
      "display_name": "Python 3"
    },
    "language_info": {
      "name": "python"
    }
  },
  "cells": [
    {
      "cell_type": "markdown",
      "metadata": {
        "id": "view-in-github",
        "colab_type": "text"
      },
      "source": [
        "<a href=\"https://colab.research.google.com/github/woojinhong03/Algorithm/blob/main/220619_11650.ipynb\" target=\"_parent\"><img src=\"https://colab.research.google.com/assets/colab-badge.svg\" alt=\"Open In Colab\"/></a>"
      ]
    },
    {
      "cell_type": "code",
      "execution_count": 18,
      "metadata": {
        "colab": {
          "base_uri": "https://localhost:8080/"
        },
        "id": "v24wHzyVxVMf",
        "outputId": "ba819f44-2c31-4d20-cbba-9d61d2910688"
      },
      "outputs": [
        {
          "output_type": "stream",
          "name": "stdout",
          "text": [
            "5\n",
            "3 4\n",
            "1 1\n",
            "1 -1\n",
            "2 2\n",
            "3 3\n",
            "1 -1\n",
            "1 1\n",
            "2 2\n",
            "3 3\n",
            "3 4\n",
            "[[1, -1], [1, 1], [2, 2], [3, 3], [3, 4]]\n"
          ]
        }
      ],
      "source": [
        "import sys\n",
        "n = int(input())\n",
        "a = []\n",
        "\n",
        "for _ in range(n):\n",
        "    x,y = map(int, sys.stdin.readline().split())\n",
        "    a.append([x,y])\n",
        "\n",
        "a.sort()\n",
        "\n",
        "for i in range(0,n):\n",
        "    print(a[i][0],a[i][1])"
      ]
    },
    {
      "cell_type": "code",
      "source": [
        "a = [[1,-1],[1,1]]\n",
        "for i in range(0,len(a)):\n",
        "    print(a[i][0],a[i][1])"
      ],
      "metadata": {
        "colab": {
          "base_uri": "https://localhost:8080/"
        },
        "id": "qxxZxY1W0Bcj",
        "outputId": "e18f7706-f6b5-47fd-c7ec-1f0f88413d29"
      },
      "execution_count": 17,
      "outputs": [
        {
          "output_type": "stream",
          "name": "stdout",
          "text": [
            "1 -1\n",
            "1 1\n"
          ]
        }
      ]
    }
  ]
}