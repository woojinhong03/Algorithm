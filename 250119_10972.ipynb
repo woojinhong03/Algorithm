{
  "nbformat": 4,
  "nbformat_minor": 0,
  "metadata": {
    "colab": {
      "provenance": [],
      "authorship_tag": "ABX9TyNJB1ThlnbbTenXCC3sEHUi",
      "include_colab_link": true
    },
    "kernelspec": {
      "name": "python3",
      "display_name": "Python 3"
    },
    "language_info": {
      "name": "python"
    }
  },
  "cells": [
    {
      "cell_type": "markdown",
      "metadata": {
        "id": "view-in-github",
        "colab_type": "text"
      },
      "source": [
        "<a href=\"https://colab.research.google.com/github/woojinhong03/Algorithm/blob/main/250119_10972.ipynb\" target=\"_parent\"><img src=\"https://colab.research.google.com/assets/colab-badge.svg\" alt=\"Open In Colab\"/></a>"
      ]
    },
    {
      "cell_type": "code",
      "execution_count": 53,
      "metadata": {
        "colab": {
          "base_uri": "https://localhost:8080/"
        },
        "id": "P1wohX0lucCH",
        "outputId": "a8577845-be4a-42c8-cbf3-6fb22d7335eb"
      },
      "outputs": [
        {
          "output_type": "stream",
          "name": "stdout",
          "text": [
            "4\n",
            "1 2 3 4\n",
            "1 2 4 3\n"
          ]
        }
      ],
      "source": [
        "n = int(input())\n",
        "arr = list(map(int, input().split()))\n",
        "x = [x for x in range(n,0,-1)]  # 마지막 순열\n",
        "\n",
        "if arr == x:    # 마지막 순열일 경우 -1 출력\n",
        "    print(-1)\n",
        "\n",
        "else:\n",
        "    for i in range(n-1, 0, -1): # 뒤에서부터 비교\n",
        "        if arr[i-1] < arr[i]:   # 작다면\n",
        "            for j in range(n-1, 0, -1): # 뒤에서부터\n",
        "                if arr[i-1] < arr[j]:   # 기준값과 비교\n",
        "                    arr[i-1], arr[j] = arr[j], arr[i-1]  # 자리 교체\n",
        "                    arr = arr[:i] + sorted(arr[i:]) # 뒤의 수 정렬\n",
        "                    break\n",
        "            break\n",
        "    print(*arr) # 출력"
      ]
    }
  ]
}