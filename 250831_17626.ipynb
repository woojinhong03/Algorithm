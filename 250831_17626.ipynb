{
  "nbformat": 4,
  "nbformat_minor": 0,
  "metadata": {
    "colab": {
      "provenance": [],
      "authorship_tag": "ABX9TyN04IUhfdIpPdhbDyDyYhyv",
      "include_colab_link": true
    },
    "kernelspec": {
      "name": "python3",
      "display_name": "Python 3"
    },
    "language_info": {
      "name": "python"
    }
  },
  "cells": [
    {
      "cell_type": "markdown",
      "metadata": {
        "id": "view-in-github",
        "colab_type": "text"
      },
      "source": [
        "<a href=\"https://colab.research.google.com/github/woojinhong03/Algorithm/blob/main/250831_17626.ipynb\" target=\"_parent\"><img src=\"https://colab.research.google.com/assets/colab-badge.svg\" alt=\"Open In Colab\"/></a>"
      ]
    },
    {
      "cell_type": "code",
      "execution_count": 4,
      "metadata": {
        "colab": {
          "base_uri": "https://localhost:8080/"
        },
        "id": "gv6lLuqgSQ6e",
        "outputId": "4f4de9b0-a360-495f-df9f-bfede4c61715"
      },
      "outputs": [
        {
          "output_type": "stream",
          "name": "stdout",
          "text": [
            "34567\n",
            "4\n"
          ]
        }
      ],
      "source": [
        "import math\n",
        "\n",
        "n = int(input())\n",
        "dp = [0,1]\n",
        "\n",
        "for i in range(2, n+1):\n",
        "    minnum = 4\n",
        "    for j in range(int(math.sqrt(i)), 0, -1):\n",
        "        minnum = min(minnum, dp[i-j**2]+1)\n",
        "    dp.append(minnum)\n",
        "\n",
        "print(dp[n])"
      ]
    }
  ]
}