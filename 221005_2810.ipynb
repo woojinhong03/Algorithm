{
  "nbformat": 4,
  "nbformat_minor": 0,
  "metadata": {
    "colab": {
      "provenance": []
    },
    "kernelspec": {
      "name": "python3",
      "display_name": "Python 3"
    },
    "language_info": {
      "name": "python"
    }
  },
  "cells": [
    {
      "cell_type": "code",
      "execution_count": 1,
      "metadata": {
        "colab": {
          "base_uri": "https://localhost:8080/"
        },
        "id": "cPbvZhXWMZW9",
        "outputId": "7f43bff6-2c98-4a27-f753-90ec05cabeb7"
      },
      "outputs": [
        {
          "output_type": "stream",
          "name": "stdout",
          "text": [
            "9\n",
            "SLLLLSSLL\n",
            "7\n"
          ]
        }
      ],
      "source": [
        "n = int(input())\n",
        "seat = input()\n",
        "\n",
        "count = seat.count('LL')\n",
        "\n",
        "if (count <= 1):\n",
        "    print(len(seat))\n",
        "\n",
        "else:\n",
        "    print(len(seat) - count + 1)"
      ]
    }
  ]
}