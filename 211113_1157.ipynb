{
  "nbformat": 4,
  "nbformat_minor": 0,
  "metadata": {
    "colab": {
      "name": "211113_1157.ipynb",
      "provenance": [],
      "authorship_tag": "ABX9TyM5FT1jDhRANU5NSCIryovB",
      "include_colab_link": true
    },
    "kernelspec": {
      "name": "python3",
      "display_name": "Python 3"
    },
    "language_info": {
      "name": "python"
    }
  },
  "cells": [
    {
      "cell_type": "markdown",
      "metadata": {
        "id": "view-in-github",
        "colab_type": "text"
      },
      "source": [
        "<a href=\"https://colab.research.google.com/github/woojinhong03/Baekjoon/blob/main/211113_1157.ipynb\" target=\"_parent\"><img src=\"https://colab.research.google.com/assets/colab-badge.svg\" alt=\"Open In Colab\"/></a>"
      ]
    },
    {
      "cell_type": "code",
      "metadata": {
        "colab": {
          "base_uri": "https://localhost:8080/"
        },
        "id": "RvKcnEEEGrK5",
        "outputId": "8a11deb2-b02f-40cd-e98d-3f25818fb8e1"
      },
      "source": [
        "words = input().upper()\n",
        "unique_words = list(set(words))  # 입력받은 문자열에서 중복값을 제거\n",
        "\n",
        "cnt_list = []\n",
        "for x in unique_words :\n",
        "    cnt = words.count(x)\n",
        "    cnt_list.append(cnt)  # count 숫자를 리스트에 append\n",
        "\n",
        "if cnt_list.count(max(cnt_list)) > 1 :  # count 숫자 최대값이 중복되면\n",
        "    print('?')\n",
        "else :\n",
        "    max_index = cnt_list.index(max(cnt_list))  # count 숫자 최대값 인덱스(위치)\n",
        "    print(unique_words[max_index])"
      ],
      "execution_count": null,
      "outputs": [
        {
          "output_type": "stream",
          "name": "stdout",
          "text": [
            "Mamsamammm\n",
            "M\n"
          ]
        }
      ]
    }
  ]
}