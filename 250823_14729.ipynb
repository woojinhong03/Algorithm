{
  "nbformat": 4,
  "nbformat_minor": 0,
  "metadata": {
    "colab": {
      "provenance": [],
      "authorship_tag": "ABX9TyOrJQGIWRXDxxQH1PGz+HpA",
      "include_colab_link": true
    },
    "kernelspec": {
      "name": "python3",
      "display_name": "Python 3"
    },
    "language_info": {
      "name": "python"
    }
  },
  "cells": [
    {
      "cell_type": "markdown",
      "metadata": {
        "id": "view-in-github",
        "colab_type": "text"
      },
      "source": [
        "<a href=\"https://colab.research.google.com/github/woojinhong03/Algorithm/blob/main/250823_14729.ipynb\" target=\"_parent\"><img src=\"https://colab.research.google.com/assets/colab-badge.svg\" alt=\"Open In Colab\"/></a>"
      ]
    },
    {
      "cell_type": "code",
      "execution_count": 2,
      "metadata": {
        "colab": {
          "base_uri": "https://localhost:8080/"
        },
        "id": "sZg2SLAyTR5F",
        "outputId": "92e15390-6c63-4841-b0dc-a2362eb0eaf2"
      },
      "outputs": [
        {
          "output_type": "stream",
          "name": "stdout",
          "text": [
            "8\n",
            "20.000\n",
            "70.000\n",
            "50.000\n",
            "30.000\n",
            "70.000\n",
            "30.000\n",
            "60.000\n",
            "70.000\n",
            "20.000\n",
            "30.000\n",
            "30.000\n",
            "50.000\n",
            "60.000\n",
            "70.000\n",
            "70.000\n"
          ]
        }
      ],
      "source": [
        "# import sys\n",
        "# input = sys.stdin.readline\n",
        "\n",
        "lab = []\n",
        "\n",
        "for i in range(int(input())):\n",
        "    lab.append(float(input()))\n",
        "    if len(lab) > 7:\n",
        "        lab.remove(max(lab))\n",
        "\n",
        "for i in sorted(lab):\n",
        "    print(f'{i:.3f}')"
      ]
    }
  ]
}