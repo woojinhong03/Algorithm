{
  "nbformat": 4,
  "nbformat_minor": 0,
  "metadata": {
    "colab": {
      "name": "220730_1051.ipynb",
      "provenance": [],
      "collapsed_sections": [],
      "authorship_tag": "ABX9TyM15mfHgSHvdBYmXJ6KvfBK",
      "include_colab_link": true
    },
    "kernelspec": {
      "name": "python3",
      "display_name": "Python 3"
    },
    "language_info": {
      "name": "python"
    }
  },
  "cells": [
    {
      "cell_type": "markdown",
      "metadata": {
        "id": "view-in-github",
        "colab_type": "text"
      },
      "source": [
        "<a href=\"https://colab.research.google.com/github/woojinhong03/Algorithm/blob/main/220730_1051.ipynb\" target=\"_parent\"><img src=\"https://colab.research.google.com/assets/colab-badge.svg\" alt=\"Open In Colab\"/></a>"
      ]
    },
    {
      "cell_type": "code",
      "execution_count": 1,
      "metadata": {
        "colab": {
          "base_uri": "https://localhost:8080/"
        },
        "id": "lDX7_uJBi04n",
        "outputId": "31cbc8bc-5e9a-45fe-fdab-ca3be3c7ac3c"
      },
      "outputs": [
        {
          "output_type": "stream",
          "name": "stdout",
          "text": [
            "11 10\n",
            "9785409507\n",
            "2055103694\n",
            "0861396761\n",
            "3073207669\n",
            "1233049493\n",
            "2300248968\n",
            "9769239548\n",
            "7984130001\n",
            "1670020095\n",
            "8894239889\n",
            "4053971072\n",
            "49\n"
          ]
        }
      ],
      "source": [
        "n, m = map(int, input().split())\n",
        "\n",
        "arr = []\n",
        "\n",
        "for i in range(n):\n",
        "    arr.append(list(input()))\n",
        "\n",
        "check = min(n, m)\n",
        "answer = 0\n",
        "for i in range(n):\n",
        "    for j in range(m):\n",
        "        for k in range(check):\n",
        "            if ((i + k) < n) and ((j + k) < m) and (arr[i][j] == arr[i][j + k] == arr[i + k][j] == arr[i + k][j + k]):\n",
        "                answer = max(answer, (k + 1)**2)\n",
        "                \n",
        "print(answer)"
      ]
    }
  ]
}