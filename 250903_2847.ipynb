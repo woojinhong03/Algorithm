{
  "nbformat": 4,
  "nbformat_minor": 0,
  "metadata": {
    "colab": {
      "provenance": [],
      "authorship_tag": "ABX9TyNDe9rDtUCCW/r8tbs9bSCZ",
      "include_colab_link": true
    },
    "kernelspec": {
      "name": "python3",
      "display_name": "Python 3"
    },
    "language_info": {
      "name": "python"
    }
  },
  "cells": [
    {
      "cell_type": "markdown",
      "metadata": {
        "id": "view-in-github",
        "colab_type": "text"
      },
      "source": [
        "<a href=\"https://colab.research.google.com/github/woojinhong03/Algorithm/blob/main/250903_2847.ipynb\" target=\"_parent\"><img src=\"https://colab.research.google.com/assets/colab-badge.svg\" alt=\"Open In Colab\"/></a>"
      ]
    },
    {
      "cell_type": "code",
      "execution_count": 10,
      "metadata": {
        "colab": {
          "base_uri": "https://localhost:8080/"
        },
        "id": "0UWObOJhrxkQ",
        "outputId": "a2593541-bb17-46cf-e2b7-d08f4e54edb3"
      },
      "outputs": [
        {
          "output_type": "stream",
          "name": "stdout",
          "text": [
            "4\n",
            "5\n",
            "3\n",
            "7\n",
            "5\n",
            "6\n"
          ]
        }
      ],
      "source": [
        "dan = []\n",
        "for _ in range(int(input())):\n",
        "    dan.append(int(input()))\n",
        "\n",
        "cnt = 0\n",
        "\n",
        "for i in range(len(dan)-1,0,-1):\n",
        "    while dan[i] <= dan[i-1]:\n",
        "        dan[i-1] -= 1\n",
        "        cnt += 1\n",
        "print(cnt)"
      ]
    }
  ]
}