{
  "nbformat": 4,
  "nbformat_minor": 0,
  "metadata": {
    "colab": {
      "name": "220724_1049.ipynb",
      "provenance": [],
      "collapsed_sections": [],
      "authorship_tag": "ABX9TyNrmc4gO2tRSxUgIw9gObZJ",
      "include_colab_link": true
    },
    "kernelspec": {
      "name": "python3",
      "display_name": "Python 3"
    },
    "language_info": {
      "name": "python"
    }
  },
  "cells": [
    {
      "cell_type": "markdown",
      "metadata": {
        "id": "view-in-github",
        "colab_type": "text"
      },
      "source": [
        "<a href=\"https://colab.research.google.com/github/woojinhong03/Algorithm/blob/main/220724_1049.ipynb\" target=\"_parent\"><img src=\"https://colab.research.google.com/assets/colab-badge.svg\" alt=\"Open In Colab\"/></a>"
      ]
    },
    {
      "cell_type": "code",
      "source": [
        "n,m = map(int,input().split(' '))\n",
        "\n",
        "s = list()\n",
        "o = list()\n",
        "\n",
        "for _ in range(m):\n",
        "    a,b = input().split(' ')\n",
        "    s.append(int(a))\n",
        "    o.append(int(b))\n",
        "\n",
        "s = min(s)\n",
        "o = min(o)\n",
        "\n",
        "if s < o * 6:\n",
        "    if s < (n % 6) * o:\n",
        "        print((n // 6) * s + s)\n",
        "    else:\n",
        "        print((n // 6) * s + (n % 6) * o)\n",
        "\n",
        "elif s >= o * 6:\n",
        "    print(n * o)"
      ],
      "metadata": {
        "colab": {
          "base_uri": "https://localhost:8080/"
        },
        "id": "67ru8-0Zarhy",
        "outputId": "6fed217e-f913-4b7c-aadb-6849e35cf896"
      },
      "execution_count": 5,
      "outputs": [
        {
          "output_type": "stream",
          "name": "stdout",
          "text": [
            "10 3\n",
            "20 8\n",
            "40 7\n",
            "60 4\n",
            "36\n"
          ]
        }
      ]
    }
  ]
}