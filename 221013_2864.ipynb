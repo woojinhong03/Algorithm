{
  "nbformat": 4,
  "nbformat_minor": 0,
  "metadata": {
    "colab": {
      "provenance": [],
      "collapsed_sections": []
    },
    "kernelspec": {
      "name": "python3",
      "display_name": "Python 3"
    },
    "language_info": {
      "name": "python"
    }
  },
  "cells": [
    {
      "cell_type": "code",
      "execution_count": 2,
      "metadata": {
        "colab": {
          "base_uri": "https://localhost:8080/"
        },
        "id": "XlIj2XnJTWdd",
        "outputId": "6790af07-f596-4c07-ba5b-d9a0ba690385"
      },
      "outputs": [
        {
          "output_type": "stream",
          "name": "stdout",
          "text": [
            "423954 018546\n",
            "442499 442610\n"
          ]
        }
      ],
      "source": [
        "a, b = input().split()\n",
        "\n",
        "min = int(a.replace('6', '5')) + int(b.replace('6', '5'))\n",
        "max = int(a.replace('5', '6')) + int(b.replace('5', '6'))\n",
        "\n",
        "print(min, max)"
      ]
    }
  ]
}