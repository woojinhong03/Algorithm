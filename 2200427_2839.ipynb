{
  "nbformat": 4,
  "nbformat_minor": 0,
  "metadata": {
    "colab": {
      "name": "2200427_2839.ipynb",
      "provenance": [],
      "collapsed_sections": [],
      "authorship_tag": "ABX9TyOXbRkGtYh3v6WbNQSG4j4I",
      "include_colab_link": true
    },
    "kernelspec": {
      "name": "python3",
      "display_name": "Python 3"
    },
    "language_info": {
      "name": "python"
    }
  },
  "cells": [
    {
      "cell_type": "markdown",
      "metadata": {
        "id": "view-in-github",
        "colab_type": "text"
      },
      "source": [
        "<a href=\"https://colab.research.google.com/github/woojinhong03/Baekjoon-Programmers/blob/main/2200427_2839.ipynb\" target=\"_parent\"><img src=\"https://colab.research.google.com/assets/colab-badge.svg\" alt=\"Open In Colab\"/></a>"
      ]
    },
    {
      "cell_type": "code",
      "execution_count": 29,
      "metadata": {
        "colab": {
          "base_uri": "https://localhost:8080/"
        },
        "id": "STr3_f4yaydn",
        "outputId": "8ce5b91f-df52-40bc-a480-86205add9bff"
      },
      "outputs": [
        {
          "output_type": "stream",
          "name": "stdout",
          "text": [
            "18\n",
            "4\n"
          ]
        }
      ],
      "source": [
        "num = int(input())\n",
        "count = 0\n",
        "\n",
        "while num >= 0:\n",
        "  if num % 5 == 0:\n",
        "    count += int(num // 5)\n",
        "    print(count)\n",
        "    break\n",
        "\n",
        "  num -= 3\n",
        "  count += 1\n",
        "\n",
        "else:\n",
        "  print(-1)"
      ]
    }
  ]
}