{
  "nbformat": 4,
  "nbformat_minor": 0,
  "metadata": {
    "colab": {
      "provenance": [],
      "authorship_tag": "ABX9TyMLjRHuPgq5oYvYDIG+AYTu",
      "include_colab_link": true
    },
    "kernelspec": {
      "name": "python3",
      "display_name": "Python 3"
    },
    "language_info": {
      "name": "python"
    }
  },
  "cells": [
    {
      "cell_type": "markdown",
      "metadata": {
        "id": "view-in-github",
        "colab_type": "text"
      },
      "source": [
        "<a href=\"https://colab.research.google.com/github/woojinhong03/Algorithm/blob/main/250120_2346.ipynb\" target=\"_parent\"><img src=\"https://colab.research.google.com/assets/colab-badge.svg\" alt=\"Open In Colab\"/></a>"
      ]
    },
    {
      "cell_type": "code",
      "execution_count": 1,
      "metadata": {
        "colab": {
          "base_uri": "https://localhost:8080/"
        },
        "id": "0JkzrYT5oxJz",
        "outputId": "8c72f2f3-4a6c-46f6-d25e-1ef29e5731a1"
      },
      "outputs": [
        {
          "output_type": "stream",
          "name": "stdout",
          "text": [
            "5\n",
            "3 2 1 -3 -1\n",
            "1 4 5 3 2\n"
          ]
        }
      ],
      "source": [
        "from collections import deque\n",
        "import sys\n",
        "input = sys.stdin.readline\n",
        "\n",
        "n = int(input())\n",
        "q = deque(enumerate(map(int, input().split()))) # 수와 인덱스 같이 저장\n",
        "dap = []\n",
        "\n",
        "while q:\n",
        "    idx, num = q.popleft()    # 제일 앞 요소 뽑아서 저장\n",
        "    dap.append(idx + 1) # 순서 저장\n",
        "\n",
        "    if num > 0:     # 수가 양수면\n",
        "        q.rotate(-(num - 1))\n",
        "    elif num < 0:   # 수가 음수면\n",
        "        q.rotate(-num)\n",
        "\n",
        "print(*dap) # 출력"
      ]
    }
  ]
}