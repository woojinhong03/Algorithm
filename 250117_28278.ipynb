{
  "nbformat": 4,
  "nbformat_minor": 0,
  "metadata": {
    "colab": {
      "provenance": [],
      "authorship_tag": "ABX9TyO0fK0tg56MGbMZ/GhbPGB+",
      "include_colab_link": true
    },
    "kernelspec": {
      "name": "python3",
      "display_name": "Python 3"
    },
    "language_info": {
      "name": "python"
    }
  },
  "cells": [
    {
      "cell_type": "markdown",
      "metadata": {
        "id": "view-in-github",
        "colab_type": "text"
      },
      "source": [
        "<a href=\"https://colab.research.google.com/github/woojinhong03/Algorithm/blob/main/250117_28278.ipynb\" target=\"_parent\"><img src=\"https://colab.research.google.com/assets/colab-badge.svg\" alt=\"Open In Colab\"/></a>"
      ]
    },
    {
      "cell_type": "code",
      "execution_count": 2,
      "metadata": {
        "colab": {
          "base_uri": "https://localhost:8080/"
        },
        "id": "gPSdpom5qQgo",
        "outputId": "3488469c-753d-4de5-de13-2714e2df462b"
      },
      "outputs": [
        {
          "output_type": "stream",
          "name": "stdout",
          "text": [
            "9\n",
            "4\n",
            "1\n",
            "st: []\n",
            "1 3\n",
            "st: [3]\n",
            "1 5\n",
            "st: [3, 5]\n",
            "3\n",
            "2\n",
            "st: [3, 5]\n",
            "2\n",
            "5\n",
            "st: [3]\n",
            "5\n",
            "3\n",
            "st: [3]\n",
            "2\n",
            "3\n",
            "st: []\n",
            "2\n",
            "-1\n",
            "st: []\n",
            "5\n",
            "-1\n",
            "st: []\n"
          ]
        }
      ],
      "source": [
        "st = []\n",
        "for i in range(int(input())):\n",
        "    a = list(map(int,input().split()))\n",
        "\n",
        "    if a[0] == 2:\n",
        "        if st:\n",
        "            print(st.pop())\n",
        "        else:\n",
        "            print(-1)\n",
        "\n",
        "    elif a[0] == 3:\n",
        "        print(len(st))\n",
        "\n",
        "    elif a[0] == 4:\n",
        "        if st:\n",
        "            print(0)\n",
        "        else:\n",
        "            print(1)\n",
        "\n",
        "    elif a[0] == 5:\n",
        "        if st:\n",
        "            print(st[-1])\n",
        "        else:\n",
        "            print(-1)\n",
        "\n",
        "    else:\n",
        "        st.append(a[1])"
      ]
    },
    {
      "cell_type": "code",
      "source": [],
      "metadata": {
        "id": "zbO-QVr4tZXc"
      },
      "execution_count": null,
      "outputs": []
    }
  ]
}