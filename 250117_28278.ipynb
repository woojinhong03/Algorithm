{
  "nbformat": 4,
  "nbformat_minor": 0,
  "metadata": {
    "colab": {
      "provenance": [],
      "authorship_tag": "ABX9TyOfs25zV+Zzv4Vvi/4wsVY7",
      "include_colab_link": true
    },
    "kernelspec": {
      "name": "python3",
      "display_name": "Python 3"
    },
    "language_info": {
      "name": "python"
    }
  },
  "cells": [
    {
      "cell_type": "markdown",
      "metadata": {
        "id": "view-in-github",
        "colab_type": "text"
      },
      "source": [
        "<a href=\"https://colab.research.google.com/github/woojinhong03/Algorithm/blob/main/250117_28278.ipynb\" target=\"_parent\"><img src=\"https://colab.research.google.com/assets/colab-badge.svg\" alt=\"Open In Colab\"/></a>"
      ]
    },
    {
      "cell_type": "code",
      "source": [
        "import sys\n",
        "st = []\n",
        "n = int(sys.stdin.readline())\n",
        "\n",
        "for _ in range(n):\n",
        "\n",
        "    a = sys.stdin.readline().split()\n",
        "\n",
        "    if a[0] == '1':\n",
        "        st.append(a[1])\n",
        "    elif a[0] == '2':\n",
        "        if st:\n",
        "            print(st.pop())\n",
        "        else:\n",
        "            print(-1)\n",
        "    elif a[0] == '3':\n",
        "        print(len(st))\n",
        "    elif a[0] == '4':\n",
        "        if st:\n",
        "            print(0)\n",
        "        else:\n",
        "            print(1)\n",
        "    elif a[0] == '5':\n",
        "        if st:\n",
        "            print(st[-1])\n",
        "        else:\n",
        "            print(-1)"
      ],
      "metadata": {
        "id": "KFMQa0o5xm5F"
      },
      "execution_count": null,
      "outputs": []
    }
  ]
}