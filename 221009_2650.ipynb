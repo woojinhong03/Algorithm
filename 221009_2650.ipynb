{
  "nbformat": 4,
  "nbformat_minor": 0,
  "metadata": {
    "colab": {
      "provenance": [],
      "collapsed_sections": [],
      "authorship_tag": "ABX9TyMaMDJEOeDX9bAPnP6DpbcW",
      "include_colab_link": true
    },
    "kernelspec": {
      "name": "python3",
      "display_name": "Python 3"
    },
    "language_info": {
      "name": "python"
    }
  },
  "cells": [
    {
      "cell_type": "markdown",
      "metadata": {
        "id": "view-in-github",
        "colab_type": "text"
      },
      "source": [
        "<a href=\"https://colab.research.google.com/github/woojinhong03/Algorithm/blob/main/221009_2650.ipynb\" target=\"_parent\"><img src=\"https://colab.research.google.com/assets/colab-badge.svg\" alt=\"Open In Colab\"/></a>"
      ]
    },
    {
      "cell_type": "code",
      "execution_count": 2,
      "metadata": {
        "colab": {
          "base_uri": "https://localhost:8080/"
        },
        "id": "rG3H3Z38I1Eh",
        "outputId": "25c987b0-e5c4-46dd-a234-791d3cea7adf"
      },
      "outputs": [
        {
          "output_type": "stream",
          "name": "stdout",
          "text": [
            "5\n",
            "0 1 1 3 2\n",
            "4 2 5 3 1\n"
          ]
        }
      ],
      "source": [
        "arr = []\n",
        "n = int(input())\n",
        "l = list(map(int,input().split()))\n",
        "\n",
        "for i in range(n):\n",
        "    arr.insert(l[i],i+1)\n",
        "    \n",
        "print(*arr[::-1])"
      ]
    }
  ]
}