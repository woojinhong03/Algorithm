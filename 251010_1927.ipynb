{
  "nbformat": 4,
  "nbformat_minor": 0,
  "metadata": {
    "colab": {
      "provenance": [],
      "authorship_tag": "ABX9TyOr6amlNful79jKn1sfRy7b",
      "include_colab_link": true
    },
    "kernelspec": {
      "name": "python3",
      "display_name": "Python 3"
    },
    "language_info": {
      "name": "python"
    }
  },
  "cells": [
    {
      "cell_type": "markdown",
      "metadata": {
        "id": "view-in-github",
        "colab_type": "text"
      },
      "source": [
        "<a href=\"https://colab.research.google.com/github/woojinhong03/Algorithm/blob/main/251010_1927.ipynb\" target=\"_parent\"><img src=\"https://colab.research.google.com/assets/colab-badge.svg\" alt=\"Open In Colab\"/></a>"
      ]
    },
    {
      "cell_type": "code",
      "execution_count": 1,
      "metadata": {
        "id": "GkSIyP4kcTGU",
        "colab": {
          "base_uri": "https://localhost:8080/"
        },
        "outputId": "04ec0805-9421-472f-ac68-f801d9495968"
      },
      "outputs": [
        {
          "name": "stdout",
          "output_type": "stream",
          "text": [
            "9\n",
            "0\n",
            "0\n",
            "12345678\n",
            "1\n",
            "2\n",
            "0\n",
            "1\n",
            "0\n",
            "2\n",
            "0\n",
            "12345678\n",
            "0\n",
            "0\n",
            "32\n"
          ]
        }
      ],
      "source": [
        "import heapq\n",
        "import sys\n",
        "input = sys.stdin.readline\n",
        "\n",
        "# 힙으로 사용할 리스트 선언\n",
        "min_heap = []\n",
        "\n",
        "# 연산의 개수 N 입력\n",
        "n = int(input())\n",
        "\n",
        "for _ in range(n):\n",
        "    # 연산 정보 x 입력\n",
        "    x = int(input())\n",
        "\n",
        "    if x == 0:\n",
        "        # 힙이 비어있는 경우 0을 출력\n",
        "        if not min_heap:\n",
        "            print(0)\n",
        "        # 힙이 비어있지 않은 경우 가장 작은 원소를 출력하고 제거\n",
        "        else:\n",
        "            print(heapq.heappop(min_heap))\n",
        "    else:\n",
        "        # 힙에 x를 추가\n",
        "        heapq.heappush(min_heap, x)"
      ]
    }
  ]
}