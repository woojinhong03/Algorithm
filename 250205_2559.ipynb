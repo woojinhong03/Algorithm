{
  "nbformat": 4,
  "nbformat_minor": 0,
  "metadata": {
    "colab": {
      "provenance": [],
      "authorship_tag": "ABX9TyOeChF0WKlBLHUUNPdvj00J",
      "include_colab_link": true
    },
    "kernelspec": {
      "name": "python3",
      "display_name": "Python 3"
    },
    "language_info": {
      "name": "python"
    }
  },
  "cells": [
    {
      "cell_type": "markdown",
      "metadata": {
        "id": "view-in-github",
        "colab_type": "text"
      },
      "source": [
        "<a href=\"https://colab.research.google.com/github/woojinhong03/Algorithm/blob/main/250205_2559.ipynb\" target=\"_parent\"><img src=\"https://colab.research.google.com/assets/colab-badge.svg\" alt=\"Open In Colab\"/></a>"
      ]
    },
    {
      "cell_type": "code",
      "execution_count": 1,
      "metadata": {
        "colab": {
          "base_uri": "https://localhost:8080/"
        },
        "id": "qJ4qr8SuV2EM",
        "outputId": "b5abcc54-a0e3-4e45-aff0-4da3aacf1f68"
      },
      "outputs": [
        {
          "output_type": "stream",
          "name": "stdout",
          "text": [
            "10 2\n",
            "3 -2 -4 -9 0 3 7 13 8 -3\n",
            "21\n"
          ]
        }
      ],
      "source": [
        "import sys\n",
        "input = sys.stdin.readline\n",
        "\n",
        "n, k = map(int,input().split())\n",
        "ondo = list(map(int, input().split()))\n",
        "dap = []\n",
        "\n",
        "dap.append(sum(ondo[:k]))\n",
        "for i in range(n - k):\n",
        "    dap.append(dap[i] - ondo[i] + ondo[k+i])\n",
        "\n",
        "print(max(dap))"
      ]
    }
  ]
}