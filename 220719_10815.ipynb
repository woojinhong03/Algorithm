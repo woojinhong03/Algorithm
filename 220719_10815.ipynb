{
  "nbformat": 4,
  "nbformat_minor": 0,
  "metadata": {
    "colab": {
      "name": "220719_10815.ipynb",
      "provenance": [],
      "collapsed_sections": []
    },
    "kernelspec": {
      "name": "python3",
      "display_name": "Python 3"
    },
    "language_info": {
      "name": "python"
    }
  },
  "cells": [
    {
      "cell_type": "code",
      "execution_count": null,
      "metadata": {
        "id": "i3cORzUMMFC-"
      },
      "outputs": [],
      "source": [
        "n = int(input())\n",
        "a = list(map(int, input().split()))\n",
        "a.sort()\n",
        "\n",
        "def binary_search(num):\n",
        "    l = 0\n",
        "    r = n-1\n",
        "    while l <= r :\n",
        "        mid = (l+r)//2\n",
        "        if a[mid] == num :\n",
        "            return 1\n",
        "        elif a[mid] > num :\n",
        "            r = mid - 1\n",
        "            # 반 줄여주기 1\n",
        "        else:\n",
        "            l = mid + 1\n",
        "            # 반 줄여주기 2\n",
        "    return 0\n",
        "\n",
        "input()\n",
        "for num in list(map(int, input().split())):\n",
        "    print(binary_search(num), end = ' ')"
      ]
    }
  ]
}