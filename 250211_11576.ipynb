{
  "nbformat": 4,
  "nbformat_minor": 0,
  "metadata": {
    "colab": {
      "provenance": [],
      "authorship_tag": "ABX9TyPEBbmrI2wcNZyI8hXok3BJ",
      "include_colab_link": true
    },
    "kernelspec": {
      "name": "python3",
      "display_name": "Python 3"
    },
    "language_info": {
      "name": "python"
    }
  },
  "cells": [
    {
      "cell_type": "markdown",
      "metadata": {
        "id": "view-in-github",
        "colab_type": "text"
      },
      "source": [
        "<a href=\"https://colab.research.google.com/github/woojinhong03/Algorithm/blob/main/250211_11576.ipynb\" target=\"_parent\"><img src=\"https://colab.research.google.com/assets/colab-badge.svg\" alt=\"Open In Colab\"/></a>"
      ]
    },
    {
      "cell_type": "code",
      "execution_count": 3,
      "metadata": {
        "colab": {
          "base_uri": "https://localhost:8080/"
        },
        "id": "xKDUEQzxEx7M",
        "outputId": "97355e0d-0c57-44d3-9bfe-921c65399bf2"
      },
      "outputs": [
        {
          "output_type": "stream",
          "name": "stdout",
          "text": [
            "17 8\n",
            "2\n",
            "2 16\n",
            "6 2\n"
          ]
        }
      ],
      "source": [
        "a, b = map(int,input().split())\n",
        "m = int(input()) - 1\n",
        "n, x = 0, []\n",
        "\n",
        "for i in map(int,input().split()):\n",
        "    n += i * a ** m\n",
        "    m -= 1\n",
        "\n",
        "while n:\n",
        "    x.append(n % b)\n",
        "    n //= b\n",
        "\n",
        "print(*x[::-1])"
      ]
    }
  ]
}