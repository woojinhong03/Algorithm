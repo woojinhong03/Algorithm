{
  "nbformat": 4,
  "nbformat_minor": 0,
  "metadata": {
    "colab": {
      "name": "220729_1543.ipynb",
      "provenance": [],
      "authorship_tag": "ABX9TyOMlK1u+Pz9kZHjZCa/VZ0b",
      "include_colab_link": true
    },
    "kernelspec": {
      "name": "python3",
      "display_name": "Python 3"
    },
    "language_info": {
      "name": "python"
    }
  },
  "cells": [
    {
      "cell_type": "markdown",
      "metadata": {
        "id": "view-in-github",
        "colab_type": "text"
      },
      "source": [
        "<a href=\"https://colab.research.google.com/github/woojinhong03/Algorithm/blob/main/220729_1543.ipynb\" target=\"_parent\"><img src=\"https://colab.research.google.com/assets/colab-badge.svg\" alt=\"Open In Colab\"/></a>"
      ]
    },
    {
      "cell_type": "code",
      "execution_count": 23,
      "metadata": {
        "colab": {
          "base_uri": "https://localhost:8080/"
        },
        "id": "MchSBHRuN1vd",
        "outputId": "fd6c1648-7bb6-427a-f29a-70859459b85a"
      },
      "outputs": [
        {
          "output_type": "stream",
          "name": "stdout",
          "text": [
            "ababababa\n",
            "aba\n",
            "2\n"
          ]
        }
      ],
      "source": [
        "a = input()\n",
        "b = input()\n",
        "cnt = 0\n",
        "n = 0\n",
        "while n <= len(a) - len(b):\n",
        "    if a[n:n + len(b)] == b:\n",
        "        cnt += 1\n",
        "        n += len(b)\n",
        "    else:\n",
        "        n += 1\n",
        "print(cnt)"
      ]
    }
  ]
}