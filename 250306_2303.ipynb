{
  "nbformat": 4,
  "nbformat_minor": 0,
  "metadata": {
    "colab": {
      "provenance": [],
      "authorship_tag": "ABX9TyOAL22DJCGPbzCtmC1G4O1O",
      "include_colab_link": true
    },
    "kernelspec": {
      "name": "python3",
      "display_name": "Python 3"
    },
    "language_info": {
      "name": "python"
    }
  },
  "cells": [
    {
      "cell_type": "markdown",
      "metadata": {
        "id": "view-in-github",
        "colab_type": "text"
      },
      "source": [
        "<a href=\"https://colab.research.google.com/github/woojinhong03/Algorithm/blob/main/250306_2303.ipynb\" target=\"_parent\"><img src=\"https://colab.research.google.com/assets/colab-badge.svg\" alt=\"Open In Colab\"/></a>"
      ]
    },
    {
      "cell_type": "code",
      "execution_count": 1,
      "metadata": {
        "colab": {
          "base_uri": "https://localhost:8080/"
        },
        "id": "pfV0eoGh5U-c",
        "outputId": "57a6fc6f-87f4-4d84-f844-0d2664ffafbc"
      },
      "outputs": [
        {
          "output_type": "stream",
          "name": "stdout",
          "text": [
            "3\n",
            "7 5 5 4 9\n",
            "1 1 1 1 1\n",
            "2 3 3 2 10\n",
            "1\n"
          ]
        }
      ],
      "source": [
        "n = int(input())\n",
        "score = []\n",
        "\n",
        "for _ in range(n):\n",
        "    card = list(map(int,input().split()))\n",
        "    top = 0\n",
        "\n",
        "    for i in range(5):\n",
        "        for j in range(i + 1, 5):\n",
        "            for m in range(j + 1, 5):\n",
        "                dap = (card[i] + card[j] + card[m])%10\n",
        "                if dap >= top:\n",
        "                    top = dap\n",
        "\n",
        "    score.append(top)\n",
        "\n",
        "for i in range(n - 1, -1, -1):\n",
        "    if score[i] == max(score):\n",
        "        print(i + 1)\n",
        "        break"
      ]
    }
  ]
}