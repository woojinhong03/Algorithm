{
  "nbformat": 4,
  "nbformat_minor": 0,
  "metadata": {
    "colab": {
      "provenance": [],
      "authorship_tag": "ABX9TyOm25uCHfls5Q7CFs0r2l7a",
      "include_colab_link": true
    },
    "kernelspec": {
      "name": "python3",
      "display_name": "Python 3"
    },
    "language_info": {
      "name": "python"
    }
  },
  "cells": [
    {
      "cell_type": "markdown",
      "metadata": {
        "id": "view-in-github",
        "colab_type": "text"
      },
      "source": [
        "<a href=\"https://colab.research.google.com/github/woojinhong03/Algorithm/blob/main/250306_2303.ipynb\" target=\"_parent\"><img src=\"https://colab.research.google.com/assets/colab-badge.svg\" alt=\"Open In Colab\"/></a>"
      ]
    },
    {
      "cell_type": "code",
      "execution_count": null,
      "metadata": {
        "id": "pfV0eoGh5U-c"
      },
      "outputs": [],
      "source": [
        "N = int(input())\n",
        "\n",
        "score = []\n",
        "\n",
        "for _ in range(N):\n",
        "    card = list(map(int,input().split()))\n",
        "    max_digit = 0\n",
        "    for i in range(5):\n",
        "        for j in range(i+1, 5):\n",
        "            for m in range(j+1, 5):\n",
        "                digit = (card[i]+card[j]+card[m])%10\n",
        "                if digit >= max_digit:\n",
        "                    max_digit = digit\n",
        "    score.append(max_digit)\n",
        "\n",
        "for i in range(N-1, -1, -1):\n",
        "    if score[i] == max(score):\n",
        "        print(i + 1)\n",
        "        break"
      ]
    }
  ]
}