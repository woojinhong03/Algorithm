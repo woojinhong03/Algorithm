{
  "nbformat": 4,
  "nbformat_minor": 0,
  "metadata": {
    "colab": {
      "provenance": [],
      "authorship_tag": "ABX9TyOT3L3pv20FYYPfKGDrtnnP",
      "include_colab_link": true
    },
    "kernelspec": {
      "name": "python3",
      "display_name": "Python 3"
    },
    "language_info": {
      "name": "python"
    }
  },
  "cells": [
    {
      "cell_type": "markdown",
      "metadata": {
        "id": "view-in-github",
        "colab_type": "text"
      },
      "source": [
        "<a href=\"https://colab.research.google.com/github/woojinhong03/Algorithm/blob/main/250906_2512.ipynb\" target=\"_parent\"><img src=\"https://colab.research.google.com/assets/colab-badge.svg\" alt=\"Open In Colab\"/></a>"
      ]
    },
    {
      "cell_type": "code",
      "execution_count": 5,
      "metadata": {
        "id": "qkBfFqnPUIN3",
        "colab": {
          "base_uri": "https://localhost:8080/"
        },
        "outputId": "58042bfd-8dee-4f95-a69b-973f2892015c"
      },
      "outputs": [
        {
          "output_type": "stream",
          "name": "stdout",
          "text": [
            "5\n",
            "70 80 30 40 100\n",
            "450\n",
            "100\n"
          ]
        }
      ],
      "source": [
        "n = int(input())\n",
        "jibang = list(map(int,input().split()))\n",
        "m = int(input())\n",
        "\n",
        "start = 1\n",
        "end = max(jibang)\n",
        "dap = 0\n",
        "\n",
        "while start <= end:\n",
        "    mid = (start + end) // 2\n",
        "    tot = 0\n",
        "    for i in jibang:\n",
        "        tot += min(i,mid)\n",
        "\n",
        "    if tot <= m:\n",
        "        dap = mid\n",
        "        start = mid + 1\n",
        "    else:\n",
        "        end = mid - 1\n",
        "\n",
        "print(dap)"
      ]
    }
  ]
}