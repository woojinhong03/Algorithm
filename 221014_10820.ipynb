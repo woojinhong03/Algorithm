{
  "nbformat": 4,
  "nbformat_minor": 0,
  "metadata": {
    "colab": {
      "provenance": [],
      "collapsed_sections": [],
      "authorship_tag": "ABX9TyM2wLFBUr3889acHy832BwJ",
      "include_colab_link": true
    },
    "kernelspec": {
      "name": "python3",
      "display_name": "Python 3"
    },
    "language_info": {
      "name": "python"
    }
  },
  "cells": [
    {
      "cell_type": "markdown",
      "metadata": {
        "id": "view-in-github",
        "colab_type": "text"
      },
      "source": [
        "<a href=\"https://colab.research.google.com/github/woojinhong03/Algorithm/blob/main/221014_10820.ipynb\" target=\"_parent\"><img src=\"https://colab.research.google.com/assets/colab-badge.svg\" alt=\"Open In Colab\"/></a>"
      ]
    },
    {
      "cell_type": "code",
      "execution_count": 2,
      "metadata": {
        "id": "jkVVlvk2qkbh"
      },
      "outputs": [],
      "source": [
        "import sys\n",
        "\n",
        "while True:\n",
        "    line = sys.stdin.readline().rstrip('\\n')\n",
        "\n",
        "    if not line:\n",
        "        break\n",
        "\n",
        "    # 소문자, 대문자, 숫자, 공백\n",
        "    l, u, d, s = 0, 0, 0, 0\n",
        "    for each in line:\n",
        "        if each.islower():\n",
        "            l += 1\n",
        "        elif each.isupper():\n",
        "            u += 1\n",
        "        elif each.isdigit():\n",
        "            d += 1\n",
        "        elif each.isspace():\n",
        "            s += 1\n",
        "\n",
        "    print(l, u, d, s)"
      ]
    }
  ]
}