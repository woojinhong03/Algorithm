{
  "nbformat": 4,
  "nbformat_minor": 0,
  "metadata": {
    "colab": {
      "provenance": [],
      "authorship_tag": "ABX9TyN00TPBA6RofipcpC6HiXku",
      "include_colab_link": true
    },
    "kernelspec": {
      "name": "python3",
      "display_name": "Python 3"
    },
    "language_info": {
      "name": "python"
    }
  },
  "cells": [
    {
      "cell_type": "markdown",
      "metadata": {
        "id": "view-in-github",
        "colab_type": "text"
      },
      "source": [
        "<a href=\"https://colab.research.google.com/github/woojinhong03/Algorithm/blob/main/250904_1449.ipynb\" target=\"_parent\"><img src=\"https://colab.research.google.com/assets/colab-badge.svg\" alt=\"Open In Colab\"/></a>"
      ]
    },
    {
      "cell_type": "code",
      "execution_count": 2,
      "metadata": {
        "colab": {
          "base_uri": "https://localhost:8080/"
        },
        "id": "pgsxChlLgyLm",
        "outputId": "b326743f-2d8e-4a8d-97df-2b1ad42f33db"
      },
      "outputs": [
        {
          "output_type": "stream",
          "name": "stdout",
          "text": [
            "4 2\n",
            "1 2 100 101\n",
            "2\n"
          ]
        }
      ],
      "source": [
        "m, l = map(int,input().split())\n",
        "wat = list(map(int,input().split()))\n",
        "\n",
        "cnt = 0\n",
        "tape_end = 0\n",
        "wat.sort()\n",
        "\n",
        "for i in wat:\n",
        "    if i >= tape_end:\n",
        "        cnt += 1\n",
        "        tape_end = i + l\n",
        "\n",
        "print(cnt)"
      ]
    }
  ]
}