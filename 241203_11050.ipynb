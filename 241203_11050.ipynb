{
  "nbformat": 4,
  "nbformat_minor": 0,
  "metadata": {
    "colab": {
      "provenance": [],
      "authorship_tag": "ABX9TyORLBxQe4+s2g/zR3oSWa5U",
      "include_colab_link": true
    },
    "kernelspec": {
      "name": "python3",
      "display_name": "Python 3"
    },
    "language_info": {
      "name": "python"
    }
  },
  "cells": [
    {
      "cell_type": "markdown",
      "metadata": {
        "id": "view-in-github",
        "colab_type": "text"
      },
      "source": [
        "<a href=\"https://colab.research.google.com/github/woojinhong03/Algorithm/blob/main/241203_11050.ipynb\" target=\"_parent\"><img src=\"https://colab.research.google.com/assets/colab-badge.svg\" alt=\"Open In Colab\"/></a>"
      ]
    },
    {
      "cell_type": "code",
      "execution_count": 12,
      "metadata": {
        "colab": {
          "base_uri": "https://localhost:8080/"
        },
        "id": "nhzVqTJaHGRw",
        "outputId": "2e29f5f7-2a41-44ac-e325-951eb668c644"
      },
      "outputs": [
        {
          "output_type": "stream",
          "name": "stdout",
          "text": [
            "5 2\n",
            "10\n"
          ]
        }
      ],
      "source": [
        "#이항 계수 공식  n! / (k!(n-k)!)\n",
        "\n",
        "def fac(x):\n",
        "    sum = 1\n",
        "    for i in range(1,x+1):  #for문을 사용하여 팩토리얼 계산\n",
        "        sum *= i\n",
        "    return(sum)\n",
        "\n",
        "n, k = map(int, input().split()) #입력 받고\n",
        "print(fac(n)//(fac(k)*fac(n-k))) #함수로 계산"
      ]
    }
  ]
}