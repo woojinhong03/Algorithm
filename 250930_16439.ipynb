{
  "nbformat": 4,
  "nbformat_minor": 0,
  "metadata": {
    "colab": {
      "provenance": [],
      "authorship_tag": "ABX9TyO9UJoFRBj+ccRUhn9qLhKk",
      "include_colab_link": true
    },
    "kernelspec": {
      "name": "python3",
      "display_name": "Python 3"
    },
    "language_info": {
      "name": "python"
    }
  },
  "cells": [
    {
      "cell_type": "markdown",
      "metadata": {
        "id": "view-in-github",
        "colab_type": "text"
      },
      "source": [
        "<a href=\"https://colab.research.google.com/github/woojinhong03/Algorithm/blob/main/250930_16439.ipynb\" target=\"_parent\"><img src=\"https://colab.research.google.com/assets/colab-badge.svg\" alt=\"Open In Colab\"/></a>"
      ]
    },
    {
      "cell_type": "code",
      "execution_count": null,
      "metadata": {
        "id": "De1SvT7nH0Qp"
      },
      "outputs": [],
      "source": [
        "import sys\n",
        "from itertools import combinations\n",
        "\n",
        "N, M = map(int, sys.stdin.readline().split())\n",
        "prefs = [list(map(int, sys.stdin.readline().split())) for _ in range(N)]\n",
        "\n",
        "ans = 0\n",
        "\n",
        "for c1, c2, c3 in combinations(range(M), 3):\n",
        "    total = 0\n",
        "    for i in range(N):\n",
        "        total += max(prefs[i][c1], prefs[i][c2], prefs[i][c3])\n",
        "\n",
        "    ans = max(ans, total)\n",
        "\n",
        "print(ans)"
      ]
    }
  ]
}