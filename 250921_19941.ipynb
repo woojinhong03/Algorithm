{
  "nbformat": 4,
  "nbformat_minor": 0,
  "metadata": {
    "colab": {
      "provenance": [],
      "authorship_tag": "ABX9TyNtHUn9HbWiCyO9lkHilvZf",
      "include_colab_link": true
    },
    "kernelspec": {
      "name": "python3",
      "display_name": "Python 3"
    },
    "language_info": {
      "name": "python"
    }
  },
  "cells": [
    {
      "cell_type": "markdown",
      "metadata": {
        "id": "view-in-github",
        "colab_type": "text"
      },
      "source": [
        "<a href=\"https://colab.research.google.com/github/woojinhong03/Algorithm/blob/main/250921_19941.ipynb\" target=\"_parent\"><img src=\"https://colab.research.google.com/assets/colab-badge.svg\" alt=\"Open In Colab\"/></a>"
      ]
    },
    {
      "cell_type": "code",
      "execution_count": 2,
      "metadata": {
        "colab": {
          "base_uri": "https://localhost:8080/"
        },
        "id": "E0bOdKyqtWj9",
        "outputId": "2ca46510-df46-4e6f-f2ad-6b385b5f5a81"
      },
      "outputs": [
        {
          "output_type": "stream",
          "name": "stdout",
          "text": [
            "20 1\n",
            "HHPHPPHHPPHPPPHPHPHP\n",
            "8\n"
          ]
        }
      ],
      "source": [
        "# import sys\n",
        "# input = sys.stdin.readline\n",
        "\n",
        "n, k = map(int, input().split())\n",
        "table = list(input().strip())\n",
        "\n",
        "eaten = [False] * n\n",
        "count = 0\n",
        "\n",
        "for i in range(n):\n",
        "    if table[i] == 'P':\n",
        "        for j in range(max(0, i - k), min(n, i + k + 1)):\n",
        "            if table[j] == 'H' and not eaten[j]:\n",
        "                eaten[j] = True\n",
        "                count += 1\n",
        "                break\n",
        "print(count)"
      ]
    }
  ]
}