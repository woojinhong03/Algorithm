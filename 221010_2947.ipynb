{
  "nbformat": 4,
  "nbformat_minor": 0,
  "metadata": {
    "colab": {
      "provenance": [],
      "collapsed_sections": []
    },
    "kernelspec": {
      "name": "python3",
      "display_name": "Python 3"
    },
    "language_info": {
      "name": "python"
    }
  },
  "cells": [
    {
      "cell_type": "code",
      "execution_count": 1,
      "metadata": {
        "colab": {
          "base_uri": "https://localhost:8080/"
        },
        "id": "IRjjUE2q2bgR",
        "outputId": "87d46b3c-300a-4711-f829-d102fbe5911f"
      },
      "outputs": [
        {
          "output_type": "stream",
          "name": "stdout",
          "text": [
            "2 1 5 3 4\n",
            "1 2 5 3 4\n",
            "1 2 3 5 4\n",
            "1 2 3 4 5\n"
          ]
        }
      ],
      "source": [
        "a = list(map(int, input().split()))\n",
        "answer = [1, 2, 3, 4, 5]\n",
        "\n",
        "while True:\n",
        "    for i in range(len(a)-1):\n",
        "        if a[i] > a[i+1]:\n",
        "            a[i], a[i+1] = a[i+1], a[i]\n",
        "            print(\" \".join(map(str, a)))\n",
        "\n",
        "    if a == answer:\n",
        "        break"
      ]
    }
  ]
}