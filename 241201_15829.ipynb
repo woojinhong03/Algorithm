{
  "nbformat": 4,
  "nbformat_minor": 0,
  "metadata": {
    "colab": {
      "provenance": [],
      "authorship_tag": "ABX9TyPdo8RmQAP9ydKny1SRVAo0",
      "include_colab_link": true
    },
    "kernelspec": {
      "name": "python3",
      "display_name": "Python 3"
    },
    "language_info": {
      "name": "python"
    }
  },
  "cells": [
    {
      "cell_type": "markdown",
      "metadata": {
        "id": "view-in-github",
        "colab_type": "text"
      },
      "source": [
        "<a href=\"https://colab.research.google.com/github/woojinhong03/Algorithm/blob/main/241201_15829.ipynb\" target=\"_parent\"><img src=\"https://colab.research.google.com/assets/colab-badge.svg\" alt=\"Open In Colab\"/></a>"
      ]
    },
    {
      "cell_type": "code",
      "execution_count": 9,
      "metadata": {
        "colab": {
          "base_uri": "https://localhost:8080/"
        },
        "id": "weuQZbjgQwCE",
        "outputId": "03b6f459-09b2-4851-8e9e-298c7d233640"
      },
      "outputs": [
        {
          "output_type": "stream",
          "name": "stdout",
          "text": [
            "5\n",
            "abcde\n",
            "4739715\n"
          ]
        }
      ],
      "source": [
        "L = int(input())\n",
        "mun = input()\n",
        "sum = 0\n",
        "\n",
        "for i in range(L):  #for문으로 L만큼 반복\n",
        "    sum += (ord(mun[i]) - 96) * (31**i) #ord를 사용하여 알파벳을 아스키코드로 변환하고 - 96을 하여 a가 1이 되게 한다.\n",
        "\n",
        "print(sum % 1234567891)"
      ]
    }
  ]
}