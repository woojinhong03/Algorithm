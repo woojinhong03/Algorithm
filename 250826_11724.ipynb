{
  "nbformat": 4,
  "nbformat_minor": 0,
  "metadata": {
    "colab": {
      "provenance": [],
      "authorship_tag": "ABX9TyO6EJdrPuF2ca7ZahZ0psvD",
      "include_colab_link": true
    },
    "kernelspec": {
      "name": "python3",
      "display_name": "Python 3"
    },
    "language_info": {
      "name": "python"
    }
  },
  "cells": [
    {
      "cell_type": "markdown",
      "metadata": {
        "id": "view-in-github",
        "colab_type": "text"
      },
      "source": [
        "<a href=\"https://colab.research.google.com/github/woojinhong03/Algorithm/blob/main/250826_11724.ipynb\" target=\"_parent\"><img src=\"https://colab.research.google.com/assets/colab-badge.svg\" alt=\"Open In Colab\"/></a>"
      ]
    },
    {
      "cell_type": "code",
      "execution_count": 19,
      "metadata": {
        "colab": {
          "base_uri": "https://localhost:8080/"
        },
        "id": "B37dwCTQBC-N",
        "outputId": "e4e5320c-cebb-4e24-fc1c-cf0588740aa6"
      },
      "outputs": [
        {
          "output_type": "stream",
          "name": "stdout",
          "text": [
            "6 8\n",
            "1 2\n",
            "2 5\n",
            "5 1\n",
            "3 4\n",
            "4 6\n",
            "5 4\n",
            "2 4\n",
            "2 3\n",
            "1\n"
          ]
        }
      ],
      "source": [
        "import sys\n",
        "\n",
        "sys.setrecursionlimit(5000)\n",
        "input = sys.stdin.readline\n",
        "\n",
        "def dfs(node):\n",
        "    visited[node] = 1\n",
        "    for i in graph[node]:\n",
        "        if not visited[i]:\n",
        "            dfs(i)\n",
        "\n",
        "n, m = map(int,input().split())\n",
        "graph = [[] for _ in range(n + 1)]\n",
        "\n",
        "for _ in range(m):\n",
        "    u, v = map(int,input().split())\n",
        "    graph[u].append(v)\n",
        "    graph[v].append(u)\n",
        "\n",
        "visited = [0] * (n + 1)\n",
        "cnt = 0\n",
        "\n",
        "for i in range(1, n + 1):\n",
        "    if not visited[i]:\n",
        "        dfs(i)\n",
        "        cnt += 1\n",
        "\n",
        "print(cnt)"
      ]
    },
    {
      "cell_type": "code",
      "source": [],
      "metadata": {
        "colab": {
          "base_uri": "https://localhost:8080/"
        },
        "id": "oebJuxMrD2AH",
        "outputId": "aa5c1195-dddc-42c6-e1e3-6cf8e9be12e3"
      },
      "execution_count": 14,
      "outputs": [
        {
          "output_type": "stream",
          "name": "stdout",
          "text": [
            "4 6\n"
          ]
        }
      ]
    }
  ]
}