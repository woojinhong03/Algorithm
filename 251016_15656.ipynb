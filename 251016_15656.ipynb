{
  "nbformat": 4,
  "nbformat_minor": 0,
  "metadata": {
    "colab": {
      "provenance": [],
      "authorship_tag": "ABX9TyNwbZFZcFCwT0DEI7Wy7zML",
      "include_colab_link": true
    },
    "kernelspec": {
      "name": "python3",
      "display_name": "Python 3"
    },
    "language_info": {
      "name": "python"
    }
  },
  "cells": [
    {
      "cell_type": "markdown",
      "metadata": {
        "id": "view-in-github",
        "colab_type": "text"
      },
      "source": [
        "<a href=\"https://colab.research.google.com/github/woojinhong03/Algorithm/blob/main/251016_15656.ipynb\" target=\"_parent\"><img src=\"https://colab.research.google.com/assets/colab-badge.svg\" alt=\"Open In Colab\"/></a>"
      ]
    },
    {
      "cell_type": "code",
      "execution_count": null,
      "metadata": {
        "id": "yxA47eaLZAqu"
      },
      "outputs": [],
      "source": [
        "import sys\n",
        "input = sys.stdin.readline\n",
        "\n",
        "n, m = map(int, input().split())\n",
        "nums = sorted(list(map(int, input().split())))\n",
        "result = []\n",
        "\n",
        "def backtrack():\n",
        "    # 수열의 길이가 M에 도달하면 출력\n",
        "    if len(result) == m:\n",
        "        print(*result)\n",
        "        return\n",
        "\n",
        "    # 0부터 N-1까지 모든 숫자를 확인\n",
        "    for i in range(n):\n",
        "        result.append(nums[i])  # 현재 숫자를 수열에 추가\n",
        "        backtrack()             # 다음 숫자를 고르러 재귀 호출\n",
        "        result.pop()            # 방금 넣었던 숫자를 빼고 다음 숫자로 넘어감 (백트래킹)\n",
        "\n",
        "backtrack()"
      ]
    }
  ]
}