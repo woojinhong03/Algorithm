{
  "nbformat": 4,
  "nbformat_minor": 0,
  "metadata": {
    "colab": {
      "name": "220712_3036.ipynb",
      "provenance": [],
      "authorship_tag": "ABX9TyOlhUUjNNezCjaIfnYPCgNN",
      "include_colab_link": true
    },
    "kernelspec": {
      "name": "python3",
      "display_name": "Python 3"
    },
    "language_info": {
      "name": "python"
    }
  },
  "cells": [
    {
      "cell_type": "markdown",
      "metadata": {
        "id": "view-in-github",
        "colab_type": "text"
      },
      "source": [
        "<a href=\"https://colab.research.google.com/github/woojinhong03/Algorithm/blob/main/220712_3036.ipynb\" target=\"_parent\"><img src=\"https://colab.research.google.com/assets/colab-badge.svg\" alt=\"Open In Colab\"/></a>"
      ]
    },
    {
      "cell_type": "code",
      "execution_count": 1,
      "metadata": {
        "colab": {
          "base_uri": "https://localhost:8080/"
        },
        "id": "qUA3P9wV4zoS",
        "outputId": "3d3cd935-e33f-4e43-98bb-286722f805f0"
      },
      "outputs": [
        {
          "output_type": "stream",
          "name": "stdout",
          "text": [
            "3\n",
            "8 4 2\n",
            "2/1\n",
            "4/1\n"
          ]
        }
      ],
      "source": [
        "n = int(input())\n",
        "r = list(map(int,input().split()))\n",
        "\n",
        "for b in r[1:]:\n",
        "    a = r[0]\n",
        "    while(True):\n",
        "        for i in range(2,min(a,b)+1):\n",
        "            if a%i == 0 and b%i == 0:\n",
        "                a//=i\n",
        "                b//=i\n",
        "                break\n",
        "                # 동시에 나누어 떨어질 경우에만 나눠준다.\n",
        "        else:\n",
        "            print(a,\"/\",b,sep=\"\")\n",
        "            break"
      ]
    }
  ]
}