{
  "nbformat": 4,
  "nbformat_minor": 0,
  "metadata": {
    "colab": {
      "provenance": [],
      "authorship_tag": "ABX9TyPljG1WHu7j+WNlF1v237wQ",
      "include_colab_link": true
    },
    "kernelspec": {
      "name": "python3",
      "display_name": "Python 3"
    },
    "language_info": {
      "name": "python"
    }
  },
  "cells": [
    {
      "cell_type": "markdown",
      "metadata": {
        "id": "view-in-github",
        "colab_type": "text"
      },
      "source": [
        "<a href=\"https://colab.research.google.com/github/woojinhong03/Algorithm/blob/main/241130_2231.ipynb\" target=\"_parent\"><img src=\"https://colab.research.google.com/assets/colab-badge.svg\" alt=\"Open In Colab\"/></a>"
      ]
    },
    {
      "cell_type": "code",
      "source": [
        "N = int(input())\n",
        "\n",
        "for i in range(1, N):   #생성자를 1부터 조건에 맞을때까지 카운팅\n",
        "    B = i + sum(map(int,str(i)))    #분해합 = 생성자 + 합(생성자 각 자릿수 분해)\n",
        "    if B == N:  #분해합이 자연수와 같다면 생성자 출력\n",
        "        print(i)\n",
        "        break\n",
        "else:   #생성자가 없으니 0 출력\n",
        "    print(0)"
      ],
      "metadata": {
        "colab": {
          "base_uri": "https://localhost:8080/"
        },
        "id": "kj2mnvY7yj_C",
        "outputId": "4027f7f7-3c9d-47b2-9394-c38f5d5bba58"
      },
      "execution_count": 9,
      "outputs": [
        {
          "output_type": "stream",
          "name": "stdout",
          "text": [
            "216\n",
            "198\n"
          ]
        }
      ]
    }
  ]
}