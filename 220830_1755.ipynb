{
  "nbformat": 4,
  "nbformat_minor": 0,
  "metadata": {
    "colab": {
      "name": "220830_1755.ipynb",
      "provenance": [],
      "authorship_tag": "ABX9TyN3JXYqL9s5udZcVjCd8N/U",
      "include_colab_link": true
    },
    "kernelspec": {
      "name": "python3",
      "display_name": "Python 3"
    },
    "language_info": {
      "name": "python"
    }
  },
  "cells": [
    {
      "cell_type": "markdown",
      "metadata": {
        "id": "view-in-github",
        "colab_type": "text"
      },
      "source": [
        "<a href=\"https://colab.research.google.com/github/woojinhong03/Algorithm/blob/main/220830_1755.ipynb\" target=\"_parent\"><img src=\"https://colab.research.google.com/assets/colab-badge.svg\" alt=\"Open In Colab\"/></a>"
      ]
    },
    {
      "cell_type": "code",
      "execution_count": 1,
      "metadata": {
        "colab": {
          "base_uri": "https://localhost:8080/"
        },
        "id": "xJEis7hiL1Kz",
        "outputId": "9c5a7eaf-82b4-41ea-e41a-c8bf85a97cff"
      },
      "outputs": [
        {
          "output_type": "stream",
          "name": "stdout",
          "text": [
            "8 28\n",
            "8 9 18 15 14 19 11 17 16 13 \n",
            "12 10 28 25 24 21 27 26 23 22 \n",
            "20 "
          ]
        }
      ],
      "source": [
        "m, n = map(int, input().split())\n",
        "\n",
        "dict = {'1':'one', '2':'two', '3':'three', '4':'four', '5':'five', '6':'six',\n",
        "        '7':'seven', '8':'eight', '9':'nine', '0':'zero'}\n",
        "\n",
        "l = []\n",
        "\n",
        "for i in range(m, n+1):\n",
        "    a = ' '.join([dict[j] for j in str(i)])\n",
        "    l.append([i, a])\n",
        "    \n",
        "l.sort(key=lambda x:x[1])\n",
        "\n",
        "for i in range(len(l)):\n",
        "    if i%10 == 0 and i!= 0:\n",
        "        print()\n",
        "    print(l[i][0], end=' ')"
      ]
    }
  ]
}