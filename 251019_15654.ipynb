{
  "nbformat": 4,
  "nbformat_minor": 0,
  "metadata": {
    "colab": {
      "provenance": [],
      "authorship_tag": "ABX9TyOkLKzc3AuvG5BX/8I8wyIq",
      "include_colab_link": true
    },
    "kernelspec": {
      "name": "python3",
      "display_name": "Python 3"
    },
    "language_info": {
      "name": "python"
    }
  },
  "cells": [
    {
      "cell_type": "markdown",
      "metadata": {
        "id": "view-in-github",
        "colab_type": "text"
      },
      "source": [
        "<a href=\"https://colab.research.google.com/github/woojinhong03/Algorithm/blob/main/251019_15654.ipynb\" target=\"_parent\"><img src=\"https://colab.research.google.com/assets/colab-badge.svg\" alt=\"Open In Colab\"/></a>"
      ]
    },
    {
      "cell_type": "code",
      "execution_count": null,
      "metadata": {
        "id": "osYa2tJz2WiE"
      },
      "outputs": [],
      "source": [
        "import sys\n",
        "from itertools import permutations\n",
        "\n",
        "input = sys.stdin.readline\n",
        "N, M = map(int, input().split())\n",
        "nums = list(map(int, input().split()))\n",
        "\n",
        "# 사전 순 출력을 위해 입력 리스트를 먼저 정렬.\n",
        "nums.sort()\n",
        "# permutations(리스트, 뽑을 개수)를 호출해 모든 순열을 구함.\n",
        "results = permutations(nums, M)\n",
        "\n",
        "for res in results:\n",
        "    print(*res)"
      ]
    }
  ]
}