{
  "nbformat": 4,
  "nbformat_minor": 0,
  "metadata": {
    "colab": {
      "provenance": [],
      "authorship_tag": "ABX9TyNMHZrBxQcTS/4JHABQCRe1",
      "include_colab_link": true
    },
    "kernelspec": {
      "name": "python3",
      "display_name": "Python 3"
    },
    "language_info": {
      "name": "python"
    }
  },
  "cells": [
    {
      "cell_type": "markdown",
      "metadata": {
        "id": "view-in-github",
        "colab_type": "text"
      },
      "source": [
        "<a href=\"https://colab.research.google.com/github/woojinhong03/Algorithm/blob/main/241129_.ipynb\" target=\"_parent\"><img src=\"https://colab.research.google.com/assets/colab-badge.svg\" alt=\"Open In Colab\"/></a>"
      ]
    },
    {
      "cell_type": "code",
      "execution_count": 1,
      "metadata": {
        "colab": {
          "base_uri": "https://localhost:8080/"
        },
        "id": "esoJ3CR3tbLP",
        "outputId": "a700fb28-b8f8-4b3f-af30-1d0b906f7b69"
      },
      "outputs": [
        {
          "output_type": "stream",
          "name": "stdout",
          "text": [
            "23\n",
            "3 1 4 1 5 9\n",
            "5 7\n",
            "7\n",
            "3 2\n"
          ]
        }
      ],
      "source": [
        "N = int(input())\n",
        "size = list(map(int,input().split()))\n",
        "T, P = map(int,input().split())\n",
        "\n",
        "cnt = 0\n",
        "for i in size:\n",
        "    if i == 0:\n",
        "        continue\n",
        "    elif i <= T:\n",
        "        cnt += 1\n",
        "    elif i % T == 0:\n",
        "        cnt += i // T\n",
        "    else:\n",
        "        cnt += i // T + 1\n",
        "\n",
        "print(cnt)\n",
        "print(N//P, N%P)"
      ]
    }
  ]
}