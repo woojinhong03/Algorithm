{
  "nbformat": 4,
  "nbformat_minor": 0,
  "metadata": {
    "colab": {
      "name": "220430_COS_Pro_2급_공항방문객.ipynb",
      "provenance": [],
      "collapsed_sections": [],
      "authorship_tag": "ABX9TyOiTbMcKCatuk0rky6Zjeu3",
      "include_colab_link": true
    },
    "kernelspec": {
      "name": "python3",
      "display_name": "Python 3"
    },
    "language_info": {
      "name": "python"
    }
  },
  "cells": [
    {
      "cell_type": "markdown",
      "metadata": {
        "id": "view-in-github",
        "colab_type": "text"
      },
      "source": [
        "<a href=\"https://colab.research.google.com/github/woojinhong03/Algorithm/blob/main/220430_COS_Pro_2%EA%B8%89_%EA%B3%B5%ED%95%AD%EB%B0%A9%EB%AC%B8%EA%B0%9D.ipynb\" target=\"_parent\"><img src=\"https://colab.research.google.com/assets/colab-badge.svg\" alt=\"Open In Colab\"/></a>"
      ]
    },
    {
      "cell_type": "code",
      "execution_count": 1,
      "metadata": {
        "id": "ZSC8iFO3C1h9"
      },
      "outputs": [],
      "source": [
        "def func_a(arr, n):\n",
        "    ret = []\n",
        "    for x in arr:\n",
        "        if x != n:\n",
        "            ret.append(x)\n",
        "    return ret\n",
        "\n",
        "def func_b(a, b):\n",
        "    if a >= b:\n",
        "        return a - b\n",
        "    else:\n",
        "        return b - a\n",
        "\n",
        "def func_c(arr):\n",
        "    ret = -1\n",
        "    for x in arr:\n",
        "        if ret < x:\n",
        "            ret = x\n",
        "    return ret\n",
        "\n",
        "def solution(visitor):\n",
        "    max_first = func_c(visitor)\n",
        "    visitor_removed = func_a(visitor, max_first)\n",
        "    max_second = func_c(visitor_removed)\n",
        "    answer = func_b(max_second, max_first)\n",
        "    return answer"
      ]
    }
  ]
}