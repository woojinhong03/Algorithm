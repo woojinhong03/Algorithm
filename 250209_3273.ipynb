{
  "nbformat": 4,
  "nbformat_minor": 0,
  "metadata": {
    "colab": {
      "provenance": [],
      "authorship_tag": "ABX9TyOX5YTE8jp7K7DvWfxYl+0K",
      "include_colab_link": true
    },
    "kernelspec": {
      "name": "python3",
      "display_name": "Python 3"
    },
    "language_info": {
      "name": "python"
    }
  },
  "cells": [
    {
      "cell_type": "markdown",
      "metadata": {
        "id": "view-in-github",
        "colab_type": "text"
      },
      "source": [
        "<a href=\"https://colab.research.google.com/github/woojinhong03/Algorithm/blob/main/250209_3273.ipynb\" target=\"_parent\"><img src=\"https://colab.research.google.com/assets/colab-badge.svg\" alt=\"Open In Colab\"/></a>"
      ]
    },
    {
      "cell_type": "code",
      "source": [
        "n = int(input())\n",
        "su = sorted(list(map(int,input().split())))\n",
        "x = int(input())\n",
        "\n",
        "cnt, st, end = 0, 0, n - 1\n",
        "\n",
        "while st < end:\n",
        "    temp = su[st] + su[end] #합\n",
        "    if temp > x:    # x보다 temp가 크면?\n",
        "        end -= 1    # end를 한 칸 땡기기(값 줄이기).\n",
        "    elif temp < x:  # x보다 temp가 작으면?\n",
        "        st += 1     # start를 한 칸 미루기(값 늘리기).\n",
        "    else:           # 아니라면? (같다면)\n",
        "        cnt += 1    # 만족하는 쌍의 수 + 1\n",
        "        st += 1     # start + 1\n",
        "\n",
        "print(cnt)"
      ],
      "metadata": {
        "colab": {
          "base_uri": "https://localhost:8080/"
        },
        "id": "iw6oyz_DZ1Qg",
        "outputId": "3c47731d-07a4-4143-f35b-e5522fc68982"
      },
      "execution_count": 11,
      "outputs": [
        {
          "output_type": "stream",
          "name": "stdout",
          "text": [
            "9\n",
            "5 12 7 10 9 1 2 3 11\n",
            "13\n",
            "3\n"
          ]
        }
      ]
    }
  ]
}