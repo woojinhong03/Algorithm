{
  "nbformat": 4,
  "nbformat_minor": 0,
  "metadata": {
    "colab": {
      "name": "220620_10814.ipynb",
      "provenance": [],
      "authorship_tag": "ABX9TyOWWVhIxxwh5gvxKwrUGd5e",
      "include_colab_link": true
    },
    "kernelspec": {
      "name": "python3",
      "display_name": "Python 3"
    },
    "language_info": {
      "name": "python"
    }
  },
  "cells": [
    {
      "cell_type": "markdown",
      "metadata": {
        "id": "view-in-github",
        "colab_type": "text"
      },
      "source": [
        "<a href=\"https://colab.research.google.com/github/woojinhong03/Algorithm/blob/main/220620_10814.ipynb\" target=\"_parent\"><img src=\"https://colab.research.google.com/assets/colab-badge.svg\" alt=\"Open In Colab\"/></a>"
      ]
    },
    {
      "cell_type": "code",
      "execution_count": null,
      "metadata": {
        "colab": {
          "base_uri": "https://localhost:8080/"
        },
        "id": "4MKmDxWqEfA0",
        "outputId": "b68bb356-3d43-479f-ebe7-f6044a5f3f45"
      },
      "outputs": [
        {
          "output_type": "stream",
          "name": "stdout",
          "text": [
            "3\n",
            "21 Junkyu\n",
            "21 Dohyun\n",
            "20 Sunyoung\n",
            "20 Sunyoung\n",
            "21 Junkyu\n",
            "21 Dohyun\n"
          ]
        }
      ],
      "source": [
        "n = int(input())\n",
        "a = []\n",
        "\n",
        "for _ in range(n):\n",
        "    x,y = input().split()\n",
        "    x = int(x)\n",
        "    a.append([x,y])\n",
        "\n",
        "a.sort(key = lambda x : x[0])\n",
        "\n",
        "for i in range(0,n):\n",
        "    print(a[i][0],a[i][1])"
      ]
    }
  ]
}