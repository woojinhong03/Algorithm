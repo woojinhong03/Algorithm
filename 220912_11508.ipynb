{
  "nbformat": 4,
  "nbformat_minor": 0,
  "metadata": {
    "colab": {
      "provenance": [],
      "collapsed_sections": [],
      "authorship_tag": "ABX9TyNRieYgpdteF0O1mgZ5i9sA",
      "include_colab_link": true
    },
    "kernelspec": {
      "name": "python3",
      "display_name": "Python 3"
    },
    "language_info": {
      "name": "python"
    }
  },
  "cells": [
    {
      "cell_type": "markdown",
      "metadata": {
        "id": "view-in-github",
        "colab_type": "text"
      },
      "source": [
        "<a href=\"https://colab.research.google.com/github/woojinhong03/Algorithm/blob/main/220912_11508.ipynb\" target=\"_parent\"><img src=\"https://colab.research.google.com/assets/colab-badge.svg\" alt=\"Open In Colab\"/></a>"
      ]
    },
    {
      "cell_type": "code",
      "execution_count": 2,
      "metadata": {
        "colab": {
          "base_uri": "https://localhost:8080/"
        },
        "id": "iOydxm7Dubz4",
        "outputId": "9cdfe0f4-2a4d-4d42-8dca-e9f19638e7a5"
      },
      "outputs": [
        {
          "output_type": "stream",
          "name": "stdout",
          "text": [
            "6\n",
            "6\n",
            "4\n",
            "5\n",
            "5\n",
            "5\n",
            "5\n",
            "21\n"
          ]
        }
      ],
      "source": [
        "n = int(input())\n",
        "c = []\n",
        "\n",
        "for i in range(n):\n",
        "    c.append(int(input()))\n",
        "c.sort(reverse = True)\n",
        "\n",
        "result = 0\n",
        "for i in range(2,len(c),3):\n",
        "    result += c[i]\n",
        "\n",
        "print(sum(c)-result)"
      ]
    }
  ]
}