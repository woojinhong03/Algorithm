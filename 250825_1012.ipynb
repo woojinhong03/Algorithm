{
  "nbformat": 4,
  "nbformat_minor": 0,
  "metadata": {
    "colab": {
      "provenance": [],
      "authorship_tag": "ABX9TyM/mL1qp25UquVAG4asTt3P",
      "include_colab_link": true
    },
    "kernelspec": {
      "name": "python3",
      "display_name": "Python 3"
    },
    "language_info": {
      "name": "python"
    }
  },
  "cells": [
    {
      "cell_type": "markdown",
      "metadata": {
        "id": "view-in-github",
        "colab_type": "text"
      },
      "source": [
        "<a href=\"https://colab.research.google.com/github/woojinhong03/Algorithm/blob/main/250825_1012.ipynb\" target=\"_parent\"><img src=\"https://colab.research.google.com/assets/colab-badge.svg\" alt=\"Open In Colab\"/></a>"
      ]
    },
    {
      "cell_type": "code",
      "execution_count": 6,
      "metadata": {
        "colab": {
          "base_uri": "https://localhost:8080/"
        },
        "id": "s5-VLgVm4ACA",
        "outputId": "985628f8-2397-4609-920f-534869fc5182"
      },
      "outputs": [
        {
          "output_type": "stream",
          "name": "stdout",
          "text": [
            "2\n",
            "10 8 17\n",
            "0 0\n",
            "1 0\n",
            "1 1\n",
            "4 2\n",
            "4 3\n",
            "4 5\n",
            "2 4\n",
            "3 4\n",
            "7 4\n",
            "8 4\n",
            "9 4\n",
            "7 5\n",
            "8 5\n",
            "9 5\n",
            "7 6\n",
            "8 6\n",
            "9 6\n",
            "5\n",
            "10 10 1\n",
            "5 5\n",
            "1\n"
          ]
        }
      ],
      "source": [
        "def dfs(y, x):\n",
        "    global visited\n",
        "    visited[y][x] = 1\n",
        "    for i in range(4):\n",
        "        newY = y + dirR[i]\n",
        "        newX = x + dirC[i]\n",
        "        if graph[newY][newX] and not visited[newY][newX]:\n",
        "            dfs(newY, newX)\n",
        "\n",
        "# import sys\n",
        "# sys.setrecursionlimit(10**6)\n",
        "# input = sys.stdin.readline\n",
        "\n",
        "max = 50 + 10\n",
        "dirR = [1, -1, 0, 0]\n",
        "dirC = [0, 0, 1, -1]\n",
        "\n",
        "for _ in range(int(input())):\n",
        "    m, n, k = map(int, input().split())\n",
        "\n",
        "    graph = [[0] * max for _ in range(max)]\n",
        "    visited = [[0] * max for _ in range(max)]\n",
        "\n",
        "    for _ in range(k):\n",
        "        x, y = map(int,input().split())\n",
        "        graph[y + 1][x + 1] = 1\n",
        "\n",
        "    answer = 0\n",
        "    for i in range(1, n + 1):\n",
        "        for j in range(1, m + 1):\n",
        "            if graph[i][j] and not visited[i][j]:\n",
        "                dfs(i, j)\n",
        "                answer += 1\n",
        "\n",
        "    print(answer)"
      ]
    }
  ]
}