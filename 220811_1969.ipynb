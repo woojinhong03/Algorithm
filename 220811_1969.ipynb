{
  "nbformat": 4,
  "nbformat_minor": 0,
  "metadata": {
    "colab": {
      "name": "220811_1969.ipynb",
      "provenance": [],
      "collapsed_sections": []
    },
    "kernelspec": {
      "name": "python3",
      "display_name": "Python 3"
    },
    "language_info": {
      "name": "python"
    }
  },
  "cells": [
    {
      "cell_type": "code",
      "execution_count": 1,
      "metadata": {
        "colab": {
          "base_uri": "https://localhost:8080/"
        },
        "id": "vSH_OREgkdlB",
        "outputId": "e05a31fd-452f-431f-83d2-ba2a1855d591"
      },
      "outputs": [
        {
          "output_type": "stream",
          "name": "stdout",
          "text": [
            "6 10\n",
            "ATGTTACCAT\n",
            "AAGTTACGAT\n",
            "AACAAAGCAA\n",
            "AAGTTACCTT\n",
            "AAGTTACCAA\n",
            "TACTTACCAA\n",
            "AAGTTACCAA\n",
            "12\n"
          ]
        }
      ],
      "source": [
        "n, m = map(int, input().split())\n",
        "\n",
        "arr = []\n",
        "\n",
        "for i in range(n):\n",
        "    arr.append(list(map(str, input())))\n",
        "\n",
        "cnt, hap = 0, 0\n",
        "result = ''\n",
        "for i in range(m):\n",
        "    a, c, g, t = 0, 0, 0, 0\n",
        "    for j in range(n):\n",
        "        if arr[j][i] == 'T':\n",
        "            t += 1\n",
        "        elif arr[j][i] == 'A':\n",
        "            a += 1\n",
        "        elif arr[j][i] == 'G':\n",
        "            g += 1\n",
        "        elif arr[j][i] == 'C':\n",
        "            c += 1\n",
        "    if max(a,c,g,t) == a:\n",
        "        result += 'A'\n",
        "        hap += c + g +t\n",
        "    elif max(a,c,g,t) == c:\n",
        "        result += 'C'\n",
        "        hap += a + g +t\n",
        "    elif max(a,c,g,t) == g:\n",
        "        result += 'G'\n",
        "        hap += a + c +t\n",
        "    elif max(a,c,g,t) == t:\n",
        "        result += 'T'\n",
        "        hap += c + g + a\n",
        "    \n",
        "print(result)\n",
        "print(hap)"
      ]
    }
  ]
}