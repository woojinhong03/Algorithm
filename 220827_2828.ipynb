{
  "nbformat": 4,
  "nbformat_minor": 0,
  "metadata": {
    "colab": {
      "name": "220827_2828.ipynb",
      "provenance": [],
      "authorship_tag": "ABX9TyPPz9FvHFx9RnA3D5tpWj7h",
      "include_colab_link": true
    },
    "kernelspec": {
      "name": "python3",
      "display_name": "Python 3"
    },
    "language_info": {
      "name": "python"
    }
  },
  "cells": [
    {
      "cell_type": "markdown",
      "metadata": {
        "id": "view-in-github",
        "colab_type": "text"
      },
      "source": [
        "<a href=\"https://colab.research.google.com/github/woojinhong03/Algorithm/blob/main/220827_2828.ipynb\" target=\"_parent\"><img src=\"https://colab.research.google.com/assets/colab-badge.svg\" alt=\"Open In Colab\"/></a>"
      ]
    },
    {
      "cell_type": "code",
      "execution_count": 1,
      "metadata": {
        "colab": {
          "base_uri": "https://localhost:8080/"
        },
        "id": "HCjUeVp6x4p4",
        "outputId": "99c3db32-5898-4a18-fb36-4189c0ca97c6"
      },
      "outputs": [
        {
          "output_type": "stream",
          "name": "stdout",
          "text": [
            "5 2\n",
            "3\n",
            "1\n",
            "5\n",
            "3\n",
            "4\n"
          ]
        }
      ],
      "source": [
        "n, m = map(int, input().split())\n",
        "j = int(input())\n",
        "\n",
        "start = 1\n",
        "end = m\n",
        "distance = 0\n",
        "\n",
        "for _ in range(j):\n",
        "    p = int(input())\n",
        "\n",
        "    if p < start:\n",
        "        distance += (start - p)\n",
        "        start = p\n",
        "        end = p + m - 1\n",
        "\n",
        "    elif p > end:\n",
        "        distance += (p - end)\n",
        "        end = p\n",
        "        start = end - m + 1\n",
        "\n",
        "print(distance)"
      ]
    }
  ]
}