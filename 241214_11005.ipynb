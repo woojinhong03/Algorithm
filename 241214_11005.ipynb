{
  "nbformat": 4,
  "nbformat_minor": 0,
  "metadata": {
    "colab": {
      "provenance": [],
      "authorship_tag": "ABX9TyNrY3M3K03dlHfl8TZL4aD9",
      "include_colab_link": true
    },
    "kernelspec": {
      "name": "python3",
      "display_name": "Python 3"
    },
    "language_info": {
      "name": "python"
    }
  },
  "cells": [
    {
      "cell_type": "markdown",
      "metadata": {
        "id": "view-in-github",
        "colab_type": "text"
      },
      "source": [
        "<a href=\"https://colab.research.google.com/github/woojinhong03/Algorithm/blob/main/241214_11005.ipynb\" target=\"_parent\"><img src=\"https://colab.research.google.com/assets/colab-badge.svg\" alt=\"Open In Colab\"/></a>"
      ]
    },
    {
      "cell_type": "code",
      "execution_count": 16,
      "metadata": {
        "colab": {
          "base_uri": "https://localhost:8080/"
        },
        "id": "jITK5SHKpsR4",
        "outputId": "25f9320b-8b88-4760-d18d-46821d477173"
      },
      "outputs": [
        {
          "output_type": "stream",
          "name": "stdout",
          "text": [
            "60466175 36\n",
            "ZZZZZ\n"
          ]
        }
      ],
      "source": [
        "n, b = map(int, input().split())\n",
        "x = ''\n",
        "arr = \"0123456789ABCDEFGHIJKLMNOPQRSTUVWXYZ\" #0~35까지의 숫자\n",
        "\n",
        "while n != 0: #n이 0이 될때까지\n",
        "    x += str(arr[n % b]) #n/b의 나머지를 arr에 있는 숫자에서 뽑아서 x에 삽입\n",
        "    n //= b\n",
        "\n",
        "print(x[::-1]) #x를 거꾸로 출력"
      ]
    }
  ]
}