{
  "nbformat": 4,
  "nbformat_minor": 0,
  "metadata": {
    "colab": {
      "provenance": [],
      "authorship_tag": "ABX9TyNg7XZkus/9m4aMrxoRPYgd",
      "include_colab_link": true
    },
    "kernelspec": {
      "name": "python3",
      "display_name": "Python 3"
    },
    "language_info": {
      "name": "python"
    }
  },
  "cells": [
    {
      "cell_type": "markdown",
      "metadata": {
        "id": "view-in-github",
        "colab_type": "text"
      },
      "source": [
        "<a href=\"https://colab.research.google.com/github/woojinhong03/Algorithm/blob/main/250929_1544.ipynb\" target=\"_parent\"><img src=\"https://colab.research.google.com/assets/colab-badge.svg\" alt=\"Open In Colab\"/></a>"
      ]
    },
    {
      "cell_type": "code",
      "execution_count": null,
      "metadata": {
        "id": "v6gLecYb9OCX"
      },
      "outputs": [],
      "source": [
        "import sys\n",
        "\n",
        "n = int(sys.stdin.readline())\n",
        "words = [sys.stdin.readline().strip() for _ in range(n)]\n",
        "count = 0\n",
        "visited = [False] * n\n",
        "\n",
        "for i in range(n):\n",
        "    if not visited[i]:\n",
        "        count += 1\n",
        "        visited[i] = True\n",
        "        current_word = words[i]\n",
        "        for j in range(i + 1, n):\n",
        "            if not visited[j] and len(current_word) == len(words[j]):\n",
        "                if words[j] in current_word * 2:\n",
        "                    visited[j] = True\n",
        "\n",
        "print(count)"
      ]
    }
  ]
}