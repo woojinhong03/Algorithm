{
  "nbformat": 4,
  "nbformat_minor": 0,
  "metadata": {
    "colab": {
      "name": "220429_COS_Pro_2급_n부터m까지자연수의 합.ipynb",
      "provenance": [],
      "collapsed_sections": [],
      "authorship_tag": "ABX9TyMEL1Ik8eXDFtkjSORSqUwH",
      "include_colab_link": true
    },
    "kernelspec": {
      "name": "python3",
      "display_name": "Python 3"
    },
    "language_info": {
      "name": "python"
    }
  },
  "cells": [
    {
      "cell_type": "markdown",
      "metadata": {
        "id": "view-in-github",
        "colab_type": "text"
      },
      "source": [
        "<a href=\"https://colab.research.google.com/github/woojinhong03/Algorithm/blob/main/220429_COS_Pro_2%EA%B8%89_n%EB%B6%80%ED%84%B0m%EA%B9%8C%EC%A7%80%EC%9E%90%EC%97%B0%EC%88%98%EC%9D%98_%ED%95%A9.ipynb\" target=\"_parent\"><img src=\"https://colab.research.google.com/assets/colab-badge.svg\" alt=\"Open In Colab\"/></a>"
      ]
    },
    {
      "cell_type": "code",
      "execution_count": 1,
      "metadata": {
        "id": "ZSC8iFO3C1h9"
      },
      "outputs": [],
      "source": [
        "def func_a(k):\n",
        "    sum = 0\n",
        "    for i in range(k):\n",
        "        sum += i+1\n",
        "    return sum\n",
        "\n",
        "def solution(n, m):\n",
        "    sum_to_m = func_a(m)\n",
        "    sum_to_n = func_a(n-1)\n",
        "    answer = sum_to_m - sum_to_n\n",
        "    return answer"
      ]
    }
  ]
}