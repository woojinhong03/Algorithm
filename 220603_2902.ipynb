{
  "nbformat": 4,
  "nbformat_minor": 0,
  "metadata": {
    "colab": {
      "name": "220603_2902.ipynb",
      "provenance": [],
      "authorship_tag": "ABX9TyOmtj/3fkOUTsHvP8Zm+zlB",
      "include_colab_link": true
    },
    "kernelspec": {
      "name": "python3",
      "display_name": "Python 3"
    },
    "language_info": {
      "name": "python"
    }
  },
  "cells": [
    {
      "cell_type": "markdown",
      "metadata": {
        "id": "view-in-github",
        "colab_type": "text"
      },
      "source": [
        "<a href=\"https://colab.research.google.com/github/woojinhong03/Algorithm/blob/main/220603_2902.ipynb\" target=\"_parent\"><img src=\"https://colab.research.google.com/assets/colab-badge.svg\" alt=\"Open In Colab\"/></a>"
      ]
    },
    {
      "cell_type": "code",
      "execution_count": 1,
      "metadata": {
        "colab": {
          "base_uri": "https://localhost:8080/"
        },
        "id": "C-zL1CTaNnsI",
        "outputId": "398b6139-c598-458a-f311-de6ce902089c"
      },
      "outputs": [
        {
          "output_type": "stream",
          "name": "stdout",
          "text": [
            "Knuth-Morris-Pratt\n",
            "KMP"
          ]
        }
      ],
      "source": [
        "name = list(input().split('-'))\n",
        "for i in name:\n",
        "  print(i[0], end = '')"
      ]
    }
  ]
}