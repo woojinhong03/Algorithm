{
  "nbformat": 4,
  "nbformat_minor": 0,
  "metadata": {
    "colab": {
      "provenance": [],
      "authorship_tag": "ABX9TyOzn8aIh2xQoHRuZ3PvIWYB",
      "include_colab_link": true
    },
    "kernelspec": {
      "name": "python3",
      "display_name": "Python 3"
    },
    "language_info": {
      "name": "python"
    }
  },
  "cells": [
    {
      "cell_type": "markdown",
      "metadata": {
        "id": "view-in-github",
        "colab_type": "text"
      },
      "source": [
        "<a href=\"https://colab.research.google.com/github/woojinhong03/Algorithm/blob/main/251011_11286.ipynb\" target=\"_parent\"><img src=\"https://colab.research.google.com/assets/colab-badge.svg\" alt=\"Open In Colab\"/></a>"
      ]
    },
    {
      "cell_type": "code",
      "execution_count": null,
      "metadata": {
        "id": "eL87G4ncvmWB"
      },
      "outputs": [],
      "source": [
        "import heapq\n",
        "# import sys\n",
        "# input = sys.stdin.readline\n",
        "\n",
        "# 연산의 개수 N 입력\n",
        "n = int(input())\n",
        "\n",
        "# 힙으로 사용할 리스트 선언\n",
        "heap = []\n",
        "\n",
        "for _ in range(n):\n",
        "    # 정수 x 입력\n",
        "    x = int(input())\n",
        "\n",
        "    if x != 0:\n",
        "        # x가 0이 아니면 (절댓값, 원본값)을 힙에 추가\n",
        "        heapq.heappush(heap, (abs(x), x))\n",
        "    else:\n",
        "        # x가 0이면\n",
        "        if heap:\n",
        "            # 힙이 비어있지 않으면 가장 작은 원소를 꺼내서 원본값 출력\n",
        "            print(heapq.heappop(heap)[1])\n",
        "        else:\n",
        "            # 힙이 비어있으면 0 출력\n",
        "            print(0)"
      ]
    }
  ]
}