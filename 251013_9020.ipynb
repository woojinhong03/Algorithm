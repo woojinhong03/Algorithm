{
  "nbformat": 4,
  "nbformat_minor": 0,
  "metadata": {
    "colab": {
      "provenance": [],
      "authorship_tag": "ABX9TyPvRrkkl7Ry8CjpyOk0ckgi",
      "include_colab_link": true
    },
    "kernelspec": {
      "name": "python3",
      "display_name": "Python 3"
    },
    "language_info": {
      "name": "python"
    }
  },
  "cells": [
    {
      "cell_type": "markdown",
      "metadata": {
        "id": "view-in-github",
        "colab_type": "text"
      },
      "source": [
        "<a href=\"https://colab.research.google.com/github/woojinhong03/Algorithm/blob/main/251013_9020.ipynb\" target=\"_parent\"><img src=\"https://colab.research.google.com/assets/colab-badge.svg\" alt=\"Open In Colab\"/></a>"
      ]
    },
    {
      "cell_type": "code",
      "execution_count": null,
      "metadata": {
        "id": "R0xDmMBM9F2K"
      },
      "outputs": [],
      "source": [
        "# import sys\n",
        "# input = sys.stdin.readline\n",
        "\n",
        "# 10000까지의 소수를 미리 한 번에 구해놓기\n",
        "prime = [True] * 10001\n",
        "prime[0] = prime[1] = False  # 0과 1은 소수가 아님\n",
        "\n",
        "for i in range(2, int(10001**0.5) + 1):\n",
        "    if prime[i]:\n",
        "        # i의 배수들을 소수에서 제외\n",
        "        for j in range(i * 2, 10001, i):\n",
        "            prime[j] = False\n",
        "\n",
        "for _ in range(int(input())):\n",
        "    # 가운데부터 1씩 줄여가며 소수 쌍을 찾음\n",
        "    n = int(input())\n",
        "    a = n // 2\n",
        "    for i in range(a, 1, -1):  # a부터 2까지 1씩 감소하며 확인\n",
        "        # i와 (n-i)가 모두 소수이면, 그 쌍이 정답\n",
        "        if prime[i] and prime[n - i]:\n",
        "            print(i, n - i)\n",
        "            break # 가장 먼저 찾은 쌍이 차이가 가장 작은 쌍이므로 종료"
      ]
    }
  ]
}