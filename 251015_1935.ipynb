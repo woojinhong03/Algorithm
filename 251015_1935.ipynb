{
  "nbformat": 4,
  "nbformat_minor": 0,
  "metadata": {
    "colab": {
      "provenance": [],
      "authorship_tag": "ABX9TyMMZAP5s6SFM1rkT2zp8IS/",
      "include_colab_link": true
    },
    "kernelspec": {
      "name": "python3",
      "display_name": "Python 3"
    },
    "language_info": {
      "name": "python"
    }
  },
  "cells": [
    {
      "cell_type": "markdown",
      "metadata": {
        "id": "view-in-github",
        "colab_type": "text"
      },
      "source": [
        "<a href=\"https://colab.research.google.com/github/woojinhong03/Algorithm/blob/main/251015_1935.ipynb\" target=\"_parent\"><img src=\"https://colab.research.google.com/assets/colab-badge.svg\" alt=\"Open In Colab\"/></a>"
      ]
    },
    {
      "cell_type": "code",
      "execution_count": null,
      "metadata": {
        "id": "TEybZpcTSWGP"
      },
      "outputs": [],
      "source": [
        "n = int(input())\n",
        "expression = input()\n",
        "nums = [int(input()) for _ in range(n)]\n",
        "\n",
        "stack = []\n",
        "\n",
        "for char in expression:\n",
        "    # 문자가 알파벳이면 해당하는 숫자를 스택에 추가\n",
        "    if char.isalpha():\n",
        "        # A는 0번째, B는 1번째 숫자\n",
        "        stack.append(nums[ord(char) - ord('A')])\n",
        "    # 연산자이면 스택에서 두 숫자를 꺼내 계산\n",
        "    else:\n",
        "        num2 = stack.pop()\n",
        "        num1 = stack.pop()\n",
        "        if char == '+':\n",
        "            stack.append(num1 + num2)\n",
        "        elif char == '-':\n",
        "            stack.append(num1 - num2)\n",
        "        elif char == '*':\n",
        "            stack.append(num1 * num2)\n",
        "        elif char == '/':\n",
        "            stack.append(num1 / num2)\n",
        "\n",
        "print(f'{stack[0]:.2f}')"
      ]
    }
  ]
}