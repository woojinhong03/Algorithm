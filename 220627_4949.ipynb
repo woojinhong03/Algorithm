{
  "nbformat": 4,
  "nbformat_minor": 0,
  "metadata": {
    "colab": {
      "name": "220627_4949.ipynb",
      "provenance": [],
      "collapsed_sections": [],
      "authorship_tag": "ABX9TyOgbUO6Ih/wH7t8vbE3QxeO",
      "include_colab_link": true
    },
    "kernelspec": {
      "name": "python3",
      "display_name": "Python 3"
    },
    "language_info": {
      "name": "python"
    }
  },
  "cells": [
    {
      "cell_type": "markdown",
      "metadata": {
        "id": "view-in-github",
        "colab_type": "text"
      },
      "source": [
        "<a href=\"https://colab.research.google.com/github/woojinhong03/Algorithm/blob/main/220627_4949.ipynb\" target=\"_parent\"><img src=\"https://colab.research.google.com/assets/colab-badge.svg\" alt=\"Open In Colab\"/></a>"
      ]
    },
    {
      "cell_type": "code",
      "execution_count": 1,
      "metadata": {
        "colab": {
          "base_uri": "https://localhost:8080/"
        },
        "id": "ruzRInt5_x8o",
        "outputId": "90aafb01-8c8c-41d1-d3b7-e77aa3df7684"
      },
      "outputs": [
        {
          "name": "stdout",
          "output_type": "stream",
          "text": [
            "So when I die (the [first] I will see in (heaven) is a score list).\n",
            "yes\n",
            "[ first in ] ( first out ).\n",
            "yes\n",
            "Half Moon tonight (At least it is better than no Moon at all].\n",
            "no\n",
            "A rope may form )( a trail in a maze.\n",
            "no\n",
            "Help( I[m being held prisoner in a fortune cookie factory)].\n",
            "no\n",
            "([ (([( [ ] ) ( ) (( ))] )) ]).\n",
            "yes\n",
            " .\n",
            "yes\n",
            ".\n"
          ]
        }
      ],
      "source": [
        "while True:\n",
        "    s = input()\n",
        "    if s == '.':\n",
        "        break\n",
        "    stk = []\n",
        "    temp = True\n",
        "    for i in s:\n",
        "        if i == '(' or i == '[':\n",
        "            stk.append(i)\n",
        "        elif i == ')':\n",
        "            if not stk or stk[-1] == '[':\n",
        "                temp = False\n",
        "                break\n",
        "            elif stk[-1] == '(':\n",
        "                stk.pop()\n",
        "        elif i == ']':\n",
        "            if not stk or stk[-1] == '(':\n",
        "                temp = False\n",
        "                break\n",
        "            elif stk[-1] == '[':\n",
        "                stk.pop()\n",
        "    if temp == True and not stk:\n",
        "        print('yes')\n",
        "    else:\n",
        "        print('no')"
      ]
    }
  ]
}