{
  "nbformat": 4,
  "nbformat_minor": 0,
  "metadata": {
    "colab": {
      "provenance": [],
      "authorship_tag": "ABX9TyPF7j3rV7tNlLzwNjRjcYK/",
      "include_colab_link": true
    },
    "kernelspec": {
      "name": "python3",
      "display_name": "Python 3"
    },
    "language_info": {
      "name": "python"
    }
  },
  "cells": [
    {
      "cell_type": "markdown",
      "metadata": {
        "id": "view-in-github",
        "colab_type": "text"
      },
      "source": [
        "<a href=\"https://colab.research.google.com/github/woojinhong03/Algorithm/blob/main/250207_2018.ipynb\" target=\"_parent\"><img src=\"https://colab.research.google.com/assets/colab-badge.svg\" alt=\"Open In Colab\"/></a>"
      ]
    },
    {
      "cell_type": "code",
      "execution_count": 1,
      "metadata": {
        "colab": {
          "base_uri": "https://localhost:8080/"
        },
        "id": "1d-G3Vc02mhX",
        "outputId": "d79fe41d-6da5-4e96-8928-2a1bb4e229d7"
      },
      "outputs": [
        {
          "output_type": "stream",
          "name": "stdout",
          "text": [
            "15\n",
            "4\n"
          ]
        }
      ],
      "source": [
        "n = int(input())\n",
        "cnt, tot, start, end = 0, 0, 0, 0\n",
        "\n",
        "while end <= n:\n",
        "    if tot < n:\n",
        "        end += 1\n",
        "        tot += end\n",
        "\n",
        "    elif tot > n:\n",
        "        start += 1\n",
        "        tot -= start\n",
        "\n",
        "    else:\n",
        "        cnt += 1\n",
        "        end += 1\n",
        "        tot += end\n",
        "\n",
        "print(cnt)"
      ]
    }
  ]
}