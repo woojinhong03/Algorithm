{
  "nbformat": 4,
  "nbformat_minor": 0,
  "metadata": {
    "colab": {
      "name": "220716_11652.ipynb",
      "provenance": [],
      "collapsed_sections": [],
      "authorship_tag": "ABX9TyM9Ij3JzbCxt7M81Nuzxkzq",
      "include_colab_link": true
    },
    "kernelspec": {
      "name": "python3",
      "display_name": "Python 3"
    },
    "language_info": {
      "name": "python"
    }
  },
  "cells": [
    {
      "cell_type": "markdown",
      "metadata": {
        "id": "view-in-github",
        "colab_type": "text"
      },
      "source": [
        "<a href=\"https://colab.research.google.com/github/woojinhong03/Algorithm/blob/main/220716_11652.ipynb\" target=\"_parent\"><img src=\"https://colab.research.google.com/assets/colab-badge.svg\" alt=\"Open In Colab\"/></a>"
      ]
    },
    {
      "cell_type": "code",
      "execution_count": 4,
      "metadata": {
        "colab": {
          "base_uri": "https://localhost:8080/"
        },
        "id": "sVKNMTEBkW3D",
        "outputId": "80d4757c-ed49-4bc6-cbb3-9f646bc1a180"
      },
      "outputs": [
        {
          "output_type": "stream",
          "name": "stdout",
          "text": [
            "6\n",
            "1\n",
            "2\n",
            "1\n",
            "2\n",
            "1\n",
            "2\n",
            "1\n"
          ]
        }
      ],
      "source": [
        "n = int(input())\n",
        "dic = {}\n",
        "\n",
        "for case in range(n):\n",
        "    tmp = int(input())\n",
        "    if tmp in dic:\n",
        "        dic[tmp] += 1\n",
        "    else:\n",
        "        dic[tmp] = 1\n",
        "\n",
        "dic = sorted(dic.items(), key=lambda x: (-x[1], x[0]))\n",
        "print(dic[0][0])"
      ]
    }
  ]
}