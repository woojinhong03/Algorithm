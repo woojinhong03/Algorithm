{
  "nbformat": 4,
  "nbformat_minor": 0,
  "metadata": {
    "colab": {
      "provenance": []
    },
    "kernelspec": {
      "name": "python3",
      "display_name": "Python 3"
    },
    "language_info": {
      "name": "python"
    }
  },
  "cells": [
    {
      "cell_type": "code",
      "execution_count": 9,
      "metadata": {
        "colab": {
          "base_uri": "https://localhost:8080/"
        },
        "id": "Jo8fpYl94JHc",
        "outputId": "f0ab023c-603d-4493-c24b-ca89e7ec6f93"
      },
      "outputs": [
        {
          "output_type": "stream",
          "name": "stdout",
          "text": [
            "9991\n",
            "97\n",
            "103\n"
          ]
        }
      ],
      "source": [
        "n = int(input())\n",
        "\n",
        "i = 2\n",
        "while(n > 1):\n",
        "    if n % i == 0:\n",
        "        n = n / i\n",
        "        print(i)\n",
        "        i = 2\n",
        "    else:\n",
        "        i += 1"
      ]
    }
  ]
}