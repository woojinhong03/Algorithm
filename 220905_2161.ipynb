{
  "nbformat": 4,
  "nbformat_minor": 0,
  "metadata": {
    "colab": {
      "provenance": []
    },
    "kernelspec": {
      "name": "python3",
      "display_name": "Python 3"
    },
    "language_info": {
      "name": "python"
    }
  },
  "cells": [
    {
      "cell_type": "code",
      "execution_count": 8,
      "metadata": {
        "colab": {
          "base_uri": "https://localhost:8080/"
        },
        "id": "bKWHsBuwELW9",
        "outputId": "83cc5989-7085-4f2f-f9c7-972bc8a63f11"
      },
      "outputs": [
        {
          "output_type": "stream",
          "name": "stdout",
          "text": [
            "8\n",
            "1 3 5 7 2 6 4 8\n"
          ]
        }
      ],
      "source": [
        "n = int(input())\n",
        "a = []\n",
        "\n",
        "card = [i for i in range(1, n + 1)]\n",
        "\n",
        "while len(card) != 1:\n",
        "    a.append(card.pop(0)) \n",
        "    card.append(card.pop(0)) \n",
        "\n",
        "for j in a:\n",
        "    print(j, end=' ')\n",
        "\n",
        "print(card[0])"
      ]
    }
  ]
}