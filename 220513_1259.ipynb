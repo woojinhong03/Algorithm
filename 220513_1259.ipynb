{
  "nbformat": 4,
  "nbformat_minor": 0,
  "metadata": {
    "colab": {
      "name": "220513_1259.ipynb",
      "provenance": [],
      "collapsed_sections": [],
      "authorship_tag": "ABX9TyMqdxD0kbX+kdXG7Uj/rg41",
      "include_colab_link": true
    },
    "kernelspec": {
      "name": "python3",
      "display_name": "Python 3"
    },
    "language_info": {
      "name": "python"
    }
  },
  "cells": [
    {
      "cell_type": "markdown",
      "metadata": {
        "id": "view-in-github",
        "colab_type": "text"
      },
      "source": [
        "<a href=\"https://colab.research.google.com/github/woojinhong03/Algorithm/blob/main/220513_1259.ipynb\" target=\"_parent\"><img src=\"https://colab.research.google.com/assets/colab-badge.svg\" alt=\"Open In Colab\"/></a>"
      ]
    },
    {
      "cell_type": "code",
      "execution_count": 11,
      "metadata": {
        "colab": {
          "base_uri": "https://localhost:8080/"
        },
        "id": "SGZ_ppeiFH4s",
        "outputId": "9a81efb6-6567-413e-ab18-0f65b05362bf"
      },
      "outputs": [
        {
          "output_type": "stream",
          "name": "stdout",
          "text": [
            "12345\n",
            "no\n",
            "12321\n",
            "yes\n",
            "0\n",
            "12321\n"
          ]
        }
      ],
      "source": [
        "i = 1\n",
        "while(1):\n",
        "  i = str(input())\n",
        "  if i == \"0\":\n",
        "    break\n",
        "  r = i[::-1]\n",
        "\n",
        "  if i == r:\n",
        "    print(\"yes\")\n",
        "  else:\n",
        "    print(\"no\")"
      ]
    }
  ]
}