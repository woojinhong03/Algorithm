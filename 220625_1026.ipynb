{
  "nbformat": 4,
  "nbformat_minor": 0,
  "metadata": {
    "colab": {
      "name": "220625_1026.ipynb",
      "provenance": [],
      "collapsed_sections": [],
      "authorship_tag": "ABX9TyOXU1NW/8EF34sZKXGfeY/e",
      "include_colab_link": true
    },
    "kernelspec": {
      "name": "python3",
      "display_name": "Python 3"
    },
    "language_info": {
      "name": "python"
    }
  },
  "cells": [
    {
      "cell_type": "markdown",
      "metadata": {
        "id": "view-in-github",
        "colab_type": "text"
      },
      "source": [
        "<a href=\"https://colab.research.google.com/github/woojinhong03/Algorithm/blob/main/220625_1026.ipynb\" target=\"_parent\"><img src=\"https://colab.research.google.com/assets/colab-badge.svg\" alt=\"Open In Colab\"/></a>"
      ]
    },
    {
      "cell_type": "code",
      "execution_count": 16,
      "metadata": {
        "colab": {
          "base_uri": "https://localhost:8080/"
        },
        "id": "Knkmh67GAVbx",
        "outputId": "52adba78-b58f-4cee-cf75-7169934ddc1c"
      },
      "outputs": [
        {
          "output_type": "stream",
          "name": "stdout",
          "text": [
            "5\n",
            "1 1 1 6 0\n",
            "2 7 8 3 1\n",
            "18\n"
          ]
        }
      ],
      "source": [
        "n = int(input())\n",
        "a = list(map(int,input().split(' ')))\n",
        "b = list(map(int,input().split(' ')))\n",
        "sum = 0\n",
        "\n",
        "for _ in range(n):\n",
        "    sum = sum + min(a) * max(b)\n",
        "    a.pop(a.index(min(a)))\n",
        "    b.pop(b.index(max(b)))\n",
        "\n",
        "print(sum)"
      ]
    }
  ]
}