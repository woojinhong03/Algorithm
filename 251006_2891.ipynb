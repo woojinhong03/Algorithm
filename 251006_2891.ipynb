{
  "nbformat": 4,
  "nbformat_minor": 0,
  "metadata": {
    "colab": {
      "provenance": [],
      "authorship_tag": "ABX9TyMV5iKCWH9lcaZAj/kbSols",
      "include_colab_link": true
    },
    "kernelspec": {
      "name": "python3",
      "display_name": "Python 3"
    },
    "language_info": {
      "name": "python"
    }
  },
  "cells": [
    {
      "cell_type": "markdown",
      "metadata": {
        "id": "view-in-github",
        "colab_type": "text"
      },
      "source": [
        "<a href=\"https://colab.research.google.com/github/woojinhong03/Algorithm/blob/main/251006_2891.ipynb\" target=\"_parent\"><img src=\"https://colab.research.google.com/assets/colab-badge.svg\" alt=\"Open In Colab\"/></a>"
      ]
    },
    {
      "cell_type": "code",
      "execution_count": null,
      "metadata": {
        "id": "8n-xGytWmwJn"
      },
      "outputs": [],
      "source": [
        "import sys\n",
        "N, S, R = map(int, sys.stdin.readline().split())\n",
        "damaged_teams = list(map(int, sys.stdin.readline().split()))\n",
        "reserve_teams = list(map(int, sys.stdin.readline().split()))\n",
        "\n",
        "kayaks = [1] * (N + 2)\n",
        "\n",
        "for team in damaged_teams:\n",
        "    kayaks[team] -= 1\n",
        "\n",
        "for team in reserve_teams:\n",
        "    kayaks[team] += 1\n",
        "\n",
        "for i in range(1, N + 1):\n",
        "    if kayaks[i] == 0:\n",
        "        if kayaks[i - 1] == 2:\n",
        "            kayaks[i] += 1\n",
        "            kayaks[i - 1] -= 1\n",
        "        elif kayaks[i + 1] == 2:\n",
        "            kayaks[i] += 1\n",
        "            kayaks[i + 1] -= 1\n",
        "\n",
        "cant_start_count = 0\n",
        "for i in range(1, N + 1):\n",
        "    if kayaks[i] == 0:\n",
        "        cant_start_count += 1\n",
        "\n",
        "print(cant_start_count)"
      ]
    }
  ]
}