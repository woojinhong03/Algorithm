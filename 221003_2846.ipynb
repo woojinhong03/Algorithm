{
  "nbformat": 4,
  "nbformat_minor": 0,
  "metadata": {
    "colab": {
      "provenance": [],
      "collapsed_sections": []
    },
    "kernelspec": {
      "name": "python3",
      "display_name": "Python 3"
    },
    "language_info": {
      "name": "python"
    }
  },
  "cells": [
    {
      "cell_type": "code",
      "execution_count": 2,
      "metadata": {
        "colab": {
          "base_uri": "https://localhost:8080/"
        },
        "id": "-PLk31ZAVPzO",
        "outputId": "de2a97a0-1608-49a2-8d50-7a8818134197"
      },
      "outputs": [
        {
          "output_type": "stream",
          "name": "stdout",
          "text": [
            "8\n",
            "12 20 1 3 4 4 11 1\n",
            "8\n"
          ]
        }
      ],
      "source": [
        "n = int(input())\n",
        "pi = list(map(int, input().split()))\n",
        "a = 0\n",
        "re = []\n",
        "\n",
        "for i in range(n-1):\n",
        "    if pi[i] < pi[i+1]:\n",
        "        a += pi[i+1] - pi[i]\n",
        "    else:\n",
        "        re.append(a)\n",
        "        a = 0\n",
        "\n",
        "re.append(a)\n",
        "print(max(re))"
      ]
    }
  ]
}