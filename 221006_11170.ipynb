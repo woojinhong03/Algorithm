{
  "nbformat": 4,
  "nbformat_minor": 0,
  "metadata": {
    "colab": {
      "provenance": [],
      "collapsed_sections": [],
      "authorship_tag": "ABX9TyOD/iDOnsQTsh3fLGGn81xq",
      "include_colab_link": true
    },
    "kernelspec": {
      "name": "python3",
      "display_name": "Python 3"
    },
    "language_info": {
      "name": "python"
    }
  },
  "cells": [
    {
      "cell_type": "markdown",
      "metadata": {
        "id": "view-in-github",
        "colab_type": "text"
      },
      "source": [
        "<a href=\"https://colab.research.google.com/github/woojinhong03/Algorithm/blob/main/221006_11170.ipynb\" target=\"_parent\"><img src=\"https://colab.research.google.com/assets/colab-badge.svg\" alt=\"Open In Colab\"/></a>"
      ]
    },
    {
      "cell_type": "code",
      "execution_count": 4,
      "metadata": {
        "colab": {
          "base_uri": "https://localhost:8080/"
        },
        "id": "FW-sm74RdgVB",
        "outputId": "0e9feaec-495d-4d83-d8b2-6d8ada0045af"
      },
      "outputs": [
        {
          "output_type": "stream",
          "name": "stdout",
          "text": [
            "3\n",
            "0 10\n",
            "2\n",
            "33 1005\n",
            "199\n",
            "1 4\n",
            "0\n"
          ]
        }
      ],
      "source": [
        "t = int(input())\n",
        "for i in range(t):\n",
        "    cnt = 0\n",
        "    n, m = map(int, input().split())\n",
        "    for i in range(n, m+1):\n",
        "        w = str(i)\n",
        "        cnt += w.count('0')\n",
        "    print(cnt)"
      ]
    }
  ]
}