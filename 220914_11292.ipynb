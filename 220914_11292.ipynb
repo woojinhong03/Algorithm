{
  "nbformat": 4,
  "nbformat_minor": 0,
  "metadata": {
    "colab": {
      "provenance": [],
      "collapsed_sections": [],
      "authorship_tag": "ABX9TyNSD/KXmt2Su6JdVJ4R+NlR",
      "include_colab_link": true
    },
    "kernelspec": {
      "name": "python3",
      "display_name": "Python 3"
    },
    "language_info": {
      "name": "python"
    }
  },
  "cells": [
    {
      "cell_type": "markdown",
      "metadata": {
        "id": "view-in-github",
        "colab_type": "text"
      },
      "source": [
        "<a href=\"https://colab.research.google.com/github/woojinhong03/Algorithm/blob/main/220914_11292.ipynb\" target=\"_parent\"><img src=\"https://colab.research.google.com/assets/colab-badge.svg\" alt=\"Open In Colab\"/></a>"
      ]
    },
    {
      "cell_type": "code",
      "execution_count": 1,
      "metadata": {
        "colab": {
          "base_uri": "https://localhost:8080/"
        },
        "id": "_IsIB99yPbH3",
        "outputId": "a2ec0c7b-6ebe-4acc-f386-61c6f4640189"
      },
      "outputs": [
        {
          "name": "stdout",
          "output_type": "stream",
          "text": [
            "3\n",
            "John 1.75\n",
            "Mary 1.64\n",
            "Sam 1.81\n",
            "Sam \n",
            "2\n",
            "Jose 1.62\n",
            "Miguel 1.58\n",
            "Sam \n",
            "5\n",
            "John 1.75\n",
            "Mary 1.75\n",
            "Sam 1.74\n",
            "Jose 1.75\n",
            "Miguel 1.75\n",
            "Sam \n",
            "0\n"
          ]
        }
      ],
      "source": [
        "students = []\n",
        "while True:\n",
        "    N = int(input())\n",
        "\n",
        "    if N == 0:\n",
        "        break\n",
        "    else:\n",
        "        for student_index in range(N):\n",
        "            student = input().split(' ')\n",
        "            student[1] = float(student[1])\n",
        "            students.append(student)\n",
        "\n",
        "        max_height = max(students, key=lambda student: student[1])[1]\n",
        "\n",
        "        for student in students:\n",
        "            if student[1] == max_height:\n",
        "                print(student[0], end=' ')\n",
        "                \n",
        "        print()"
      ]
    }
  ]
}