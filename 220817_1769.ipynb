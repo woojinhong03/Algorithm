{
  "nbformat": 4,
  "nbformat_minor": 0,
  "metadata": {
    "colab": {
      "name": "220817_1769.ipynb",
      "provenance": [],
      "collapsed_sections": []
    },
    "kernelspec": {
      "name": "python3",
      "display_name": "Python 3"
    },
    "language_info": {
      "name": "python"
    }
  },
  "cells": [
    {
      "cell_type": "code",
      "execution_count": 1,
      "metadata": {
        "colab": {
          "base_uri": "https://localhost:8080/"
        },
        "id": "UMvRssTabB3g",
        "outputId": "b4f3bd24-4021-46d8-b6e9-72d5ecd71af2"
      },
      "outputs": [
        {
          "output_type": "stream",
          "name": "stdout",
          "text": [
            "1234567\n",
            "3\n",
            "NO\n"
          ]
        }
      ],
      "source": [
        "def conversion(string, cnt):\n",
        "    if len(string) > 1:\n",
        "        cnt += 1\n",
        "        n = 0\n",
        "        for i in string:\n",
        "            n += int(i)\n",
        "        conversion(str(n), cnt)\n",
        "    else:\n",
        "        if int(string) % 3 == 0:\n",
        "            print(cnt)\n",
        "            print(\"YES\")\n",
        "        else:\n",
        "            print(cnt)\n",
        "            print(\"NO\")\n",
        "\n",
        "\n",
        "if __name__ == '__main__':\n",
        "    x = input()\n",
        "    cnt = 0\n",
        "    conversion(x, cnt)"
      ]
    }
  ]
}