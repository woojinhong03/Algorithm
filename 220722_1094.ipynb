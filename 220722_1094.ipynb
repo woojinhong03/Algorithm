{
  "nbformat": 4,
  "nbformat_minor": 0,
  "metadata": {
    "colab": {
      "name": "220722_1094.ipynb",
      "provenance": [],
      "collapsed_sections": []
    },
    "kernelspec": {
      "name": "python3",
      "display_name": "Python 3"
    },
    "language_info": {
      "name": "python"
    }
  },
  "cells": [
    {
      "cell_type": "code",
      "execution_count": 1,
      "metadata": {
        "colab": {
          "base_uri": "https://localhost:8080/"
        },
        "id": "3WcJo09BMRe-",
        "outputId": "68404e4f-93a4-4761-9edb-205c72696225"
      },
      "outputs": [
        {
          "output_type": "stream",
          "name": "stdout",
          "text": [
            "23\n",
            "4\n"
          ]
        }
      ],
      "source": [
        "a = int(input())\n",
        "cnt = 0\n",
        "while a != 0:\n",
        "    if a % 2 == 1:\n",
        "        cnt += 1\n",
        "    a = a // 2\n",
        "print(cnt)"
      ]
    }
  ]
}