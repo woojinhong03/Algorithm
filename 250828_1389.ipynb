{
  "nbformat": 4,
  "nbformat_minor": 0,
  "metadata": {
    "colab": {
      "provenance": [],
      "authorship_tag": "ABX9TyO78hFziDxvjFHshSGK53G7",
      "include_colab_link": true
    },
    "kernelspec": {
      "name": "python3",
      "display_name": "Python 3"
    },
    "language_info": {
      "name": "python"
    }
  },
  "cells": [
    {
      "cell_type": "markdown",
      "metadata": {
        "id": "view-in-github",
        "colab_type": "text"
      },
      "source": [
        "<a href=\"https://colab.research.google.com/github/woojinhong03/Algorithm/blob/main/250828_1389.ipynb\" target=\"_parent\"><img src=\"https://colab.research.google.com/assets/colab-badge.svg\" alt=\"Open In Colab\"/></a>"
      ]
    },
    {
      "cell_type": "code",
      "execution_count": 1,
      "metadata": {
        "colab": {
          "base_uri": "https://localhost:8080/"
        },
        "id": "6-chMfSo_Sew",
        "outputId": "4b1fa74b-82ec-45ee-d1d7-a94dabf483b9"
      },
      "outputs": [
        {
          "output_type": "stream",
          "name": "stdout",
          "text": [
            "5 5\n",
            "1 3\n",
            "1 4\n",
            "4 5\n",
            "4 3\n",
            "3 2\n",
            "3\n"
          ]
        }
      ],
      "source": [
        "n, m = map(int, input().split())\n",
        "friend = [[n for _ in range(n)] for _ in range(n)]\n",
        "\n",
        "for _ in range(m):\n",
        "    a, b = map(int, input().split())\n",
        "    friend[a - 1][b - 1] = 1\n",
        "    friend[b - 1][a - 1] = 1\n",
        "\n",
        "for k in range(n):\n",
        "    for i in range(n):\n",
        "        for j in range(n):\n",
        "            if i == j:\n",
        "                friend[i][j] = 0\n",
        "            else:\n",
        "                friend[i][j] = min(friend[i][j], friend[i][k] + friend[k][j])\n",
        "\n",
        "su = [sum(i) for i in friend]\n",
        "print(su.index(min(su)) + 1)"
      ]
    }
  ]
}