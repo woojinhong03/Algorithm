{
  "nbformat": 4,
  "nbformat_minor": 0,
  "metadata": {
    "colab": {
      "provenance": [],
      "authorship_tag": "ABX9TyMBJZc+WTFDZezhPDN6oYE9",
      "include_colab_link": true
    },
    "kernelspec": {
      "name": "python3",
      "display_name": "Python 3"
    },
    "language_info": {
      "name": "python"
    }
  },
  "cells": [
    {
      "cell_type": "markdown",
      "metadata": {
        "id": "view-in-github",
        "colab_type": "text"
      },
      "source": [
        "<a href=\"https://colab.research.google.com/github/woojinhong03/Algorithm/blob/main/250928_11008.ipynb\" target=\"_parent\"><img src=\"https://colab.research.google.com/assets/colab-badge.svg\" alt=\"Open In Colab\"/></a>"
      ]
    },
    {
      "cell_type": "code",
      "execution_count": null,
      "metadata": {
        "id": "Ozo-uTCHs1uG"
      },
      "outputs": [],
      "source": [
        "import sys\n",
        "T = int(sys.stdin.readline())\n",
        "\n",
        "for _ in range(T):\n",
        "    s, p = sys.stdin.readline().split()\n",
        "    count = s.count(p)\n",
        "    remaining_chars = len(s) - (len(p) * count)\n",
        "    result = count + remaining_chars\n",
        "\n",
        "    print(result)"
      ]
    }
  ]
}