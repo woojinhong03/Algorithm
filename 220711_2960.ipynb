{
  "nbformat": 4,
  "nbformat_minor": 0,
  "metadata": {
    "colab": {
      "name": "220711_2960.ipynb",
      "provenance": [],
      "collapsed_sections": [],
      "authorship_tag": "ABX9TyMbBYDpegTB+ysAf/MT7m9D",
      "include_colab_link": true
    },
    "kernelspec": {
      "name": "python3",
      "display_name": "Python 3"
    },
    "language_info": {
      "name": "python"
    }
  },
  "cells": [
    {
      "cell_type": "markdown",
      "metadata": {
        "id": "view-in-github",
        "colab_type": "text"
      },
      "source": [
        "<a href=\"https://colab.research.google.com/github/woojinhong03/Algorithm/blob/main/220711_2960.ipynb\" target=\"_parent\"><img src=\"https://colab.research.google.com/assets/colab-badge.svg\" alt=\"Open In Colab\"/></a>"
      ]
    },
    {
      "cell_type": "code",
      "execution_count": 1,
      "metadata": {
        "colab": {
          "base_uri": "https://localhost:8080/"
        },
        "id": "hbTSHu9n-t5_",
        "outputId": "1f835bb6-0c3e-4a5b-dd80-a8742494fe04"
      },
      "outputs": [
        {
          "output_type": "stream",
          "name": "stdout",
          "text": [
            "15 12\n",
            "7\n"
          ]
        }
      ],
      "source": [
        "N, K = map(int, input().split())\n",
        "tmp = 0\n",
        "sieve = [True] * (N + 1)\n",
        "for i in range(2, N + 1):\n",
        "    for j in range(i, N + 1, i):\n",
        "        if sieve[j] != False:\n",
        "            sieve[j] = False\n",
        "            tmp += 1\n",
        "            if tmp == K:\n",
        "                print(j)"
      ]
    }
  ]
}