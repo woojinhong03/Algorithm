{
  "nbformat": 4,
  "nbformat_minor": 0,
  "metadata": {
    "colab": {
      "provenance": [],
      "authorship_tag": "ABX9TyOkC0wu4vHL1NDk056APT8T",
      "include_colab_link": true
    },
    "kernelspec": {
      "name": "python3",
      "display_name": "Python 3"
    },
    "language_info": {
      "name": "python"
    }
  },
  "cells": [
    {
      "cell_type": "markdown",
      "metadata": {
        "id": "view-in-github",
        "colab_type": "text"
      },
      "source": [
        "<a href=\"https://colab.research.google.com/github/woojinhong03/Algorithm/blob/main/250830_1268.ipynb\" target=\"_parent\"><img src=\"https://colab.research.google.com/assets/colab-badge.svg\" alt=\"Open In Colab\"/></a>"
      ]
    },
    {
      "cell_type": "code",
      "execution_count": 2,
      "metadata": {
        "colab": {
          "base_uri": "https://localhost:8080/"
        },
        "id": "7sE8by0_NVpZ",
        "outputId": "11796422-95d2-4018-e7d5-1b5ac01ffa5f"
      },
      "outputs": [
        {
          "output_type": "stream",
          "name": "stdout",
          "text": [
            "5\n",
            "2 3 1 7 3\n",
            "4 1 9 6 8\n",
            "5 5 2 4 4\n",
            "6 5 2 6 7\n",
            "8 4 2 2 2\n",
            "4\n"
          ]
        }
      ],
      "source": [
        "n = int (input ())\n",
        "\n",
        "ban = []\n",
        "same = [0] * n\n",
        "\n",
        "for i in range(n):\n",
        "    ban.append(list(map(int, input().split())))\n",
        "    same[i] = [0] * n\n",
        "\n",
        "for i in range(5):\n",
        "    for j in range(n):\n",
        "        for k in range(j+1, n):\n",
        "            if ban[j][i] == ban[k][i]:\n",
        "                same[k][j] = 1\n",
        "                same[j][k] = 1\n",
        "\n",
        "cnt = []\n",
        "for i in same:\n",
        "    cnt.append(i.count(1))\n",
        "\n",
        "print(cnt.index(max(cnt))+1)"
      ]
    }
  ]
}