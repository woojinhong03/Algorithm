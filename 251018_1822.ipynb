{
  "nbformat": 4,
  "nbformat_minor": 0,
  "metadata": {
    "colab": {
      "provenance": [],
      "authorship_tag": "ABX9TyP6xIwwvoYqInH9vu5eKScR",
      "include_colab_link": true
    },
    "kernelspec": {
      "name": "python3",
      "display_name": "Python 3"
    },
    "language_info": {
      "name": "python"
    }
  },
  "cells": [
    {
      "cell_type": "markdown",
      "metadata": {
        "id": "view-in-github",
        "colab_type": "text"
      },
      "source": [
        "<a href=\"https://colab.research.google.com/github/woojinhong03/Algorithm/blob/main/251018_1822.ipynb\" target=\"_parent\"><img src=\"https://colab.research.google.com/assets/colab-badge.svg\" alt=\"Open In Colab\"/></a>"
      ]
    },
    {
      "cell_type": "code",
      "execution_count": null,
      "metadata": {
        "id": "hBPLHt_l0g4V"
      },
      "outputs": [],
      "source": [
        "_, _ = map(int, input().split())\n",
        "A = set(map(int, input().split()))\n",
        "B = set(map(int, input().split()))\n",
        "\n",
        "print(len(A - B))\n",
        "print(*sorted(list(A - B)))"
      ]
    }
  ]
}