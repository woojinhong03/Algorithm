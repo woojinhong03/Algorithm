{
  "nbformat": 4,
  "nbformat_minor": 0,
  "metadata": {
    "colab": {
      "provenance": [],
      "authorship_tag": "ABX9TyPuwZG//TlbVoS5tYfMw+5v",
      "include_colab_link": true
    },
    "kernelspec": {
      "name": "python3",
      "display_name": "Python 3"
    },
    "language_info": {
      "name": "python"
    }
  },
  "cells": [
    {
      "cell_type": "markdown",
      "metadata": {
        "id": "view-in-github",
        "colab_type": "text"
      },
      "source": [
        "<a href=\"https://colab.research.google.com/github/woojinhong03/Algorithm/blob/main/250116_1244.ipynb\" target=\"_parent\"><img src=\"https://colab.research.google.com/assets/colab-badge.svg\" alt=\"Open In Colab\"/></a>"
      ]
    },
    {
      "cell_type": "code",
      "execution_count": 3,
      "metadata": {
        "colab": {
          "base_uri": "https://localhost:8080/"
        },
        "id": "tVX3sBKlkTF6",
        "outputId": "a47248b1-ca1c-4867-f464-26b9461a6596"
      },
      "outputs": [
        {
          "output_type": "stream",
          "name": "stdout",
          "text": [
            "8\n",
            "0 1 0 1 0 0 0 1\n",
            "2\n",
            "1 3\n",
            "2 3\n",
            "1 0 0 0 1 1 0 1 "
          ]
        }
      ],
      "source": [
        "def onoff(idx):\n",
        "    if sw[idx] == 0:\n",
        "        sw[idx] = 1\n",
        "    else:\n",
        "        sw[idx] = 0\n",
        "\n",
        "sw_num = int(input())\n",
        "sw = list(map(int, input().split()))\n",
        "\n",
        "\n",
        "hak_num = int(input())\n",
        "\n",
        "for _ in range(hak_num):\n",
        "    gen, num = map(int, input().split())\n",
        "    if gen == 1:\n",
        "        for i in range(1, sw_num+1):\n",
        "            if i % num == 0:\n",
        "                onoff(i - 1)\n",
        "    else:\n",
        "        idx = num - 1\n",
        "        onoff(idx)\n",
        "        i = 1\n",
        "        while num - i >= 1 and num + i <= sw_num:\n",
        "            if sw[idx + i] == sw[idx - i]:\n",
        "                onoff(idx + i)\n",
        "                onoff(idx - i)\n",
        "            else:\n",
        "                break\n",
        "            i += 1\n",
        "\n",
        "for i in range(sw_num):\n",
        "    print(sw[i], end='')\n",
        "    if (i + 1) % 20 == 0:\n",
        "        print()\n",
        "    else:\n",
        "        print(' ', end='')"
      ]
    }
  ]
}