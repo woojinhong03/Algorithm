{
  "nbformat": 4,
  "nbformat_minor": 0,
  "metadata": {
    "colab": {
      "name": "220530_2798.ipynb",
      "provenance": [],
      "authorship_tag": "ABX9TyNaZhNo3Nx6BsikNm/5aS5r",
      "include_colab_link": true
    },
    "kernelspec": {
      "name": "python3",
      "display_name": "Python 3"
    },
    "language_info": {
      "name": "python"
    }
  },
  "cells": [
    {
      "cell_type": "markdown",
      "metadata": {
        "id": "view-in-github",
        "colab_type": "text"
      },
      "source": [
        "<a href=\"https://colab.research.google.com/github/woojinhong03/Algorithm/blob/main/220530_2798.ipynb\" target=\"_parent\"><img src=\"https://colab.research.google.com/assets/colab-badge.svg\" alt=\"Open In Colab\"/></a>"
      ]
    },
    {
      "cell_type": "code",
      "execution_count": 1,
      "metadata": {
        "colab": {
          "base_uri": "https://localhost:8080/"
        },
        "id": "IXiAUhVpR4Iw",
        "outputId": "7551fbac-2c9e-4e13-de3e-ae69f47df51b"
      },
      "outputs": [
        {
          "output_type": "stream",
          "name": "stdout",
          "text": [
            "5 21\n",
            "5 6 7 8 9\n",
            "21\n"
          ]
        }
      ],
      "source": [
        "n, m = map(int, input().split())\n",
        "num = list(map(int, input().split()))\n",
        "l = len(num)\n",
        "ans = 0\n",
        "for i in range(0, l-2):\n",
        "    for j in range(i+1, l-1):\n",
        "        for k in range(j+1, l):\n",
        "            if(num[i] + num[j] + num[k] > m):\n",
        "                continue\n",
        "            else:\n",
        "                ans = max(ans ,num[i] + num[j] + num[k])\n",
        "\n",
        "print(ans)"
      ]
    }
  ]
}