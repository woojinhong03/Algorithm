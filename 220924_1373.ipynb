{
  "nbformat": 4,
  "nbformat_minor": 0,
  "metadata": {
    "colab": {
      "provenance": [],
      "collapsed_sections": []
    },
    "kernelspec": {
      "name": "python3",
      "display_name": "Python 3"
    },
    "language_info": {
      "name": "python"
    }
  },
  "cells": [
    {
      "cell_type": "code",
      "execution_count": 1,
      "metadata": {
        "colab": {
          "base_uri": "https://localhost:8080/"
        },
        "id": "AcDOzfsaFe_k",
        "outputId": "ed53a932-97d9-4a38-a53f-758cf7a73c5b"
      },
      "outputs": [
        {
          "output_type": "stream",
          "name": "stdout",
          "text": [
            "11001100\n",
            "314\n"
          ]
        }
      ],
      "source": [
        "print(oct(int(input(),2))[2:])"
      ]
    }
  ]
}