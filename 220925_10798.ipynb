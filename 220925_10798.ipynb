{
  "nbformat": 4,
  "nbformat_minor": 0,
  "metadata": {
    "colab": {
      "provenance": [],
      "collapsed_sections": [],
      "authorship_tag": "ABX9TyORgcteMvEhc19Tkee/eATe",
      "include_colab_link": true
    },
    "kernelspec": {
      "name": "python3",
      "display_name": "Python 3"
    },
    "language_info": {
      "name": "python"
    }
  },
  "cells": [
    {
      "cell_type": "markdown",
      "metadata": {
        "id": "view-in-github",
        "colab_type": "text"
      },
      "source": [
        "<a href=\"https://colab.research.google.com/github/woojinhong03/Algorithm/blob/main/220925_10798.ipynb\" target=\"_parent\"><img src=\"https://colab.research.google.com/assets/colab-badge.svg\" alt=\"Open In Colab\"/></a>"
      ]
    },
    {
      "cell_type": "code",
      "execution_count": 1,
      "metadata": {
        "colab": {
          "base_uri": "https://localhost:8080/"
        },
        "id": "b-ZZunQS5RdV",
        "outputId": "7f5b6d40-293e-47a1-e199-8826054efcdc"
      },
      "outputs": [
        {
          "output_type": "stream",
          "name": "stdout",
          "text": [
            "AABCDD\n",
            "afzz\n",
            "09121\n",
            "a8EWg6\n",
            "P5h3kx\n",
            "Aa0aPAf985Bz1EhCz2W3D1gkD6x"
          ]
        }
      ],
      "source": [
        "a = [[0] * 15 for i in range(5)]\n",
        "\n",
        "for i in range(5):\n",
        "    w = list(input())\n",
        "    w_len = len(w)\n",
        "\n",
        "    for j in range(w_len):\n",
        "        a[i][j] = w[j]\n",
        "\n",
        "for i in range(15):\n",
        "    for j in range(5):\n",
        "\n",
        "        if a[j][i] == 0:\n",
        "            continue;\n",
        "\n",
        "        else:\n",
        "            print(a[j][i], end='')"
      ]
    }
  ]
}