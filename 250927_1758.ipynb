{
  "nbformat": 4,
  "nbformat_minor": 0,
  "metadata": {
    "colab": {
      "provenance": [],
      "authorship_tag": "ABX9TyOpWofiLloJyAOoAshiqkaO",
      "include_colab_link": true
    },
    "kernelspec": {
      "name": "python3",
      "display_name": "Python 3"
    },
    "language_info": {
      "name": "python"
    }
  },
  "cells": [
    {
      "cell_type": "markdown",
      "metadata": {
        "id": "view-in-github",
        "colab_type": "text"
      },
      "source": [
        "<a href=\"https://colab.research.google.com/github/woojinhong03/Algorithm/blob/main/250927_1758.ipynb\" target=\"_parent\"><img src=\"https://colab.research.google.com/assets/colab-badge.svg\" alt=\"Open In Colab\"/></a>"
      ]
    },
    {
      "cell_type": "code",
      "execution_count": 10,
      "metadata": {
        "colab": {
          "base_uri": "https://localhost:8080/"
        },
        "id": "bqUZaO9L9Bay",
        "outputId": "74e19dae-663d-407c-dc63-3d37bb7cffbd"
      },
      "outputs": [
        {
          "output_type": "stream",
          "name": "stdout",
          "text": [
            "5\n",
            "7\n",
            "8\n",
            "6\n",
            "9\n",
            "10\n",
            "30\n"
          ]
        }
      ],
      "source": [
        "n = int(input())\n",
        "tip = sorted([int(input()) for _ in range(n)], reverse=True)\n",
        "mon = 0\n",
        "\n",
        "for i in range(n):\n",
        "    if tip[i] - i > 0:\n",
        "        mon += tip[i] - i\n",
        "print(mon)"
      ]
    }
  ]
}