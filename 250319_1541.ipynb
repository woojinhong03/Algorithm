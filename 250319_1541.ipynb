{
  "nbformat": 4,
  "nbformat_minor": 0,
  "metadata": {
    "colab": {
      "provenance": [],
      "authorship_tag": "ABX9TyMR4QPbw6/7pHGKRV0uDQSi",
      "include_colab_link": true
    },
    "kernelspec": {
      "name": "python3",
      "display_name": "Python 3"
    },
    "language_info": {
      "name": "python"
    }
  },
  "cells": [
    {
      "cell_type": "markdown",
      "metadata": {
        "id": "view-in-github",
        "colab_type": "text"
      },
      "source": [
        "<a href=\"https://colab.research.google.com/github/woojinhong03/Algorithm/blob/main/250319_1541.ipynb\" target=\"_parent\"><img src=\"https://colab.research.google.com/assets/colab-badge.svg\" alt=\"Open In Colab\"/></a>"
      ]
    },
    {
      "cell_type": "code",
      "execution_count": 1,
      "metadata": {
        "colab": {
          "base_uri": "https://localhost:8080/"
        },
        "id": "tJ-Pg1LAdavb",
        "outputId": "1eb24e1b-7975-4757-f509-ab16663c3daf"
      },
      "outputs": [
        {
          "output_type": "stream",
          "name": "stdout",
          "text": [
            "55-50+40\n",
            "-35\n"
          ]
        }
      ],
      "source": [
        "sik = input().split('-')    # 마이너스를 기준으로 나누기\n",
        "num = []\n",
        "for i in sik:\n",
        "    sum = 0\n",
        "    su = i.split('+')  # 덧셈 계산을 위해 숫자만 뽑고 더하기\n",
        "    for j in su:\n",
        "        sum += int(j)\n",
        "    num.append(sum) # 덧셈 완료된 수들 저장\n",
        "\n",
        "n = num[0]\n",
        "for i in range(1,len(num)):\n",
        "    n -= num[i] # 첫 번째 값에서 나머지 값을 모두 빼준다.\n",
        "print(n)"
      ]
    }
  ]
}