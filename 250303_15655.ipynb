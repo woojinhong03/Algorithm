{
  "nbformat": 4,
  "nbformat_minor": 0,
  "metadata": {
    "colab": {
      "provenance": [],
      "authorship_tag": "ABX9TyOXee6yr7/YCWuZ68eUpGXR",
      "include_colab_link": true
    },
    "kernelspec": {
      "name": "python3",
      "display_name": "Python 3"
    },
    "language_info": {
      "name": "python"
    }
  },
  "cells": [
    {
      "cell_type": "markdown",
      "metadata": {
        "id": "view-in-github",
        "colab_type": "text"
      },
      "source": [
        "<a href=\"https://colab.research.google.com/github/woojinhong03/Algorithm/blob/main/250303_15655.ipynb\" target=\"_parent\"><img src=\"https://colab.research.google.com/assets/colab-badge.svg\" alt=\"Open In Colab\"/></a>"
      ]
    },
    {
      "cell_type": "code",
      "source": [
        "n, m = map(int,input().split())\n",
        "arr = sorted(list(map(int,input().split())))\n",
        "li = []\n",
        "\n",
        "def dfs(idx, cnt):\n",
        "    if cnt == m:\n",
        "        print(*li)\n",
        "\n",
        "    for i in range(idx, n):\n",
        "        idx += 1\n",
        "        li.append(arr[i])\n",
        "        dfs(idx, cnt + 1)\n",
        "        li.pop()\n",
        "\n",
        "dfs(0,0)"
      ],
      "metadata": {
        "colab": {
          "base_uri": "https://localhost:8080/"
        },
        "id": "mD5DVllrvCU5",
        "outputId": "f154cbcc-2367-4077-c96d-958123ac10d9"
      },
      "execution_count": 2,
      "outputs": [
        {
          "output_type": "stream",
          "name": "stdout",
          "text": [
            "4 2\n",
            "9 8 7 1\n",
            "1 7\n",
            "1 8\n",
            "1 9\n",
            "7 8\n",
            "7 9\n",
            "8 9\n"
          ]
        }
      ]
    }
  ]
}