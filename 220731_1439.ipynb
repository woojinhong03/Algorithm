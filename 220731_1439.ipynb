{
  "nbformat": 4,
  "nbformat_minor": 0,
  "metadata": {
    "colab": {
      "name": "220731_1439.ipynb",
      "provenance": [],
      "collapsed_sections": [],
      "authorship_tag": "ABX9TyP5czD8zwdE+K7J+Qhy0TqJ",
      "include_colab_link": true
    },
    "kernelspec": {
      "name": "python3",
      "display_name": "Python 3"
    },
    "language_info": {
      "name": "python"
    }
  },
  "cells": [
    {
      "cell_type": "markdown",
      "metadata": {
        "id": "view-in-github",
        "colab_type": "text"
      },
      "source": [
        "<a href=\"https://colab.research.google.com/github/woojinhong03/Algorithm/blob/main/220731_1439.ipynb\" target=\"_parent\"><img src=\"https://colab.research.google.com/assets/colab-badge.svg\" alt=\"Open In Colab\"/></a>"
      ]
    },
    {
      "cell_type": "code",
      "execution_count": 1,
      "metadata": {
        "colab": {
          "base_uri": "https://localhost:8080/"
        },
        "id": "JsNSJvP04vfc",
        "outputId": "d79b06dc-432d-471d-fda8-0c24ede762ed"
      },
      "outputs": [
        {
          "output_type": "stream",
          "name": "stdout",
          "text": [
            "1100110110110100\n",
            "5\n"
          ]
        }
      ],
      "source": [
        "S = input()\n",
        "count = 0\n",
        "for i in range(len(S)-1):\n",
        "    if S[i] != S[i+1]:\n",
        "        count += 1\n",
        "print((count + 1) // 2)"
      ]
    }
  ]
}