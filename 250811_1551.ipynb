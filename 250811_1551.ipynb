{
  "nbformat": 4,
  "nbformat_minor": 0,
  "metadata": {
    "colab": {
      "provenance": [],
      "authorship_tag": "ABX9TyMfvKbkqiaE1DFW1rQi59rT",
      "include_colab_link": true
    },
    "kernelspec": {
      "name": "python3",
      "display_name": "Python 3"
    },
    "language_info": {
      "name": "python"
    }
  },
  "cells": [
    {
      "cell_type": "markdown",
      "metadata": {
        "id": "view-in-github",
        "colab_type": "text"
      },
      "source": [
        "<a href=\"https://colab.research.google.com/github/woojinhong03/Algorithm/blob/main/250811_1551.ipynb\" target=\"_parent\"><img src=\"https://colab.research.google.com/assets/colab-badge.svg\" alt=\"Open In Colab\"/></a>"
      ]
    },
    {
      "cell_type": "code",
      "source": [
        "n, k = map(int, input().split())\n",
        "a = list(map(int, input().split(',')))\n",
        "\n",
        "for _ in range(k):\n",
        "    b = []\n",
        "    for i in range(len(a) - 1):\n",
        "        b.append(a[i+1] - a[i])\n",
        "    a = b\n",
        "\n",
        "print(','.join(map(str, a)))"
      ],
      "metadata": {
        "colab": {
          "base_uri": "https://localhost:8080/"
        },
        "id": "Faz1Z1NSdCtI",
        "outputId": "90bb8726-1735-4b5b-9ab2-5da589323902"
      },
      "execution_count": 14,
      "outputs": [
        {
          "output_type": "stream",
          "name": "stdout",
          "text": [
            "5 1\n",
            "5,6,3,9,-1\n",
            "1,-3,6,-10\n"
          ]
        }
      ]
    }
  ]
}