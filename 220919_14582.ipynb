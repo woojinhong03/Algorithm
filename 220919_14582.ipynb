{
  "nbformat": 4,
  "nbformat_minor": 0,
  "metadata": {
    "colab": {
      "provenance": [],
      "collapsed_sections": []
    },
    "kernelspec": {
      "name": "python3",
      "display_name": "Python 3"
    },
    "language_info": {
      "name": "python"
    }
  },
  "cells": [
    {
      "cell_type": "code",
      "execution_count": 1,
      "metadata": {
        "colab": {
          "base_uri": "https://localhost:8080/"
        },
        "id": "ts2EPmRjeDqZ",
        "outputId": "176302c2-2e5f-4b32-a37d-bb6895fa3284"
      },
      "outputs": [
        {
          "output_type": "stream",
          "name": "stdout",
          "text": [
            "1 0 0 0 0 0 2 2 1\n",
            "0 0 3 0 0 0 0 1 4\n",
            "Yes\n"
          ]
        }
      ],
      "source": [
        "a = list(map(int, input().split()))\n",
        "b = list(map(int, input().split()))\n",
        "\n",
        "asum, bsum = 0, 0\n",
        "cnt = 0\n",
        "\n",
        "for i in range(9):\n",
        "    asum += a[i]\n",
        "    if asum > bsum and cnt == 0:\n",
        "        cnt += 1\n",
        "    if asum < bsum and cnt == 1:\n",
        "        cnt += 1\n",
        "    bsum += b[i]\n",
        "if cnt == 2 and asum < bsum or cnt == 1 and asum < bsum:\n",
        "    print(\"Yes\")\n",
        "else:\n",
        "    print(\"No\")"
      ]
    }
  ]
}