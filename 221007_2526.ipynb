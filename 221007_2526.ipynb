{
  "nbformat": 4,
  "nbformat_minor": 0,
  "metadata": {
    "colab": {
      "provenance": [],
      "collapsed_sections": []
    },
    "kernelspec": {
      "name": "python3",
      "display_name": "Python 3"
    },
    "language_info": {
      "name": "python"
    }
  },
  "cells": [
    {
      "cell_type": "code",
      "execution_count": 1,
      "metadata": {
        "colab": {
          "base_uri": "https://localhost:8080/"
        },
        "id": "O09Jpvj_YPuq",
        "outputId": "2a5689df-15e9-4927-de64-3735863703a9"
      },
      "outputs": [
        {
          "output_type": "stream",
          "name": "stdout",
          "text": [
            "96 61\n",
            "60\n"
          ]
        }
      ],
      "source": [
        "n, p = map(int, input().split())\n",
        "\n",
        "l = []\n",
        "a = n\n",
        "\n",
        "while True:\n",
        "    a = (a * n) % p\n",
        "    if a in l:\n",
        "        print(len(l) - l.index(a))\n",
        "        break\n",
        "    l.append(a)"
      ]
    }
  ]
}