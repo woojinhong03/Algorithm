{
  "nbformat": 4,
  "nbformat_minor": 0,
  "metadata": {
    "colab": {
      "provenance": [],
      "authorship_tag": "ABX9TyM73v+v8C8TCUttuwC2sQfp",
      "include_colab_link": true
    },
    "kernelspec": {
      "name": "python3",
      "display_name": "Python 3"
    },
    "language_info": {
      "name": "python"
    }
  },
  "cells": [
    {
      "cell_type": "markdown",
      "metadata": {
        "id": "view-in-github",
        "colab_type": "text"
      },
      "source": [
        "<a href=\"https://colab.research.google.com/github/woojinhong03/Algorithm/blob/main/250223_2870.ipynb\" target=\"_parent\"><img src=\"https://colab.research.google.com/assets/colab-badge.svg\" alt=\"Open In Colab\"/></a>"
      ]
    },
    {
      "cell_type": "code",
      "execution_count": 8,
      "metadata": {
        "colab": {
          "base_uri": "https://localhost:8080/"
        },
        "id": "10WAF7r1aAm-",
        "outputId": "3e0b7806-a427-4c2e-bcd0-abba72c7200f"
      },
      "outputs": [
        {
          "output_type": "stream",
          "name": "stdout",
          "text": [
            "4\n",
            "43silos0\n",
            "zita002\n",
            "le2sim\n",
            "231233\n",
            "0\n",
            "2\n",
            "2\n",
            "43\n",
            "231233\n"
          ]
        }
      ],
      "source": [
        "dap = []\n",
        "\n",
        "for _ in range(int(input())):\n",
        "    m = ''\n",
        "    for i in input():\n",
        "        if i.isdigit():\n",
        "            m += i\n",
        "        else:\n",
        "            if m != '':\n",
        "                dap.append(int(m))\n",
        "                m = ''\n",
        "    if m != '':\n",
        "        dap.append(int(m))\n",
        "\n",
        "for i in sorted(dap):\n",
        "    print(i)"
      ]
    }
  ]
}