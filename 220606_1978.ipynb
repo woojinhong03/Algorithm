{
  "nbformat": 4,
  "nbformat_minor": 0,
  "metadata": {
    "colab": {
      "name": "220606_1978.ipynb",
      "provenance": [],
      "collapsed_sections": [],
      "authorship_tag": "ABX9TyOLGWEcT1JojYSmyJTupgjq",
      "include_colab_link": true
    },
    "kernelspec": {
      "name": "python3",
      "display_name": "Python 3"
    },
    "language_info": {
      "name": "python"
    }
  },
  "cells": [
    {
      "cell_type": "markdown",
      "metadata": {
        "id": "view-in-github",
        "colab_type": "text"
      },
      "source": [
        "<a href=\"https://colab.research.google.com/github/woojinhong03/Algorithm/blob/main/220606_1978.ipynb\" target=\"_parent\"><img src=\"https://colab.research.google.com/assets/colab-badge.svg\" alt=\"Open In Colab\"/></a>"
      ]
    },
    {
      "cell_type": "code",
      "execution_count": 16,
      "metadata": {
        "colab": {
          "base_uri": "https://localhost:8080/"
        },
        "id": "RCLZ3_bKDcwf",
        "outputId": "1125b649-19c6-46f4-fea0-a3a03fab58e7"
      },
      "outputs": [
        {
          "output_type": "stream",
          "name": "stdout",
          "text": [
            "4\n",
            "1 3 5 7\n",
            "3\n"
          ]
        }
      ],
      "source": [
        "n = int(input())\n",
        "l = map(int, input().split())\n",
        "sosu = 0\n",
        "for num in l:\n",
        "  sum = 0\n",
        "  if num > 1 :\n",
        "    for i in range(2, num):\n",
        "      if num % i == 0:\n",
        "        sum += 1  \n",
        "    if sum == 0:\n",
        "      sosu += 1 \n",
        "print(sosu)"
      ]
    }
  ]
}