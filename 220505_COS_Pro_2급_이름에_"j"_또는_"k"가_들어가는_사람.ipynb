{
  "nbformat": 4,
  "nbformat_minor": 0,
  "metadata": {
    "colab": {
      "name": "220505_COS_Pro_2급_이름에 \"j\" 또는 \"k\"가 들어가는 사람.ipynb",
      "provenance": [],
      "collapsed_sections": [],
      "authorship_tag": "ABX9TyPlnPyGUBMfDnmPvE7btBRi",
      "include_colab_link": true
    },
    "kernelspec": {
      "name": "python3",
      "display_name": "Python 3"
    },
    "language_info": {
      "name": "python"
    }
  },
  "cells": [
    {
      "cell_type": "markdown",
      "metadata": {
        "id": "view-in-github",
        "colab_type": "text"
      },
      "source": [
        "<a href=\"https://colab.research.google.com/github/woojinhong03/Algorithm/blob/main/220505_COS_Pro_2%EA%B8%89_%EC%9D%B4%EB%A6%84%EC%97%90_%22j%22_%EB%98%90%EB%8A%94_%22k%22%EA%B0%80_%EB%93%A4%EC%96%B4%EA%B0%80%EB%8A%94_%EC%82%AC%EB%9E%8C.ipynb\" target=\"_parent\"><img src=\"https://colab.research.google.com/assets/colab-badge.svg\" alt=\"Open In Colab\"/></a>"
      ]
    },
    {
      "cell_type": "code",
      "execution_count": null,
      "metadata": {
        "id": "ZSC8iFO3C1h9"
      },
      "outputs": [],
      "source": [
        "def solution(name_list):\n",
        "    answer = 0\n",
        "    for name in name_list:\n",
        "        for n in name:\n",
        "            if n == 'j' or n == 'k':\n",
        "                answer += 1\n",
        "                break\n",
        "    return answer"
      ]
    }
  ]
}