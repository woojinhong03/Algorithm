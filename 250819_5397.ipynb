{
  "nbformat": 4,
  "nbformat_minor": 0,
  "metadata": {
    "colab": {
      "provenance": [],
      "authorship_tag": "ABX9TyOtoP5Eo66HwWNs++gQoXoj",
      "include_colab_link": true
    },
    "kernelspec": {
      "name": "python3",
      "display_name": "Python 3"
    },
    "language_info": {
      "name": "python"
    }
  },
  "cells": [
    {
      "cell_type": "markdown",
      "metadata": {
        "id": "view-in-github",
        "colab_type": "text"
      },
      "source": [
        "<a href=\"https://colab.research.google.com/github/woojinhong03/Algorithm/blob/main/250819_5397.ipynb\" target=\"_parent\"><img src=\"https://colab.research.google.com/assets/colab-badge.svg\" alt=\"Open In Colab\"/></a>"
      ]
    },
    {
      "cell_type": "code",
      "source": [
        "for _ in range(int(input())):\n",
        "    L,R = [],[]\n",
        "    key = input()\n",
        "\n",
        "    for i in key:\n",
        "        if i == \"-\":\n",
        "            if L:\n",
        "                L.pop()\n",
        "        elif i == \"<\":\n",
        "            if L:\n",
        "                R.append(L.pop())\n",
        "        elif i == \">\":\n",
        "            if R:\n",
        "                L.append(R.pop())\n",
        "        else:\n",
        "            L.append(i)\n",
        "    L.extend(reversed(R))\n",
        "    print(''.join(L))"
      ],
      "metadata": {
        "colab": {
          "base_uri": "https://localhost:8080/"
        },
        "id": "5hzj6mHCNzJi",
        "outputId": "f12774fa-c623-40a4-aabc-a6af876f831a"
      },
      "execution_count": 27,
      "outputs": [
        {
          "output_type": "stream",
          "name": "stdout",
          "text": [
            "2\n",
            "<<BP<A>>Cd-\n",
            "BAPC\n",
            "ThIsIsS3Cr3t\n",
            "ThIsIsS3Cr3t\n"
          ]
        }
      ]
    }
  ]
}