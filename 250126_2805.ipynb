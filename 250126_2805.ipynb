{
  "nbformat": 4,
  "nbformat_minor": 0,
  "metadata": {
    "colab": {
      "provenance": [],
      "authorship_tag": "ABX9TyOYNWaBNoliEVRvNx8CcFrs",
      "include_colab_link": true
    },
    "kernelspec": {
      "name": "python3",
      "display_name": "Python 3"
    },
    "language_info": {
      "name": "python"
    }
  },
  "cells": [
    {
      "cell_type": "markdown",
      "metadata": {
        "id": "view-in-github",
        "colab_type": "text"
      },
      "source": [
        "<a href=\"https://colab.research.google.com/github/woojinhong03/Algorithm/blob/main/250126_2805.ipynb\" target=\"_parent\"><img src=\"https://colab.research.google.com/assets/colab-badge.svg\" alt=\"Open In Colab\"/></a>"
      ]
    },
    {
      "cell_type": "code",
      "execution_count": 7,
      "metadata": {
        "colab": {
          "base_uri": "https://localhost:8080/"
        },
        "id": "mALKTk2lHwkw",
        "outputId": "dd66d389-d3d2-4839-86f5-f99fd81c4bca"
      },
      "outputs": [
        {
          "output_type": "stream",
          "name": "stdout",
          "text": [
            "4 7\n",
            "20 15 10 17\n",
            "15\n"
          ]
        }
      ],
      "source": [
        "n, m = map(int, input().split())\n",
        "namu = list(map(int, input().split()))\n",
        "start = 1\n",
        "end = max(namu)\n",
        "\n",
        "while start <= end:\n",
        "    mid = (start+end) // 2  # 중간 값 설정\n",
        "    tot = 0\n",
        "\n",
        "    for i in namu:\n",
        "        if i >= mid:    # 나무의 길이가 중간값보다 높다면\n",
        "            tot += i - mid  # 자른 값을  더한다.\n",
        "\n",
        "    if tot >= m:    # 총 자른 값이 필요한 값보다 많다면\n",
        "        start = mid + 1 # 시작점을 중간값+1로 설정한다.\n",
        "    else:\n",
        "        end = mid - 1 # 아니라면 끝나는점을 중간값-1로 설정한다.\n",
        "\n",
        "print(end)"
      ]
    }
  ]
}