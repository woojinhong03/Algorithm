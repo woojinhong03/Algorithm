{
  "nbformat": 4,
  "nbformat_minor": 0,
  "metadata": {
    "colab": {
      "name": "211116_5622.ipynb",
      "provenance": [],
      "authorship_tag": "ABX9TyNogLLdZN2btKhyIkGg/NZ7",
      "include_colab_link": true
    },
    "kernelspec": {
      "name": "python3",
      "display_name": "Python 3"
    },
    "language_info": {
      "name": "python"
    }
  },
  "cells": [
    {
      "cell_type": "markdown",
      "metadata": {
        "id": "view-in-github",
        "colab_type": "text"
      },
      "source": [
        "<a href=\"https://colab.research.google.com/github/woojinhong03/Baekjoon/blob/main/211116_5622.ipynb\" target=\"_parent\"><img src=\"https://colab.research.google.com/assets/colab-badge.svg\" alt=\"Open In Colab\"/></a>"
      ]
    },
    {
      "cell_type": "code",
      "metadata": {
        "colab": {
          "base_uri": "https://localhost:8080/"
        },
        "id": "rFnZ-IBvgUi7",
        "outputId": "86c4b559-a2e3-44fe-e870-40a723c6c5ef"
      },
      "source": [
        "a = input()\n",
        "a = list(a)\n",
        "sum = 0\n",
        "\n",
        "for i in range(len(a)):\n",
        "  if(a[i] == 'A' or a[i] == 'B' or a[i] == 'C'):\n",
        "    sum += 3\n",
        "\n",
        "  elif(a[i] == 'D' or a[i] == 'E' or a[i] == 'F'):\n",
        "    sum += 4\n",
        "  \n",
        "  elif(a[i] == 'G' or a[i] == 'H' or a[i] == 'I'):\n",
        "    sum += 5\n",
        "  \n",
        "  elif(a[i] == 'J' or a[i] == 'K' or a[i] == 'L'):\n",
        "    sum += 6\n",
        "  \n",
        "  elif(a[i] == 'M' or a[i] == 'N' or a[i] == 'O'):\n",
        "    sum += 7\n",
        "  \n",
        "  elif(a[i] == 'P' or a[i] == 'Q' or a[i] == 'R' or a[i] == 'S'):\n",
        "    sum += 8\n",
        "  \n",
        "  elif(a[i] == 'T' or a[i] == 'U' or a[i] == 'V'):\n",
        "    sum += 9\n",
        "  \n",
        "  else:\n",
        "    sum += 10\n",
        "\n",
        "print(sum)"
      ],
      "execution_count": null,
      "outputs": [
        {
          "output_type": "stream",
          "name": "stdout",
          "text": [
            "AKFJLS\n",
            "33\n"
          ]
        }
      ]
    },
    {
      "cell_type": "code",
      "metadata": {
        "colab": {
          "base_uri": "https://localhost:8080/"
        },
        "id": "7c6aIia9YPcp",
        "outputId": "cffa6fc3-9441-4591-e7bd-91d1727d850f"
      },
      "source": [
        "dial = ['ABC', 'DEF', 'GHI', 'JKL', 'MNO', 'PQRS', 'TUV', 'WXYZ']\n",
        "a = input()\n",
        "ret = 0\n",
        "for j in range(len(a)):\n",
        "    for i in dial:\n",
        "        if a[j] in i:\n",
        "            ret += dial.index(i)+3\n",
        "print(ret)\n"
      ],
      "execution_count": null,
      "outputs": [
        {
          "output_type": "stream",
          "name": "stdout",
          "text": [
            "AKFJLS\n",
            "33\n"
          ]
        }
      ]
    }
  ]
}