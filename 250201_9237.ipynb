{
  "nbformat": 4,
  "nbformat_minor": 0,
  "metadata": {
    "colab": {
      "provenance": [],
      "authorship_tag": "ABX9TyNj0j/PYh4c7wyJosap6Y/D",
      "include_colab_link": true
    },
    "kernelspec": {
      "name": "python3",
      "display_name": "Python 3"
    },
    "language_info": {
      "name": "python"
    }
  },
  "cells": [
    {
      "cell_type": "markdown",
      "metadata": {
        "id": "view-in-github",
        "colab_type": "text"
      },
      "source": [
        "<a href=\"https://colab.research.google.com/github/woojinhong03/Algorithm/blob/main/250201_9237.ipynb\" target=\"_parent\"><img src=\"https://colab.research.google.com/assets/colab-badge.svg\" alt=\"Open In Colab\"/></a>"
      ]
    },
    {
      "cell_type": "code",
      "execution_count": 1,
      "metadata": {
        "colab": {
          "base_uri": "https://localhost:8080/"
        },
        "id": "RFRUbJZo6h2K",
        "outputId": "b97c12e3-0152-4930-862f-606396c29b88"
      },
      "outputs": [
        {
          "output_type": "stream",
          "name": "stdout",
          "text": [
            "4\n",
            "2 3 4 3\n",
            "7\n"
          ]
        }
      ],
      "source": [
        "n = int(input())\n",
        "day = list(map(int, input().split()))\n",
        "\n",
        "day.sort(reverse=True)\n",
        "\n",
        "cho = []\n",
        "for i in range(n):\n",
        "    cho.append(day[i] + 1 + i)\n",
        "\n",
        "print(max(cho) + 1)"
      ]
    }
  ]
}