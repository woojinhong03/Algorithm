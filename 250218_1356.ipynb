{
  "nbformat": 4,
  "nbformat_minor": 0,
  "metadata": {
    "colab": {
      "provenance": [],
      "authorship_tag": "ABX9TyN+EZ3fiphR+q8Bif5v5Ed4",
      "include_colab_link": true
    },
    "kernelspec": {
      "name": "python3",
      "display_name": "Python 3"
    },
    "language_info": {
      "name": "python"
    }
  },
  "cells": [
    {
      "cell_type": "markdown",
      "metadata": {
        "id": "view-in-github",
        "colab_type": "text"
      },
      "source": [
        "<a href=\"https://colab.research.google.com/github/woojinhong03/Algorithm/blob/main/250218_1356.ipynb\" target=\"_parent\"><img src=\"https://colab.research.google.com/assets/colab-badge.svg\" alt=\"Open In Colab\"/></a>"
      ]
    },
    {
      "cell_type": "code",
      "execution_count": null,
      "metadata": {
        "id": "UFFe49dnh5tq"
      },
      "outputs": [],
      "source": [
        "n = input()\n",
        "dap = \"NO\"\n",
        "\n",
        "for i in range(1, len(n)):\n",
        "    front = back = 1\n",
        "\n",
        "    for j in n[:i]:\n",
        "        front *= int(j)\n",
        "    for j in n[i:]:\n",
        "        back *= int(j)\n",
        "\n",
        "    if front == back:\n",
        "        dap = \"YES\"\n",
        "        break\n",
        "\n",
        "print(dap)"
      ]
    }
  ]
}