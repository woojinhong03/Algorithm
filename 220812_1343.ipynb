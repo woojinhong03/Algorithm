{
  "nbformat": 4,
  "nbformat_minor": 0,
  "metadata": {
    "colab": {
      "name": "220812_1343.ipynb",
      "provenance": []
    },
    "kernelspec": {
      "name": "python3",
      "display_name": "Python 3"
    },
    "language_info": {
      "name": "python"
    }
  },
  "cells": [
    {
      "cell_type": "code",
      "execution_count": 1,
      "metadata": {
        "colab": {
          "base_uri": "https://localhost:8080/"
        },
        "id": "WsX9F0blTyic",
        "outputId": "e1328304-5579-45bf-c44d-1bd435f059fe"
      },
      "outputs": [
        {
          "output_type": "stream",
          "name": "stdout",
          "text": [
            "XX.XX\n",
            "BB.BB\n"
          ]
        }
      ],
      "source": [
        "board = input()\n",
        "\n",
        "board = board.replace(\"XXXX\", \"AAAA\")\n",
        "board = board.replace(\"XX\", \"BB\")\n",
        "\n",
        "if 'X' in board:\n",
        "    print(-1)\n",
        "    \n",
        "else:\n",
        "    print(board)"
      ]
    }
  ]
}