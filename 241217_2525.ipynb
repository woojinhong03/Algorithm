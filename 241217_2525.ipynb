{
  "nbformat": 4,
  "nbformat_minor": 0,
  "metadata": {
    "colab": {
      "provenance": [],
      "authorship_tag": "ABX9TyOtr0anI2TxtJZwhQWHUO0v",
      "include_colab_link": true
    },
    "kernelspec": {
      "name": "python3",
      "display_name": "Python 3"
    },
    "language_info": {
      "name": "python"
    }
  },
  "cells": [
    {
      "cell_type": "markdown",
      "metadata": {
        "id": "view-in-github",
        "colab_type": "text"
      },
      "source": [
        "<a href=\"https://colab.research.google.com/github/woojinhong03/Algorithm/blob/main/241217_2525.ipynb\" target=\"_parent\"><img src=\"https://colab.research.google.com/assets/colab-badge.svg\" alt=\"Open In Colab\"/></a>"
      ]
    },
    {
      "cell_type": "code",
      "execution_count": 2,
      "metadata": {
        "colab": {
          "base_uri": "https://localhost:8080/"
        },
        "id": "honWiXxGvAm_",
        "outputId": "f14bb304-6fee-4d27-941b-65c89660b8d5"
      },
      "outputs": [
        {
          "output_type": "stream",
          "name": "stdout",
          "text": [
            "23 48\n",
            "25\n",
            "0 13\n"
          ]
        }
      ],
      "source": [
        "h, m = map(int, input().split())\n",
        "c = int(input())\n",
        "\n",
        "h += c // 60\n",
        "m += c % 60\n",
        "\n",
        "if m >= 60:\n",
        "    h += 1\n",
        "    m -= 60\n",
        "if h >= 24:\n",
        "    h -= 24\n",
        "\n",
        "print(h,m)"
      ]
    }
  ]
}