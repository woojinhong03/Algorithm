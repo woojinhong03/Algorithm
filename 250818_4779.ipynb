{
  "nbformat": 4,
  "nbformat_minor": 0,
  "metadata": {
    "colab": {
      "provenance": [],
      "authorship_tag": "ABX9TyOZE9stVPU4gfD6PTsryLly",
      "include_colab_link": true
    },
    "kernelspec": {
      "name": "python3",
      "display_name": "Python 3"
    },
    "language_info": {
      "name": "python"
    }
  },
  "cells": [
    {
      "cell_type": "markdown",
      "metadata": {
        "id": "view-in-github",
        "colab_type": "text"
      },
      "source": [
        "<a href=\"https://colab.research.google.com/github/woojinhong03/Algorithm/blob/main/250818_4779.ipynb\" target=\"_parent\"><img src=\"https://colab.research.google.com/assets/colab-badge.svg\" alt=\"Open In Colab\"/></a>"
      ]
    },
    {
      "cell_type": "code",
      "execution_count": 1,
      "metadata": {
        "colab": {
          "base_uri": "https://localhost:8080/"
        },
        "id": "p4Ka7u6RJhHZ",
        "outputId": "7fbbc0aa-4e1d-4e39-86ce-841d8121ab9e"
      },
      "outputs": [
        {
          "name": "stdout",
          "output_type": "stream",
          "text": [
            "0\n",
            "-\n",
            "1\n",
            "- -\n",
            "3\n",
            "- -   - -         - -   - -\n",
            "2\n",
            "- -   - -\n",
            "\n"
          ]
        }
      ],
      "source": [
        "def cantor(n):\n",
        "    if n == 1:\n",
        "        return \"-\"\n",
        "    else:\n",
        "        a = cantor(n // 3)\n",
        "        b = \" \" * (n // 3)\n",
        "        return a + b + a\n",
        "\n",
        "while 1:\n",
        "    try:\n",
        "        print(cantor(3 ** int(input())))\n",
        "    except:\n",
        "        break"
      ]
    }
  ]
}