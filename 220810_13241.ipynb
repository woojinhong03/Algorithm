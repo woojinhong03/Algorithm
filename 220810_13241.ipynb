{
  "nbformat": 4,
  "nbformat_minor": 0,
  "metadata": {
    "colab": {
      "name": "220810_13241.ipynb",
      "provenance": [],
      "collapsed_sections": []
    },
    "kernelspec": {
      "name": "python3",
      "display_name": "Python 3"
    },
    "language_info": {
      "name": "python"
    }
  },
  "cells": [
    {
      "cell_type": "code",
      "execution_count": 1,
      "metadata": {
        "colab": {
          "base_uri": "https://localhost:8080/"
        },
        "id": "wRbFwVt8izUm",
        "outputId": "0e4ab5df-f2f6-4c4b-aafc-11c0b4aea365"
      },
      "outputs": [
        {
          "output_type": "stream",
          "name": "stdout",
          "text": [
            "121 199\n",
            "24079\n"
          ]
        }
      ],
      "source": [
        "a, b = map(int, input().split())\n",
        "\n",
        "def gcd(a, b):\n",
        "    while b:\n",
        "        mod = b\n",
        "        b = a % b\n",
        "        a = mod\n",
        "    return a\n",
        "\n",
        "print(a*b//gcd(a, b))"
      ]
    }
  ]
}