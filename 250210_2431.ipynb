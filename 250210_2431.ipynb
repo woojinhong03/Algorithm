{
  "nbformat": 4,
  "nbformat_minor": 0,
  "metadata": {
    "colab": {
      "provenance": [],
      "authorship_tag": "ABX9TyPhSWO/qGIo/nYq16gGYg59",
      "include_colab_link": true
    },
    "kernelspec": {
      "name": "python3",
      "display_name": "Python 3"
    },
    "language_info": {
      "name": "python"
    }
  },
  "cells": [
    {
      "cell_type": "markdown",
      "metadata": {
        "id": "view-in-github",
        "colab_type": "text"
      },
      "source": [
        "<a href=\"https://colab.research.google.com/github/woojinhong03/Algorithm/blob/main/250210_2431.ipynb\" target=\"_parent\"><img src=\"https://colab.research.google.com/assets/colab-badge.svg\" alt=\"Open In Colab\"/></a>"
      ]
    },
    {
      "cell_type": "code",
      "execution_count": 1,
      "metadata": {
        "colab": {
          "base_uri": "https://localhost:8080/"
        },
        "id": "eOYcCRzh4cuo",
        "outputId": "5e42bf25-ad2f-41e1-f748-6a830c23b3eb"
      },
      "outputs": [
        {
          "output_type": "stream",
          "name": "stdout",
          "text": [
            "7 7\n",
            "8\n",
            "1\n",
            "0\n"
          ]
        }
      ],
      "source": [
        "a1, a2 = map(int, input().split())\n",
        "c = int(input())\n",
        "n0 = int(input())\n",
        "\n",
        "if a1 * n0 + a2 <= c * n0 and a1 <= c:\n",
        "    print(1)\n",
        "else:\n",
        "    print(0)"
      ]
    }
  ]
}