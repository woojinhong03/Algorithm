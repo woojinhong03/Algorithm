{
  "nbformat": 4,
  "nbformat_minor": 0,
  "metadata": {
    "colab": {
      "provenance": [],
      "collapsed_sections": [],
      "authorship_tag": "ABX9TyPmrXpVBilvhoMoS5pP4vN3",
      "include_colab_link": true
    },
    "kernelspec": {
      "name": "python3",
      "display_name": "Python 3"
    },
    "language_info": {
      "name": "python"
    }
  },
  "cells": [
    {
      "cell_type": "markdown",
      "metadata": {
        "id": "view-in-github",
        "colab_type": "text"
      },
      "source": [
        "<a href=\"https://colab.research.google.com/github/woojinhong03/Algorithm/blob/main/220930_11655.ipynb\" target=\"_parent\"><img src=\"https://colab.research.google.com/assets/colab-badge.svg\" alt=\"Open In Colab\"/></a>"
      ]
    },
    {
      "cell_type": "code",
      "execution_count": 4,
      "metadata": {
        "colab": {
          "base_uri": "https://localhost:8080/"
        },
        "id": "VoihQcmOHHjF",
        "outputId": "10071591-16fb-4568-c5b4-4d4dcaad6368"
      },
      "outputs": [
        {
          "output_type": "stream",
          "name": "stdout",
          "text": [
            "Baekjoon Online Judge 1\n",
            "Onrxwbba Bayvar Whqtr 1\n"
          ]
        }
      ],
      "source": [
        "s = input()\n",
        "res = ''\n",
        "for c in s:\n",
        "    if 'a' <= c <= 'z':\n",
        "        res += chr((ord(c)+13) if c <= 'm' else ord(c)-13)\n",
        "    elif 'A' <= c <= 'Z':\n",
        "        res += chr((ord(c)+13) if c <= 'M' else ord(c)-13)\n",
        "    else:\n",
        "        res += c\n",
        "print(res)"
      ]
    }
  ]
}