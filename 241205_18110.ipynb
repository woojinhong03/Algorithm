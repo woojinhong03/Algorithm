{
  "nbformat": 4,
  "nbformat_minor": 0,
  "metadata": {
    "colab": {
      "provenance": [],
      "authorship_tag": "ABX9TyN+h2TPP3HAroo4qtr8q059",
      "include_colab_link": true
    },
    "kernelspec": {
      "name": "python3",
      "display_name": "Python 3"
    },
    "language_info": {
      "name": "python"
    }
  },
  "cells": [
    {
      "cell_type": "markdown",
      "metadata": {
        "id": "view-in-github",
        "colab_type": "text"
      },
      "source": [
        "<a href=\"https://colab.research.google.com/github/woojinhong03/Algorithm/blob/main/241205_18110.ipynb\" target=\"_parent\"><img src=\"https://colab.research.google.com/assets/colab-badge.svg\" alt=\"Open In Colab\"/></a>"
      ]
    },
    {
      "cell_type": "code",
      "source": [
        "import sys\n",
        "input = sys.stdin.readline\n",
        "\n",
        "def round(x):\n",
        "    if x - int(x) >= 0.5:   #소수점이 0.5 이상일 때 반올림해서 리턴\n",
        "        return int(x) + 1\n",
        "    else:\n",
        "        return int(x)   #이하라면 그냥 리턴\n",
        "\n",
        "n = int(input())\n",
        "num = round(n*0.15) #절사평균 계산 시 제외할 값의 수\n",
        "\n",
        "level = [int(input()) for _ in range(n) ]   #리스트 컴프리헨션 후 정렬\n",
        "level.sort()\n",
        "\n",
        "if n: #n이 참이라면\n",
        "    if num: #num이 참이라면\n",
        "        print(round(sum(level[num : -num]) / len(level[num : -num])))   # 리스트 앞 뒤로 전체 길이의 15%를 반올림한 값을 제외함, 리스트의 평균 반올림하여 출력\n",
        "    else:\n",
        "        print(round(sum(level)/len(level)))\n",
        "else:\n",
        "    print(0)"
      ],
      "metadata": {
        "colab": {
          "base_uri": "https://localhost:8080/"
        },
        "id": "5kOx7wvJ2znj",
        "outputId": "3b529607-8ddc-4921-b739-e8bb72cef965"
      },
      "execution_count": 22,
      "outputs": [
        {
          "output_type": "stream",
          "name": "stdout",
          "text": [
            "10\n",
            "1\n",
            "13\n",
            "12\n",
            "15\n",
            "3\n",
            "16\n",
            "13\n",
            "12\n",
            "14\n",
            "15\n",
            "13\n"
          ]
        }
      ]
    }
  ]
}