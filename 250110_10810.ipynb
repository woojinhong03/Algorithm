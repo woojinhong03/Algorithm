{
  "nbformat": 4,
  "nbformat_minor": 0,
  "metadata": {
    "colab": {
      "provenance": [],
      "authorship_tag": "ABX9TyN02MDRadVKKQDytUCO+6RM",
      "include_colab_link": true
    },
    "kernelspec": {
      "name": "python3",
      "display_name": "Python 3"
    },
    "language_info": {
      "name": "python"
    }
  },
  "cells": [
    {
      "cell_type": "markdown",
      "metadata": {
        "id": "view-in-github",
        "colab_type": "text"
      },
      "source": [
        "<a href=\"https://colab.research.google.com/github/woojinhong03/Algorithm/blob/main/250110_10810.ipynb\" target=\"_parent\"><img src=\"https://colab.research.google.com/assets/colab-badge.svg\" alt=\"Open In Colab\"/></a>"
      ]
    },
    {
      "cell_type": "code",
      "execution_count": 1,
      "metadata": {
        "colab": {
          "base_uri": "https://localhost:8080/"
        },
        "id": "wH4VrGCifuUX",
        "outputId": "a386963f-bf7e-4405-a5f6-3124fad3cb2b"
      },
      "outputs": [
        {
          "output_type": "stream",
          "name": "stdout",
          "text": [
            "5 4\n",
            "1 2 3\n",
            "3 4 4\n",
            "1 4 1\n",
            "2 2 2\n",
            "1 2 1 1 0 "
          ]
        }
      ],
      "source": [
        "n,m = map(int, input().split())\n",
        "ba = [0]*n\n",
        "\n",
        "for _ in range(m) :\n",
        "    i,j,k = map(int, input().split())\n",
        "\n",
        "    for x in range(i, j+1):\n",
        "        ba[x-1] = k\n",
        "\n",
        "for i in range(n):\n",
        "    print(ba[i], end=' ')"
      ]
    }
  ]
}