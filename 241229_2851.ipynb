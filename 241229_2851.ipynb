{
  "nbformat": 4,
  "nbformat_minor": 0,
  "metadata": {
    "colab": {
      "provenance": [],
      "authorship_tag": "ABX9TyOh0XSINK01Vmw8nJJ5k2re",
      "include_colab_link": true
    },
    "kernelspec": {
      "name": "python3",
      "display_name": "Python 3"
    },
    "language_info": {
      "name": "python"
    }
  },
  "cells": [
    {
      "cell_type": "markdown",
      "metadata": {
        "id": "view-in-github",
        "colab_type": "text"
      },
      "source": [
        "<a href=\"https://colab.research.google.com/github/woojinhong03/Algorithm/blob/main/241229_2851.ipynb\" target=\"_parent\"><img src=\"https://colab.research.google.com/assets/colab-badge.svg\" alt=\"Open In Colab\"/></a>"
      ]
    },
    {
      "cell_type": "code",
      "source": [
        "jum = [int(input()) for x in range(10)]\n",
        "hap = 0\n",
        "\n",
        "for i in jum:\n",
        "    hap += i    #버섯을 먹는다.\n",
        "    if hap >= 100:   #만약 합이 100 이상이라면\n",
        "        if hap - 100 > 100 - (hap - i):   #뭐가 더 가까운지 판단\n",
        "            hap -= i   #먹기 전이 더 가깝다면 빼기\n",
        "        break\n",
        "print(hap)"
      ],
      "metadata": {
        "colab": {
          "base_uri": "https://localhost:8080/"
        },
        "id": "ViaC4H873-jU",
        "outputId": "a031c1f1-7db5-4171-ff0a-daeb54afd7bb"
      },
      "execution_count": 5,
      "outputs": [
        {
          "output_type": "stream",
          "name": "stdout",
          "text": [
            "1\n",
            "2\n",
            "3\n",
            "5\n",
            "8\n",
            "13\n",
            "21\n",
            "34\n",
            "55\n",
            "89\n",
            "87\n"
          ]
        }
      ]
    }
  ]
}