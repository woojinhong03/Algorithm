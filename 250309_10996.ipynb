{
  "nbformat": 4,
  "nbformat_minor": 0,
  "metadata": {
    "colab": {
      "provenance": [],
      "authorship_tag": "ABX9TyOXh3MouNKM3OnO9qoorYMP",
      "include_colab_link": true
    },
    "kernelspec": {
      "name": "python3",
      "display_name": "Python 3"
    },
    "language_info": {
      "name": "python"
    }
  },
  "cells": [
    {
      "cell_type": "markdown",
      "metadata": {
        "id": "view-in-github",
        "colab_type": "text"
      },
      "source": [
        "<a href=\"https://colab.research.google.com/github/woojinhong03/Algorithm/blob/main/250309_10996.ipynb\" target=\"_parent\"><img src=\"https://colab.research.google.com/assets/colab-badge.svg\" alt=\"Open In Colab\"/></a>"
      ]
    },
    {
      "cell_type": "code",
      "execution_count": 4,
      "metadata": {
        "colab": {
          "base_uri": "https://localhost:8080/"
        },
        "id": "YyCN0ExXOIQR",
        "outputId": "7667c1de-844c-40f0-caae-ae0270db93b9"
      },
      "outputs": [
        {
          "output_type": "stream",
          "name": "stdout",
          "text": [
            "3\n",
            "* * \n",
            " *\n",
            "* * \n",
            " *\n",
            "* * \n",
            " *\n"
          ]
        }
      ],
      "source": [
        "n = int(input())\n",
        "for _ in range(n):\n",
        "    print('* '* (n - n // 2)) # 홀수\n",
        "    print(' *'* (n // 2)) # 짝수"
      ]
    }
  ]
}