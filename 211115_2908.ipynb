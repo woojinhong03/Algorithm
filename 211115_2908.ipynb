{
  "nbformat": 4,
  "nbformat_minor": 0,
  "metadata": {
    "colab": {
      "name": "211115_2908.ipynb",
      "provenance": [],
      "authorship_tag": "ABX9TyPwkKLZ4oli7b6XtaC2TizI",
      "include_colab_link": true
    },
    "kernelspec": {
      "name": "python3",
      "display_name": "Python 3"
    },
    "language_info": {
      "name": "python"
    }
  },
  "cells": [
    {
      "cell_type": "markdown",
      "metadata": {
        "id": "view-in-github",
        "colab_type": "text"
      },
      "source": [
        "<a href=\"https://colab.research.google.com/github/woojinhong03/Baekjoon/blob/main/211115_2908.ipynb\" target=\"_parent\"><img src=\"https://colab.research.google.com/assets/colab-badge.svg\" alt=\"Open In Colab\"/></a>"
      ]
    },
    {
      "cell_type": "code",
      "metadata": {
        "colab": {
          "base_uri": "https://localhost:8080/"
        },
        "id": "1wJPGk_4rTAy",
        "outputId": "c8d6c89b-ecc4-4a00-a768-3774f5dd6803"
      },
      "source": [
        "def re(num):\n",
        "  num = num[::-1];\n",
        "  return num\n",
        "\n",
        "a,b = input().split()\n",
        "if (re(a) > re(b)):\n",
        "  print(re(a))\n",
        "else:\n",
        "  print(re(b))"
      ],
      "execution_count": 14,
      "outputs": [
        {
          "output_type": "stream",
          "name": "stdout",
          "text": [
            "734 893\n",
            "437\n"
          ]
        }
      ]
    }
  ]
}