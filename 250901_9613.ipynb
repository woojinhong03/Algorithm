{
  "nbformat": 4,
  "nbformat_minor": 0,
  "metadata": {
    "colab": {
      "provenance": [],
      "authorship_tag": "ABX9TyPhep5/CRwC6XzMQiVMufn6",
      "include_colab_link": true
    },
    "kernelspec": {
      "name": "python3",
      "display_name": "Python 3"
    },
    "language_info": {
      "name": "python"
    }
  },
  "cells": [
    {
      "cell_type": "markdown",
      "metadata": {
        "id": "view-in-github",
        "colab_type": "text"
      },
      "source": [
        "<a href=\"https://colab.research.google.com/github/woojinhong03/Algorithm/blob/main/250901_9613.ipynb\" target=\"_parent\"><img src=\"https://colab.research.google.com/assets/colab-badge.svg\" alt=\"Open In Colab\"/></a>"
      ]
    },
    {
      "cell_type": "code",
      "execution_count": 1,
      "metadata": {
        "colab": {
          "base_uri": "https://localhost:8080/"
        },
        "id": "YGK7GIRHqkS7",
        "outputId": "221da421-7ce8-48ea-83da-7767f73a8853"
      },
      "outputs": [
        {
          "output_type": "stream",
          "name": "stdout",
          "text": [
            "3\n",
            "4 10 20 30 40\n",
            "70\n",
            "3 7 5 12\n",
            "3\n",
            "3 125 15 25\n",
            "35\n"
          ]
        }
      ],
      "source": [
        "import math\n",
        "\n",
        "for _ in range(int(input())):\n",
        "\tsu = list(map(int, input().split()))\n",
        "\tn = su[0]\n",
        "\tsum = 0\n",
        "\tfor i in range(1, n):\n",
        "\t\tfor j in range(i + 1, n + 1):\n",
        "\t\t\tsum += math.gcd(su[i], su[j])\n",
        "\tprint(sum)"
      ]
    }
  ]
}