{
  "nbformat": 4,
  "nbformat_minor": 0,
  "metadata": {
    "colab": {
      "provenance": [],
      "authorship_tag": "ABX9TyN5DIGFeKVc7J7KrUpOgECH",
      "include_colab_link": true
    },
    "kernelspec": {
      "name": "python3",
      "display_name": "Python 3"
    },
    "language_info": {
      "name": "python"
    }
  },
  "cells": [
    {
      "cell_type": "markdown",
      "metadata": {
        "id": "view-in-github",
        "colab_type": "text"
      },
      "source": [
        "<a href=\"https://colab.research.google.com/github/woojinhong03/Algorithm/blob/main/250926_28432.ipynb\" target=\"_parent\"><img src=\"https://colab.research.google.com/assets/colab-badge.svg\" alt=\"Open In Colab\"/></a>"
      ]
    },
    {
      "cell_type": "code",
      "execution_count": null,
      "metadata": {
        "id": "jWrAq5FfhmgT"
      },
      "outputs": [],
      "source": [
        "import sys\n",
        "input = sys.stdin.readline\n",
        "\n",
        "n = int(input())\n",
        "history = [input().strip() for _ in range(n)]\n",
        "\n",
        "m = int(input())\n",
        "candidates = [input().strip() for _ in range(m)]\n",
        "q_index = history.index('?')\n",
        "start_char = ''\n",
        "end_char = ''\n",
        "\n",
        "if q_index > 0:\n",
        "    start_char = history[q_index - 1][-1]\n",
        "\n",
        "if q_index < n - 1:\n",
        "    end_char = history[q_index + 1][0]\n",
        "\n",
        "history_set = set(history)\n",
        "\n",
        "for candidate in candidates:\n",
        "    if candidate in history_set:\n",
        "        continue\n",
        "    is_start_ok = (start_char == '') or (candidate[0] == start_char)\n",
        "    is_end_ok = (end_char == '') or (candidate[-1] == end_char)\n",
        "\n",
        "    if is_start_ok and is_end_ok:\n",
        "        print(candidate)\n",
        "        break"
      ]
    }
  ]
}