{
  "nbformat": 4,
  "nbformat_minor": 0,
  "metadata": {
    "colab": {
      "name": "220723_11723.ipynb",
      "provenance": [],
      "collapsed_sections": []
    },
    "kernelspec": {
      "name": "python3",
      "display_name": "Python 3"
    },
    "language_info": {
      "name": "python"
    }
  },
  "cells": [
    {
      "cell_type": "code",
      "execution_count": null,
      "metadata": {
        "id": "mQNp8gg8MSGy"
      },
      "outputs": [],
      "source": [
        "import sys\n",
        "\n",
        "m = int(sys.stdin.readline())\n",
        "S = set()\n",
        "\n",
        "for _ in range(m):\n",
        "    temp = sys.stdin.readline().strip().split()\n",
        "    \n",
        "    if len(temp) == 1:\n",
        "        if temp[0] == \"all\":\n",
        "            S = set([i for i in range(1, 21)])\n",
        "        else:\n",
        "            S = set()\n",
        "    \n",
        "    else:\n",
        "        func, x = temp[0], temp[1]\n",
        "        x = int(x)\n",
        "\n",
        "        if func == \"add\":\n",
        "            S.add(x)\n",
        "        elif func == \"remove\":\n",
        "            S.discard(x)\n",
        "        elif func == \"check\":\n",
        "            print(1 if x in S else 0)\n",
        "        elif func == \"toggle\":\n",
        "            if x in S:\n",
        "                S.discard(x)\n",
        "            else:\n",
        "                S.add(x)"
      ]
    }
  ]
}