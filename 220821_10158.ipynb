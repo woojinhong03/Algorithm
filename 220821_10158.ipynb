{
  "nbformat": 4,
  "nbformat_minor": 0,
  "metadata": {
    "colab": {
      "name": "220821_10158.ipynb",
      "provenance": [],
      "collapsed_sections": [],
      "authorship_tag": "ABX9TyM+pmr+/K1Mj0g+8a4kPJgP",
      "include_colab_link": true
    },
    "kernelspec": {
      "name": "python3",
      "display_name": "Python 3"
    },
    "language_info": {
      "name": "python"
    }
  },
  "cells": [
    {
      "cell_type": "markdown",
      "metadata": {
        "id": "view-in-github",
        "colab_type": "text"
      },
      "source": [
        "<a href=\"https://colab.research.google.com/github/woojinhong03/Algorithm/blob/main/220821_10158.ipynb\" target=\"_parent\"><img src=\"https://colab.research.google.com/assets/colab-badge.svg\" alt=\"Open In Colab\"/></a>"
      ]
    },
    {
      "cell_type": "code",
      "execution_count": 1,
      "metadata": {
        "colab": {
          "base_uri": "https://localhost:8080/"
        },
        "id": "t2ltATsDzIqB",
        "outputId": "067d4451-2218-4cbf-8ed3-373a5d88e5a9"
      },
      "outputs": [
        {
          "output_type": "stream",
          "name": "stdout",
          "text": [
            "6 4\n",
            "5 3\n",
            "4\n",
            "3 1\n"
          ]
        }
      ],
      "source": [
        "w, h = map(int, input().split())\n",
        "p, q = map(int, input().split())\n",
        "\n",
        "t = int(input())\n",
        "\n",
        "a = (p + t) // w\n",
        "b = (q + t) // h\n",
        "\n",
        "if a % 2 == 0:\n",
        "    x = (p + t) % w\n",
        "else:\n",
        "    x = w - (p + t) % w\n",
        "\n",
        "if b % 2 == 0:\n",
        "    y = (q + t) % h\n",
        "else:\n",
        "    y = h - (q + t) % h\n",
        "\n",
        "print(x, y)"
      ]
    }
  ]
}