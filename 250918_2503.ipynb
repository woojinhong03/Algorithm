{
  "nbformat": 4,
  "nbformat_minor": 0,
  "metadata": {
    "colab": {
      "provenance": [],
      "authorship_tag": "ABX9TyPhYCSYeZCS5AaSFt9N3IV5",
      "include_colab_link": true
    },
    "kernelspec": {
      "name": "python3",
      "display_name": "Python 3"
    },
    "language_info": {
      "name": "python"
    }
  },
  "cells": [
    {
      "cell_type": "markdown",
      "metadata": {
        "id": "view-in-github",
        "colab_type": "text"
      },
      "source": [
        "<a href=\"https://colab.research.google.com/github/woojinhong03/Algorithm/blob/main/250918_2503.ipynb\" target=\"_parent\"><img src=\"https://colab.research.google.com/assets/colab-badge.svg\" alt=\"Open In Colab\"/></a>"
      ]
    },
    {
      "cell_type": "code",
      "execution_count": 1,
      "metadata": {
        "colab": {
          "base_uri": "https://localhost:8080/"
        },
        "id": "wwQbdbehSFU0",
        "outputId": "3a645003-5c25-404c-cc62-c2c3afb410e7"
      },
      "outputs": [
        {
          "output_type": "stream",
          "name": "stdout",
          "text": [
            "4\n",
            "123 1 1\n",
            "356 1 0\n",
            "327 2 0\n",
            "489 0 1\n",
            "2\n"
          ]
        }
      ],
      "source": [
        "# import sys\n",
        "# input = sys.stdin.readline\n",
        "\n",
        "# 질문과 결과를 저장할 리스트\n",
        "queries = []\n",
        "for _ in range(int(input())):\n",
        "    num, s, b = map(int, input().split())\n",
        "    queries.append((str(num), s, b))\n",
        "\n",
        "cnt = 0\n",
        "# 백의 자리\n",
        "for i in range(1, 10):\n",
        "    # 십의 자리\n",
        "    for j in range(1, 10):\n",
        "        # 일의 자리\n",
        "        for k in range(1, 10):\n",
        "            # 각 자릿수가 모두 다른지 확인\n",
        "            if i == j or j == k or i == k:\n",
        "                continue # 같은 숫자가 있으면 건너뜀\n",
        "\n",
        "            candidate = str(i) + str(j) + str(k)\n",
        "            ok = True\n",
        "\n",
        "            # 모든 질문과 비교\n",
        "            for query_num, given_s, given_b in queries:\n",
        "                strike = 0\n",
        "                ball = 0\n",
        "\n",
        "                # 스트라이크와 볼 계산\n",
        "                for idx in range(3):\n",
        "                    if candidate[idx] in query_num:\n",
        "                        if candidate[idx] == query_num[idx]:\n",
        "                            strike += 1\n",
        "                        else:\n",
        "                            ball += 1\n",
        "\n",
        "                # 계산된 결과가 주어진 결과와 다르면 정답이 아님\n",
        "                if strike != given_s or ball != given_b:\n",
        "                    ok = False\n",
        "                    break\n",
        "\n",
        "            # 모든 질문을 통과했다면 개수 증가\n",
        "            if ok:\n",
        "                cnt += 1\n",
        "\n",
        "print(cnt)"
      ]
    }
  ]
}