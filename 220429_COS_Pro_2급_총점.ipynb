{
  "nbformat": 4,
  "nbformat_minor": 0,
  "metadata": {
    "colab": {
      "name": "220429_COS_Pro_2급_총점.ipynb",
      "provenance": [],
      "collapsed_sections": [],
      "authorship_tag": "ABX9TyN26Mts5kRC0oam82m0W/dt",
      "include_colab_link": true
    },
    "kernelspec": {
      "name": "python3",
      "display_name": "Python 3"
    },
    "language_info": {
      "name": "python"
    }
  },
  "cells": [
    {
      "cell_type": "markdown",
      "metadata": {
        "id": "view-in-github",
        "colab_type": "text"
      },
      "source": [
        "<a href=\"https://colab.research.google.com/github/woojinhong03/Algorithm/blob/main/220429_COS_Pro_2%EA%B8%89_%EC%B4%9D%EC%A0%90.ipynb\" target=\"_parent\"><img src=\"https://colab.research.google.com/assets/colab-badge.svg\" alt=\"Open In Colab\"/></a>"
      ]
    },
    {
      "cell_type": "code",
      "execution_count": 3,
      "metadata": {
        "id": "ZSC8iFO3C1h9"
      },
      "outputs": [],
      "source": [
        "def func_a(s):\n",
        "    ret = 0\n",
        "    for i in s:\n",
        "        if i > ret:\n",
        "            ret = i\n",
        "    return ret\n",
        "\n",
        "def func_b(s):\n",
        "    ret = 0\n",
        "    for i in s:\n",
        "        ret += i\n",
        "    return ret\n",
        "\n",
        "def func_c(s):\n",
        "    ret = 101\n",
        "    for i in s:\n",
        "        if i < ret:\n",
        "            ret = i\n",
        "    return ret\n",
        "\n",
        "\n",
        "def solution(scores):\n",
        "    sum = func_b(scores)\n",
        "    max_score = func_a(scores)\n",
        "    min_score = func_c(scores)\n",
        "    return sum - max_score - min_score"
      ]
    }
  ]
}