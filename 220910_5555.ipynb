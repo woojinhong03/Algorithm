{
  "nbformat": 4,
  "nbformat_minor": 0,
  "metadata": {
    "colab": {
      "provenance": [],
      "collapsed_sections": [],
      "authorship_tag": "ABX9TyMPIw1JoP24c7TRQ30TkMS6",
      "include_colab_link": true
    },
    "kernelspec": {
      "name": "python3",
      "display_name": "Python 3"
    },
    "language_info": {
      "name": "python"
    }
  },
  "cells": [
    {
      "cell_type": "markdown",
      "metadata": {
        "id": "view-in-github",
        "colab_type": "text"
      },
      "source": [
        "<a href=\"https://colab.research.google.com/github/woojinhong03/Algorithm/blob/main/220910_5555.ipynb\" target=\"_parent\"><img src=\"https://colab.research.google.com/assets/colab-badge.svg\" alt=\"Open In Colab\"/></a>"
      ]
    },
    {
      "cell_type": "code",
      "execution_count": 2,
      "metadata": {
        "colab": {
          "base_uri": "https://localhost:8080/"
        },
        "id": "RShJOAyCzWCl",
        "outputId": "a2ee9e64-a1f3-4e2c-9370-32e1cb4260bb"
      },
      "outputs": [
        {
          "output_type": "stream",
          "name": "stdout",
          "text": [
            "ABCD\n",
            "4\n",
            "ABCDJSKLFJSKD\n",
            "CDJKLAJDFKLSAAB\n",
            "DCBASKLDFJLK\n",
            "ABCDABCDABCD\n",
            "3\n"
          ]
        }
      ],
      "source": [
        "find_string = input()\n",
        "N = int(input())\n",
        "cnt = 0\n",
        "\n",
        "for ring_index in range(N):\n",
        "    ring = input()\n",
        "    ring += ring\n",
        "\n",
        "    if ring.find(find_string) != -1:\n",
        "        cnt += 1\n",
        "\n",
        "print(cnt)"
      ]
    }
  ]
}