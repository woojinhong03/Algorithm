{
  "nbformat": 4,
  "nbformat_minor": 0,
  "metadata": {
    "colab": {
      "name": "211124_1193.ipynb",
      "provenance": [],
      "collapsed_sections": [],
      "authorship_tag": "ABX9TyOEvm+k2Qk1mgVNCbiks9f1",
      "include_colab_link": true
    },
    "kernelspec": {
      "name": "python3",
      "display_name": "Python 3"
    },
    "language_info": {
      "name": "python"
    }
  },
  "cells": [
    {
      "cell_type": "markdown",
      "metadata": {
        "id": "view-in-github",
        "colab_type": "text"
      },
      "source": [
        "<a href=\"https://colab.research.google.com/github/woojinhong03/Baekjoon/blob/main/211124_1193.ipynb\" target=\"_parent\"><img src=\"https://colab.research.google.com/assets/colab-badge.svg\" alt=\"Open In Colab\"/></a>"
      ]
    },
    {
      "cell_type": "code",
      "metadata": {
        "colab": {
          "base_uri": "https://localhost:8080/"
        },
        "id": "nQPgrGJIzboa",
        "outputId": "dac3ba6e-b45b-4968-b1b3-50bb9a6f4eca"
      },
      "source": [
        "X=int(input())\n",
        "\n",
        "line=1\n",
        "while X>line:\n",
        "    X-=line\n",
        "    line+=1\n",
        "    \n",
        "if line%2==0:\n",
        "    a=X\n",
        "    b=line-X+1\n",
        "else:\n",
        "    a=line-X+1\n",
        "    b=X\n",
        "    \n",
        "print(a, '/', b, sep='')"
      ],
      "execution_count": 5,
      "outputs": [
        {
          "output_type": "stream",
          "name": "stdout",
          "text": [
            "65\n",
            "2/10\n"
          ]
        }
      ]
    }
  ]
}