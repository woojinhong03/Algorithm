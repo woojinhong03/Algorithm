{
  "nbformat": 4,
  "nbformat_minor": 0,
  "metadata": {
    "colab": {
      "name": "211111_10809.ipynb",
      "provenance": [],
      "collapsed_sections": [],
      "authorship_tag": "ABX9TyNdwqdNbg5nOH9MZtrFDrPX",
      "include_colab_link": true
    },
    "kernelspec": {
      "name": "python3",
      "display_name": "Python 3"
    },
    "language_info": {
      "name": "python"
    }
  },
  "cells": [
    {
      "cell_type": "markdown",
      "metadata": {
        "id": "view-in-github",
        "colab_type": "text"
      },
      "source": [
        "<a href=\"https://colab.research.google.com/github/woojinhong03/Baekjoon/blob/main/211111_10809.ipynb\" target=\"_parent\"><img src=\"https://colab.research.google.com/assets/colab-badge.svg\" alt=\"Open In Colab\"/></a>"
      ]
    },
    {
      "cell_type": "code",
      "metadata": {
        "colab": {
          "base_uri": "https://localhost:8080/"
        },
        "id": "vvg6hJsBbp95",
        "outputId": "5a7cdba2-18a8-493c-f840-c94bfa564a8c"
      },
      "source": [
        "S = input()\n",
        "abc ='abcdefghijklmnopqrstuvwxyz'\n",
        "\n",
        "for i in abc:\n",
        "    if i in S:\n",
        "        print(S.index(i), end= ' ')\n",
        "    else:\n",
        "        print( -1, end =' ')"
      ],
      "execution_count": null,
      "outputs": [
        {
          "output_type": "stream",
          "name": "stdout",
          "text": [
            "woojin\n",
            "-1 -1 -1 -1 -1 -1 -1 -1 4 3 -1 -1 -1 5 1 -1 -1 -1 -1 -1 -1 -1 0 -1 -1 -1 "
          ]
        }
      ]
    }
  ]
}