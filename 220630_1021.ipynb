{
  "nbformat": 4,
  "nbformat_minor": 0,
  "metadata": {
    "colab": {
      "name": "220630_1021.ipynb",
      "provenance": [],
      "authorship_tag": "ABX9TyPXMNbkabNQt4o4Lz5qALzG",
      "include_colab_link": true
    },
    "kernelspec": {
      "name": "python3",
      "display_name": "Python 3"
    },
    "language_info": {
      "name": "python"
    }
  },
  "cells": [
    {
      "cell_type": "markdown",
      "metadata": {
        "id": "view-in-github",
        "colab_type": "text"
      },
      "source": [
        "<a href=\"https://colab.research.google.com/github/woojinhong03/Algorithm/blob/main/220630_1021.ipynb\" target=\"_parent\"><img src=\"https://colab.research.google.com/assets/colab-badge.svg\" alt=\"Open In Colab\"/></a>"
      ]
    },
    {
      "cell_type": "code",
      "execution_count": 1,
      "metadata": {
        "colab": {
          "base_uri": "https://localhost:8080/"
        },
        "id": "rJuk2QSZk9V_",
        "outputId": "dd187439-8ff6-4238-b13e-a2776483d1a4"
      },
      "outputs": [
        {
          "output_type": "stream",
          "name": "stdout",
          "text": [
            "32 6\n",
            "27 16 30 11 6 23\n",
            "59\n"
          ]
        }
      ],
      "source": [
        "n, m = map(int, input().split())\n",
        "s = list(map(int ,input().split()))\n",
        "q = [i for i in range(1, n + 1)]\n",
        "cnt = 0\n",
        "for i in range(m):\n",
        "    q_len = len(q)\n",
        "    q_index = q.index(s[i])\n",
        "    if q_index < q_len - q_index:\n",
        "        while True:\n",
        "            if q[0] == s[i]:\n",
        "                del q[0]\n",
        "                break\n",
        "            else:\n",
        "                q.append(q[0])\n",
        "                del q[0]\n",
        "                cnt += 1\n",
        "    else:\n",
        "        while True:\n",
        "            if q[0] == s[i]:\n",
        "                del q[0]\n",
        "                break\n",
        "            else:\n",
        "                q.insert(0, q[-1])\n",
        "                del q[-1]\n",
        "                cnt += 1\n",
        "print(cnt)"
      ]
    }
  ]
}