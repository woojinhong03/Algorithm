{
  "nbformat": 4,
  "nbformat_minor": 0,
  "metadata": {
    "colab": {
      "provenance": [],
      "authorship_tag": "ABX9TyOZ09HwXXXdmhC32Q9wSURf",
      "include_colab_link": true
    },
    "kernelspec": {
      "name": "python3",
      "display_name": "Python 3"
    },
    "language_info": {
      "name": "python"
    }
  },
  "cells": [
    {
      "cell_type": "markdown",
      "metadata": {
        "id": "view-in-github",
        "colab_type": "text"
      },
      "source": [
        "<a href=\"https://colab.research.google.com/github/woojinhong03/Algorithm/blob/main/250122_10448.ipynb\" target=\"_parent\"><img src=\"https://colab.research.google.com/assets/colab-badge.svg\" alt=\"Open In Colab\"/></a>"
      ]
    },
    {
      "cell_type": "code",
      "execution_count": 1,
      "metadata": {
        "colab": {
          "base_uri": "https://localhost:8080/"
        },
        "id": "DuFmFNlHZwVG",
        "outputId": "ac5f8372-ddd7-4b31-bf8c-7fb966a57f4a"
      },
      "outputs": [
        {
          "output_type": "stream",
          "name": "stdout",
          "text": [
            "3\n",
            "10\n",
            "1\n",
            "20\n",
            "0\n",
            "1000\n",
            "1\n"
          ]
        }
      ],
      "source": [
        "t = [n*(n+1)//2 for n in range(1, 46)]\n",
        "dap = [0] * 1001\n",
        "\n",
        "for i in t:\n",
        "    for j in t:\n",
        "        for k in t:\n",
        "            if i+j+k <= 1000:\n",
        "                dap[i+j+k] = 1\n",
        "\n",
        "for _ in range(int(input())):\n",
        "    print(dap[int(input())])"
      ]
    }
  ]
}