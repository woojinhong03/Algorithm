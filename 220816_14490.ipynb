{
  "nbformat": 4,
  "nbformat_minor": 0,
  "metadata": {
    "colab": {
      "name": "220816_14490.ipynb",
      "provenance": [],
      "collapsed_sections": []
    },
    "kernelspec": {
      "name": "python3",
      "display_name": "Python 3"
    },
    "language_info": {
      "name": "python"
    }
  },
  "cells": [
    {
      "cell_type": "code",
      "execution_count": 1,
      "metadata": {
        "colab": {
          "base_uri": "https://localhost:8080/"
        },
        "id": "nWoSHknabCzE",
        "outputId": "5ae99678-660f-4b15-b9b4-313ddc571766"
      },
      "outputs": [
        {
          "output_type": "stream",
          "name": "stdout",
          "text": [
            "100:10\n",
            "10:1\n"
          ]
        }
      ],
      "source": [
        "n, m = map(int, input().split(':'))\n",
        "def gcd(a, b):\n",
        "    while b > 0:\n",
        "        tmp = a\n",
        "        a = b\n",
        "        b = tmp % b\n",
        "    return a\n",
        "a = gcd(n, m)\n",
        "print('%d:%d' %(n // a, m // a))"
      ]
    }
  ]
}