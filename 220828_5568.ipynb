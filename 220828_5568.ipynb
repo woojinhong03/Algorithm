{
  "nbformat": 4,
  "nbformat_minor": 0,
  "metadata": {
    "colab": {
      "name": "220828_5568.ipynb",
      "provenance": []
    },
    "kernelspec": {
      "name": "python3",
      "display_name": "Python 3"
    },
    "language_info": {
      "name": "python"
    }
  },
  "cells": [
    {
      "cell_type": "code",
      "execution_count": 1,
      "metadata": {
        "colab": {
          "base_uri": "https://localhost:8080/"
        },
        "id": "07ii0ISJA52x",
        "outputId": "4d64d7a1-5a4a-4f3a-c90f-1b666c5657b9"
      },
      "outputs": [
        {
          "output_type": "stream",
          "name": "stdout",
          "text": [
            "4\n",
            "2\n",
            "1\n",
            "2\n",
            "12\n",
            "1\n",
            "7\n"
          ]
        }
      ],
      "source": [
        "from itertools import permutations\n",
        "\n",
        "n, k = int(input()), int(input())\n",
        "cards = [input().rstrip() for _ in range(n)]\n",
        "res = set()\n",
        "for per in permutations(cards, k):\n",
        "    res.add(''.join(per))\n",
        "    \n",
        "print(len(res))"
      ]
    }
  ]
}