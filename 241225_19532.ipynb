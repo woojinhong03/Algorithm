{
  "nbformat": 4,
  "nbformat_minor": 0,
  "metadata": {
    "colab": {
      "provenance": [],
      "authorship_tag": "ABX9TyNdI+K3eMwlut3J9MwIxXms",
      "include_colab_link": true
    },
    "kernelspec": {
      "name": "python3",
      "display_name": "Python 3"
    },
    "language_info": {
      "name": "python"
    }
  },
  "cells": [
    {
      "cell_type": "markdown",
      "metadata": {
        "id": "view-in-github",
        "colab_type": "text"
      },
      "source": [
        "<a href=\"https://colab.research.google.com/github/woojinhong03/Algorithm/blob/main/241225_19532.ipynb\" target=\"_parent\"><img src=\"https://colab.research.google.com/assets/colab-badge.svg\" alt=\"Open In Colab\"/></a>"
      ]
    },
    {
      "cell_type": "code",
      "execution_count": 4,
      "metadata": {
        "colab": {
          "base_uri": "https://localhost:8080/"
        },
        "id": "AQY-6H8OMKrM",
        "outputId": "50fdbaf0-3e3a-4d30-9b54-8cb58e3c1952"
      },
      "outputs": [
        {
          "output_type": "stream",
          "name": "stdout",
          "text": [
            "2 5 8 3 -4 -11\n",
            "-1 2\n"
          ]
        }
      ],
      "source": [
        "a, b, c, d, e, f = map(int,input().split())\n",
        "for x in range(-999, 1000):\n",
        "    for y in range(-999, 1000):\n",
        "        if a*x + b*y == c and d*x + e*y == f:\n",
        "            print(x,y)"
      ]
    }
  ]
}